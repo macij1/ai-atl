{
 "cells": [
  {
   "cell_type": "code",
   "execution_count": 2,
   "metadata": {},
   "outputs": [],
   "source": [
    "# Install dependencies.\n",
    "# !pip install asyncio==3.4.3 asyncpg==0.27.0 cloud-sql-python-connector[\"asyncpg\"]==1.2.3\n",
    "# !pip install numpy==1.22.4 pandas==1.5.3\n",
    "# !pip install pgvector==0.1.8\n",
    "# !pip install langchain==0.0.196 transformers\n",
    "# !pip install google-cloud-aiplatform==1.26.0"
   ]
  },
  {
   "cell_type": "code",
   "execution_count": 3,
   "metadata": {},
   "outputs": [],
   "source": [
    "# Automatically restart kernel after installs so that your environment\n",
    "# can access the new packages.\n",
    "# import IPython\n",
    "\n",
    "# app = IPython.Application.instance()\n",
    "# app.kernel.do_shutdown(True)"
   ]
  },
  {
   "cell_type": "code",
   "execution_count": 4,
   "metadata": {},
   "outputs": [],
   "source": [
    "import os\n",
    "# Please fill in these values.\n",
    "project_id = \"engaged-plasma-439804-k0\"  # @param {type:\"string\"}\n",
    "database_password = os.getenv('DATABASE_PASSWORD')  # @param {type:\"string\"}\n",
    "region = \"us-central1\"  # @param {type:\"string\"}\n",
    "instance_name = \"research-paper-db\"  # @param {type:\"string\"}\n",
    "database_name = \"research-papers\"  # @param {type:\"string\"}\n",
    "database_user = \"superuser\"  # @param {type:\"string\"}\n",
    "\n",
    "\n",
    "# Quick input validations.\n",
    "assert project_id, \"⚠️ Please provide a Google Cloud project ID\"\n",
    "assert region, \"⚠️ Please provide a Google Cloud region\"\n",
    "assert instance_name, \"⚠️ Please provide the name of your instance\"\n",
    "assert database_name, \"⚠️ Please provide a database name\"\n",
    "assert database_user, \"⚠️ Please provide a database user\"\n",
    "assert database_password, \"⚠️ Please provide a database password\""
   ]
  },
  {
   "cell_type": "code",
   "execution_count": 5,
   "metadata": {},
   "outputs": [
    {
     "name": "stdout",
     "output_type": "stream",
     "text": [
      "1\n",
      "1\n",
      "1\n"
     ]
    },
    {
     "name": "stderr",
     "output_type": "stream",
     "text": [
      "c:\\Users\\User\\GaTech\\hackathon\\i-cite\\venv\\Lib\\site-packages\\google\\cloud\\sql\\connector\\instance.py:330: CryptographyDeprecationWarning: Properties that return a naïve datetime object have been deprecated. Please switch to not_valid_after_utc.\n",
      "  expiration = x509.not_valid_after\n"
     ]
    },
    {
     "name": "stdout",
     "output_type": "stream",
     "text": [
      "PostgreSQL 16.4 on x86_64-pc-linux-gnu, compiled by Debian clang version 12.0.1, 64-bit\n"
     ]
    }
   ],
   "source": [
    "# @markdown Verify that you are able to connect to the database. Executing this block should print the current PostgreSQL server version.\n",
    "\n",
    "import asyncio\n",
    "import asyncpg\n",
    "from google.cloud.sql.connector import Connector\n",
    "\n",
    "\n",
    "async def test_connection():\n",
    "    # get current running event loop to be used with Connector\n",
    "    print(1)\n",
    "    loop = asyncio.get_running_loop()\n",
    "    print(1)\n",
    "    # initialize Connector object as async context manager\n",
    "    async with Connector(loop=loop) as connector:\n",
    "        print(1)\n",
    "        # create connection to Cloud SQL database\n",
    "        conn: asyncpg.Connection = await connector.connect_async(\n",
    "            f\"{project_id}:{region}:{instance_name}\",  # Cloud SQL instance connection name\n",
    "            \"asyncpg\",\n",
    "            user=f\"{database_user}\",\n",
    "            password=f\"{database_password}\",\n",
    "            db=f\"{database_name}\"\n",
    "            # ... additional database driver args\n",
    "        )\n",
    "\n",
    "        # query Cloud SQL database\n",
    "        results = await conn.fetch(\"SELECT version()\")\n",
    "        print(results[0][\"version\"])\n",
    "\n",
    "        # close asyncpg connection\n",
    "        await conn.close()\n",
    "\n",
    "\n",
    "# Test connection with `asyncio`\n",
    "await test_connection()  # type: ignore"
   ]
  },
  {
   "cell_type": "code",
   "execution_count": 64,
   "metadata": {},
   "outputs": [],
   "source": [
    "# Save the Pandas dataframe in a PostgreSQL table.\n",
    "\n",
    "import asyncio\n",
    "import asyncpg\n",
    "from google.cloud.sql.connector import Connector\n",
    "\n",
    "\n",
    "async def reset_database():\n",
    "    loop = asyncio.get_running_loop()\n",
    "    async with Connector(loop=loop) as connector:\n",
    "        # Create connection to Cloud SQL database\n",
    "        conn: asyncpg.Connection = await connector.connect_async(\n",
    "            f\"{project_id}:{region}:{instance_name}\",  # Cloud SQL instance connection name\n",
    "            \"asyncpg\",\n",
    "            user=f\"{database_user}\",\n",
    "            password=f\"{database_password}\",\n",
    "            db=f\"{database_name}\",\n",
    "        )\n",
    "\n",
    "        await conn.execute(\"DROP TABLE IF EXISTS papers CASCADE\")\n",
    "        # Create the `products` table.\n",
    "        await conn.execute(\n",
    "            \"\"\"CREATE TABLE papers(\n",
    "                                doi TEXT PRIMARY KEY,\n",
    "                                title TEXT,\n",
    "                                abstract TEXT,\n",
    "                                content TEXT,\n",
    "                                citation_text TEXT,\n",
    "                                embedding vector(1024))\"\"\"\n",
    "        )\n",
    "\n",
    "        # Copy the dataframe to the `products` table.\n",
    "        # tuples = list(df.itertuples(index=False))\n",
    "        # await conn.copy_records_to_table(\n",
    "        #     \"products\", records=tuples, columns=list(df), timeout=10\n",
    "        # )\n",
    "        await conn.close()\n",
    "\n",
    "\n",
    "# Run the SQL commands now.\n",
    "# await reset_database()  # type: ignore"
   ]
  },
  {
   "cell_type": "code",
   "execution_count": 156,
   "metadata": {},
   "outputs": [],
   "source": [
    "# Store the generated vector embeddings in a PostgreSQL table.\n",
    "# This code may run for a few minutes.\n",
    "\n",
    "import asyncio\n",
    "import asyncpg\n",
    "from google.cloud.sql.connector import Connector\n",
    "import numpy as np\n",
    "from pgvector.asyncpg import register_vector\n",
    "\n",
    "\n",
    "async def insert_into_papers(papers_df = None):\n",
    "    loop = asyncio.get_running_loop()\n",
    "    async with Connector(loop=loop) as connector:\n",
    "        # Create connection to Cloud SQL database.\n",
    "        conn: asyncpg.Connection = await connector.connect_async(\n",
    "            f\"{project_id}:{region}:{instance_name}\",  # Cloud SQL instance connection name\n",
    "            \"asyncpg\",\n",
    "            user=f\"{database_user}\",\n",
    "            password=f\"{database_password}\",\n",
    "            db=f\"{database_name}\",\n",
    "        )\n",
    "\n",
    "        await conn.execute(\"CREATE EXTENSION IF NOT EXISTS vector\")\n",
    "        await register_vector(conn)\n",
    "\n",
    "\n",
    "        # res = await conn.execute(\"DROP TABLE IF EXISTS papers CASCADE\")\n",
    "        # print(res)\n",
    "        # Create the `products` table.\n",
    "        # await conn.execute(\n",
    "        #     \"\"\"CREATE TABLE papers(\n",
    "        #                         doi TEXT PRIMARY KEY,\n",
    "        #                         title TEXT,\n",
    "        #                         abstract TEXT,\n",
    "        #                         content TEXT,\n",
    "        #                         citation_text TEXT,\n",
    "        #                         embedding vector(1024))\"\"\"\n",
    "        # )\n",
    "        if type(df) == pd.DataFrame:\n",
    "            # Store all the generated embeddings back into the database.\n",
    "            insert_values = [\n",
    "                (\n",
    "                    str(row[\"doi\"]),\n",
    "                    row[\"title\"],\n",
    "                    row[\"abstract\"],\n",
    "                    row[\"content\"],\n",
    "                    row[\"citation_text\"],\n",
    "                    np.array(row[\"embedding\"]),\n",
    "                    row['id'],\n",
    "                    np.array(row['title_embedding']),\n",
    "\n",
    "                )\n",
    "                for index, row in papers_df.iterrows()\n",
    "            ]\n",
    "\n",
    "            # Use executemany for bulk insert\n",
    "            await conn.executemany(\n",
    "                \"INSERT INTO papers (doi, title, abstract, content, citation_text, embedding, id, title_embedding) VALUES ($1, $2, $3, $4, $5, $6, $7, $8)\",\n",
    "                insert_values\n",
    "            )\n",
    "\n",
    "        await conn.close()\n",
    "\n",
    "# import pandas as pd\n",
    "# import numpy as np\n",
    "# df = pd.read_csv(\"test.csv\")\n",
    "# df[\"embedding\"] = [np.random.rand(1024) for _ in range(len(df))]\n",
    "# df\n",
    "# # Run the SQL commands now.\n",
    "# await insert_into_papers(df)  # type: ignore"
   ]
  },
  {
   "cell_type": "code",
   "execution_count": 147,
   "metadata": {},
   "outputs": [],
   "source": [
    "async def update_papers(papers_df = None):\n",
    "    loop = asyncio.get_running_loop()\n",
    "    async with Connector(loop=loop) as connector:\n",
    "        # Create connection to Cloud SQL database.\n",
    "        conn: asyncpg.Connection = await connector.connect_async(\n",
    "            f\"{project_id}:{region}:{instance_name}\",  # Cloud SQL instance connection name\n",
    "            \"asyncpg\",\n",
    "            user=f\"{database_user}\",\n",
    "            password=f\"{database_password}\",\n",
    "            db=f\"{database_name}\",\n",
    "        )\n",
    "\n",
    "        await conn.execute(\"CREATE EXTENSION IF NOT EXISTS vector\")\n",
    "        await register_vector(conn)\n",
    "\n",
    "        if type(df) == pd.DataFrame:\n",
    "            # Store all the generated embeddings back into the database.\n",
    "            update_values = [\n",
    "                (\n",
    "                    str(row[\"doi\"]),\n",
    "                    row[\"title_embedding\"],\n",
    "                    row[\"id\"],\n",
    "                )\n",
    "                for index, row in papers_df.iterrows()\n",
    "            ]\n",
    "\n",
    "            # Use executemany for bulk insert\n",
    "            await conn.executemany(\n",
    "                \"\"\"\n",
    "                UPDATE papers \n",
    "                SET title_embedding = $2, id = $3 \n",
    "                WHERE doi = $1\n",
    "                \"\"\",\n",
    "                update_values\n",
    "            )\n",
    "\n",
    "        await conn.close()"
   ]
  },
  {
   "cell_type": "code",
   "execution_count": 153,
   "metadata": {},
   "outputs": [],
   "source": [
    "async def fetch(embeding, nbr_articles=2, DESC=True):\n",
    "    loop = asyncio.get_running_loop()\n",
    "    async with Connector(loop=loop) as connector:\n",
    "        # Create connection to Cloud SQL database.\n",
    "        conn: asyncpg.Connection = await connector.connect_async(\n",
    "            f\"{project_id}:{region}:{instance_name}\",  # Cloud SQL instance connection name\n",
    "            \"asyncpg\",\n",
    "            user=f\"{database_user}\",\n",
    "            password=f\"{database_password}\",\n",
    "            db=f\"{database_name}\",\n",
    "        )\n",
    "\n",
    "        await register_vector(conn)\n",
    "        # Find similar products to the query using cosine similarity search\n",
    "        # over all vector embeddings. This new feature is provided by `pgvector`.\n",
    "        results = await conn.fetch(\n",
    "            f\"\"\"\n",
    "                            SELECT title, 1 - (embedding <=> $1) AS similarity, abstract, doi, 1 - (title_embedding <=> $1) AS title_similarity\n",
    "                            FROM papers\n",
    "                            ORDER BY similarity {\"DESC\" if DESC else \"\"}\n",
    "                            LIMIT $2\n",
    "                            \"\"\",\n",
    "            embeding,\n",
    "            nbr_articles\n",
    "        )\n",
    "\n",
    "        if len(results) == 0:\n",
    "            raise Exception(\"Did not find any results. Adjust the query parameters.\")\n",
    "        matches = []\n",
    "        for r in results:\n",
    "            # Collect the description for all the matched similar toy products.\n",
    "            matches.append(\n",
    "                {\n",
    "                    \"title\": r[\"title\"],\n",
    "                    \"sim\": r[\"similarity\"],\n",
    "                    \"title_similarity\": r[\"title_similarity\"],\n",
    "                    \"abstract\": r[\"abstract\"],\n",
    "                }\n",
    "            )\n",
    "\n",
    "        await conn.close()\n",
    "        return matches\n",
    "if False:\n",
    "    embeding = np.random.rand(768)\n",
    "\n",
    "    # Run the SQL commands now.\n",
    "    res = await fetch(embeding)  # type: ignore\n",
    "    res"
   ]
  },
  {
   "cell_type": "code",
   "execution_count": 46,
   "metadata": {},
   "outputs": [
    {
     "ename": "TypeError",
     "evalue": "XLMRobertaLoRA.__init__() got an unexpected keyword argument 'task'",
     "output_type": "error",
     "traceback": [
      "\u001b[1;31m---------------------------------------------------------------------------\u001b[0m",
      "\u001b[1;31mTypeError\u001b[0m                                 Traceback (most recent call last)",
      "Cell \u001b[1;32mIn[46], line 11\u001b[0m\n\u001b[0;32m      9\u001b[0m \u001b[38;5;28;01melif\u001b[39;00m model_type \u001b[38;5;241m==\u001b[39m \u001b[38;5;124m'\u001b[39m\u001b[38;5;124mjina\u001b[39m\u001b[38;5;124m'\u001b[39m:\n\u001b[0;32m     10\u001b[0m     tokenizer \u001b[38;5;241m=\u001b[39m AutoTokenizer\u001b[38;5;241m.\u001b[39mfrom_pretrained(\u001b[38;5;124m'\u001b[39m\u001b[38;5;124mjinaai/jina-embeddings-v3\u001b[39m\u001b[38;5;124m'\u001b[39m)\n\u001b[1;32m---> 11\u001b[0m     model \u001b[38;5;241m=\u001b[39m \u001b[43mAutoModel\u001b[49m\u001b[38;5;241;43m.\u001b[39;49m\u001b[43mfrom_pretrained\u001b[49m\u001b[43m(\u001b[49m\u001b[38;5;124;43m'\u001b[39;49m\u001b[38;5;124;43mjinaai/jina-embeddings-v3\u001b[39;49m\u001b[38;5;124;43m'\u001b[39;49m\u001b[43m,\u001b[49m\u001b[43m \u001b[49m\u001b[43mtrust_remote_code\u001b[49m\u001b[38;5;241;43m=\u001b[39;49m\u001b[38;5;28;43;01mTrue\u001b[39;49;00m\u001b[43m,\u001b[49m\u001b[43m \u001b[49m\u001b[43mtask\u001b[49m\u001b[38;5;241;43m=\u001b[39;49m\u001b[38;5;124;43m\"\u001b[39;49m\u001b[38;5;124;43mretrieval.query\u001b[39;49m\u001b[38;5;124;43m\"\u001b[39;49m\u001b[43m)\u001b[49m\n\u001b[0;32m     12\u001b[0m \u001b[38;5;28;01melse\u001b[39;00m:\n\u001b[0;32m     13\u001b[0m     \u001b[38;5;167;01mException\u001b[39;00m(\u001b[38;5;124m\"\u001b[39m\u001b[38;5;124mNo model chosen\u001b[39m\u001b[38;5;124m\"\u001b[39m)\n",
      "File \u001b[1;32mc:\\Users\\User\\GaTech\\hackathon\\i-cite\\venv\\Lib\\site-packages\\transformers\\models\\auto\\auto_factory.py:559\u001b[0m, in \u001b[0;36m_BaseAutoModelClass.from_pretrained\u001b[1;34m(cls, pretrained_model_name_or_path, *model_args, **kwargs)\u001b[0m\n\u001b[0;32m    557\u001b[0m     \u001b[38;5;28mcls\u001b[39m\u001b[38;5;241m.\u001b[39mregister(config\u001b[38;5;241m.\u001b[39m\u001b[38;5;18m__class__\u001b[39m, model_class, exist_ok\u001b[38;5;241m=\u001b[39m\u001b[38;5;28;01mTrue\u001b[39;00m)\n\u001b[0;32m    558\u001b[0m     model_class \u001b[38;5;241m=\u001b[39m add_generation_mixin_to_remote_model(model_class)\n\u001b[1;32m--> 559\u001b[0m     \u001b[38;5;28;01mreturn\u001b[39;00m \u001b[43mmodel_class\u001b[49m\u001b[38;5;241;43m.\u001b[39;49m\u001b[43mfrom_pretrained\u001b[49m\u001b[43m(\u001b[49m\n\u001b[0;32m    560\u001b[0m \u001b[43m        \u001b[49m\u001b[43mpretrained_model_name_or_path\u001b[49m\u001b[43m,\u001b[49m\u001b[43m \u001b[49m\u001b[38;5;241;43m*\u001b[39;49m\u001b[43mmodel_args\u001b[49m\u001b[43m,\u001b[49m\u001b[43m \u001b[49m\u001b[43mconfig\u001b[49m\u001b[38;5;241;43m=\u001b[39;49m\u001b[43mconfig\u001b[49m\u001b[43m,\u001b[49m\u001b[43m \u001b[49m\u001b[38;5;241;43m*\u001b[39;49m\u001b[38;5;241;43m*\u001b[39;49m\u001b[43mhub_kwargs\u001b[49m\u001b[43m,\u001b[49m\u001b[43m \u001b[49m\u001b[38;5;241;43m*\u001b[39;49m\u001b[38;5;241;43m*\u001b[39;49m\u001b[43mkwargs\u001b[49m\n\u001b[0;32m    561\u001b[0m \u001b[43m    \u001b[49m\u001b[43m)\u001b[49m\n\u001b[0;32m    562\u001b[0m \u001b[38;5;28;01melif\u001b[39;00m \u001b[38;5;28mtype\u001b[39m(config) \u001b[38;5;129;01min\u001b[39;00m \u001b[38;5;28mcls\u001b[39m\u001b[38;5;241m.\u001b[39m_model_mapping\u001b[38;5;241m.\u001b[39mkeys():\n\u001b[0;32m    563\u001b[0m     model_class \u001b[38;5;241m=\u001b[39m _get_model_class(config, \u001b[38;5;28mcls\u001b[39m\u001b[38;5;241m.\u001b[39m_model_mapping)\n",
      "File \u001b[1;32m~\\.cache\\huggingface\\modules\\transformers_modules\\jinaai\\xlm-roberta-flash-implementation\\12700ba4972d9e900313a85ae855f5a76fb9500e\\modeling_lora.py:336\u001b[0m, in \u001b[0;36mXLMRobertaLoRA.from_pretrained\u001b[1;34m(cls, pretrained_model_name_or_path, config, cache_dir, ignore_mismatched_sizes, force_download, local_files_only, token, revision, use_safetensors, *model_args, **kwargs)\u001b[0m\n\u001b[0;32m    320\u001b[0m \u001b[38;5;129m@classmethod\u001b[39m\n\u001b[0;32m    321\u001b[0m \u001b[38;5;28;01mdef\u001b[39;00m \u001b[38;5;21mfrom_pretrained\u001b[39m(\n\u001b[0;32m    322\u001b[0m     \u001b[38;5;28mcls\u001b[39m,\n\u001b[1;32m   (...)\u001b[0m\n\u001b[0;32m    333\u001b[0m     \u001b[38;5;241m*\u001b[39m\u001b[38;5;241m*\u001b[39mkwargs,\n\u001b[0;32m    334\u001b[0m ):\n\u001b[0;32m    335\u001b[0m     \u001b[38;5;28;01mif\u001b[39;00m config\u001b[38;5;241m.\u001b[39mload_trained_adapters:  \u001b[38;5;66;03m# checkpoint already contains LoRA adapters\u001b[39;00m\n\u001b[1;32m--> 336\u001b[0m         \u001b[38;5;28;01mreturn\u001b[39;00m \u001b[38;5;28;43msuper\u001b[39;49m\u001b[43m(\u001b[49m\u001b[43m)\u001b[49m\u001b[38;5;241;43m.\u001b[39;49m\u001b[43mfrom_pretrained\u001b[49m\u001b[43m(\u001b[49m\n\u001b[0;32m    337\u001b[0m \u001b[43m            \u001b[49m\u001b[43mpretrained_model_name_or_path\u001b[49m\u001b[43m,\u001b[49m\u001b[43m \u001b[49m\u001b[38;5;241;43m*\u001b[39;49m\u001b[43mmodel_args\u001b[49m\u001b[43m,\u001b[49m\u001b[43m \u001b[49m\u001b[43muse_flash_attn\u001b[49m\u001b[38;5;241;43m=\u001b[39;49m\u001b[43mconfig\u001b[49m\u001b[38;5;241;43m.\u001b[39;49m\u001b[43muse_flash_attn\u001b[49m\u001b[43m,\u001b[49m\u001b[43m \u001b[49m\u001b[38;5;241;43m*\u001b[39;49m\u001b[38;5;241;43m*\u001b[39;49m\u001b[43mkwargs\u001b[49m\n\u001b[0;32m    338\u001b[0m \u001b[43m        \u001b[49m\u001b[43m)\u001b[49m\n\u001b[0;32m    339\u001b[0m     \u001b[38;5;28;01melse\u001b[39;00m:  \u001b[38;5;66;03m# initializing new adapters\u001b[39;00m\n\u001b[0;32m    340\u001b[0m         roberta \u001b[38;5;241m=\u001b[39m XLMRobertaModel\u001b[38;5;241m.\u001b[39mfrom_pretrained(\n\u001b[0;32m    341\u001b[0m             pretrained_model_name_or_path, \u001b[38;5;241m*\u001b[39mmodel_args, use_flash_attn\u001b[38;5;241m=\u001b[39mconfig\u001b[38;5;241m.\u001b[39muse_flash_attn, \u001b[38;5;241m*\u001b[39m\u001b[38;5;241m*\u001b[39mkwargs\n\u001b[0;32m    342\u001b[0m         )\n",
      "File \u001b[1;32m~\\.cache\\huggingface\\modules\\transformers_modules\\jinaai\\xlm-roberta-flash-implementation\\12700ba4972d9e900313a85ae855f5a76fb9500e\\modeling_xlm_roberta.py:421\u001b[0m, in \u001b[0;36mXLMRobertaPreTrainedModel.from_pretrained\u001b[1;34m(cls, *args, **kwargs)\u001b[0m\n\u001b[0;32m    419\u001b[0m \u001b[38;5;28;01mif\u001b[39;00m \u001b[38;5;129;01mnot\u001b[39;00m \u001b[38;5;124m\"\u001b[39m\u001b[38;5;124mtorch_dtype\u001b[39m\u001b[38;5;124m\"\u001b[39m \u001b[38;5;129;01min\u001b[39;00m kwargs:\n\u001b[0;32m    420\u001b[0m     kwargs[\u001b[38;5;124m\"\u001b[39m\u001b[38;5;124mtorch_dtype\u001b[39m\u001b[38;5;124m\"\u001b[39m] \u001b[38;5;241m=\u001b[39m \u001b[38;5;124m\"\u001b[39m\u001b[38;5;124mauto\u001b[39m\u001b[38;5;124m\"\u001b[39m\n\u001b[1;32m--> 421\u001b[0m \u001b[38;5;28;01mreturn\u001b[39;00m \u001b[38;5;28;43msuper\u001b[39;49m\u001b[43m(\u001b[49m\u001b[43m)\u001b[49m\u001b[38;5;241;43m.\u001b[39;49m\u001b[43mfrom_pretrained\u001b[49m\u001b[43m(\u001b[49m\u001b[38;5;241;43m*\u001b[39;49m\u001b[43margs\u001b[49m\u001b[43m,\u001b[49m\u001b[43m \u001b[49m\u001b[38;5;241;43m*\u001b[39;49m\u001b[38;5;241;43m*\u001b[39;49m\u001b[43mkwargs\u001b[49m\u001b[43m)\u001b[49m\n",
      "File \u001b[1;32mc:\\Users\\User\\GaTech\\hackathon\\i-cite\\venv\\Lib\\site-packages\\transformers\\modeling_utils.py:4096\u001b[0m, in \u001b[0;36mPreTrainedModel.from_pretrained\u001b[1;34m(cls, pretrained_model_name_or_path, config, cache_dir, ignore_mismatched_sizes, force_download, local_files_only, token, revision, use_safetensors, weights_only, *model_args, **kwargs)\u001b[0m\n\u001b[0;32m   4090\u001b[0m     config \u001b[38;5;241m=\u001b[39m \u001b[38;5;28mcls\u001b[39m\u001b[38;5;241m.\u001b[39m_autoset_attn_implementation(\n\u001b[0;32m   4091\u001b[0m         config, use_flash_attention_2\u001b[38;5;241m=\u001b[39muse_flash_attention_2, torch_dtype\u001b[38;5;241m=\u001b[39mtorch_dtype, device_map\u001b[38;5;241m=\u001b[39mdevice_map\n\u001b[0;32m   4092\u001b[0m     )\n\u001b[0;32m   4094\u001b[0m \u001b[38;5;28;01mwith\u001b[39;00m ContextManagers(init_contexts):\n\u001b[0;32m   4095\u001b[0m     \u001b[38;5;66;03m# Let's make sure we don't run the init function of buffer modules\u001b[39;00m\n\u001b[1;32m-> 4096\u001b[0m     model \u001b[38;5;241m=\u001b[39m \u001b[38;5;28;43mcls\u001b[39;49m\u001b[43m(\u001b[49m\u001b[43mconfig\u001b[49m\u001b[43m,\u001b[49m\u001b[43m \u001b[49m\u001b[38;5;241;43m*\u001b[39;49m\u001b[43mmodel_args\u001b[49m\u001b[43m,\u001b[49m\u001b[43m \u001b[49m\u001b[38;5;241;43m*\u001b[39;49m\u001b[38;5;241;43m*\u001b[39;49m\u001b[43mmodel_kwargs\u001b[49m\u001b[43m)\u001b[49m\n\u001b[0;32m   4098\u001b[0m \u001b[38;5;66;03m# make sure we use the model's config since the __init__ call might have copied it\u001b[39;00m\n\u001b[0;32m   4099\u001b[0m config \u001b[38;5;241m=\u001b[39m model\u001b[38;5;241m.\u001b[39mconfig\n",
      "\u001b[1;31mTypeError\u001b[0m: XLMRobertaLoRA.__init__() got an unexpected keyword argument 'task'"
     ]
    }
   ],
   "source": [
    "from transformers import AutoTokenizer, AutoModel\n",
    "model_type = 'jina'\n",
    "if model_type == \"bert\":\n",
    "    tokenizer = AutoTokenizer.from_pretrained('allenai/scibert_scivocab_uncased')\n",
    "    model = AutoModel.from_pretrained('allenai/scibert_scivocab_uncased')\n",
    "elif model_type == \"roberta\":\n",
    "    tokenizer = AutoTokenizer.from_pretrained('FacebookAI/roberta-base')\n",
    "    model = AutoModel.from_pretrained('FacebookAI/roberta-base')  \n",
    "elif model_type == 'jina':\n",
    "    tokenizer = AutoTokenizer.from_pretrained('jinaai/jina-embeddings-v3')\n",
    "    model = AutoModel.from_pretrained('jinaai/jina-embeddings-v3', trust_remote_code=True)\n",
    "else:\n",
    "    Exception(\"No model chosen\")"
   ]
  },
  {
   "cell_type": "code",
   "execution_count": 10,
   "metadata": {},
   "outputs": [
    {
     "name": "stderr",
     "output_type": "stream",
     "text": [
      "Asking to truncate to max_length but no maximum length is provided and the model has no predefined maximum length. Default to no truncation.\n"
     ]
    },
    {
     "name": "stdout",
     "output_type": "stream",
     "text": [
      "Shape of last hidden states: torch.Size([1, 14, 768])\n",
      "Shape of CLS embedding: torch.Size([1, 768])\n"
     ]
    }
   ],
   "source": [
    "import torch\n",
    "# Sample text\n",
    "text = \"SciBERT is a pretrained transformer model for scientific text.\"\n",
    "\n",
    "# Tokenize the input text\n",
    "inputs = tokenizer(text, return_tensors='pt', padding=True, truncation=True)\n",
    "\n",
    "# Forward pass to get the embeddings\n",
    "with torch.no_grad():\n",
    "    outputs = model(**inputs)\n",
    "\n",
    "# Extract the last hidden states (embeddings)\n",
    "last_hidden_states = outputs.last_hidden_state\n",
    "\n",
    "# Optionally, get the embeddings for the [CLS] token\n",
    "cls_embedding = last_hidden_states[:, 0, :]\n",
    "\n",
    "# Print the shape of the embeddings\n",
    "print(\"Shape of last hidden states:\", last_hidden_states.shape)\n",
    "print(\"Shape of CLS embedding:\", cls_embedding.shape)\n"
   ]
  },
  {
   "cell_type": "code",
   "execution_count": 11,
   "metadata": {},
   "outputs": [
    {
     "data": {
      "text/html": [
       "<div>\n",
       "<style scoped>\n",
       "    .dataframe tbody tr th:only-of-type {\n",
       "        vertical-align: middle;\n",
       "    }\n",
       "\n",
       "    .dataframe tbody tr th {\n",
       "        vertical-align: top;\n",
       "    }\n",
       "\n",
       "    .dataframe thead th {\n",
       "        text-align: right;\n",
       "    }\n",
       "</style>\n",
       "<table border=\"1\" class=\"dataframe\">\n",
       "  <thead>\n",
       "    <tr style=\"text-align: right;\">\n",
       "      <th></th>\n",
       "      <th>doi</th>\n",
       "      <th>title</th>\n",
       "      <th>abstract</th>\n",
       "      <th>content</th>\n",
       "      <th>citation_text</th>\n",
       "      <th>embedding</th>\n",
       "    </tr>\n",
       "  </thead>\n",
       "  <tbody>\n",
       "    <tr>\n",
       "      <th>0</th>\n",
       "      <td>1a</td>\n",
       "      <td>test10</td>\n",
       "      <td>An article on NLP discussing transformers</td>\n",
       "      <td>the long article1</td>\n",
       "      <td>citation</td>\n",
       "      <td>[-0.1714096, 0.5485956, -0.2250522, 0.00396031...</td>\n",
       "    </tr>\n",
       "    <tr>\n",
       "      <th>1</th>\n",
       "      <td>2a</td>\n",
       "      <td>test20</td>\n",
       "      <td>An article on biology discussing frogs</td>\n",
       "      <td>the long article2</td>\n",
       "      <td>citation</td>\n",
       "      <td>[-0.6305636, -0.57029116, 0.019760396, 0.61680...</td>\n",
       "    </tr>\n",
       "    <tr>\n",
       "      <th>2</th>\n",
       "      <td>3a</td>\n",
       "      <td>test30</td>\n",
       "      <td>An article on AI discussing Neural networks</td>\n",
       "      <td>the long article3</td>\n",
       "      <td>citation</td>\n",
       "      <td>[-0.7799448, -0.13999197, 0.41758755, 0.049859...</td>\n",
       "    </tr>\n",
       "  </tbody>\n",
       "</table>\n",
       "</div>"
      ],
      "text/plain": [
       "  doi   title                                     abstract            content  \\\n",
       "0  1a  test10    An article on NLP discussing transformers  the long article1   \n",
       "1  2a  test20       An article on biology discussing frogs  the long article2   \n",
       "2  3a  test30  An article on AI discussing Neural networks  the long article3   \n",
       "\n",
       "  citation_text                                          embedding  \n",
       "0      citation  [-0.1714096, 0.5485956, -0.2250522, 0.00396031...  \n",
       "1      citation  [-0.6305636, -0.57029116, 0.019760396, 0.61680...  \n",
       "2      citation  [-0.7799448, -0.13999197, 0.41758755, 0.049859...  "
      ]
     },
     "execution_count": 11,
     "metadata": {},
     "output_type": "execute_result"
    }
   ],
   "source": [
    "import pandas as pd\n",
    "import numpy as np\n",
    "df = pd.read_csv(\"test.csv\")\n",
    "df[\"embedding\"] = [np.random.rand(768) for _ in range(len(df))]\n",
    "with torch.no_grad():\n",
    "    embeds = model(**tokenizer(df[\"abstract\"].to_list(), return_tensors='pt', padding=True, truncation=True)).last_hidden_state[:, 0, :]\n",
    "    for idx, emb in enumerate(embeds):\n",
    "        df.at[idx, \"embedding\"] = emb.numpy()\n",
    "df"
   ]
  },
  {
   "cell_type": "code",
   "execution_count": 103,
   "metadata": {},
   "outputs": [],
   "source": [
    "# await reset_database() #[-0.1714102, 0.548595, -0.22505158, 0.003960\n",
    "# await insert_into_papers(df) #[-0.1714096, 0.5485956, -0.22505"
   ]
  },
  {
   "cell_type": "code",
   "execution_count": 159,
   "metadata": {},
   "outputs": [
    {
     "data": {
      "text/plain": [
       "10000"
      ]
     },
     "execution_count": 159,
     "metadata": {},
     "output_type": "execute_result"
    }
   ],
   "source": [
    "async def fetch_all():\n",
    "    loop = asyncio.get_running_loop()\n",
    "    async with Connector(loop=loop) as connector:\n",
    "        # Create connection to Cloud SQL database.\n",
    "        conn: asyncpg.Connection = await connector.connect_async(\n",
    "            f\"{project_id}:{region}:{instance_name}\",  # Cloud SQL instance connection name\n",
    "            \"asyncpg\",\n",
    "            user=f\"{database_user}\",\n",
    "            password=f\"{database_password}\",\n",
    "            db=f\"{database_name}\",\n",
    "        )\n",
    "\n",
    "        await register_vector(conn)\n",
    "        # Find similar products to the query using cosine similarity search\n",
    "        # over all vector embeddings. This new feature is provided by `pgvector`.\n",
    "        results = await conn.fetch(\n",
    "            \"\"\"\n",
    "                            SELECT *\n",
    "                            FROM papers\n",
    "                            \"\"\"\n",
    "        )\n",
    "\n",
    "        if len(results) == 0:\n",
    "            return []\n",
    "        matches = []\n",
    "        for r in results:\n",
    "            # Collect the description for all the matched similar toy products.\n",
    "            matches.append(\n",
    "                {\n",
    "                    \"doi\": r[\"doi\"],\n",
    "                    \"title\": r[\"title\"],\n",
    "                    \"abstract\": r[\"abstract\"],\n",
    "                    \"content\": r[\"content\"],\n",
    "                    \"emb\": r[\"embedding\"],\n",
    "                    \"id\": r[\"id\"],\n",
    "                }\n",
    "            )\n",
    "\n",
    "        await conn.close()\n",
    "        return matches\n",
    "matches = await fetch_all()\n",
    "len(matches)"
   ]
  },
  {
   "cell_type": "code",
   "execution_count": 106,
   "metadata": {},
   "outputs": [
    {
     "data": {
      "text/html": [
       "<div>\n",
       "<style scoped>\n",
       "    .dataframe tbody tr th:only-of-type {\n",
       "        vertical-align: middle;\n",
       "    }\n",
       "\n",
       "    .dataframe tbody tr th {\n",
       "        vertical-align: top;\n",
       "    }\n",
       "\n",
       "    .dataframe thead th {\n",
       "        text-align: right;\n",
       "    }\n",
       "</style>\n",
       "<table border=\"1\" class=\"dataframe\">\n",
       "  <thead>\n",
       "    <tr style=\"text-align: right;\">\n",
       "      <th></th>\n",
       "      <th>Unnamed: 0</th>\n",
       "      <th>abstract</th>\n",
       "      <th>doi</th>\n",
       "      <th>title</th>\n",
       "      <th>content</th>\n",
       "      <th>citation_text</th>\n",
       "    </tr>\n",
       "  </thead>\n",
       "  <tbody>\n",
       "    <tr>\n",
       "      <th>0</th>\n",
       "      <td>0</td>\n",
       "      <td>The problem of statistical learning is to co...</td>\n",
       "      <td>paper0</td>\n",
       "      <td>0</td>\n",
       "      <td>0</td>\n",
       "      <td>0</td>\n",
       "    </tr>\n",
       "    <tr>\n",
       "      <th>1</th>\n",
       "      <td>1</td>\n",
       "      <td>In a sensor network, in practice, the commun...</td>\n",
       "      <td>paper1</td>\n",
       "      <td>1</td>\n",
       "      <td>1</td>\n",
       "      <td>1</td>\n",
       "    </tr>\n",
       "    <tr>\n",
       "      <th>2</th>\n",
       "      <td>2</td>\n",
       "      <td>We analyze the generalization performance of...</td>\n",
       "      <td>paper2</td>\n",
       "      <td>2</td>\n",
       "      <td>2</td>\n",
       "      <td>2</td>\n",
       "    </tr>\n",
       "    <tr>\n",
       "      <th>3</th>\n",
       "      <td>3</td>\n",
       "      <td>In the process of training Support Vector Ma...</td>\n",
       "      <td>paper3</td>\n",
       "      <td>3</td>\n",
       "      <td>3</td>\n",
       "      <td>3</td>\n",
       "    </tr>\n",
       "    <tr>\n",
       "      <th>4</th>\n",
       "      <td>4</td>\n",
       "      <td>Probabilistic graphical models (PGMs) have b...</td>\n",
       "      <td>paper4</td>\n",
       "      <td>4</td>\n",
       "      <td>4</td>\n",
       "      <td>4</td>\n",
       "    </tr>\n",
       "    <tr>\n",
       "      <th>...</th>\n",
       "      <td>...</td>\n",
       "      <td>...</td>\n",
       "      <td>...</td>\n",
       "      <td>...</td>\n",
       "      <td>...</td>\n",
       "      <td>...</td>\n",
       "    </tr>\n",
       "    <tr>\n",
       "      <th>95</th>\n",
       "      <td>95</td>\n",
       "      <td>PRISM is an extension of Prolog with probabi...</td>\n",
       "      <td>paper95</td>\n",
       "      <td>95</td>\n",
       "      <td>95</td>\n",
       "      <td>95</td>\n",
       "    </tr>\n",
       "    <tr>\n",
       "      <th>96</th>\n",
       "      <td>96</td>\n",
       "      <td>Recently, applying the novel data mining tec...</td>\n",
       "      <td>paper96</td>\n",
       "      <td>96</td>\n",
       "      <td>96</td>\n",
       "      <td>96</td>\n",
       "    </tr>\n",
       "    <tr>\n",
       "      <th>97</th>\n",
       "      <td>97</td>\n",
       "      <td>The typical behavior of optimal solutions to...</td>\n",
       "      <td>paper97</td>\n",
       "      <td>97</td>\n",
       "      <td>97</td>\n",
       "      <td>97</td>\n",
       "    </tr>\n",
       "    <tr>\n",
       "      <th>98</th>\n",
       "      <td>98</td>\n",
       "      <td>In this paper we analyze judgement aggregati...</td>\n",
       "      <td>paper98</td>\n",
       "      <td>98</td>\n",
       "      <td>98</td>\n",
       "      <td>98</td>\n",
       "    </tr>\n",
       "    <tr>\n",
       "      <th>99</th>\n",
       "      <td>99</td>\n",
       "      <td>The scientific method relies on the iterated...</td>\n",
       "      <td>paper99</td>\n",
       "      <td>99</td>\n",
       "      <td>99</td>\n",
       "      <td>99</td>\n",
       "    </tr>\n",
       "  </tbody>\n",
       "</table>\n",
       "<p>100 rows × 6 columns</p>\n",
       "</div>"
      ],
      "text/plain": [
       "    Unnamed: 0                                           abstract      doi  \\\n",
       "0            0    The problem of statistical learning is to co...   paper0   \n",
       "1            1    In a sensor network, in practice, the commun...   paper1   \n",
       "2            2    We analyze the generalization performance of...   paper2   \n",
       "3            3    In the process of training Support Vector Ma...   paper3   \n",
       "4            4    Probabilistic graphical models (PGMs) have b...   paper4   \n",
       "..         ...                                                ...      ...   \n",
       "95          95    PRISM is an extension of Prolog with probabi...  paper95   \n",
       "96          96    Recently, applying the novel data mining tec...  paper96   \n",
       "97          97    The typical behavior of optimal solutions to...  paper97   \n",
       "98          98    In this paper we analyze judgement aggregati...  paper98   \n",
       "99          99    The scientific method relies on the iterated...  paper99   \n",
       "\n",
       "   title content citation_text  \n",
       "0      0       0             0  \n",
       "1      1       1             1  \n",
       "2      2       2             2  \n",
       "3      3       3             3  \n",
       "4      4       4             4  \n",
       "..   ...     ...           ...  \n",
       "95    95      95            95  \n",
       "96    96      96            96  \n",
       "97    97      97            97  \n",
       "98    98      98            98  \n",
       "99    99      99            99  \n",
       "\n",
       "[100 rows x 6 columns]"
      ]
     },
     "execution_count": 106,
     "metadata": {},
     "output_type": "execute_result"
    }
   ],
   "source": [
    "df_abstract = pd.read_csv(\"./data/ml_100_abstracts.csv\")\n",
    "df_abstract[\"doi\"] = None\n",
    "df_abstract[\"title\"] = None\n",
    "df_abstract[\"content\"] = \"None\"\n",
    "df_abstract[\"citation_text\"] = \"None\"\n",
    "for i in range(len(df_abstract)):\n",
    "    df_abstract.loc[i, \"doi\"] = \"paper\" + str(i)\n",
    "    df_abstract.loc[i, \"title\"] = str(i)\n",
    "    df_abstract.loc[i, \"content\"] = str(i)\n",
    "    df_abstract.loc[i, \"citation_text\"] = str(i)\n",
    "df_abstract.rename(columns={'Abstract': 'abstract'}, inplace=True)\n",
    "df_abstract"
   ]
  },
  {
   "cell_type": "code",
   "execution_count": 149,
   "metadata": {},
   "outputs": [
    {
     "data": {
      "text/html": [
       "<div>\n",
       "<style scoped>\n",
       "    .dataframe tbody tr th:only-of-type {\n",
       "        vertical-align: middle;\n",
       "    }\n",
       "\n",
       "    .dataframe tbody tr th {\n",
       "        vertical-align: top;\n",
       "    }\n",
       "\n",
       "    .dataframe thead th {\n",
       "        text-align: right;\n",
       "    }\n",
       "</style>\n",
       "<table border=\"1\" class=\"dataframe\">\n",
       "  <thead>\n",
       "    <tr style=\"text-align: right;\">\n",
       "      <th></th>\n",
       "      <th>Unnamed: 0</th>\n",
       "      <th>abstract</th>\n",
       "      <th>doi</th>\n",
       "      <th>title</th>\n",
       "      <th>content</th>\n",
       "      <th>citation_text</th>\n",
       "    </tr>\n",
       "  </thead>\n",
       "  <tbody>\n",
       "    <tr>\n",
       "      <th>0</th>\n",
       "      <td>0</td>\n",
       "      <td>The problem of statistical learning is to co...</td>\n",
       "      <td>paper0</td>\n",
       "      <td>0</td>\n",
       "      <td>0</td>\n",
       "      <td>0</td>\n",
       "    </tr>\n",
       "    <tr>\n",
       "      <th>1</th>\n",
       "      <td>1</td>\n",
       "      <td>In a sensor network, in practice, the commun...</td>\n",
       "      <td>paper1</td>\n",
       "      <td>1</td>\n",
       "      <td>1</td>\n",
       "      <td>1</td>\n",
       "    </tr>\n",
       "    <tr>\n",
       "      <th>2</th>\n",
       "      <td>2</td>\n",
       "      <td>We analyze the generalization performance of...</td>\n",
       "      <td>paper2</td>\n",
       "      <td>2</td>\n",
       "      <td>2</td>\n",
       "      <td>2</td>\n",
       "    </tr>\n",
       "    <tr>\n",
       "      <th>3</th>\n",
       "      <td>3</td>\n",
       "      <td>In the process of training Support Vector Ma...</td>\n",
       "      <td>paper3</td>\n",
       "      <td>3</td>\n",
       "      <td>3</td>\n",
       "      <td>3</td>\n",
       "    </tr>\n",
       "    <tr>\n",
       "      <th>4</th>\n",
       "      <td>4</td>\n",
       "      <td>Probabilistic graphical models (PGMs) have b...</td>\n",
       "      <td>paper4</td>\n",
       "      <td>4</td>\n",
       "      <td>4</td>\n",
       "      <td>4</td>\n",
       "    </tr>\n",
       "    <tr>\n",
       "      <th>...</th>\n",
       "      <td>...</td>\n",
       "      <td>...</td>\n",
       "      <td>...</td>\n",
       "      <td>...</td>\n",
       "      <td>...</td>\n",
       "      <td>...</td>\n",
       "    </tr>\n",
       "    <tr>\n",
       "      <th>95</th>\n",
       "      <td>95</td>\n",
       "      <td>PRISM is an extension of Prolog with probabi...</td>\n",
       "      <td>paper95</td>\n",
       "      <td>95</td>\n",
       "      <td>95</td>\n",
       "      <td>95</td>\n",
       "    </tr>\n",
       "    <tr>\n",
       "      <th>96</th>\n",
       "      <td>96</td>\n",
       "      <td>Recently, applying the novel data mining tec...</td>\n",
       "      <td>paper96</td>\n",
       "      <td>96</td>\n",
       "      <td>96</td>\n",
       "      <td>96</td>\n",
       "    </tr>\n",
       "    <tr>\n",
       "      <th>97</th>\n",
       "      <td>97</td>\n",
       "      <td>The typical behavior of optimal solutions to...</td>\n",
       "      <td>paper97</td>\n",
       "      <td>97</td>\n",
       "      <td>97</td>\n",
       "      <td>97</td>\n",
       "    </tr>\n",
       "    <tr>\n",
       "      <th>98</th>\n",
       "      <td>98</td>\n",
       "      <td>In this paper we analyze judgement aggregati...</td>\n",
       "      <td>paper98</td>\n",
       "      <td>98</td>\n",
       "      <td>98</td>\n",
       "      <td>98</td>\n",
       "    </tr>\n",
       "    <tr>\n",
       "      <th>99</th>\n",
       "      <td>99</td>\n",
       "      <td>The scientific method relies on the iterated...</td>\n",
       "      <td>paper99</td>\n",
       "      <td>99</td>\n",
       "      <td>99</td>\n",
       "      <td>99</td>\n",
       "    </tr>\n",
       "  </tbody>\n",
       "</table>\n",
       "<p>100 rows × 6 columns</p>\n",
       "</div>"
      ],
      "text/plain": [
       "    Unnamed: 0                                           abstract      doi  \\\n",
       "0            0    The problem of statistical learning is to co...   paper0   \n",
       "1            1    In a sensor network, in practice, the commun...   paper1   \n",
       "2            2    We analyze the generalization performance of...   paper2   \n",
       "3            3    In the process of training Support Vector Ma...   paper3   \n",
       "4            4    Probabilistic graphical models (PGMs) have b...   paper4   \n",
       "..         ...                                                ...      ...   \n",
       "95          95    PRISM is an extension of Prolog with probabi...  paper95   \n",
       "96          96    Recently, applying the novel data mining tec...  paper96   \n",
       "97          97    The typical behavior of optimal solutions to...  paper97   \n",
       "98          98    In this paper we analyze judgement aggregati...  paper98   \n",
       "99          99    The scientific method relies on the iterated...  paper99   \n",
       "\n",
       "   title content citation_text  \n",
       "0      0       0             0  \n",
       "1      1       1             1  \n",
       "2      2       2             2  \n",
       "3      3       3             3  \n",
       "4      4       4             4  \n",
       "..   ...     ...           ...  \n",
       "95    95      95            95  \n",
       "96    96      96            96  \n",
       "97    97      97            97  \n",
       "98    98      98            98  \n",
       "99    99      99            99  \n",
       "\n",
       "[100 rows x 6 columns]"
      ]
     },
     "execution_count": 149,
     "metadata": {},
     "output_type": "execute_result"
    }
   ],
   "source": [
    "import pandas as pd\n",
    "def add_embedings(df: pd.DataFrame, model, tokenizer, field_to_embedd=\"abstract\", embedding_field_name=\"embedding\"):\n",
    "    # df[\"embedding\"] = None\n",
    "    with torch.no_grad():\n",
    "        inputs = tokenizer(df[field_to_embedd].to_list(), return_tensors='pt', padding=True, truncation=True)\n",
    "        embeds = model(**inputs, task=\"retrieval.passage\").last_hidden_state[:, 0, :]\n",
    "        df.insert(len(df), embedding_field_name, embeds.tolist())\n",
    "        # assert len(df) == len(embeds)\n",
    "        # for idx, emb in enumerate(embeds):\n",
    "        #     df.at[idx, \"embedding\"] = emb.numpy()\n",
    "df_abstract"
   ]
  },
  {
   "cell_type": "code",
   "execution_count": 52,
   "metadata": {},
   "outputs": [
    {
     "name": "stderr",
     "output_type": "stream",
     "text": [
      "C:\\Users\\User\\AppData\\Local\\Temp\\ipykernel_9672\\1845722292.py:1: RuntimeWarning: coroutine 'reset_database' was never awaited\n",
      "  reset_database() #[-0.1714102, 0.548595, -0.22505158, 0.003960\n",
      "RuntimeWarning: Enable tracemalloc to get the object allocation traceback\n",
      "c:\\Users\\User\\GaTech\\hackathon\\i-cite\\venv\\Lib\\site-packages\\google\\cloud\\sql\\connector\\instance.py:330: CryptographyDeprecationWarning: Properties that return a naïve datetime object have been deprecated. Please switch to not_valid_after_utc.\n",
      "  expiration = x509.not_valid_after\n"
     ]
    },
    {
     "name": "stdout",
     "output_type": "stream",
     "text": [
      "DROP TABLE\n"
     ]
    }
   ],
   "source": [
    "# reset_database() #[-0.1714102, 0.548595, -0.22505158, 0.003960\n",
    "# await insert_into_papers(df_abstract) #[-0.1714096, 0.5485956, -0.22505"
   ]
  },
  {
   "cell_type": "code",
   "execution_count": 142,
   "metadata": {},
   "outputs": [
    {
     "name": "stderr",
     "output_type": "stream",
     "text": [
      "Flash attention implementation does not support kwargs: task\n"
     ]
    },
    {
     "name": "stdout",
     "output_type": "stream",
     "text": [
      "summarize the papers related to linear regression\n"
     ]
    },
    {
     "name": "stderr",
     "output_type": "stream",
     "text": [
      "Flash attention implementation does not support kwargs: task\n"
     ]
    },
    {
     "name": "stdout",
     "output_type": "stream",
     "text": [
      "{'title': 'Near-optimal Coresets For Least-Squares Regression', 'sim': 0.678784746859353, 'title_similarity': None, 'abstract': '  We study (constrained) least-squares regression as well as multiple response\\nleast-squares regression and ask the question of whether a subset of the data,\\na coreset, suffices to compute a good approximate solution to the regression.\\nWe give deterministic, low order polynomial-time algorithms to construct such\\ncoresets with approximation guarantees, together with lower bounds indicating\\nthat there is not much room for improvement upon our results.\\n'}\n",
      "{'title': 'Low rank approximation and decomposition of large matrices using error\\n  correcting codes', 'sim': 0.6493639302953358, 'title_similarity': None, 'abstract': '  Low rank approximation is an important tool used in many applications of\\nsignal processing and machine learning. Recently, randomized sketching\\nalgorithms were proposed to effectively construct low rank approximations and\\nobtain approximate singular value decompositions of large matrices. Similar\\nideas were used to solve least squares regression problems. In this paper, we\\nshow how matrices from error correcting codes can be used to find such low rank\\napproximations and matrix decompositions, and extend the framework to linear\\nleast squares regression problems. The benefits of using these code matrices\\nare the following: (i) They are easy to generate and they reduce randomness\\nsignificantly. (ii) Code matrices with mild properties satisfy the subspace\\nembedding property, and have a better chance of preserving the geometry of an\\nentire subspace of vectors. (iii) For parallel and distributed applications,\\ncode matrices have significant advantages over structured random matrices and\\nGaussian random matrices. (iv) Unlike Fourier or Hadamard transform matrices,\\nwhich require sampling $O(k\\\\log k)$ columns for a rank-$k$ approximation, the\\nlog factor is not necessary for certain types of code matrices. That is,\\n$(1+\\\\epsilon)$ optimal Frobenius norm error can be achieved for a rank-$k$\\napproximation with $O(k/\\\\epsilon)$ samples. (v) Fast multiplication is possible\\nwith structured code matrices, so fast approximations can be achieved for\\ngeneral dense input matrices. (vi) For least squares regression problem\\n$\\\\min\\\\|Ax-b\\\\|_2$ where $A\\\\in \\\\mathbb{R}^{n\\\\times d}$, the $(1+\\\\epsilon)$\\nrelative error approximation can be achieved with $O(d/\\\\epsilon)$ samples, with\\nhigh probability, when certain code matrices are used.\\n'}\n",
      "{'title': 'Performance Analysis Of Regularized Linear Regression Models For\\n  Oxazolines And Oxazoles Derivitive Descriptor Dataset', 'sim': 0.6447758250272185, 'title_similarity': None, 'abstract': '  Regularized regression techniques for linear regression have been created the\\nlast few ten years to reduce the flaws of ordinary least squares regression\\nwith regard to prediction accuracy. In this paper, new methods for using\\nregularized regression in model choice are introduced, and we distinguish the\\nconditions in which regularized regression develops our ability to discriminate\\nmodels. We applied all the five methods that use penalty-based (regularization)\\nshrinkage to handle Oxazolines and Oxazoles derivatives descriptor dataset with\\nfar more predictors than observations. The lasso, ridge, elasticnet, lars and\\nrelaxed lasso further possess the desirable property that they simultaneously\\nselect relevant predictive descriptors and optimally estimate their effects.\\nHere, we comparatively evaluate the performance of five regularized linear\\nregression methods The assessment of the performance of each model by means of\\nbenchmark experiments is an established exercise. Cross-validation and\\nresampling methods are generally used to arrive point evaluates the\\nefficiencies which are compared to recognize methods with acceptable features.\\nPredictive accuracy was evaluated using the root mean squared error (RMSE) and\\nSquare of usual correlation between predictors and observed mean inhibitory\\nconcentration of antitubercular activity (R square). We found that all five\\nregularized regression models were able to produce feasible models and\\nefficient capturing the linearity in the data. The elastic net and lars had\\nsimilar accuracies as well as lasso and relaxed lasso had similar accuracies\\nbut outperformed ridge regression in terms of the RMSE and R square metrics.\\n'}\n",
      "{'title': 'Kernel Multivariate Analysis Framework for Supervised Subspace Learning:\\n  A Tutorial on Linear and Kernel Multivariate Methods', 'sim': 0.6295609488977822, 'title_similarity': None, 'abstract': '  Feature extraction and dimensionality reduction are important tasks in many\\nfields of science dealing with signal processing and analysis. The relevance of\\nthese techniques is increasing as current sensory devices are developed with\\never higher resolution, and problems involving multimodal data sources become\\nmore common. A plethora of feature extraction methods are available in the\\nliterature collectively grouped under the field of Multivariate Analysis (MVA).\\nThis paper provides a uniform treatment of several methods: Principal Component\\nAnalysis (PCA), Partial Least Squares (PLS), Canonical Correlation Analysis\\n(CCA) and Orthonormalized PLS (OPLS), as well as their non-linear extensions\\nderived by means of the theory of reproducing kernel Hilbert spaces. We also\\nreview their connections to other methods for classification and statistical\\ndependence estimation, and introduce some recent developments to deal with the\\nextreme cases of large-scale and low-sized problems. To illustrate the wide\\napplicability of these methods in both classification and regression problems,\\nwe analyze their performance in a benchmark of publicly available data sets,\\nand pay special attention to specific real applications involving audio\\nprocessing for music genre prediction and hyperspectral satellite images for\\nEarth and climate monitoring.\\n'}\n",
      "{'title': 'Optimal Rates for Spectral Algorithms with Least-Squares Regression over\\n  Hilbert Spaces', 'sim': 0.6220415926985454, 'title_similarity': None, 'abstract': '  In this paper, we study regression problems over a separable Hilbert space\\nwith the square loss, covering non-parametric regression over a reproducing\\nkernel Hilbert space. We investigate a class of spectral/regularized\\nalgorithms, including ridge regression, principal component regression, and\\ngradient methods. We prove optimal, high-probability convergence results in\\nterms of variants of norms for the studied algorithms, considering a capacity\\nassumption on the hypothesis space and a general source condition on the target\\nfunction. Consequently, we obtain almost sure convergence results with optimal\\nrates. Our results improve and generalize previous results, filling a\\ntheoretical gap for the non-attainable cases.\\n'}\n",
      "quantum mechanics is a very interesting field plese get mo som epapers related to that subject\n"
     ]
    },
    {
     "name": "stderr",
     "output_type": "stream",
     "text": [
      "Flash attention implementation does not support kwargs: task\n"
     ]
    },
    {
     "name": "stdout",
     "output_type": "stream",
     "text": [
      "{'title': 'Strange Bedfellows: Quantum Mechanics and Data Mining', 'sim': 0.717725049345647, 'title_similarity': None, 'abstract': '  Last year, in 2008, I gave a talk titled {\\\\it Quantum Calisthenics}. This\\nyear I am going to tell you about how the work I described then has spun off\\ninto a most unlikely direction. What I am going to talk about is how one maps\\nthe problem of finding clusters in a given data set into a problem in quantum\\nmechanics. I will then use the tricks I described to let quantum evolution lets\\nthe clusters come together on their own.\\n'}\n",
      "{'title': 'Quantum machine learning: a classical perspective', 'sim': 0.7173719536168784, 'title_similarity': None, 'abstract': '  Recently, increased computational power and data availability, as well as\\nalgorithmic advances, have led machine learning techniques to impressive\\nresults in regression, classification, data-generation and reinforcement\\nlearning tasks. Despite these successes, the proximity to the physical limits\\nof chip fabrication alongside the increasing size of datasets are motivating a\\ngrowing number of researchers to explore the possibility of harnessing the\\npower of quantum computation to speed-up classical machine learning algorithms.\\nHere we review the literature in quantum machine learning and discuss\\nperspectives for a mixed readership of classical machine learning and quantum\\ncomputation experts. Particular emphasis will be placed on clarifying the\\nlimitations of quantum algorithms, how they compare with their best classical\\ncounterparts and why quantum resources are expected to provide advantages for\\nlearning problems. Learning in the presence of noise and certain\\ncomputationally hard problems in machine learning are identified as promising\\ndirections for the field. Practical questions, like how to upload classical\\ndata into quantum form, will also be addressed.\\n'}\n",
      "{'title': 'Quantum-enhanced machine learning', 'sim': 0.7119038776798908, 'title_similarity': None, 'abstract': '  The emerging field of quantum machine learning has the potential to\\nsubstantially aid in the problems and scope of artificial intelligence. This is\\nonly enhanced by recent successes in the field of classical machine learning.\\nIn this work we propose an approach for the systematic treatment of machine\\nlearning, from the perspective of quantum information. Our approach is general\\nand covers all three main branches of machine learning: supervised,\\nunsupervised and reinforcement learning. While quantum improvements in\\nsupervised and unsupervised learning have been reported, reinforcement learning\\nhas received much less attention. Within our approach, we tackle the problem of\\nquantum enhancements in reinforcement learning as well, and propose a\\nsystematic scheme for providing improvements. As an example, we show that\\nquadratic improvements in learning efficiency, and exponential improvements in\\nperformance over limited time periods, can be obtained for a broad class of\\nlearning problems.\\n'}\n",
      "{'title': 'Geometrical versus time-series representation of data in quantum control\\n  learning', 'sim': 0.6784218304190716, 'title_similarity': None, 'abstract': '  Recently machine learning techniques have become popular for analysing\\nphysical systems and solving problems occurring in quantum computing. In this\\npaper we focus on using such techniques for finding the sequence of physical\\noperations implementing the given quantum logical operation. In this context we\\nanalyse the flexibility of the data representation and compare the\\napplicability of two machine learning approaches based on different\\nrepresentations of data. We demonstrate that the utilization of the geometrical\\nstructure of control pulses is sufficient for achieving high-fidelity of the\\nimplemented evolution. We also demonstrate that artificial neural networks,\\nunlike geometrical methods, posses the generalization abilities enabling them\\nto generate control pulses for the systems with variable strength of the\\ndisturbance. The presented results suggest that in some quantum control\\nscenarios, geometrical data representation and processing is competitive to\\nmore complex methods.\\n'}\n",
      "{'title': 'Quantum reinforcement learning', 'sim': 0.6702146881005508, 'title_similarity': None, 'abstract': '  The key approaches for machine learning, especially learning in unknown\\nprobabilistic environments are new representations and computation mechanisms.\\nIn this paper, a novel quantum reinforcement learning (QRL) method is proposed\\nby combining quantum theory and reinforcement learning (RL). Inspired by the\\nstate superposition principle and quantum parallelism, a framework of value\\nupdating algorithm is introduced. The state (action) in traditional RL is\\nidentified as the eigen state (eigen action) in QRL. The state (action) set can\\nbe represented with a quantum superposition state and the eigen state (eigen\\naction) can be obtained by randomly observing the simulated quantum state\\naccording to the collapse postulate of quantum measurement. The probability of\\nthe eigen action is determined by the probability amplitude, which is\\nparallelly updated according to rewards. Some related characteristics of QRL\\nsuch as convergence, optimality and balancing between exploration and\\nexploitation are also analyzed, which shows that this approach makes a good\\ntradeoff between exploration and exploitation using the probability amplitude\\nand can speed up learning through the quantum parallelism. To evaluate the\\nperformance and practicability of QRL, several simulated experiments are given\\nand the results demonstrate the effectiveness and superiority of QRL algorithm\\nfor some complex problems. The present work is also an effective exploration on\\nthe application of quantum computation to artificial intelligence.\\n'}\n",
      "What are transformers what are examples of transformer, encoder decoder models\n",
      "{'title': 'Learning Filter Bank Sparsifying Transforms', 'sim': 0.5982439012159196, 'title_similarity': None, 'abstract': '  Data is said to follow the transform (or analysis) sparsity model if it\\nbecomes sparse when acted on by a linear operator called a sparsifying\\ntransform. Several algorithms have been designed to learn such a transform\\ndirectly from data, and data-adaptive sparsifying transforms have demonstrated\\nexcellent performance in signal restoration tasks. Sparsifying transforms are\\ntypically learned using small sub-regions of data called patches, but these\\nalgorithms often ignore redundant information shared between neighboring\\npatches.\\n  We show that many existing transform and analysis sparse representations can\\nbe viewed as filter banks, thus linking the local properties of patch-based\\nmodel to the global properties of a convolutional model. We propose a new\\ntransform learning framework where the sparsifying transform is an undecimated\\nperfect reconstruction filter bank. Unlike previous transform learning\\nalgorithms, the filter length can be chosen independently of the number of\\nfilter bank channels. Numerical results indicate filter bank sparsifying\\ntransforms outperform existing patch-based transform learning for image\\ndenoising while benefiting from additional flexibility in the design process.\\n'}\n",
      "{'title': 'Expectation maximization transfer learning and its application for\\n  bionic hand prostheses', 'sim': 0.5940513422729115, 'title_similarity': None, 'abstract': '  Machine learning models in practical settings are typically confronted with\\nchanges to the distribution of the incoming data. Such changes can severely\\naffect the model performance, leading for example to misclassifications of\\ndata. This is particularly apparent in the domain of bionic hand prostheses,\\nwhere machine learning models promise faster and more intuitive user\\ninterfaces, but are hindered by their lack of robustness to everyday\\ndisturbances, such as electrode shifts. One way to address changes in the data\\ndistribution is transfer learning, that is, to transfer the disturbed data to a\\nspace where the original model is applicable again. In this contribution, we\\npropose a novel expectation maximization algorithm to learn linear\\ntransformations that maximize the likelihood of disturbed data after the\\ntransformation. We also show that this approach generalizes to discriminative\\nmodels, in particular learning vector quantization models. In our evaluation on\\ndata from the bionic prostheses domain we demonstrate that our approach can\\nlearn a transformation which improves classification accuracy significantly and\\noutperforms all tested baselines, if few data or few classes are available in\\nthe target domain.\\n'}\n",
      "{'title': 'Causal interpretation rules for encoding and decoding models in\\n  neuroimaging', 'sim': 0.5829117543316755, 'title_similarity': None, 'abstract': '  Causal terminology is often introduced in the interpretation of encoding and\\ndecoding models trained on neuroimaging data. In this article, we investigate\\nwhich causal statements are warranted and which ones are not supported by\\nempirical evidence. We argue that the distinction between encoding and decoding\\nmodels is not sufficient for this purpose: relevant features in encoding and\\ndecoding models carry a different meaning in stimulus- and in response-based\\nexperimental paradigms. We show that only encoding models in the stimulus-based\\nsetting support unambiguous causal interpretations. By combining encoding and\\ndecoding models trained on the same data, however, we obtain insights into\\ncausal relations beyond those that are implied by each individual model type.\\nWe illustrate the empirical relevance of our theoretical findings on EEG data\\nrecorded during a visuo-motor learning task.\\n'}\n",
      "{'title': '3D Morphable Models as Spatial Transformer Networks', 'sim': 0.5818548544900274, 'title_similarity': None, 'abstract': '  In this paper, we show how a 3D Morphable Model (i.e. a statistical model of\\nthe 3D shape of a class of objects such as faces) can be used to spatially\\ntransform input data as a module (a 3DMM-STN) within a convolutional neural\\nnetwork. This is an extension of the original spatial transformer network in\\nthat we are able to interpret and normalise 3D pose changes and\\nself-occlusions. The trained localisation part of the network is independently\\nuseful since it learns to fit a 3D morphable model to a single image. We show\\nthat the localiser can be trained using only simple geometric loss functions on\\na relatively small dataset yet is able to perform robust normalisation on\\nhighly uncontrolled images including occlusion, self-occlusion and large pose\\nchanges.\\n'}\n",
      "{'title': 'Compressing the Input for CNNs with the First-Order Scattering Transform', 'sim': 0.5810847994259326, 'title_similarity': None, 'abstract': '  We study the first-order scattering transform as a candidate for reducing the\\nsignal processed by a convolutional neural network (CNN). We show theoretical\\nand empirical evidence that in the case of natural images and sufficiently\\nsmall translation invariance, this transform preserves most of the signal\\ninformation needed for classification while substantially reducing the spatial\\nresolution and total signal size. We demonstrate that cascading a CNN with this\\nrepresentation performs on par with ImageNet classification models, commonly\\nused in downstream tasks, such as the ResNet-50. We subsequently apply our\\ntrained hybrid ImageNet model as a base model on a detection system, which has\\ntypically larger image inputs. On Pascal VOC and COCO detection tasks we\\ndemonstrate improvements in the inference speed and training memory consumption\\ncompared to models trained directly on the input image.\\n'}\n"
     ]
    }
   ],
   "source": [
    "text = [\"summarize the papers related to linear regression\",\n",
    "        \"quantum mechanics is a very interesting field plese get mo som epapers related to that subject\",\n",
    "        \"What are transformers what are examples of transformer, encoder decoder models\"\n",
    "        ]\n",
    "\n",
    "async def get_similar(text, nbr_articles=5):\n",
    "    # Tokenize the input text\n",
    "    inputs = tokenizer(text, return_tensors='pt', padding=True, truncation=True)\n",
    "\n",
    "    # Forward pass to get the embeddings\n",
    "    with torch.no_grad():\n",
    "        outputs = model(**inputs, task=\"retrieval.query\")\n",
    "\n",
    "    # Extract the last hidden states (embeddings)\n",
    "    last_hidden_states = outputs.last_hidden_state\n",
    "\n",
    "    # Optionally, get the embeddings for the [CLS] token\n",
    "    cls_embedding = last_hidden_states[:, 0, :]\n",
    "    return await fetch(cls_embedding[0], nbr_articles=nbr_articles, DESC=True)\n",
    "\n",
    "for sent in text:\n",
    "    print(sent)\n",
    "    res = await get_similar(sent)\n",
    "    for i in res:\n",
    "        print(i)\n",
    "    "
   ]
  },
  {
   "cell_type": "code",
   "execution_count": 58,
   "metadata": {},
   "outputs": [],
   "source": [
    "df_json = pd.read_json(\"./data/ml_papers.json\")"
   ]
  },
  {
   "cell_type": "code",
   "execution_count": 144,
   "metadata": {},
   "outputs": [
    {
     "name": "stderr",
     "output_type": "stream",
     "text": [
      "C:\\Users\\User\\AppData\\Local\\Temp\\ipykernel_9672\\2352425748.py:2: SettingWithCopyWarning: \n",
      "A value is trying to be set on a copy of a slice from a DataFrame.\n",
      "Try using .loc[row_indexer,col_indexer] = value instead\n",
      "\n",
      "See the caveats in the documentation: https://pandas.pydata.org/pandas-docs/stable/user_guide/indexing.html#returning-a-view-versus-a-copy\n",
      "  df_json_filterd[\"content\"] = \"None\"\n",
      "C:\\Users\\User\\AppData\\Local\\Temp\\ipykernel_9672\\2352425748.py:3: SettingWithCopyWarning: \n",
      "A value is trying to be set on a copy of a slice from a DataFrame.\n",
      "Try using .loc[row_indexer,col_indexer] = value instead\n",
      "\n",
      "See the caveats in the documentation: https://pandas.pydata.org/pandas-docs/stable/user_guide/indexing.html#returning-a-view-versus-a-copy\n",
      "  df_json_filterd[\"citation_text\"] = \"None\"\n"
     ]
    }
   ],
   "source": [
    "df_json_filterd = df_json[['doi', 'title', 'abstract', 'id']]\n",
    "df_json_filterd[\"content\"] = \"None\"\n",
    "df_json_filterd[\"citation_text\"] = \"None\"\n",
    "df_json_filterd = df_json_filterd.drop_duplicates(subset='doi', keep='first')"
   ]
  },
  {
   "cell_type": "code",
   "execution_count": 157,
   "metadata": {},
   "outputs": [
    {
     "name": "stdout",
     "output_type": "stream",
     "text": [
      "['10.1109/TSMC.2021.3074496', '10.1109/TWC.2016.2636139', '10.1109/TSP.2016.2628348', '10.1145/2978578', '10.1109/TSP.2017.2656847', '10.1109/TAC.2018.2813009', '10.1016/j.csda.2018.03.015', '10.1016/j.jides.2016.11.001', '10.1145/1569901.1570100', '10.4236/ijmnta.2014.34020', '10.1186/s13062-017-0203-4', '10.1016/j.cviu.2017.05.007', '10.18653/v1/W16-0533', '10.3390/e18120442', '10.1209/0295-5075/117/38002', '10.1109/ICASSP.2017.7952599', '10.1007/s10710-010-9103-4', '10.1109/LSP.2016.2589962', '10.1109/ACSSC.2017.8335713', '10.1109/ACCESS.2020.2976199', '10.1007/s00365-019-09489-8', '10.1109/TNNLS.2016.2572310', '10.13140/RG.2.1.2436.5683', '10.1142/S0129183109013613', '10.1111/j.1467-9868.2009.00698.x', '10.1143/JPSJ.77.094801', '10.1109/TIT.2010.2090235', '10.1016/j.isprsjprs.2015.01.006', '10.1109/JSTSP.2018.2846218', '10.1007/s10994-019-05856-5', '10.18653/v1/W19-8630', '10.1103/PhysRevC.80.044332', '10.1109/ISCC.2008.4625611', '10.3847/2041-8213/aa603d', '10.4204/EPTCS.215.7', '10.1145/3184066.3184080', '10.1016/j.patcog.2018.12.015', '10.1142/S0219720018500142', '10.1103/PhysRevE.79.026307', '10.1109/TIP.2017.2735189', '10.24963/ijcai.2017/226', '10.1007/978-3-319-77113-7_17', '10.1007/978-3-319-44781-0_21', '10.1016/j.neucom.2019.04.044', '10.1109/TPAMI.2010.47', '10.1080/00268976.2018.1483535', '10.1109/TIT.2020.3045613', '10.1145/2976749.2978318', '10.1109/ICIP.2016.7532332', '10.1088/1742-6596/1085/4/042017', '10.1109/TSP.2009.2034916', '10.1088/1742-5468/2009/07/P07026', '10.1007/s10458-011-9181-6', '10.1016/j.neucom.2017.02.029', '10.1109/TCDS.2019.2927941', '10.1155/2010/573107', '10.1587/transfun.E93.A.617', '10.1007/978-3-642-04744-2_13', '10.1007/978-3-030-46640-4_17', '10.1287/ijoc.2016.0729', '10.1109/TSP.2017.2690524', '10.1007/978-3-319-41264-1_1', '10.21437/GLU.2017-17', '10.1109/COMSWA.2008.4554505', '10.1007/978-3-642-01805-3_6', '10.1007/s11128-012-0506-4', '10.1089/big.2016.0028', '10.1145/2959100.2959170', '10.1109/TASLP.2016.2592698', '10.1016/j.neucom.2017.11.072', '10.1631/jzus.A0720058', '10.1214/10-AOAS359', '10.1109/ICDMW.2016.0077', '10.1007/s10618-017-0548-4', '10.1017/S0269964816000279', '10.1016/j.nuclphysbps.2010.02.009', '10.1088/1751-8113/43/24/242002', '10.1098/rsif.2012.0616', '10.1109/RAM.2017.7889786', '10.7566/JPSJ.86.024001', '10.1007/978-3-319-68612-7_11', '10.1007/978-3-642-14577-3_16', '10.1109/TIT.2011.2182033', '10.1145/2395116.2395118', '10.1016/j.amc.2019.01.047', '10.1007/978-3-319-44781-0_11', '10.1109/ICASSP.2019.8683061', '10.1088/1751-8121/ab6a6f', '10.1109/ISIT.2010.5513384', '10.1109/TIT.2010.2094817', '10.1016/j.cognition.2017.11.008', '10.1017/S1471068416000260', '10.1145/3097983.3098169', '10.5281/zenodo.3525484', '10.1016/j.neucom.2009.11.022', '10.1007/s00220-011-1214-0', '10.1007/978-3-642-28551-6_31', '10.1109/AINA.2013.88', '10.1145/2811411.2811514', '10.1007/s10208-019-09429-9', '10.1109/TVT.2010.2050081', '10.1214/11-AOAS514', '10.5121/ijwmn.2011.3412', '10.14569/IJACSA.2016.070710', '10.1109/TMM.2017.2690144', '10.1145/2987538.2987540', '10.1186/s13040-020-00231-w', '10.1109/TSP.2010.2096420', '10.1109/CCA.2010.5611248', '10.1103/PhysRevE.94.062310', '10.1126/sciadv.aap7885', '10.4204/EPTCS.260.9', '10.1145/3292500.3330926', '10.1017/S1471068410000207', '10.1109/TPAMI.2012.88', '10.1137/17M1121184', '10.1109/LSP.2017.2657381', '10.1007/s12559-017-9450-z', '10.1109/EMC2-NIPS53020.2019.00016', '10.1109/TNN.2011.2164096', '10.1016/j.jda.2011.10.002', '10.13140/RG.2.1.3436.8247', '10.1109/BigData.2016.7840719', '10.1109/IROS.2017.8202130', '10.1007/s10955-018-2105-y', '10.1088/1742-5468/ab3281', '10.1109/ICRA40945.2020.9197132', '10.1137/140978090', '10.1049/iet-ifs.2013.0095', '10.1109/TKDE.2015.2441716', '10.1145/2983323.2983677', '10.1109/IISWC.2016.7581275', '10.1007/978-3-642-23780-5_34', '10.12142/ZTECOM.201904005', '10.1109/TPAMI.2018.2860995', '10.1016/j.compbiolchem.2016.09.010', '10.1145/2983323.2983672', '10.1126/science.aal4230', '10.1016/j.acha.2012.03.009', '10.1117/1.3595426', '10.1109/TSP.2017.2715000', '10.1016/j.engappai.2016.06.001', '10.1007/s10994-018-5717-1', '10.1007/s12065-011-0052-5', '10.1103/PhysRevLett.107.065701', '10.1007/978-3-030-51002-2_3', '10.1109/ICARCV.2014.7064375', '10.1007/978-3-319-28373-9_37', '10.1007/s12530-016-9162-8', '10.1109/ICASSP.2017.7953112', '10.1109/TIT.2012.2198613', '10.1109/JSTSP.2011.2159773', '10.1109/TNNLS.2016.2593488', '10.1007/978-3-319-48989-6_10', '10.1109/TMC.2018.2861001', '10.1007/s10208-012-9129-5', '10.1109/TSP.2012.2196696', '10.1103/PhysRevX.7.041052', '10.1109/TSP.2017.2706192', '10.1145/2740908.2742570', '10.1088/1742-6596/297/1/012012', '10.1214/11-AOS940', '10.1038/srep46730', '10.1109/JBHI.2017.2679486', '10.1038/s41598-017-11873-y', '10.1613/jair.613', '10.1613/jair.807', '10.1613/jair.859', '10.1109/JBHI.2016.2636456', '10.1145/3159652.3159666', '10.1109/TSP.2012.2212886', '10.1109/MCOM.2011.5978427', '10.1007/s10817-013-9286-5', '10.1287/trsc.2017.0805', '10.1037/rev0000061', '10.1561/2200000049', '10.1007/978-3-030-36150-1_18', '10.1613/jair.1190', '10.1109/TNNLS.2012.2185811', '10.1145/3097983.3098177', '10.1007/s10955-017-1776-0', '10.1109/TMI.2019.2936522', '10.1109/TNNLS.2018.2869225', '10.3390/e21100976', '10.1109/CVPR.2011.5995636', '10.1109/EAIS.2015.7368789', '10.1109/TSP.2017.2708035', '10.1007/s10994-016-5554-z', '10.1007/s00332-019-09574-z', '10.1214/12-AOS994', '10.1109/TSMCB.2012.2223460', '10.1109/ISBI.2018.8363687', '10.4236/am.2016.715143', '10.1145/2661829.2662005', '10.1007/s10994-019-05849-4', '10.1613/jair.2005', '10.1109/TSP.2012.2200479', '10.1613/jair.2113', '10.5121/ijdkp.2011.1501', '10.1371/journal.pone.0170388', '10.1109/DEVLRN.2015.7346156', '10.1017/S0140525X17000243', '10.1109/LSP.2017.2780983', '10.1016/j.patrec.2019.02.020', '10.1109/ICRA.2018.8462884', '10.5121/csit.2020.100515', '10.1016/j.patcog.2016.09.015', '10.1016/j.envsoft.2017.02.006', '10.5121/ijdkp.2016.6503', '10.1109/ICASSP.2017.7952992', '10.1109/MC.2016.267', '10.1103/PhysRevLett.108.253002', '10.3390/e22010082', '10.1016/j.ins.2019.02.001', '10.1109/IROS.2017.8202141', '10.1109/IRI.2017.48', '10.1109/TKDE.2018.2872063', '10.5121/ijcnc.2011.3413', '10.1109/DEVLRN.2011.6037329', '10.1214/12-AOS1034', '10.1155/2016/8091267', '10.1109/TSP.2017.2708023', '10.1109/TSP.2017.2679690', '10.1186/s41044-018-0031-2', '10.5120/677-952', '10.1007/978-3-642-35289-8_33', '10.1016/j.patcog.2017.08.026', '10.1016/j.engappai.2016.10.005', '10.1109/ICASSP.2018.8461859', '10.1016/j.forsciint.2011.03.010', '10.1109/TIT.2013.2272457', '10.1109/TSP.2013.2274276', '10.1007/s41237-017-0022-z', '10.1016/j.eswa.2017.06.011', '10.1109/TIT.2019.2943464', '10.1029/2018WR022643', '10.1214/12-AOS1025', '10.5121/ijasuc.2012.3105', '10.1080/01621459.2018.1537921', '10.1109/TMC.2016.2616465', '10.1109/ICASSP.2017.7953161', '10.1109/IVS.2018.8500682', '10.1016/j.dsp.2012.09.006', '10.1209/0295-5075/103/28008', '10.1109/TSP.2018.2860562', '10.1109/TASLP.2017.2698723', '10.1016/j.engappai.2017.07.005', '10.1109/TNSRE.2017.2733220', '10.1145/2001858.2001952', '10.1145/1456223.1456281', '10.1109/TNNLS.2017.2709838', '10.1016/j.patcog.2018.07.023', '10.24963/ijcai.2019/362', '10.1103/PhysRevE.85.041925', '10.1109/TBME.2012.2226175', '10.1109/LSP.2012.2235830', '10.1016/j.neunet.2017.04.004', '10.1121/1.4972527', '10.1007/978-3-319-46379-7_17', '10.1109/TSP.2013.2250968', '10.1109/VAST.2011.6102474', '10.1103/PhysRevLett.117.130501', '10.1016/j.cpc.2018.03.016', '10.1145/3167132.3167165', '10.1109/SIBIRCON48586.2019.8958121', '10.5121/ijaia.2012.3205', '10.1109/TSP.2012.2232663', '10.1587/transinf.E96.D.1134', '10.1109/IROS.2015.7353783', '10.1145/3038912.3052660', '10.1016/j.compbiolchem.2018.01.009', '10.1080/08839514.2018.1448143', '10.1016/j.cognition.2018.11.001', '10.1109/BWSS.2012.23', '10.1214/13-AOS1138', '10.1109/BigData.2017.8258344', '10.1109/TCBB.2017.2684127', '10.1145/3099564.3099567', '10.3233/978-1-61499-096-3-180', '10.1109/LICS.2012.54', '10.1561/2200000044', '10.1016/j.jbi.2017.03.006', '10.1021/acsphotonics.8b00146', '10.1109/TKDE.2018.2859223', '10.1145/3173574.3173576', '10.2168/LMCS-8(3:25)2012', '10.1109/TPAMI.2014.2318728', '10.1109/TMI.2017.2650960', '10.13140/RG.2.2.10967.06566', '10.23919/APSIPA.2018.8659792', '10.1109/TSMCB.2012.2234108', '10.1007/s00521-018-3813-6', '10.1214/21-AOS2064', '10.1016/j.nima.2017.06.020', '10.1109/ICASSP.2017.7952118', '10.1109/SIBIRCON48586.2019.8958122', '10.1109/TBME.2013.2253608', '10.5120/10089-4722', '10.1016/j.dsp.2017.11.012', '10.4204/EPTCS.229.13', '10.1007/978-3-319-45763-5_3', '10.1016/j.dsp.2012.04.018', '10.1587/transinf.E96.D.1513', '10.1109/TKDE.2015.2492565', '10.1016/j.patcog.2018.06.004', '10.1109/CVPR.2018.00616', '10.1109/JSTSP.2018.2797022', '10.1016/j.jmgm.2018.06.005', '10.1016/j.nima.2018.10.210', '10.5121/ijdkp.2012.2503', '10.23919/Eusipco47968.2020.9287398', '10.1109/ICASSP.2017.7952155', '10.1109/TMM.2017.2710804', '10.1109/IJCNN.2017.7965902', '10.1109/LSP.2019.2944005', '10.1214/12-AOS1001', '10.1214/12-AOS1020', '10.1016/j.ins.2014.08.058', '10.1016/j.renene.2012.10.049', '10.1007/978-3-319-93034-3_12', '10.1109/CLOUD.2017.55', '10.1109/TBME.2019.2895663', '10.1109/SKIMA.2017.8294128', '10.1214/14-AOAS717', '10.1145/3025453.3025576', '10.1073/pnas.1611835114', '10.1109/TSP.2017.2736513', '10.1002/sam.11396', '10.1007/s10817-014-9303-3', '10.4204/EPTCS.124.10', '10.1109/ICSENS.2018.8589742', '10.1145/3041021.3051153', '10.1109/BigData.2017.8257942', '10.1088/1742-5468/aa6ddc', '10.1145/3372278.3390686', '10.1016/j.bspc.2013.06.004', '10.1007/978-3-319-59536-8_30', '10.1016/j.patrec.2019.03.014', '10.1103/PhysRevX.9.011013', '10.4204/EPTCS.103.6', '10.1109/TNNLS.2015.2487364', '10.1214/14-AOS1218', '10.1145/3079628.3079698', '10.1103/PhysRevE.96.042156', '10.1137/17M1115770', '10.1007/s10514-020-09905-0', '10.1093/nar/gkt229', '10.1016/j.patrec.2011.08.019', '10.1109/TIT.2018.2812824', '10.1109/ACSSC.2016.7869625', '10.1109/IJCNN.2017.7965898', '10.1103/PhysRevApplied.10.044033', '10.1214/13-AOS1199', '10.1016/j.neucom.2013.02.024', '10.1093/bioinformatics/btx275', '10.1016/j.eswa.2016.10.057', '10.1016/j.dss.2017.04.003', '10.1109/TSP.2013.2278516', '10.1177/0278364913499192', '10.1109/JSTSP.2016.2543461', '10.1109/MLSP.2016.7738895', '10.1016/j.cels.2017.10.001', '10.1007/978-3-319-91008-6_63', '10.1109/TIE.2017.2786219', '10.1103/PhysRevE.98.032303', '10.3934/dcdsb.2014.19.1335', '10.1109/LCOMM.2013.082113.131131', '10.1145/3020078.3021744', '10.1145/3097983.3098115', '10.1088/1748-0221/12/05/T05005', '10.1145/3238147.3238202', '10.1109/ICASSP.2013.6637769', '10.1145/2507157.2507166', '10.1371/journal.pone.0181142', '10.1561/2200000058', '10.1016/j.neucom.2018.07.102', '10.1109/CDC.2013.6761048', '10.1103/PhysRevE.88.042813', '10.1109/MSP.2013.2250352', '10.1109/TSP.2017.2755597', '10.1109/TKDE.2017.2720168', '10.1109/TSP.2014.2336613', '10.1371/journal.pone.0071715', '10.1117/12.2017754', '10.1016/j.jcss.2015.06.002', '10.1109/TASE.2018.2876430', '10.1103/PhysRevD.97.044039', '10.1145/3219819.3219855', '10.1162/NECO_a_00820', '10.1214/14-AOS1252', '10.1109/LSP.2013.2260538', '10.1134/S105466181604009X', '10.1162/neco_a_01143', '10.1109/IECON.2016.7793388', '10.1063/1.5020791', '10.1145/3178876.3186033', '10.1007/978-3-642-33709-3_16', '10.1145/3018661.3018702', '10.1109/TNNLS.2020.2973293', '10.1109/CDC.2011.6160810', '10.1017/S1471068414000076', '10.1109/IJCNN.2009.5178616', '10.1109/TSP.2017.2739100', '10.1109/JSTSP.2018.2848230', '10.1609/aaai.v33i01.33011093', '10.1109/FOCS.2013.30', '10.1145/2531602.2531607', '10.1109/TSP.2017.2750109', '10.1109/JSTSP.2017.2759726', '10.1016/j.neucom.2016.04.070', '10.1007/978-3-642-41278-3_24', '10.1063/1.4840235', '10.1016/j.neunet.2014.02.002', '10.1109/ACCESS.2017.2738558', '10.1109/CCE.2016.7562650', '10.4204/EPTCS.239.2', '10.1109/ASRU.2017.8268994', '10.1007/s10618-014-0382-x', '10.1103/PhysRevLett.113.130503', '10.1109/SECON.2016.7506650', '10.1007/s1051', '10.1109/LSP.2017.2704359', '10.1016/j.isprsjprs.2018.09.018', '10.1109/ICE-CCN.2013.6528554', '10.1109/ASRU.2013.6707725', '10.1016/j.eswa.2019.113008', '10.1016/j.ifacol.2016.12.184', '10.1103/PhysRevLett.118.158004', '10.1109/SMC.2013.260', '10.1103/PhysRevE.88.012815', '10.1103/PhysRevLett.112.050602', '10.17743/aesconf.2017.978-1-942220-15-2', '10.1093/mnrasl/slx008', '10.5815/ijisa.2017.02.01', '10.1137/130934568', '10.1109/TSP.2014.2329274', '10.4204/EPTCS.124.1', '10.1038/s41467-018-07210-0', '10.1109/JSTSP.2018.2876604', '10.18653/v1/P17-1057', '10.5121/ijdkp.2017.7102', '10.1109/TWC.2013.092413.130221', '10.1504/IJBIDM.2014.065091', '10.18637/jss.v089.i04', '10.3389/fncom.2018.00050', '10.1007/978-3-319-18032-8_35', '10.1088/1741-2552/aa714a', '10.1109/THMS.2016.2608931', '10.1016/j.acha.2013.08.005', '10.1017/S1473550413000372', '10.1017/S0956796814000057', '10.1109/TFUZZ.2016.2633379', '10.1109/TNSRE.2016.2544108', '10.1088/2058-9565/aaba1a', '10.1109/TPAMI.2014.2363465', '10.1109/TNNLS.2015.2490080', '10.3150/12-BEJSP17', '10.1007/s11432-021-3416-y', '10.1103/PhysRevX.8.041006', '10.15607/RSS.2017.XIII.059', '10.7717/peerj-cs.242', '10.1088/1742-6596/898/7/072021', '10.1214/15-AOAS812', '10.1214/14-AOS1260', '10.1109/ICMLA.2013.72', '10.1137/17M1116787', '10.1063/1.5021130', '10.1061/(ASCE)CP.1943-5487.0000712', '10.1109/TIP.2019.2952032', '10.1007/s10817-015-9330-8', '10.1109/TPAMI.2016.2544315', '10.1016/j.eswa.2017.11.011', '10.7554/eLife.28295', '10.1038/s42256-019-0018-3', '10.1109/ITSC.2012.6338621', '10.1088/0004-637X/777/2/83', '10.1016/j.patrec.2014.08.013', '10.1016/j.neucom.2017.04.068', '10.1145/3299869.3300070', '10.1007/s10489-017-1012-2', '10.5121/csit.2013.3704', '10.13140/RG.2.1.5045.4649', '10.1007/s10107-019-01363-6', '10.1007/s11227-017-1994-x', '10.1007/s00521-017-3322-z', '10.1007/s42979-020-00356-z', '10.1007/978-3-319-57454-7_53', '10.1109/TSP.2014.2333559', '10.1109/IJCNN.2014.6889449', '10.1016/j.neuroimage.2017.02.035', '10.1109/IROS.2017.8206444', '10.1109/TG.2018.2808201', '10.5121/ijcsity.2013.1408', '10.3182/20120711-3-BE-2027.00312', '10.1145/3106237.3106257', '10.1145/3243734.3243750', '10.1109/TSP.2018.2839583', '10.1109/SP.2018.00016', '10.1093/mnras/stt2456', '10.1002/sta4.189', '10.1007/s10618-019-00652-0', '10.1007/s10994-019-05778-2', '10.1109/indin.2017.8104767', '10.1016/j.inffus.2017.12.007', '10.18653/v1/D15-1026', '10.1016/j.engappai.2015.12.013', '10.1109/ICCV.2017.400', '10.1109/IJCNN.2017.7966128', '10.1016/j.neunet.2017.07.014', '10.1109/ICRA.2017.7989186', '10.1007/s11704-019-8123-3', '10.1109/LSP.2017.2713830', '10.1145/3097983.3098068', '10.23919/EUSIPCO.2017.8081218', '10.1109/TSP.2018.2878551', '10.1007/s10472-024-09929-7', '10.1137/1.9781611975321.2', '10.1016/j.ymssp.2017.10.033', '10.3390/a12110240', '10.1613/jair.2519', '10.1613/jair.2530', '10.1613/jair.2540', '10.1103/PhysRevE.96.022140', '10.1145/3097983.3098123', '10.1109/ACCESS.2018.2876860', '10.1080/10618600.2020.1820345', '10.1613/jair.2602', '10.1613/jair.2681', '10.1109/JIOT.2020.2967734', '10.1109/CIBCB.2016.7758109', '10.5220/0006064102170224', '10.1109/TSP.2017.2764855', '10.1613/jair.2830', '10.1613/jair.2904', '10.1145/3356471.3365243', '10.1109/TPAMI.2019.2948619', '10.18637/jss.v091.i11', '10.1109/TDSC.2017.2681672', '10.14722/ndss.2018.23158', '10.1016/j.knosys.2014.04.035', '10.1145/3132847.3132877', '10.1109/TSP.2019.2916105', '10.1088/1741-2552/aae5d8', '10.1613/jair.3484', '10.1016/j.csda.2017.03.010', '10.1038/s41597-019-0103-9', '10.1142/S0129183117500152', '10.1002/pmic.201700232', '10.1109/TKDE.2014.2345378', '10.1109/LSP.2014.2320944', '10.1613/jair.3543', '10.1016/j.neucom.2018.02.007', '10.1039/C7CP01108C', '10.1088/1751-8121/aaa631', '10.1109/TPAMI.2015.2392756', '10.1109/TIP.2014.2380155', '10.1109/TSP.2017.2781640', '10.1109/ACCESS.2017.2696121', '10.1109/TIM.2018.2863438', '10.1142/S0219749918400063', '10.1613/jair.3761', '10.1613/jair.3831', '10.1186/s41044-016-0010-4', '10.1007/s10994-016-5562-z', '10.1145/3090076', '10.7566/JPSJ.86.084806', '10.1364/OPTICA.5.000704', '10.1109/TNNLS.2015.2424254', '10.1109/TSP.2014.2385045', '10.1007/s10994-018-5730-4', '10.1109/IROS.2017.8206288', '10.1109/SPMB.2016.7846855', '10.14445/22312803/IJCTT-V8P105', '10.14445/22312803/IJCTT-V8P106', '10.1016/j.neuroimage.2014.09.060', '10.1007/s10107-018-01361-0', '10.1007/978-3-030-02520-5_11', '10.1093/bioinformatics/bty401', '10.1109/ICDM.2013.116', '10.1109/JSTSP.2014.2370942', '10.1371/journal.pone.0206653', '10.1109/TNNLS.2017.2689242', '10.1109/TSP.2017.2778685', '10.1109/TMI.2019.2894349', '10.18653/v1/D19-1022', '10.1371/journal.pcbi.1004465', '10.1145/3109859.3109878', '10.2352/ISSN.2470-1173.2017.19.AVM-023', '10.1063/1.5028373', '10.14445/22315381/IJETT-V9P296', '10.4204/EPTCS.144.6', '10.1109/ICASSP.2014.6854954', '10.1016/j.dsp.2018.07.007', '10.1016/j.ins.2017.11.050', '10.1016/j.wasman.2016.08.023', '10.1007/s10994-016-5621-5', '10.1109/WCCCT.2014.69', '10.1145/3178876.3186071', '10.1145/3097983.3098118', '10.1145/3097983.3098061', '10.1098/rsta.2017.0237', '10.1016/j.orl.2019.12.003', '10.7566/JPSJ.83.124002', '10.14445/22312803/IJCTT-V10P107', '10.1109/DSAA.2016.70', '10.1007/978-3-319-67389-9_40', '10.1109/LGRS.2017.2728698', '10.1109/TNNLS.2019.2941506', '10.1109/TNSRE.2014.2319334', '10.18653/v1/D17-1045', '10.1145/3178487.3178491', '10.1145/3197978', '10.1016/j.neunet.2019.04.014', '10.1007/s10618-015-0421-2', '10.1088/1742-6596/574/1/012064', '10.1016/j.ins.2018.06.007', '10.1109/BIBM.2016.7822569', '10.1038/s41598-018-34817-6', '10.14445/22312803/IJCTT-V10P137', '10.1162/NECO_a_00732', '10.1002/sam.11206', '10.1016/j.patcog.2019.107000', '10.1038/s41567-018-0081-4', '10.1093/bioinformatics/bty323', '10.23919/TST.2017.8195354', '10.1016/j.patcog.2014.12.003', '10.1109/COMST.2014.2320099', '10.1109/TPAMI.2016.2568185', '10.1103/PhysRevLett.118.168301', '10.1007/s42979-020-0079-8', '10.1007/978-3-319-91253-0_5', '10.1007/s00158-018-2101-5', '10.7717/peerj.488', '10.1109/ICDM.2017.125', '10.1109/TSIPN.2018.2866320', '10.24963/ijcai.2018/585', '10.1007/s10489-018-1235-x', '10.1145/3219819.3220023', '10.1109/TKDE.2014.2327022', '10.1007/978-3-319-59050-9_20', '10.1016/j.asoc.2017.04.042', '10.1109/BigData.2016.7841045', '10.1145/3178876.3186053', '10.1109/ICACI.2018.8377579', '10.29012/jpc.680', '10.1103/PhysRevE.98.042311', '10.1093/bioinformatics/btx724', '10.1016/j.acha.2018.09.009', '10.1007/s10462-019-09686-8', '10.1038/nphys3266', '10.1145/3072959.3073643', '10.1016/j.automatica.2020.109032', '10.1073/pnas.1705841114', '10.1093/imaiai/iax012', '10.1137/140998135', '10.1016/j.ins.2017.07.016', '10.1007/s10994-017-5678-9', '10.1103/PhysRevE.97.053304', '10.1007/978-3-319-77553-1_4', '10.1007/978-3-319-07695-9_1', '10.1007/978-3-319-02999-3_2', '10.3390/e21121181', '10.1109/JSTSP.2018.2838549', '10.1016/j.knosys.2018.03.022', '10.1016/j.knosys.2014.04.044', '10.1109/LSP.2014.2381553', '10.1109/TIP.2017.2703101', '10.1038/s41746-018-0029-1', '10.1007/s00146-019-00898-8', '10.1109/TIP.2016.2514503', '10.4204/EPTCS.157.10', '10.1088/1361-6420/aa9a90', '10.1080/01621459.2018.1473776', '10.1137/140952314', '10.1145/2641190.2641198', '10.1371/journal.pone.0132945', '10.1109/ICSC.2018.00059', '10.1016/j.automatica.2020.109421', '10.1109/LSP.2017.2723472', '10.2748/tmj.20201015a', '10.1016/j.ajps.2018.01.003', '10.1016/j.eswa.2015.03.007', '10.1364/OPTICA.4.001437', '10.1287/opre.2020.2000', '10.1007/s10994-017-5666-0', '10.1145/3197517.3201397', '10.2217/pgs-2018-0008', '10.1007/978-3-319-08976-8_11', '10.1145/3132847.3132959', '10.1093/bioinformatics/btx624', '10.1145/3089801.3089802', '10.1007/s10994-023-06335-8', '10.1109/ISGTEurope.2019.8905453', '10.2139/ssrn.2823251', '10.1109/TFUZZ.2018.2796099', '10.1145/3132747.3132785', '10.1109/TPAMI.2015.2476802', '10.1177/1094342015572030', '10.1109/CVPR.2015.7298767', '10.1109/TNNLS.2019.2891792', '10.1016/j.patrec.2018.05.011', '10.51628/001c.7125', '10.1016/j.ins.2016.01.101', '10.1109/TFUZZ.2015.2505330', '10.1109/TSP.2017.2745444', '10.1016/j.neucom.2018.03.028', '10.1109/IJCNN.2017.7966389', '10.1109/SLT.2018.8639617', '10.1086/678977', '10.1007/s10955-015-1321-y', '10.1109/TDSC.2018.2874243', '10.1109/TIT.2018.2879897', '10.1016/j.neucom.2020.02.115', '10.1109/TITS.2019.2935152', '10.1109/TNNLS.2015.2423694', '10.1016/j.ipl.2017.01.005', '10.1007/978-3-319-69266-1_5', '10.1063/1.5023802', '10.1109/ICPR.2018.8545362', '10.1137/140993272', '10.1016/j.knosys.2013.12.023', '10.1145/3077136.3080786', '10.1109/ICCSS.2016.7586421', '10.1016/j.compchemeng.2017.02.010', '10.1093/biomet/asx008', '10.1007/978-3-319-11662-4_18', '10.1103/PhysRevE.92.032107', '10.1162/neco_a_01086', '10.1016/j.laa.2019.07.017', '10.1109/TRO.2019.2920206', '10.1016/j.asoc.2014.09.021', '10.1142/S0218001415510064', '10.18653/v1/D19-6605', '10.1016/j.jocm.2017.11.003', '10.1109/LSP.2017.2712141', '10.1109/TMI.2016.2535302', '10.5120/ijca2017913013', '10.1016/j.aam.2020.102100', '10.1007/978-3-319-26123-2_24', '10.1007/s10618-019-00671-x', '10.1609/aaai.v32i1.11430', '10.1007/978-3-319-69775-8_9', '10.1109/TGRS.2018.2797537', '10.1007/s11128-018-2099-z', '10.1007/978-3-030-32047-8_12', '10.1007/s10994-016-5594-4', '10.1109/IJCNN.2016.7727233', '10.1073/pnas.1719397115', '10.1016/j.physleta.2014.11.061', '10.1109/TSP.2015.2391071', '10.1109/TSP.2015.2447503', '10.1109/TKDE.2019.2937078', '10.1109/JBHI.2017.2767063', '10.1007/978-3-030-22871-2_44', '10.1002/qute.201800065', '10.1088/1367-2630/17/8/083023', '10.1142/S1793536914500125', '10.1109/SMC.2014.6974562', '10.1145/3371132', '10.1117/1.JBO.23.5.056008', '10.1145/3075564.3075590', '10.18653/v1/K17-1037', '10.1145/3269206.3271761', '10.1093/bioinformatics/bty593', '10.1109/HPEC.2015.7322485', '10.1145/3109859.3109896', '10.1103/PhysRevA.96.052307', '10.1007/s40304-017-0117-6', '10.1109/TIP.2018.2808767', '10.1371/journal.pone.0134254', '10.1371/journal.pone.0133036', '10.5121/ijcsit.2014.6602', '10.1109/IJCNN.2017.7966072', '10.1145/3097983.3098088', '10.1038/s41598-019-44892-y', '10.1016/j.patcog.2020.107369', '10.1016/j.patcog.2015.01.004', '10.1016/j.trc.2017.10.016', '10.1021/acs.jcim.7b00403', '10.1109/MWSCAS.2017.8052950', '10.1007/978-3-319-44781-0_9', '10.1002/asi.23179', '10.5121/ijdkp.2015.5103', '10.1109/ICRA.2018.8461174', '10.1016/j.neucom.2018.07.071', '10.1145/3077136.3080806', '10.1109/TKDE.2019.2942590', '10.1109/TNNLS.2017.2747861', '10.1109/TITB.2011.2171978', '10.1109/ISIT.2015.7282642', '10.1142/S0129183117500954', '10.1007/978-981-10-4859-3_20', '10.1109/TSP.2018.2885494', '10.1007/978-3-030-32047-8_7', '10.1109/TIP.2015.2496275', '10.1109/JSTSP.2015.2402646', '10.1073/pnas.1711456115', '10.1109/ICAR.2017.8023495', '10.3390/axioms8040106', '10.1016/j.automatica.2016.08.004', '10.1109/TPAMI.2013.218', '10.1007/978-3-319-24403-7_2', '10.7566/JPSJ.88.061009', '10.1145/3125486.3125492', '10.1371/journal.pone.0196577', '10.1007/978-3-319-71273-4_9', '10.1093/bioinformatics/bty294', '10.1109/TASLP.2015.2468583', '10.1109/ICDMW.2016.0158', '10.1109/TIP.2017.2761545', '10.1016/j.jco.2018.02.004', '10.1145/3173162.3173212', '10.1103/PhysRevA.98.042315', '10.1145/2764468.2764519', '10.1007/978-3-319-67256-4_32', '10.1145/3097983.3098078', '10.1145/3173574.3174014', '10.1093/bioinformatics/btv419', '10.1007/978-3-319-05476-6_13', '10.1016/j.neunet.2020.08.013', '10.1145/3123266.3123385', '10.1103/PhysRevD.97.103515', '10.1073/pnas.1803839115', '10.1109/ICRA.2018.8462863', '10.1109/JPROC.2015.2483592', '10.1016/j.conb.2015.07.006', '10.1145/3077136.3080811', '10.1080/23737484.2017.1392266', '10.1073/pnas.1718942115', '10.1609/aaai.v33i01.33014846', '10.1109/TCYB.2019.2909925', '10.1109/TSP.2015.2481875', '10.1109/TNNLS.2017.2712801', '10.1109/TASLP.2018.2795749', '10.1109/IJCNN.2018.8489618', '10.1371/journal.pone.0141287', '10.1109/VCIP.2017.8305148', '10.1117/12.2228523', '10.1117/12.2228794', '10.1109/VLHCC.2017.8103467', '10.1145/3442188.3445865', '10.1109/TASLP.2016.2541299', '10.1109/ACCESS.2020.3000350', '10.1093/bioinformatics/btx252', '10.1038/s41467-018-04316-3', '10.1109/YSF.2017.8126654', '10.1145/3274694.3274696', '10.1109/CVPR.2015.7298942', '10.1109/TSP.2017.2740199', '10.1007/978-3-319-67564-0_11', '10.1103/PhysRevLett.121.260601', '10.14569/IJACSA.2019.0100582', '10.1109/TPAMI.2017.2772235', '10.1109/JSTSP.2015.2505682', '10.1109/TG.2018.2816806', '10.1109/IROS.2016.7759048', '10.3389/fams.2017.00014', '10.1109/LSP.2016.2637312', '10.1109/TNNLS.2018.2802721', '10.1109/ISIT.2015.7282647', '10.1109/TSP.2015.2500192', '10.1109/ECMR.2017.8098658', '10.1109/TSP.2017.2781649', '10.1016/j.snb.2017.04.071', '10.1186/s13634-018-0528-x', '10.1073/pnas.1912789117', '10.1109/DSP-SPE.2015.7369520', '10.1145/3123266.3129391', '10.17775/CSEEJPES.2019.00590', '10.1098/rspa.2017.0551', '10.1007/s11162-019-09546-y', '10.1145/3219819.3219959', '10.1109/TSP.2016.2516971', '10.1109/JIOT.2018.2839563', '10.1016/j.compchemeng.2017.12.015', '10.1049/iet-spr.2017.0049', '10.1016/j.neucom.2018.02.011', '10.1109/TMM.2015.2510509', '10.1371/journal.pone.0178161', '10.1186/s12984-018-0446-z', '10.1109/ICCV.2017.223', '10.1103/PhysRevLett.120.143001', '10.1016/j.patcog.2016.09.006', '10.1016/j.ins.2018.07.040', '10.1109/TIE.2016.2580125', '10.1109/JSTSP.2018.2798920', '10.1109/ACCESS.2017.2773363', '10.3934/fods.2021005', '10.1109/TSP.2016.2576427', '10.1109/DESEC.2017.8073822', '10.1016/j.amc.2021.126434', '10.1214/18-AOS1745', '10.1007/978-3-030-12146-4_22', '10.1016/j.eswa.2014.04.032', '10.1371/journal.pone.0142390', '10.1007/s10994-015-5490-3', '10.1109/IPDPSW.2018.00032', '10.1145/3077136.3080695', '10.18653/v1/D17-1169', '10.1016/j.neunet.2016.07.006', '10.1109/TCDS.2016.2550591', '10.1007/978-3-319-19857-6_7', '10.1109/JSTSP.2017.2752462', '10.1016/j.ygeno.2018.07.002', '10.1016/j.talanta.2018.06.061', '10.1145/3178876.3185996', '10.1016/j.patrec.2020.10.014', '10.1155/2015/824289', '10.1016/j.jcp.2017.11.039', '10.24963/ijcai.2018/447', '10.1103/PhysRevLett.120.248301', '10.1007/s13755-017-0023-z', '10.1007/978-3-319-26561-2_33', '10.1109/LSP.2015.2463232', '10.1109/HUMANOIDS.2015.7363448', '10.17185/duepublico/44533', '10.1007/s00500-020-04906-8', '10.1145/3219819.3220121', '10.1145/2733373.2806293', '10.1109/TSP.2016.2546231', '10.1109/SSP.2018.8450698', '10.1016/j.jmp.2006.10.002', '10.1109/TSP.2018.2824289', '10.1109/CogInfoCom.2013.6719292', '10.1109/GLOCOMW.2015.7414077', '10.1007/978-3-319-24489-1_26', '10.1007/s11040-015-9171-z', '10.1073/pnas.1822012116', '10.1109/TSP.2018.2816575', '10.1109/ICMLA.2017.0-126', '10.1145/3097983.3098171', '10.1007/978-3-319-94821-8_16', '10.1145/2783258.2783307', '10.1109/ICDM.2018.00123', '10.1109/HPEC.2017.8091098', '10.1109/TKDE.2018.2866041', '10.1016/j.neucom.2019.06.070', '10.1145/3308558.3313616', '10.1007/978-3-030-12388-8_70', '10.1145/3128572.3140448', '10.1038/nature25978', '10.1089/big.2018.0175', '10.1145/3219819.3219996', '10.1109/LSP.2015.2460737', '10.1038/sdata.2017.193', '10.1109/ICDMW.2017.116', '10.1016/j.neunet.2017.12.015', '10.1109/TSP.2020.3010355', '10.13140/RG.2.1.5085.6166', '10.1109/IJCNN.2019.8852294', '10.1007/978-3-030-00308-1_10', '10.1109/MSP.2017.2743240', '10.1007/s11554-018-0769-9', '10.1016/j.neucom.2017.01.118', '10.1051/0004-6361/201834794', '10.1109/TCNS.2016.2573639', '10.1007/s10462-020-09896-5', '10.14722/ndss.2018.23105', '10.1214/19-AOS1875', '10.1016/j.neucom.2016.08.158', '10.1007/s11222-018-9814-6', '10.1007/978-3-319-19264-2_20', '10.1007/s00521-013-1368-0', '10.1016/j.apenergy.2017.11.098', '10.1109/CSF.2017.10', '10.1145/3196398.3196424', '10.1109/TC.2020.2994391', '10.1109/TSP.2016.2537271', '10.1109/TSP.2016.2537261', '10.1109/TBDATA.2016.2620488', '10.1109/TSIPN.2019.2928176', '10.1145/2792838.2800174', '10.12988/ams.2015.55391', '10.1109/ICCE.2015.7066303', '10.1007/978-3-319-12640-1_12', '10.21437/SMM.2018-5', '10.1016/j.neunet.2019.09.039', '10.1007/978-3-319-70581-1_17', '10.1109/TSP.2018.2846226', '10.3390/e23111529', '10.3934/mbe.2017027', '10.1109/TBCAS.2015.2483618', '10.3390/info9090231', '10.1016/j.patcog.2017.08.024', '10.3390/s16010031', '10.1080/18756891.2015.1084705', '10.1287/moor.2017.0895', '10.1109/ICDMW.2015.244', '10.1145/3123939.3124552', '10.1039/C7AN01371J', '10.1109/CCCS.2018.8586840', '10.1109/TPAMI.2015.2484342', '10.1080/01621459.2016.1273116', '10.1007/s11081-018-9380-y', '10.1561/2200000067', '10.1103/PhysRevLett.120.066401', '10.1145/2902251.2902285', '10.1109/TCYB.2017.2761798', '10.1109/TITS.2019.2947206', '10.1137/17M1145689', '10.1109/TNNLS.2019.2945992', '10.1109/TKDE.2013.57', '10.1109/MIS.2020.2988525', '10.1109/IPDPSW.2016.58', '10.1109/ICASSP.2016.7472872', '10.1103/PhysRevX.8.031012', '10.1093/bioinformatics/btz199', '10.1142/S0219749918400129', '10.1109/TCST.2018.2886159', '10.1109/TIP.2015.2511584', '10.1088/1751-8113/49/17/174006', '10.21437/Interspeech.2017-1620', '10.1109/ITSC.2017.8317735', '10.1007/978-3-319-66185-8_42', '10.1145/2897518.2897559', '10.1109/IJCNN.2015.7280768', '10.1007/s10994-018-5719-z', '10.1088/2058-9565/aada1f', '10.1093/jamia/ocz085', '10.1145/2783258.2788600', '10.1109/TWC.2015.2496584', '10.1109/ITW.2016.7606837', '10.4204/EPTCS.257.3', '10.1109/TCI.2018.2840334', '10.3389/frobt.2018.00079', '10.1007/s10618-015-0448-4', '10.1016/j.jcp.2019.07.042', '10.1145/3106237.3106277', '10.1007/s10994-018-5696-2', '10.2312/vcbm.20171248', '10.1016/j.jcp.2020.109707', '10.1016/j.neuroimage.2015.01.036', '10.1109/ICDM.2015.15', '10.1016/j.cmpb.2018.01.025', '10.1109/ICRA.2018.8460735', '10.1214/19-EJS1582', '10.1109/TCI.2017.2697206', '10.1090/qam/1483', '10.1016/j.dsp.2017.07.023', '10.1109/ICDMW.2017.144', '10.1007/s42979-020-0071-3', '10.1145/2840728.2840747', '10.1103/PhysRevApplied.6.054005', '10.1007/978-3-319-21024-7_14', '10.1109/TPAMI.2019.2909876', '10.1109/TKDE.2019.2904060', '10.1145/3219819.3219886', '10.1145/3097983.3098005', '10.1016/j.neunet.2015.07.007', '10.1109/ACCESS.2017.2779939', '10.1109/ICDMW.2017.149', '10.1109/TASL.2013.2270369', '10.1109/TASLP.2017.2661705', '10.1109/TIT.2017.2736066', '10.1109/IVS.2017.7995885', '10.1145/3130800.3130880', '10.3390/quantum2020019', '10.1103/PhysRevA.99.052331', '10.1109/TNNLS.2017.2672978', '10.1109/TCSVT.2016.2592330', '10.3150/21-BEJ1338', '10.1109/TASLP.2015.2501724', '10.1109/TASL.2013.2243435', '10.1109/IVMSPW.2018.8448694', '10.1109/PRNI.2014.6858551', '10.1109/CVPR.2016.283', '10.1016/j.wocn.2015.09.001', '10.1145/3276520', '10.1016/j.envsoft.2018.01.014', '10.1007/s00332-018-9525-3', '10.1098/rspa.2017.0844', '10.1016/j.ijar.2019.07.003', '10.1109/TASLP.2015.2507862', '10.24963/ijcai.2017/646', '10.1038/s41598-017-11424-5', '10.1109/CDC.2017.8264429', '10.1088/2058-9565/aae22b', '10.24963/ijcai.2018/200', '10.5281/zenodo.1336304', '10.1109/JIOT.2020.2983217', '10.1145/3240925.3240937', '10.1109/ICMLA.2017.0-134', '10.1109/LRA.2018.2800083', '10.1109/TNNLS.2015.2479223', '10.1109/TASLP.2016.2560534', '10.1109/LSP.2016.2574327', '10.18653/v1/P16-1068', '10.1002/qute.201800076', '10.1145/3195258.3195260', '10.1145/3289600.3291011', '10.1016/j.neucom.2019.02.030', '10.1109/ICRA.2016.7487177', '10.1109/SSCI.2017.8280935', '10.1109/JSTSP.2018.2827303', '10.1016/j.robot.2018.11.001', '10.1111/cgf.13092', '10.1016/j.neunet.2018.10.005', '10.1109/LSP.2016.2601911', '10.1109/RAM.2018.8463127', '10.1109/TPAMI.2019.2903505', '10.1016/j.patcog.2018.04.029', '10.18653/v1/W17-2802', '10.3390/app8071206', '10.1109/TWC.2017.2647946', '10.4204/EPTCS.210', '10.1016/j.spa.2019.02.016', '10.1109/TGRS.2017.2758922', '10.1109/IROS.2018.8593990', '10.1007/s13042-019-01021-5', '10.1109/IPTA.2016.7821007', '10.1145/3333028', '10.1016/j.jcp.2018.10.024', '10.1109/TSP.2016.2630038', '10.1109/NOMS.2016.7502858', '10.1109/LSP.2016.2576979', '10.1109/CIG.2016.7860442', '10.1145/3094243.3094261', '10.1002/sam.11392', '10.1109/ICRA.2018.8460635', '10.1007/s10589-017-9896-7', '10.1063/1.4972718', '10.1145/3284174', '10.3390/e20030155', '10.1145/3159652.3159706', '10.1007/s00521-022-07785-2', '10.1109/ICPHM.2017.7998302', '10.1109/TCYB.2021.3049633', '10.1155/2018/9826243', '10.1371/journal.pone.0200579', '10.1080/01431161.2016.1249302', '10.1016/j.ins.2015.06.039', '10.14569/IJACSA.2016.070203', '10.1109/TSP.2018.2830299', '10.1177/0278364920954896', '10.1109/CDC.2017.8263743', '10.1109/ICDMW.2011.20', '10.1109/TBME.2016.2632523', '10.1007/978-3-319-26227-7_18', '10.1093/gji/ggy385', '10.1145/3219819.3220058', '10.1088/1742-5468/ab3988', '10.1117/12.919235', '10.1117/12.884155', '10.1103/PhysRevApplied.8.024030', '10.1109/TGRS.2016.2585201', '10.1016/j.future.2017.10.016', '10.1016/j.acha.2018.12.002', '10.1145/3172944.3172989', '10.1007/s10822-016-9938-8', '10.46298/jdmdh.1398', '10.1016/j.knosys.2018.02.028', '10.1162/neco_a_01337', '10.5705/ss.202019.0401', '10.1007/978-3-319-27000-5_26', '10.1109/TSG.2020.3009401', '10.1109/TNSE.2017.2703102', '10.1016/j.neunet.2018.07.011', '10.1109/ICDMW.2018.00183', '10.1145/3278721.3278725', '10.22489/CinC.2017.363-223', '10.1145/1235', '10.1109/IoTDI.2018.00025', '10.1145/3126686.3126720', '10.1016/j.jvcir.2017.02.014', '10.1109/TASLP.2016.2584700', '10.1103/PhysRevA.95.012335', '10.1109/IJCNN.2017.7966108', '10.1109/TSE.2018.2810892', '10.1145/3269206.3272021', '10.1007/s11571-020-09581-x', '10.1371/journal.pone.0155119', '10.1109/TSP.2018.2866385', '10.1109/TPAMI.2019.2909031', '10.1109/TNNLS.2018.2876179', '10.1088/1742-6596/1131/1/012002', '10.1142/S0129183118500158', '10.1109/BTAS.2016.7791205', '10.1007/978-3-319-46487-9_33', '10.1109/ICCCN.2017.8038390', '10.1109/JSTSP.2017.2785826', '10.1142/s0129065717500629', '10.1007/978-981-15-1922-2_25', '10.1145/2902251.2902296', '10.1109/ICASSP.2018.8461829', '10.1109/TNNLS.2019.2935975', '10.1007/s10618-019-00638-y', '10.1109/TPAMI.2013.31', '10.1109/IKT.2015.7288793', '10.1007/978-3-319-46466-4_22', '10.1109/CEC.2018.8477891', '10.1145/3200947.3208069', '10.1016/j.smhl.2018.07.001', '10.1016/j.sigpro.2017.04.011', '10.1109/TSP.2017.2686340', '10.3390/e19120656', '10.1109/AMC.2019.8371094', '10.1016/j.patrec.2018.01.012', '10.1038/s41598-019-38491-0', '10.1109/TPAMI.2017.2711024', '10.1088/1742-6596/762/1/012052', '10.1587/transinf.2017EDP7317', '10.1145/3219819.3220025', '10.1007/s41060-018-0155-5', '10.3389/fams.2021.716044', '10.1109/TPAMI.2018.2858783', '10.1093/ectj/utaa005', '10.1145/3240323.3240370', '10.1016/j.ins.2021.01.010', '10.1109/TNNLS.2019.2909686', '10.1007/978-3-319-95098-3_7', '10.1109/ICASSP.2018.8461530', '10.1016/j.chemolab.2018.10.007', '10.1109/ISBI.2018.8363717', '10.1016/j.artint.2018.12.006', '10.1109/TSP.2017.2666775', '10.1016/j.cam.2020.113140', '10.1016/j.ins.2018.06.056', '10.1109/TKDE.2018.2823740', '10.1145/3377325.3377538', '10.1109/SCES.2012.6199047', '10.1088/1742-6596/904/1/012006', '10.1007/s10844-018-0507-6', '10.1007/978-3-319-68600-4_32', '10.1016/j.acha.2019.09.001', '10.1117/12.2521739', '10.1109/TKDE.2015.2503753', '10.1103/PhysRevB.94.165134', '10.1016/j.eswa.2017.12.022', '10.1109/INFOCOM.2019.8737441', '10.1007/s10994-019-05788-0', '10.1051/epjconf/201919800014', '10.1371/journal.pone.0219126', '10.1002/widm.1245', '10.1007/978-3-319-57463-9_4', '10.1109/SOCC.2017.8226056', '10.1109/TPDS.2019.2939126', '10.1007/s10618-016-0456-z', '10.1145/3148011.3148027', '10.1109/EMBC.2017.8036861', '10.1109/JSTSP.2019.2904183', '10.1145/2959100.2959171', '10.1145/3325917.3325926', '10.1016/j.csl.2017.04.008', '10.1609/aimag.v38i3.2741', '10.1109/TSP.2018.2853130', '10.1371/journal.pone.0198883', '10.1145/3133944.3133945', '10.1016/j.robot.2015.01.003', '10.1007/978-3-319-56994-9_18', '10.1109/CAMSAP.2015.7383796', '10.1007/978-3-030-36708-4_5', '10.1109/TVT.2018.2890726', '10.1587/transinf.2018EDL8091', '10.1007/s42452-020-03582-5', '10.1145/2988450.2988456', '10.1016/j.asoc.2011.06.020', '10.1007/978-3-319-71246-8_11', '10.1016/j.ecolmodel.2019.06.002', '10.1038/s41551-019-0362-y', '10.1080/10485252.2024.2359057', '10.13140/RG.2.2.34836.96647', '10.1002/gamm.202000013', '10.1613/jair.5638', '10.1109/JIOT.2018.2872122', '10.1137/18M1211350', '10.1007/978-3-030-29513-4_48', '10.1016/j.neucom.2016.12.087', '10.1109/TASLP.2017.2690563', '10.1007/978-3-319-50478-0_16', '10.1109/ICASSP.2018.8461682', '10.1145/3301278', '10.7566/JPSJ.87.085001', '10.13140/RG.2.1.2449.0486', '10.1016/j.jcp.2017.01.060', '10.1049/iet-ifs.2014.0099', '10.1177/0278364917727062', '10.1007/s11263-018-1074-6', '10.1051/0004-6361/201833800', '10.1109/DSAA.2015.7344863', '10.2196/mhealth.6562', '10.1109/TPAMI.2020.2974746', '10.1109/CVPR.2018.00568', '10.1109/ICFHR-2018.2018.00081', '10.23919/IRS.2019.8768169', '10.1177/0269215518771127', '10.1145/3240323.3240406', '10.1109/SMC.2018.00682', '10.1142/S0218001421510174', '10.1109/JSTQE.2019.2921376', '10.1109/ICPR.2016.7899671', '10.1016/j.future.2017.08.053', '10.1109/TSP.2018.2889984', '10.1109/TKDE.2018.2826011', '10.1016/j.ifacol.2018.07.222', '10.1145/3372297.3417880', '10.7566/JPSJ.85.114802', '10.1162/NECO_a_00951', '10.1016/j.trc.2017.11.021', '10.1109/ICARCV.2018.8581147', '10.1137/18M1208654', '10.1016/j.zemedi.2018.11.002', '10.1109/SYNASC.2016.020', '10.1103/PhysRevE.97.052307', '10.1109/TSP.2021.3063458', '10.22331/q-2020-02-20-234', '10.1007/978-3-319-69179-4_26', '10.1145/2872427.2882974', '10.1109/ICDM.2016.0054', '10.1002/tee.23225', '10.1145/3197517.3201311', '10.1051/ps/2019021', '10.1109/IWCIA.2014.6988081', '10.1109/TKDE.2019.2911681', '10.1007/s10107-017-1228-2', '10.1109/TSIPN.2016.2601022', '10.1109/DEVLRN.2017.8329826', '10.1016/j.eswa.2018.07.070', '10.1016/j.jcp.2019.06.042', '10.1007/s10955-017-1836-5', '10.1007/s10994-018-5760-y', '10.1007/978-3-319-63046-5_34', '10.1109/TNNLS.2019.2890970', '10.1103/PhysRevA.98.062324', '10.1145/3394486.3403045', '10.1016/j.jss.2016.06.016', '10.1080/01621459.2017.1395341', '10.1371/journal.pcbi.1005324', '10.1007/978-3-030-12939-2_18', '10.1021/acscentsci.8b00229', '10.1109/TETC.2020.3027454', '10.1145/2959100.2959180', '10.1016/j.dam.2017.10.015', '10.1007/s10732-016-9314-9', '10.1016/j.ins.2019.01.024', '10.3390/make2010004', '10.3390/jimaging8040093', '10.1038/s41467-017-00839-3', '10.1109/ICPHM.2018.8448517', '10.13140/RG.2.2.26552.24325', '10.1137/18M1231298', '10.1109/JSTSP.2018.2875674', '10.1109/TCBB.2016.2609918', '10.1109/ICASSP.2017.7953327', '10.6092/polito/porto/2709436', '10.1007/978-3-030-10925-7_4', '10.1016/j.imu.2019.100191', '10.1109/TSP.2019.2924595', '10.1109/TPAMI.2018.2815524', '10.1109/TSP.2017.2749215', '10.1109/tnnls.2019.2956095', '10.1109/eScience.2017.94', '10.1587/transinf.2018EDP7139', '10.1109/JETCAS.2019.2910864', '10.1145/3309541', '10.12743/quanta.v7i1.65', '10.1371/journal.pone.0222907', '10.1109/TNNLS.2018.2874571', '10.1038/s42256-019-0019-2', '10.3389/fams.2020.575073', '10.2312/egs.20201019', '10.1016/j.ijar.2016.07.007', '10.1073/pnas.1806579115', '10.1007/978-3-030-10925-7_40', '10.1109/TNNLS.2021.3088685', '10.1016/j.eswa.2019.112911', '10.2991/ijcis.11.1.73', '10.2478/s13230-013-0110-z', '10.1109/IJCNN.2018.8489737', '10.1137/1.9781611974973.19', '10.1117/12.2224039', '10.1109/TPAMI.2018.2823766', '10.1007/978-3-319-66808-6_18', '10.1073/pnas.1813263115', '10.1007/s11263-019-01228-7', '10.1021/acscentsci.7b00572', '10.1109/TPDS.2020.2979702', '10.1016/j.isatra.2019.08.012', '10.1007/s10514-013-9339-y', '10.1109/ICPR.2018.8546186', '10.1109/SSCI.2016.7849948', '10.1080/01621459.2017.1356319', '10.1117/1.JRS.14.036507', '10.1109/IJCNN.2018.8489269', '10.1007/s10618-020-00726-4', '10.1162/artl_a_00301', '10.1109/HUMANOIDS.2016.7803249', '10.1109/DSAA.2015.7344819', '10.1145/3219819.3219837', '10.1109/IPTA.2017.8310100', '10.1145/3287560.3287596', '10.20944/preprints201905.0124.v3', '10.17871/BACI_ICML2016_Rodner', '10.1103/PhysRevLett.118.138301', '10.1038/s41598-018-24389-w', '10.5194/isprs-annals-IV-1-125-2018', '10.1109/ICC.2019.8761315', '10.1103/PhysRevC.99.054308', '10.4208/csiam-am.2020', '10.1016/j.compbiomed.2017.09.007', '10.1109/ACCESS.2018.2876494', '10.1103/PhysRevA.98.012324', '10.1287/mnsc.2020.3818', '10.1007/978-3-030-30508-6_45', '10.1109/TITS.2018.2817879', '10.1109/TSP.2017.2726991', '10.1109/TSP.2018.2878544', '10.1109/ICCAIRO.2018.00027', '10.5194/isprs-annals-IV-1-101-2018', '10.1016/j.ins.2016.07.076', '10.1162/NECO_a_01056', '10.1007/s10994-016-5604-6', '10.1145/3205455.3205539', '10.1371/journal.pone.0237654', '10.1109/TSP.2018.2844159', '10.1007/s40192-018-0109-8', '10.1109/TCYB.2016.2623638', '10.1109/ISBI.2019.8759229', '10.1109/LSP.2018.2847908', '10.1109/TPAMI.2016.2635136', '10.1088/1538-3873/aaf1fc', '10.1007/s42979-023-02280-4', '10.1109/BigData.2016.7841024', '10.1007/s00180-020-00987-z', '10.1007/s10957-019-01509-8', '10.1080/01441647.2018.1494640', '10.1214/154957804100000000', '10.1109/TPAMI.2018.2854726', '10.1017/S0269888919000055', '10.1007/s11786-019-00394-8', '10.1080/09332480.2019.1579578', '10.1145/3287560.3287600', '10.1088/1741-2552/aace8c', '10.1109/TSP.2016.2612168', '10.1109/TSP.2017.2712120', '10.1021/acs.jcim.8b00263', '10.1109/TSP.2018.2887403', '10.1109/JIOT.2017.2712560', '10.1016/j.compbiomed.2018.10.015', '10.1021/acs.jcim.6b00740', '10.1109/TNNLS.2019.2926466', '10.1016/j.engappai.2018.05.001', '10.1007/978-3-030-00937-3_72', '10.1109/UCC.2018.00018', '10.6342/NTU201803514', '10.1063/1.4978623', '10.1063/1.5023798', '10.1109/ICHI.2018.00092', '10.1007/s13209-016-0144-7', '10.1002/cpa.22074', '10.1088/1361-6595/ab0246', '10.1109/ACCESS.2018.2875677', '10.1007/978-3-319-92537-0_7', '10.1109/CCNC.2017.7983123', '10.1109/IJCNN.2018.8489762', '10.5555/3361338.3361450', '10.1007/s10994-017-5651-7', '10.1007/978-3-319-71249-9_16', '10.1145/3190508.3190551', '10.1109/IJCNN.2018.8489673', '10.1145/3209978.3210025', '10.1007/s42484-021-00047-9', '10.1016/j.apm.2018.03.006', '10.1145/3184558.3191823', '10.1016/j.diin.2015.05.007', '10.1145/3204493.3204579', '10.1145/3018661.3018685', '10.1016/j.knosys.2016.12.013', '10.1007/978-3-319-46675-0_63', '10.1007/978-3-030-32381-3_36', '10.1038/s41467-018-04948-5', '10.3389/frobt.2018.00070', '10.1080/1350486X.2022.2030773', '10.1145/3301275.3302288', '10.1007/JHEP05(2019)036', '10.1109/TCSI.2017.2698019', '10.1063/1.5039826', '10.1088/1475-7516/2018/12/022', '10.21437/Interspeech.2018-1616', '10.7282/t3-t7fe-4a02', '10.1007/s00180-017-0742-2', '10.1007/978-3-030-05918-7_22', '10.1109/TSP.2019.2949504', '10.1186/s40537-017-0107-2', '10.1109/TMM.2018.2871949', '10.1109/BigData.2016.7840826', '10.1007/978-3-319-59271-8_5', '10.1016/j.jcp.2017.07.050', '10.1007/978-3-030-00889-5_37', '10.1007/s10994-020-05895-3', '10.1007/978-3-030-32686-9_4', '10.1109/JETCAS.2019.2912353', '10.1007/s10618-020-00691-y', '10.1007/s10115-008-0128-4', '10.1016/j.asoc.2020.106250', '10.1109/ICASSP.2018.8461807', '10.1371/journal.pone.0214904', '10.1186/s13634-018-0533-0', '10.3390/e19030122', '10.1109/LSP.2016.2639036', '10.1007/978-3-030-22871-2_48', '10.1109/TSP.2019.2903025', '10.1016/j.patcog.2020.107198', '10.18653/v1/P18-1073', '10.1109/TSP.2017.2752697', '10.2478/popets-2019-0053', '10.1109/TNSE.2020.3002963', '10.1109/TNNLS.2019.2927301', '10.1115/1.4044507', '10.1016/j.neunet.2016.03.002', '10.1145/3132847.3132980', '10.1109/ICSC.2017.75', '10.1109/TBME.2018.2872652', '10.1109/TITS.2018.2860925', '10.1145/3341161.3342866', '10.1029/2018WR024638', '10.13140/RG.2.2.23824.66564', '10.4204/EPTCS.240.2', '10.1109/JSTSP.2018.2877405', '10.1145/3210284.3220502', '10.1007/s41109-018-0109-9', '10.1109/TNNLS.2018.2884700', '10.1109/ICDAR.2017.148', '10.1109/TSP.2019.2953596', '10.1109/TPAMI.2019.2897684', '10.1007/s00466-019-01715-1', '10.1103/PhysRevA.96.042113', '10.24425/bpas.2018.125929', '10.1109/TASLP.2017.2690575', '10.1145/3209978.3210045', '10.3390/e23111534', '10.1007/978-3-030-32047-8_16', '10.1038/s41598-018-38343-3', '10.11591/ij-ai.v5.i4.pp143-148', '10.1007/978-3-319-68600-4_1', '10.1007/s10458-020-09485-4', '10.1186/s12918-018-0642-2', '10.1007/s13278-020-00664-5', '10.3847/1538-3881/aaf101', '10.1017/S0269888920000351', '10.1103/PhysRevE.97.022310', '10.1109/IJCNN.2019.8852120', '10.1109/TNNLS.2020.3010198', '10.1093/imaiai/iaz030', '10.1109/TASLP.2020.3008974', '10.1007/978-3-319-93037-4_13', '10.13140/RG.2.2.20841.49765', '10.1155/2018/8983590', '10.1103/PhysRevA.101.062327', '10.1364/OPN.29.7.000034', '10.1038/s41598-019-40554-1', '10.1103/PhysRevE.96.051301', '10.1109/ACCESS.2019.2891969', '10.1007/978-3-319-54978-1_66', '10.1175/MWR-D-18-0187.1', '10.1016/j.neucom.2020.08.054', '10.1145/3209978.3210051', '10.1109/ICDAR.2017.361', '10.1145/3106237.3106256', '10.1088/2632-2153/abc609', '10.1016/j.cose.2019.06.004', '10.1111/coin.12277', '10.1051/epjconf/201920105001', '10.1038/s41524-019-0231-y', '10.1007/978-3-030-72113-8_4', '10.1007/s00521-016-2528-9', '10.1145/3219819.3220036', '10.1088/1742-5468/ab3430', '10.1364/OPTICA.5.000864', '10.1007/978-3-319-71078-5_2', '10.1109/ICASSP.2019.8682790', '10.1016/j.neucom.2018.11.066', '10.1021/acs.nanolett.8b03171', '10.1063/1.5078640', '10.1137/1.9781611975673.75', '10.1109/ICMLA.2018.00235', '10.1109/ICASSP.2019.8682713', '10.1109/LSP.2017.2654860', '10.1145/3219819.3219853', '10.1093/mnras/sty1398', '10.1088/1361-6560/ab039b', '10.1109/ICAECC.2018.8479433', '10.1109/JSAC.2019.2951964', '10.1016/j.jocs.2018.04.003', '10.1103/PhysRevB.98.085402', '10.1007/978-3-030-00928-1_87', '10.1002/hbm.23730', '10.3389/frobt.2018.00042', '10.1145/3097983.3098155', '10.1145/3071178/3071215', '10.1109/TVCG.2018.2865027', '10.1109/TSP.2020.2965818', '10.1007/978-3-030-30484-3_26', '10.1609/aaai.v34i01.5460', '10.1109/ICCV.2017.116', '10.1109/FAS-W.2016.36', '10.1109/LRA.2018.2852779', '10.24963/ijcai.2018/478', '10.1016/j.cagd.2020.101876', '10.1109/IEMCON.2018.8614822', '10.1016/j.eswa.2017.02.039', '10.1016/j.dsp.2017.10.011', '10.1109/TBME.2017.2785401', '10.1016/j.is.2019.01.006', '10.1002/cpe.4721', '10.1109/LGRS.2019.2902222', '10.1109/TSP.2017.2781642', '10.1109/TIT.2019.2927560', '10.1016/J.CAG.2017.08.004', '10.1109/TPDS.2018.2877359', '10.1016/j.ins.2018.01.001', '10.14722/ndss.2018.23198', '10.1016/j.knosys.2018.09.019', '10.1073/pnas.1915980117', '10.1038/s41598-018-26200-2', '10.1109/JSTSP.2021.3049634', '10.33889/IJMEMS.2019.4.4-068', '10.24963/ijcai.2017/350', '10.1561/2300000053', '10.3389/fnins.2018.00745', '10.1186/s13636-020-00190-4', '10.1109/TPAMI.2018.2885516', '10.1109/ICASSP.2019.8682721', '10.1080/0022250X.2018.1517761', '10.1109/ICCV.2017.371', '10.18653/v1/D19-5623', '10.6084/m9.figshare.6272342', '10.1371/journal.pone.0204627', '10.1109/IVS.2018.8500696', '10.1103/PhysRevResearch.2.033415', '10.1016/j.laa.2020.01.039', '10.18653/v1/P17-1181', '10.1061/9780784481462.052', '10.1109/RECONFIG.2018.8641739', '10.2514/1.j058291', '10.1007/978-3-030-29513-4_37', '10.1038/s41377-019-0139-9', '10.1007/978-3-319-31750-2_24', '10.1007/s11063-017-9684-5', '10.1016/j.neucom.2018.06.021', '10.1007/978-3-319-92007-8', '10.1016/j.knosys.2019.02.019', '10.1016/j.bica.2018.07.004', '10.1007/s11128-018-2046-z', '10.1109/TSP.2019.2926022', '10.1145/3274005.3274032', '10.1145/3219819.3219890', '10.1111/cgf.13619', '10.1007/978-3-030-04303-2_4', '10.18653/v1/P17-2040', '10.5281/zenodo.822411 and 10.5281/zenodo.579642', '10.3390/app9091743', '10.1108/IMDS-02-2018-0072', '10.1007/978-3-030-01424-7_16', '10.1109/BigData47090.2019.9005465', '10.1016/j.neucom.2018.07.089', '10.1145/2783258.2783259', '10.2312/ceig.20171213', '10.1145/3219819.3219930', '10.1016/j.probengmech.2019.05.001', '10.1109/TNNLS.2013.2283574', '10.1016/j.ins.2011.11.025', '10.1109/SLT.2016.7846306', '10.1007/s10618-020-00680-1', '10.1145/3178876.3186040', '10.1016/j.tcs.2019.09.002', '10.1137/18M1203523', '10.1109/DSAA.2018.00044', '10.1093/bioinformatics/bty257', '10.1038/lsa.2017.141', '10.1038/s41598-019-47148-x', '10.1038/s41598-018-34525-1', '10.1145/3314404', '10.1137/1.9781611975673.51', '10.1109/DAS.2018.15', '10.1109/TNET.2018.2828415', '10.1109/IJCNN.2018.8489493', '10.1109/ICIT.2019.8755032', '10.1109/BIBM47256.2019.8983310', '10.1016/j.engappai.2017.01.013', '10.1109/TSP.2017.2777407', '10.1007/978-3-319-75931-9_1', '10.1073/pnas.1810286115', '10.1109/TC.2018.2889053', '10.1109/ICC.2019.8761712', '10.1016/j.neunet.2019.06.009', '10.1109/ACSSC.2016.7869124', '10.1016/j.robot.2018.07.006', '10.1109/TNNLS.2019.2945116', '10.1109/CIG.2018.8490456', '10.1109/TSP.2019.2899822', '10.1137/1.9781611975321.67', '10.1214/19-AOS1849', '10.1007/s10182-020-00378-1', '10.1109/TGRS.2018.2818945', '10.1007/978-3-030-26980-7_31', '10.1103/PhysRevLett.121.010601', '10.1109/IJCNN.2017.7966420', '10.1109/TSP.2017.2712128', '10.1109/JSTSP.2020.3004094', '10.4230/LIPIcs.ITCS.2019.33', '10.1016/j.patcog.2019.107013', '10.1007/978-3-030-01768-2_14', '10.3389/fcvm.2020.00025', '10.1109/ICMLA.2016.0044', '10.1162/neco_a_01119', '10.1103/PhysRevResearch.1.033063', '10.1145/2792838.2800192', '10.4230/LIPIcs.SoCG.2019.21', '10.1109/TNNLS.2019.2948892', '10.23919/CIC.2016.7868812', '10.1214/17-BA1082', '10.1016/j.automatica.2019.01.023', '10.1007/978-3-030-31978-6_7', '10.1088/1361-6579/aaf34d', '10.1109/TCCN.2018.2790976', '10.1016/j.sigpro.2017.10.023', '10.1145/3097983.3097990', '10.1093/bioinformatics/btz111', '10.5281/zenodo.2008650', '10.1016/j.jcp.2020.109278', '10.1109/TKDE.2017.2703106', '10.1145/3132847.3132919', '10.1109/Cybermatics_2018.2018.00307', '10.1109/TCCN.2019.2899871', '10.3389/fninf.2019.00067', '10.1109/STC-CSIT.2017.8098808', '10.1186/s40668-019-0029-9', '10.1145/3097983.3098045', '10.1103/PhysRevX.8.041011', '10.1002/pamm.201800314', '10.1109/TNNLS.2017.2711028', '10.1109/TSP.2019.2931207', '10.1109/WACV.2017.113', '10.1109/LSP.2017.2757901', '10.1007/978-3-319-69456-6_14', '10.1093/mnras/sty2836', '10.1145/3292500.3330857', '10.1109/TKDE.2018.2854182', '10.1613/jair.1.11640', '10.1088/1367-2630/ab6cdd', '10.1007/978-3-319-56991-8_32', '10.2312/sca.20181185', '10.1145/3071178.3071328', '10.1016/j.patrec.2021.05.005', '10.1162/neco_a_01195', '10.3390/biom8040131', '10.1111/bjd.17189', '10.1109/TNNLS.2018.2804443', '10.7566/JPSJ.86.024002', '10.3847/1538-4357/aaa23c', '10.1109/ICIP.2017.8296573', '10.1016/j.mri.2018.07.003', '10.5216/mh.v18i1.53570', '10.1002/mp.13284', '10.1103/PhysRevD.97.101501', '10.1016/j.patcog.2018.01.017', '10.1007/978-3-319-64471-4_25', '10.1109/TDSC.2021.3051525', '10.1109/TITS.2018.2877572', '10.1109/ISGT.2019.8791624', '10.13140/RG.2.2.22227.99364/1', '10.1103/PhysRevE.96.032308', '10.1007/s10994-019-05822-1', '10.24963/ijcai.2018/421', '10.1073/pnas.1820458116', '10.1109/PMAPS.2018.8440508', '10.1088/1748-0221/12/10/C10004', '10.1088/1748-0221/12/12/C12008', '10.1016/j.ins.2017.07.003', '10.1109/TIT.2021.3081508', '10.1007/978-3-030-30508-6_48', '10.1007/978-3-030-00374-6_5', '10.1016/j.jcp.2019.01.045', '10.1364/ao.56.007327', '10.1007/s10922-018-9455-2', '10.1145/3077136.3080702', '10.1109/TSP.2019.2932876', '10.1007/s41781-019-0028-1', '10.1371/journal.pcbi.1006106', '10.1109/TNNLS.2018.2851305', '10.1145/3194206.3195587', '10.1145/3448016.3457301', '10.1371/journal.pmed.1002683', '10.14722/ndss.2019.23202', '10.1007/s10618-018-0577-7', '10.1109/MSP.2018.2867638', '10.1109/IVMSPW.2016.7528219', '10.1016/j.patrec.2018.02.010', '10.1145/3219819.3220046', '10.1142/S0219749918400014', '10.1088/1751-8121/ab4c8b', '10.1109/MGRS.2019.2912563', '10.1109/JSEN.2017.2703885', '10.4204/EPTCS.251.17', '10.1007/s40687-018-0172-y', '10.1109/NAECON.2018.8556776', '10.1016/j.trb.2020.08.006', '10.2463/mrms.mp.2018-0156', '10.1007/978-3-030-01090-4_25', '10.1126/science.aau6249', '10.1145/3219819.3219851', '10.1145/3097983.3098148', '10.1007/s00138-018-0922-2', '10.1145/3133956.3134083', '10.1016/j.biosystems.2019.04.006', '10.1109/TAC.2019.2948268', '10.1016/j.knosys.2019.03.030', '10.1007/978-3-319-67389-9_25', '10.1007/s13042-018-0896-4', '10.1088/1742-5468/ab3455', '10.13140/RG.2.2.28803.81448', '10.1109/TETC.2020.2983007', '10.3929/ethz-b-000327207', '10.1103/PhysRevLett.119.140506', '10.1016/j.patrec.2018.09.006', '10.1145/3128572.3140442', '10.1016/j.bspc.2018.12.016', '10.1093/mnras/stz131', '10.1016/j.cad.2019.02.006.', '10.1109/MCI.2019.2954668', '10.1109/ICSPCS.2017.8270510', '10.4204/EPTCS.257.2', '10.1109/TSP.2019.2899805', '10.1007/s00521-019-04642-7', '10.1109/ICISSEC.2016.7885853', '10.1109/SPAWC.2019.8815546', '10.1109/ISI.2018.8587323', '10.1109/EUVIP.2018.8611732', '10.1109/TWC.2019.2924220', '10.1109/HPEC.2018.8547742', '10.1145/3270101.3270111', '10.1038/s41534-019-0193-4', '10.1145/2939672.2939785', '10.1007/978-3-030-00129-2_12', '10.5120/ijca2018916800', '10.1145/3219819.3219917', '10.1016/j.media.2018.07.002', '10.1109/NigeriaComputConf45974.2019.8949674', '10.1209/0295-5075/119/60001', '10.23919/ICIF.2018.8455785', '10.1088/1742-5468/ab3216', '10.1093/mnras/stz575', '10.1109/ACCESS.2018.2875720', '10.1109/IRSEC.2017.8477236', '10.3390/math7100992', '10.1063/1.5047803', '10.1038/s42256-019-0058-8', '10.1109/ICARCV.2018.8581172', '10.1145/3055004.3055006', '10.1073/pnas.1802705116', '10.1109/SMC.2016.7844417', '10.1038/s41467-019-13922-8', '10.1016/j.nima.2019.05.097', '10.1109/LSP.2017.2741509', '10.1145/3152494.3152500', '10.1016/j.tcs.2019.05.046', '10.1007/978-3-319-98204-5_17', '10.1109/CloudCom.2017.58', '10.1109/DSMP.2016.7583516', '10.1109/TSP.2018.2841822', '10.1109/ICCVW.2017.110', '10.1007/978-3-031-35374-1_5', '10.1038/s41598-019-49656-2', '10.1109/ACCESS.2021.3082761', '10.1109/LSP.2019.2920250', '10.1007/978-3-319-69900-4_44', '10.1016/j.neucom.2017.07.066', '10.1007/978-3-642-40994-3_25', '10.1016/j.patrec.2019.02.018', '10.1007/978-3-030-10997-4_10', '10.1007/s10589-020-00202-1', '10.1007/978-981-10-8797-4_22', '10.1016/j.image.2020.115917', '10.1109/BIBM.2014.6999183', '10.1103/PhysRevX.9.031012', '10.1145/3313276.3316310', '10.1103/PhysRevE.100.033311', '10.1073/pnas.1820226116', '10.1016/j.cma.2018.11.026', '10.1109/IRI.2016.55', '10.1371/journal.pone.0212442', '10.1098/rsta.2018.0083', '10.5555/3291125.3309634', '10.1109/HPEC.2018.8547574', '10.1109/IRI.2017.18', '10.1145/238061.238071', '10.1145/3313276.3316309', '10.1007/s10596-019-09850-7', '10.1109/TSP.2014.2385655', '10.1007/978-3-319-49055-7_29', '10.1088/1361-6560/aac71a', '10.1016/j.cpc.2019.02.006', '10.1109/ECCE.2018.8558187', '10.1016/j.displa.2019.03.001', '10.1109/LSP.2018.2789405', '10.1145/3132847.3132869', '10.1109/SSCI.2017.8280812', '10.1145/3219819.3220077', '10.1109/TSP.2018.2858207', '10.1007/978-3-030-27544-0_29', '10.1103/PhysRevLett.123.020604', '10.3390/s17112603', '10.1007/978-3-030-38965-9_6', '10.1080/14697688.2019.1622313', '10.3390/e22010046', '10.1109/TSP.2019.2893846', '10.1109/TCYB.2019.2953564', '10.1016/j.robot.2018.04.009', '10.1016/j.dam.2019.02.036', '10.26300/nhfp-xv22', '10.1007/978-3-030-10928-8_1', '10.1007/s10489-018-1341-9', '10.1145/3195106.3195117', '10.1007/978-3-319-44781-0_3', '10.1145/3270323.327032', '10.1109/ICASSP.2018.8462020', '10.1080/23737484.2020.1740065', '10.5281/zenodo.889036', '10.1109/TSP.2018.2835384', '10.1109/DSAA.2016.35', '10.1613/jair.1.12105', '10.1016/j.dss.2016.06.020', '10.1515/pjbr-2019-0005', '10.1109/LRA.2018.2801471', '10.7566/JPSJ.86.124804', '10.24963/ijcai.2018/505', '10.1109/SLT.2018.8639573', '10.1109/FIE.2018.8658642', '10.1080/10618600.2020.1870480', '10.1080/23737484.2020.1752849', '10.1038/s42256-018-0015-y', '10.1137/17M1150669', '10.1142/S1469026818500086', '10.1109/ALLERTON.2018.8635955', '10.1145/3302505.3310068', '10.1007/978-3-030-24409-5_3', '10.1109/ICASSP.2019.8682668', '10.1109/ITSC.2018.8569568', '10.1007/978-3-030-00919-9_25', '10.1109/JSEN.2017.2736785', '10.5281/zenodo.1467770', '10.1093/bioinformatics/bty702', '10.1109/TGRS.2018.2852302', '10.1109/TSP.2014.2369000', '10.1145/3371924', '10.1109/IJCNN48605.2020.9206900', '10.1145/3316781.3317825', '10.1088/1742-6596/898/9/092041', '10.1007/978-3-030-03405-4_46', '10.1145/3302424.3303953', '10.1109/JIOT.2018.2872441', '10.1145/3237192', '10.1016/j.engappai.2018.06.012', '10.1109/ICMLA.2017.00-68', '10.1109/CAHPC.2018.8645881', '10.1109/IPDPS.2019.00056', '10.18653/v1/W16-3643', '10.18653/v1/W17-2001', '10.1109/ICARCV.2018.8581309', '10.1016/j.future.2020.10.002', '10.1371/journal.pone.0204920', '10.1088/1742-5468/ab3456', '10.1016/j.isprsjprs.2018.03.018', '10.1103/PhysRevE.98.062313', '10.1080/00401706.2018.1529628', '10.1063/1.5099132', '10.1103/PhysRevResearch.2.033125', '10.1017/nws.2019.59', '10.1007/978-3-319-74030-0_2', '10.1007/s00440-020-00982-x', '10.1016/j.amc.2018.12.055', '10.1002/nbm.4225', '10.1016/j.jcp.2019.05.008', '10.1109/SEAA.2018.00018', '10.1371/journal.pone.0191527', '10.1017/9781009025096.003', '10.1145/3240508.3240597', '10.1016/j.isprsjprs.2017.12.007', '10.1016/j.ins.2019.02.017', '10.1109/ACCESS.2018.2859756', '10.3390/e21121152', '10.1109/JSTSP.2019.2901664', '10.1016/j.compag.2018.02.016', '10.1287/ijoc.2021.1091', '10.1109/TSC.2019.2928551', '10.1007/978-3-030-33676-9_40', '10.1007/978-3-030-15719-7_27', '10.1093/gji/ggz204', '10.1093/bioinformatics/btz027', '10.1109/SSCI.2018.8628637', '10.1016/j.cviu.2019.102799', '10.1109/ICOMET.2018.8346383', '10.21437/Interspeech.2018-2516', '10.5281/zenodo.1474575', '10.1145/3270323.3270328', '10.1109/BigData.2017.8257987', '10.3389/fnbot.2018.00068', '10.1016/j.cviu.2014.12.005', '10.1103/PhysRevLett.124.108301', '10.1109/JSTARS.2019.2925416', '10.1109/LSP.2019.2891134', '10.1137/17M1153157', '10.1145/3130800.3130816', '10.1109/DASC-PICom-DataCom-CyberSciTec.2017.39', '10.1007/s11192-018-2865-9', '10.1109/EUVIP.2018.8611701', '10.1007/s10994-018-5751-z', '10.1007/s10618-019-00655-x', '10.1007/s11263-019-01217-w', '10.14778/3229863.3236234', '10.3390/s18082485', '10.1109/TSP.2019.2919404', '10.1109/TEVC.2019.2890858', '10.4230/LIPIcs.FSTTCS.2017.2', '10.1063/1.5048199', '10.13140/RG.2.2.18890.00965', '10.1109/TSP.2018.2869116', '10.18653/v1/K18-1032', '10.1109/BIOCAS.2018.8584808', '10.1109/UEMCON.2018.8796769', '10.1109/JSAC.2019.2904352', '10.1111/coin.12236', '10.1029/2018GL080404', '10.1103/PhysRevLett.120.268103', '10.1109/TPAMI.2020.2998120', '10.1109/TNNLS.2018.2868835', '10.1145/3240508.3240528', '10.1109/ICSA-C.2018.00025', '10.1111/cgf.13973', '10.1007/s10489-018-1266-3', '10.1061/(ASCE)CO.1943-7862.0001520', '10.4208/eajam.181118.250219', '10.1016/j.physd.2019.132306', '10.1109/MEMSYS.2017.7863416', '10.1109/LSP.2019.2929440', '10.1142/S2424922X19500062', '10.1063/1.5011399', '10.1109/LSP.2018.2790901', '10.1145/3269206.3271677', '10.1145/3209978.3209981', '10.1145/3219819.3219947', '10.1109/TMI.2018.2877080', '10.1142/S0219749920500069', '10.1109/TMI.2019.2922960', '10.1038/s41598-019-38748-8', '10.1017/jfm.2018.898', '10.1109/TCYB.2018.2871120', '10.3389/fams.2018.00061', '10.1109/TSP.2019.2904921', '10.1007/978-3-030-05051-1_33', '10.1364/JOSAB.35.000617', '10.1088/1742-5468/aab051', '10.1007/978-3-030-01424-7_19', '10.1109/TCOMM.2019.2926715', '10.1002/mp.13300', '10.1145/3306195.3306196', '10.1016/j.gaitpost.2017.11.019', '10.23919/ECC.2018.8550162', '10.1109/TPAMI.2017.2648786', '10.1109/JSTSP.2018.2867446', '10.1007/s11063-020-10234-7', '10.1109/DSN.2014.51', '10.1145/3152494.3152512', '10.1109/TNNLS.2019.2939861', '10.1109/QoMEX.2018.8463424', '10.13140/RG.2.2.32311.78245', '10.1109/TGRS.2017.2767205', '10.1140/epje/i2017-11602-9', '10.1145/1389095.1389382', '10.1109/JPROC.2018.2856739', '10.1145/3289600.3291005', '10.1016/j.inffus.2017.02.010', '10.1109/IWW-BCI.2018.8311531', '10.1109/CVPR.2018.00973', '10.1016/j.neucom.2018.06.056', '10.1016/j.neuroimage.2018.08.042', '10.1109/FOCS.2018.00056', '10.1145/3240508.3240707', '10.1145/2598394.2602287', '10.1109/IWW-BCI.2018.8311493', '10.1109/TEVC.2013.2285111', '10.1109/LSP.2018.2880284', '10.1109/IJCNN.2011.6033350', '10.1109/IJCNN.2017.7966355', '10.1371/journal.pone.0205392', '10.1609/aaai.v32i1.11823', '10.1109/IJCNN.2015.7280815', '10.13140/RG.2.2.10332.95364', '10.1016/j.nimb.2020.09.011', '10.1007/978-3-030-30493-5_52', '10.1145/3269206.3271672', '10.1109/TWC.2021.3087191', '10.1109/TSP.2018.2827328', '10.1007/978-3-319-68612-7_33', '10.1145/3243734.3243824', '10.1137/18M1203626', '10.5281/zenodo.3249394', '10.14778/3157794.3157797', '10.1007/s10489-022-04370-x', '10.1016/j.jcss.2019.12.006', '10.1109/TMC.2020.2999852', '10.1002/minf.202000212', '10.1007/s11517-020-02155-3', '10.1109/ICDMW.2017.8', '10.1109/TSIPN.2018.2863218', '10.1007/s00162-018-0480-2', '10.1073/pnas.1814462116', '10.1111/cgf.13628', '10.7566/JPSJ.87.033001', '10.1016/j.spl.2018.03.016', '10.1063/1.5019675', '10.1088/1742-6596/1207/1/012013', '10.5281/zenodo.1207631', '10.18178/ijmlc.2018.8.4.703', '10.1609/aaai.v33i01.3301346', '10.1109/BIBM.2018.8621225', '10.1109/IOLTS.2019.8854425', '10.1109/TSP.2018.2816568', '10.1007/s10994-020-05897-1', '10.21437/Interspeech.2018-1121', '10.1016/j.patcog.2018.10.026', '10.1145/3442188.3445892', '10.1145/3269206.3271798', '10.21437/Interspeech.2019-2878', '10.5120/ijca2017916055', '10.13140/RG.2.2.20222.79688', '10.1017/S1351324919000202', '10.1137/18M1233339', '10.1109/TNNLS.2018.2880403', '10.1109/TCBB.2019.2911609', '10.1109/DSAA.2016.10', '10.1145/3219819.3219944', '10.1017/jfm.2018.872', '10.1103/PhysRevResearch.2.033375', '10.1073/pnas.1717042115', '10.1007/s10618-018-0575-9', '10.1109/CSITSS.2017.8447534', '10.1109/ISCSLP.2018.8706604', '10.1109/IOLTS.2019.8854377', '10.1109/MMRP.2019.00022', '10.1016/j.trc.2018.10.011', '10.1109/JETCAS.2017.2771529', '10.1145/3276501', '10.1109/CSCI.2017.46', '10.1177/0361198119849059', '10.1073/pnas.1820003116', '10.1093/bioinformatics/bty374/4994792', '10.1109/DSAA.2018.00037', '10.1007/s10994-018-5713-5', '10.1016/j.neunet.2019.04.020', '10.1109/BigData.2018.8621990', '10.23919/EUSIPCO.2019.8902709', '10.1109/TPAMI.2020.2981604', '10.1016/j.ins.2021.01.022', '10.1016/j.neucom.2020.01.011', '10.1007/978-3-030-04221-9_37', '10.1109/ACCESS.2020.2996936', '10.1109/MAES.2019.2915456', '10.1109/ICPR.2014.221', '10.1038/s41592-018-0308-4', '10.1109/ICASSP40776.2020.9053409', '10.1109/IJCNN.2018.8489244', '10.1109/TKDE.2021.3106804', '10.1007/978-981-15-5093-5_11', '10.3847/1538-4357/aaa1f2', '10.1103/PhysRevD.97.014021', '10.1109/LSP.2018.2867800', '10.18653/v1/D18-1399', '10.1109/RAICS.2018.8634903', '10.1145/3269206.3271737', '10.1016/j.neunet.2021.03.035', '10.1109/TKDE.2018.2846252', '10.1109/CVPRW.2018.00298', '10.1007/978-3-319-99978-4_17', '10.3390/info10080261', '10.1109/TVCG.2018.2864500', '10.1007/978-981-10-6571-2_252', '10.1145/3167132.3167226', '10.1007/978-981-15-5093-5_13', '10.1145/3297001.3297020', '10.1016/j.acha.2021.05.004', '10.1109/ICSPIS.2016.7869900', '10.1109/ISBI.2018.8363762', '10.1145/3219819.3219826', '10.18653/v1/D19-1335', '10.1371/journal.pone.0221319', '10.1145/3242969.3243014', '10.1109/TCCN.2019.2919300', '10.1016/j.ins.2018.09.001', '10.18653/v1/W18-6502', '10.1109/SPMB.2016.7846854', '10.1007/978-3-030-12939-2_45', '10.1090/memo/1410', '10.1016/j.physletb.2020.135798', '10.1371/journal.pcbi.1007129', '10.1109/TVT.2018.2793889', '10.1103/PhysRevA.98.010701', '10.1007/978-3-030-11726-9_12', '10.3844/ajeassp.2018.1310.1319', '10.1109/TPDS.2022.3146195', '10.1016/j.asr.2018.03.001', '10.5120/ijca2018917319', '10.1103/PhysRevD.101.076015', '10.1016/j.neunet.2020.03.009', '10.28945/4184', '10.1137/19M125649X', '10.1109/INISTA.2016.7571823', '10.14778/3236187.3236188', '10.1109/IVS.2018.8500427', '10.1109/IROS.2018.8594092', '10.1109/TKDE.2019.2947676', '10.1016/j.jcp.2018.04.018', '10.1145/3159652.3159687', '10.1109/JBHI.2019.2925036', '10.1109/ICTER.2018.8615485', '10.1109/TG.2018.2877047', '10.1109/HRI.2019.8673267', '10.1109/ICSC.2018.00029', '10.1051/0004-6361/201732134', '10.1109/TPAMI.2018.2868195', '10.1088/1361-6420/ab2e2a', '10.1145/3236024.3236066', '10.1038/s41467-019-08931-6', '10.1109/LSP.2018.2880285', '10.1016/j.inffus.2020.03.007', '10.24963/ijcai.2018/214', '10.1007/s10618-019-00619-1', '10.1016/j.joi.2019.02.011', '10.1109/TSP.2019.2905826', '10.1145/3287560.3287595', '10.1088/1742-5468/ab3196', '10.1109/TNNLS.2019.2933524', '10.1109/Humanoids43949.2019.9035016', '10.5121/ijaia.2021.12606', '10.1021/acscentsci.9b00576', '10.1007/s10994-018-5736-y', '10.1109/LSP.2019.2906929', '10.1145/3272127.3275009', '10.1145/3341161.3342942', '10.1016/j.jcp.2018.08.036', '10.1016/j.media.2021.101997', '10.1109/BigData.2017.8258139', '10.1145/3240765.3264699', '10.1109/TPAMI.2020.2970410', '10.1007/s11063-019-10184-9', '10.1109/TSP.2018.2807422', '10.1109/TSP.2018.2868322', '10.1103/PhysRevA.100.012106', '10.1007/978-3-030-05411-3_19', '10.1109/ICRA.2019.8793512', '10.1080/01621459.2020.1740711', '10.1109/ICMLA.2017.0-158', '10.1109/ICMLA.2018.00133', '10.1145/3178876.3186146', '10.1145/3240508.3240567', '10.1145/3230833.3230835', '10.1109/ACCESS.2019.2929078', '10.1109/ACCESS.2019.2912823', '10.1109/IJCNN.2017.7965877', '10.1145/3306346.3322959', '10.1145/3308558.3313644', '10.1088/1367-2630/abdefa', '10.1109/ICDL-EpiRob44920.2019', '10.2352/ISSN.2470-1173.2018.15.COIMG-199', '10.1109/CEEICT.2018.8628041', '10.1109/CEEICT.2018.8628078', '10.1109/CEEICT.2018.8628144', '10.1109/CEEICT.2018.8628138', '10.1016/j.neunet.2018.07.006', '10.1145/3219819.3219845', '10.1007/s10278-019-00265-5', '10.1145/3240508.3240668', '10.1093/comnet/cny034', '10.1093/mnras/stz602', '10.1287/deca.2015.0321', '10.1016/j.neucom.2018.12.060', '10.1007/s13042-019-01055-9', '10.1162/tacl_a_00288', '10.1109/TIP.2019.2937734', '10.1109/TVT.2019.2913865', '10.1109/TPAMI.2018.2855738', '10.1145/3287560.3287566', '10.1137/19M1290760', '10.1109/DSAA.2017.43', '10.1109/ICASSP.2018.8461418', '10.1007/978-3-319-70096-0_49', '10.22331/q-2020-08-24-310', '10.1109/ICIAI.2019.8850794', '10.1109/ISETC.2018.8583854', '10.1016/j.dcan.2017.10.002', '10.1145/3298689.3347055', '10.1007/s11128-019-2240-7', '10.3233/ida-184333', '10.1109/TSP.2018.2864660', '10.1109/ICRA40945.2020.9196633', '10.1007/s10994-019-05812-3', '10.1088/1742-5468/aac910', '10.1088/1742-5468/aabc7d', '10.1145/3274783.3274840', '10.1007/978-3-030-04239-4_7', '10.1016/j.renene.2018.08.101', '10.1016/j.cviu.2019.102795', '10.1038/s41467-020-19964-7', '10.1016/j.neunet.2019.01.012.', '10.1007/s11590-019-01509-7', '10.1109/TSP.2018.2883025', '10.1016/j.media.2019.101552', '10.1145/3319535.3354222', '10.1016/j.ijar.2018.11.002', '10.1109/DSAA.2018.00034', '10.1145/3360774.3360780', '10.1109/TASLP.2019.2915167', '10.1109/ICDMW.2018.00008', '10.1002/wics.1403', '10.23919/JSC.2021.0029', '10.1109/TCSVT.2019.2935128', '10.1088/1361-6463/aafa3c', '10.1109/MNET.2019.1800286', '10.1186/s12859-019-2813-6', '10.1109/TSP.2018.2876325', '10.1007/978-3-030-45442-5_31', '10.2478/popets-2019-0070', '10.1093/mnras/stz915', '10.1103/PhysRevE.98.052108', '10.1162/neco_a_01064', '10.1109/IPDPS.2019.00095', '10.1145/3211954.3211957', '10.1063/1.5043303', '10.1021/acs.jcim.8b00542', '10.1016/j.jcp.2019.01.030', '10.1109/LSP.2018.2860242', '10.1007/s10472-019-09644-8', '10.1145/3178876.3186028', '10.1109/IJCNN.2019.8852384', '10.1137/18M1215682', '10.1109/TSP.2019.2937282', '10.1088/2632-072X/abe6e9', '10.1109/JPROC.2018.2853141', '10.1109/TAC.2018.2867358', '10.1109/ELNANO.2018.8477564', '10.1109/WACV.2019.00073', '10.3982/ECTA16901', '10.1145/3269206.3271774', '10.1145/3219819.3220075', '10.1287/moor.2020.1052', '10.21437/Interspeech.2018-1377', '10.1109/ICIP.2018.8451656', '10.1007/978-3-030-01418-6_49', '10.1145/3209978.3210107', '10.1109/TSP.2018.2883021', '10.1109/TKDE.2017.2775228', '10.1145/3308558.3313416', '10.1109/TIT.2022.3185232', '10.1109/IJCNN.2019.8851705', '10.1109/TNSRE.2019.2896659', '10.1007/978-3-319-68612-7_40', '10.1016/j.engappai.2020.103915', '10.1145/3269206.3271739', '10.1007/978-3-030-23182-8_5', '10.5194/isprs-archives-XLII-1-93-2018', '10.1109/FIT.2017.00070', '10.1021/acs.jctc.9b00986', '10.5121/ijdms.2018.10101', '10.1103/PhysRevE.98.022116', '10.3390/math9172144', '10.1109/HPEC.2019.8916385', '10.1109/TBME.2019.2931195', '10.1145/3183399.3183427', '10.1145/3178876.3186120', '10.22331/q-2021-11-24-587', '10.1016/j.patcog.2018.07.037', '10.1007/s10916-018-1072-9', '10.1038/s41467-019-12490-1', '10.1007/s11590-019-01434-9', '10.1088/1751-8121/ab8244', '10.1109/tpami.2021.3133763', '10.1007/s11548-019-01984-4', '10.1137/18M1167978', '10.1145/3386569.3392457', '10.1016/j.jmr.2020.106790', '10.1016/j.asoc.2018.07.029', '10.1145/3300971', '10.1049/iet-spr.2018.5220', '10.1103/PhysRevLett.124.010508', '10.1109/TPWRS.2019.2948132', '10.1016/j.physa.2018.12.036', '10.2197/ipsjjip.28.427', '10.1145/3211346.3211348', '10.1109/IJCNN.2019.8852133', '10.1016/j.cviu.2019.102863', '10.1049/iet-net.2018.5080', '10.1038/s41598-020-57897-9', '10.1109/ICIP.2018.8451736', '10.1016/j.neunet.2022.03.019.', '10.1145/3210284.3220503', '10.1007/s10994-020-05877-5', '10.1371/journal.pone.0225759', '10.1609/aaai.v33i01.33019428', '10.1002/cmdc.201900458', '10.1162/neco_a_01248', '10.1109/TFUZZ.2019.2895572', '10.1109/ICASSP.2019.8683483', '10.1103/PRXQuantum.1.010301', '10.1109/LSP.2018.2859596', '10.1109/BigData.2018.8621953', '10.1007/s41109-019-0194-4', '10.1016/j.neucom.2019.05.099', '10.1016/j.physrep.2019.03.001', '10.1103/PhysRevLett.122.065301', '10.1145/3297280.3297300', '10.1109/BigData.2018.8622307', '10.1007/s10851-019-00935-7', '10.1145/3127873', '10.1007/s11257-018-9209-6', '10.1109/TCYB.2020.2977374', '10.1126/sciadv.aax377', '10.21437/Interspeech.2017-1314', '10.1103/PhysRevA.100.012304', '10.1007/s11227-018-2236-6', '10.1109/SPW.2018.00013', '10.1007/978-3-030-16621-2_17', '10.1029/2018MS001597', '10.1016/j.ecolmodel.2014.01.030', '10.1038/s41467-018-07090-4', '10.3844/jcssp.2017.408.415', '10.1109/ACCESS.2018.2890150', '10.1016/j.patcog.2020.107310', '10.1162/EVCO_a_00118', '10.1088/2058-9565/aaea94', '10.1145/3269206.3271690', '10.1016/j.acha.2019.06.003', '10.1016/j.engappai.2019.103455', '10.1017/S0956792520000157', '10.4204/EPTCS.286.5', '10.1007/978-3-030-23250-4_7', '10.1063/1.5120710', '10.1109/SMC.2018.00491', '10.1109/TSP.2020.2981904', '10.1145/3306618.3314253', '10.1145/2382577.2382580', '10.1145/3318464.3386146', '10.32614/RJ-2018-072', '10.1109/MCOM.2019.1800565', '10.1109/TCYB.2019.2932096', '10.1021/acs.molpharmaceut.9b00520', '10.1007/s00332-019-09570-3', '10.3389/fphy.2020.586374', '10.1109/TPAMI.2021.3054830', '10.1016/j.patcog.2019.107030', '10.1080/10618600.2019.1629943', '10.1145/3219819.3219882', '10.1109/IWCIA.2013.6624799', '10.3390/risks7030097', '10.1051/0004-6361/201834237', '10.1155/2017/5681308', '10.1137/19M1263340', '10.1109/PMAPS.2018.8440373', '10.1016/j.artint.2021.103458', '10.5220/0006835502850293', '10.1080/24725579.2019.1673521', '10.1088/1742-5468/ab633c', '10.1109/ICASSP.2019.8682197', '10.1007/978-3-030-01237-3_12', '10.1002/widm.1301', '10.1007/s11128-019-2311-9', '10.1109/TVCG.2020.2985689', '10.1287/mnsc.2021.02567', '10.1109/IPDPS54959.2023.00034', '10.3390/e22030296', '10.1109/TCYB.2018.2871503', '10.1109/TSE.2019.2940179', '10.1109/JBHI.2018.2887067', '10.15607/RSS.2019.XV.028', '10.1109/LRA.2018.2856525', '10.1145/3444943', '10.1103/PhysRevB.102.054107', '10.1109/TPWRS.2019.2920915', '10.1007/s13042-020-01137-z', '10.1145/3357223.3362707', '10.1145/3269206.3271684', '10.1109/IJCNN.2019.8852024', '10.1093/nsr/nwz190', '10.1109/IJCNN52387.2021.9534228', '10.1103/PhysRevB.99.155131', '10.1109/JSTSP.2018.2875385', '10.1109/ACCESS.2019.2955712', '10.1109/LAWP.2019.2927543', '10.1504/IJOGCT.2021.10035081', '10.5220/0007695709730979', '10.1007/978-3-030-45093-9_43', '10.1137/1.9781611974010.22', '10.1109/ICASSP40776.2020.9053985', '10.23919/EUSIPCO.2018.8552958', '10.1371/journal.pone.0212103', '10.1080/2326263X.2018.1552357', '10.1007/978-3-030-46147-8_39', '10.24926/548719.073', '10.1007/s41060-018-0116-z', '10.22161/ijaers.5.12.40', '10.1364/AO.58.003179', '10.2478/jee-2019-0056', '10.1287/trsc.2019.0920', '10.1109/ICALIP.2018.8455505', '10.1103/PhysRevD.100.034515', '10.1007/s10994-019-05864-5', '10.3233/IDA-163209', '10.1371/journal.pone.0228962', '10.1109/ICMLA.2019.00181', '10.1145/3197517.3201307', '10.1109/ICDM.2017.80', '10.1073/pnas.1900654116', '10.1613/jair.1.13225', '10.1109/TVCG.2019.2934396', '10.1016/j.compbiomed.2020.103731', '10.1007/978-3-030-13709-0_22', '10.1126/science.aat8084', '10.13140/RG.2.2.32101.65765', '10.13140/RG.2.2.32856.96007', '10.1109/IJCNN.2019.8852348', '10.1016/j.patcog.2018.12.022', '10.1007/978-3-030-43823-4_26', '10.1109/PRNI.2018.8423944', '10.1007/978-3-030-43465-6_18', '10.1109/TPAMI.2020.2990820', '10.1109/ICAPR.2017.8593079', '10.1109/JSTSP.2018.2877842', '10.1145/3093742.3093920', '10.1109/TNSRE.2019.2894914', '10.1016/j.jmps.2019.03.004', '10.1016/j.apenergy.2019.113409', '10.1007/s11128-020-2606-x', '10.1109/TSP.2019.2908906', '10.13140/RG.2.2.24831.10403', '10.1145/3210284.3220509', '10.1109/BigData.2017.8258000', '10.1145/3403572', '10.13140/RG.2.2.28868.48002', '10.1109/GLOBECOM38437.2019.9013892', '10.1007/978-3-319-95582-7_27', '10.1109/WACV.2019.00075', '10.3390/make1010016', '10.1016/j.ejor.2020.08.045', '10.1109/TPAMI.2019.2945942', '10.1109/BigData.2018.8622136', '10.1007/978-3-030-17798-0', '10.7717/peerj.6257', '10.1145/3289600.3291033', '10.1109/IROS.2018.8593883', '10.1017/9781108860604', '10.1145/3206098.3206111', '10.1109/IJCNN.2018.8489466', '10.1038/s42256-018-0009-9', '10.13140/RG.2.2.22632.78088/1', '10.1109/ICASSP.2019.8683438', '10.24963/ijcai.2019/551', '10.1007/s10586-019-02906-4', '10.1007/978-3-319-66179-7_54', '10.1137/1.9781611975673.82', '10.5220/0007684106450652', '10.1109/ICASSP40776.2020.9054629', '10.1038/s41467-018-05469-x', '10.1109/MPRV.2018.03367731', '10.1016/j.neucom.2019.11.004', '10.1109/TMI.2019.2963865', '10.1007/s00500-021-05642-3', '10.1109/ICASSP.2019.8682488', '10.1109/ICASSP.2019.8682510', '10.1007/s10994-020-05940-1', '10.24963/ijcai.2020/369', '10.1016/j.pepi.2019.05.004', '10.1016/j.trc.2019.11.022', '10.1109/LRA.2019.2931179', '10.1109/TSP.2018.2885478', '10.1609/aaai.v33i01.33018142', '10.4208/cicp.OA-2020-0085', '10.1145/3336191.3371854', '10.1145/3308558.3313417', '10.1109/ACCESS.2020.3000895', '10.1109/CVPR42600.2020.00393', '10.1117/1.JRS.13.026508', '10.7566/JPSJ.88.061005', '10.1016/j.patcog.2019.03.016', '10.1145/3326128', '10.1109/VNC.2018.8628366', '10.24963/ijcai.2019/355', '10.1080/01621459.2020.1745812', '10.1109/ACCESS.2019.2960371', '10.1109/TPAMI.2020.2980827', '10.1145/3267809.3267840', '10.1145/3219819.3220078', '10.1016/j.micpro.2020.103122', '10.1109/ISIT.2019.8849227', '10.1007/s10851-019-00902-2', '10.1038/s41467-019-12898-9', '10.1016/j.cviu.2020.102969', '10.1145/3218603.3218643', '10.1145/3502733', '10.1016/j.patrec.2020.11.008', '10.5220/0007743604730480', '10.1007/s10462-019-09706-7', '10.1126/sciadv.aay6946', '10.1109/CDC.2009.5399685', '10.1145/3292500.3330929', '10.1016/j.adhoc.2019.101913', '10.13140/RG.2.2.19731.73762', '10.1016/j.jcp.2020.109281', '10.1145/3447548.3467115', '10.1109/TSP.2018.2881661', '10.1186/s12859-019-3119-4', '10.1073/pnas.1901326117', '10.1109/TGRS.2018.2828161', '10.1145/3306346.3322966', '10.1016/j.eswa.2021.115018', '10.1109/ACCESS.2020.2972859', '10.3233/FAIA200238', '10.1103/PhysRevE.99.062140', '10.1088/1751-8121/ab3f3f', '10.1016/j.petrol.2019.05.055', '10.1109/TNNLS.2020.3005167', '10.1126/scirobotics.aau5872', '10.1109/TASLP.2019.2938863', '10.3390/risks7010016', '10.1007/978-3-030-16841-4_7', '10.1109/ICMLA.2013.84', '10.1371/journal.pone.0212487', '10.1093/comnet/cnaa007', '10.1111/rssb.12537', '10.2118/195329-MS', '10.1016/j.rse.2019.111347', '10.1155/2018/4801012', '10.1007/s12559-019-09634-2', '10.1109/TNNLS.2020.3016078', '10.1109/LRA.2019.2945240', '10.1007/978-3-030-19738-4_33', '10.1007/s10915-021-01590-0', '10.48550/arXiv.1806.00582', '10.1088/1742-5468/ab43d2', '10.1016/j.trc.2018.09.002', '10.1145/3295500.3356156', '10.1109/ICMLA.2019.00125', '10.1109/LSP.2018.2860238', '10.1109/MSP.2018.2887284', '10.1007/s00034-020-01486-8', '10.1145/3287560.3287572', '10.4172/2169-0316.1000278', '10.1109/CDC40024.2019.9142286', '10.1038/s41746-018-0070-0', '10.23919/APSIPA.2018.8659587', '10.1073/pnas.1818908116', '10.18653/v1/D19-1522', '10.5220/0007566307940800', '10.1007/978-3-030-30487-4_16', '10.1109/IROS40897.2019.8968205', '10.1016/j.jbi.2021.103672', '10.1016/j.media.2018.06.001', '10.1007/978-3-030-55304-3_14', '10.1109/IJCNN.2019.8852242', '10.14445/22315381/IJETT-V66P218', '10.1109/LSP.2019.2953638', '10.1109/IJCNN.2019.8851907', '10.1145/3419111.3421299', '10.1109/ICASSP.2019.8682539', '10.3390/e21050511', '10.1093/bioinformatics/btz531', '10.1109/ICIT.2018.8352405', '10.1109/LCSYS.2018.2843682', '10.1089/cmb.2018.0175', '10.1093/bioinformatics/btz373', '10.1109/TEVC.2022.3144134', '10.1145/3322640.3326714', '10.1016/j.cpc.2019.06.007', '10.1145/3219819.3220042', '10.1109/TNSRE.2020.2966249', '10.1080/08839514.2020.1718343', '10.1109/3DV.2019.00061', '10.1145/3219819.3220102', '10.1109/ICWS49710.2020.00029', '10.35940/ijitee.J9626.119119', '10.1109/PRIA.2019.8786010', '10.1088/1367-2630/ab5c5e', '10.1016/j.patcog.2020.107660', '10.1016/j.knosys.2020.106230.', '10.1016/j.patrec.2018.08.004', '10.1109/EMBC.2018.8512578', '10.1016/j.neucom.2019.10.074', '10.1109/IJCNN.2019.8852112', '10.4229/EUPVSEC20172017-6DP.2.4', '10.18653/v1/K19-2011', '10.1016/j.neunet.2018.07.015', '10.1109/JSAC.2019.2934001', '10.1016/j.ijar.2021.10.002', '10.1109/WCNC.2019.8885534', '10.1016/j.automatica.2020.109158', '10.1016/j.heliyon.2020.e03444', '10.1145/3205651.3205763', '10.1038/s41592-019-0622-5', '10.1016/j.ins.2018.10.052', '10.1016/j.neucom.2020.03.123', '10.1109/TNSE.2019.2913949', '10.1109/SMC.2018.00185', '10.1016/j.ejtl.2020.100004', '10.1609/aaai.v33i01.33015183', '10.1016/j.trc.2020.102662', '10.1504/IJOGCT.2021.10035077', '10.1109/IVS.2019.8814181', '10.1109/TVCG.2019.2934812', '10.1109/ACCESS.2019.2941088', '10.1145/3178876.3186030', '10.1016/j.neunet.2020.07.026', '10.1016/j.artint.2019.103216', '10.3389/frai.2020.00003', '10.1007/978-3-030-73973-7_1', '10.1007/978-3-030-11027-7_24', '10.1007/978-3-030-19642-4_19', '10.1109/ICECAI62591.2024.10674884', '10.1007/978-3-030-10925-7_41', '10.1039/C9SC00616H', '10.1613/jair.1.11541', '10.1109/TPAMI.2020.3009862', '10.1609/aaai.v34i04.6014', '10.1145/3297858.3304009', '10.18637/jss.v099.i05', '10.1145/3219819.3219896', '10.1109/JSTSP.2018.2877584', '10.1109/IJCNN48605.2020.9207297', '10.1109/TBDATA.2019.2907985', '10.1109/ICBDA.2019.8713213', '10.1109/TKDE.2020.2978199', '10.1016/j.diin.2018.04.024', '10.1109/TMI.2018.2851607', '10.18122/cs_facpubs/177/boisestate', '10.1109/ICDM.2006.167', '10.1016/j.inffus.2018.09.012', '10.1007/978-3-030-20351-1_20', '10.1109/SOCC.2018.8618542', '10.1007/s10458-020-09459-6', '10.1145/3319619.3321894', '10.1109/ICASSP.2019.8682601', '10.1145/3238147.3238165', '10.1016/j.cose.2018.07.001', '10.1109/SLT.2018.8639546', '10.1613/jair.1.14314', '10.1109/IOTAIS.2018.8600824', '10.1029/2018WR023333', '10.1029/2018WR023528', '10.1109/BigData.2018.8622303', '10.3390/e22030291', '10.1109/TNET.2021.3109097', '10.1145/3292500.3330964', '10.1109/LSP.2019.2953810', '10.3389/fnins.2019.00753', '10.1016/j.jbi.2018.06.016', '10.1186/s13321-019-0404-1', '10.1109/TNNLS.2020.3019893', '10.1016/j.asoc.2019.03.057', '10.1016/j.neunet.2020.06.005', '10.1016/j.pmcj.2018.06.011', '10.5220/0007364503720380', '10.1137/1.9781611975673.35', '10.1080/08839514.2019.1630148', '10.1088/1742-5468/abcaf2', '10.1145/3308558.3313693', '10.1109/LGRS.2018.2804888', '10.1016/j.media.2019.101619', '10.1016/j.neucom.2019.12.068', '10.18653/v1/S19-2165', '10.1145/3308558.3313437', '10.1145/3308558.3313743', '10.1109/TCAD.2018.2857019', '10.1109/ACCESS.2018.2875412', '10.3233/FAIA200321', '10.1016/j.neucom.2019.10.008', '10.3389/fpls.2019.00621', '10.1093/comnet/cnaa026', '10.1109/TAFFC.2020.2981610', '10.1007/s10115-015-0858-z', '10.1145/3359992.3366638', '10.1007/s10618-010-0188-4', '10.1109/ACCESS.2019.2919463', '10.3389/fnins.2020.00007', '10.1007/978-3-030-01201-4_32', '10.1145/3219819.3220006', '10.1109/MLSP.2018.8517024', '10.1063/1.5092521', '10.1109/ICIP.2019.8803554', '10.1016/j.cirpj.2019.11.003', '10.1109/ICIEV.2014.6850685', '10.1109/IJCNN.2017.7966140', '10.1016/j.jpdc.2019.07.015', '10.1038/s41524-020-0276-y', '10.1109/ICCCNT.2018.8494011', '10.1145/3292500.3330775', '10.1109/TIT.2020.2964547', '10.1016/j.jcp.2019.05.053', '10.1103/PhysRevLett.124.020503', '10.1016/j.jcp.2018.12.037', '10.1007/s10489-019-01450-3', '10.1214/20-BA1234', '10.1007/978-3-030-30281-8_20', '10.1145/3292500.3330655', '10.1109/AIKE.2018.00028', '10.3390/s19040974', '10.1007/978-3-030-05918-7_27', '10.1109/TSP.2019.2901370', '10.1109/TMI.2019.2919951', '10.1093/bioinformatics/btaa179', '10.1109/TVCG.2021.3057483', '10.13140/RG.2.2.28091.46880', '10.1007/s41781-020-00038-8', '10.1109/ISIT.2018.8437722', '10.1007/978-3-030-46133-1_1', '10.1109/ICMLA.2019.00055', '10.1080/07474938.2020.1735750', '10.1109/TVCG.2018.2864499', '10.1109/TMM.2019.2944214', '10.1145/3374135.3385287', '10.1109/ICASSP.2019.8682901', '10.1016/j.neunet.2019.01.015', '10.1109/JLT.2019.2923615', '10.6339/21-JDS996', '10.1109/TSP.2019.2932875', '10.3233/FAIA200280', '10.1109/ICASSP.2015.7178308', '10.1145/3292500.3330781', '10.1145/3302505.3310070', '10.1109/ICMLA.2018.00113', '10.1145/3329486.3329491', '10.1109/MC.2018.2880015', '10.1371/journal.pone.0212439', '10.1109/ICDMW.2018.00152', '10.1007/s11042-018-6628-7', '10.1109/ICIP.2019.8803335', '10.1145/3292500.3330966', '10.1016/j.patrec.2011.10.022', '10.1016/j.jcp.2019.03.039', '10.1145/3292500.3330909', '10.1109/LGRS.2019.2943001', '10.1109/TMI.2019.2899534', '10.1007/978-3-030-46147-8_43', '10.1103/PhysRevA.99.052306', '10.1088/1361-6420/ab1c3a', '10.1109/ACCESS.2018.2873315', '10.1038/s41598-020-73246-2', '10.1109/TNNLS.2018.2830119', '10.1016/j.neunet.2019.09.040', '10.1088/1748-0221/14/01/P01011', '10.1145/3197026.3197036', '10.1016/j.mri.2019.04.013', '10.1080/10618600.2020.1826954', '10.1016/j.jpdc.2019.05.016', '10.1016/j.jcp.2019.03.040', '10.5281/zenodo.2390979', '10.1007/978-3-030-46150-8_8', '10.1038/s41598-021-83405-8', '10.1109/TNNLS.2019.2952029', '10.1016/j.neunet.2020.01.010', '10.1109/ICASSP.2019.8682639', '10.1109/TPAMI.2018.2866051', '10.4208/cicp.OA-2020-0165', '10.3390/e22101100', '10.1145/3357729.3357748', '10.1109/ACCESS.2018.2888575', '10.1109/JSAC.2019.2933966', '10.1016/j.compchemeng.2019.01.007', '10.1145/3328912', '10.1145/3213846.3213858', '10.1016/j.inffus.2018.07.007', '10.1016/j.bspc.2020.102037', '10.1109/TIV.2019.2955905', '10.1016/j.trc.2019.12.005', '10.1109/ICTON.2019.8840250', '10.1126/sciadv.aav1478', '10.1137/19M1282386', '10.1088/1742-5468/abc62b', '10.1109/LSP.2019.2919943', '10.1103/PhysRevA.100.052327', '10.1038/s41467-019-10663-6', '10.3390/e21121236', '10.1109/ICASSP.2019.8683641', '10.1109/ICCV.2019.00731', '10.1016/j.cpc.2019.02.004', '10.1016/j.trc.2019.07.006', '10.1098/rspa.2020.0097', '10.4204/EPTCS.305.10', '10.1155/2017/7479140', '10.1109/TBCAS.2019.2948920', '10.1145/3240508.3240713', '10.6084/m9.figshare.6993308', '10.1109/TSP.2023.3267992', '10.4467/20838476SI.18.004.10409', '10.1145/3308558.3313426', '10.1140/epjc/s10052-019-7113-9', '10.1145/3292500.3330870', '10.1007/978-3-030-86486-6_40', '10.1109/devlrn.2015.7346130', '10.1088/0253-6102/71/2/243', '10.1109/GlobalSIP.2016.7906054', '10.1109/ITSC.2019.8917011', '10.1587/nolta.11.454', '10.1145/3287560.3287597', '10.18653/v1/N19-3008', '10.1145/3302509.3311055', '10.1109/TSP.2020.2977458', '10.1002/essoar.10501294.1', '10.1515/demo-2019-0007', '10.1115/1.4044097', '10.1088/1361-6420/ac28ec', '10.1016/j.neunet.2020.03.003', '10.1109/LSP.2019.2915661', '10.1109/ACCESS.2019.2937680', '10.1109/TCBB.2019.2918774', '10.1109/TIFS.2019.2931068', '10.1109/ACCESS.2019.2904245', '10.1109/TSP.2019.2937289', '10.1007/s10618-019-00617-3', '10.1016/j.jcp.2019.01.036', '10.1007/978-3-030-01424-7_53', '10.3389/fneur.2019.00996', '10.17632/C7FJBXCGJ9.1', '10.1109/TBDATA.2020.2992755', '10.1007/s11036-018-1105-0', '10.1145/3190508.3190530', '10.1145/3269206.3269287', '10.1109/CEC.2016.7748347', '10.1016/j.knosys.2019.105153', '10.1080/10556788.2020.1754414', '10.1016/j.cma.2019.112602', '10.1007/s00034-016-0375-7', '10.1609/aaai.v33i01.33019939', '10.7717/peerj.11046', '10.1093/imaiai/iaaa013', '10.1145/3428293', '10.1145/3308558.3313415', '10.18653/v1/K18-1028', '10.1049/el.2018.7499', '10.1007/s10489-019-01421-8', '10.1145/3308558.3313621', '10.1093/mnras/stz582', '10.1007/978-3-030-44584-3_19', '10.1016/j.apsb.2018.09.010', '10.1145/3308558.3313658', '10.1109/TFUZZ.2019.2900856', '10.1016/j.knosys.2019.06.024', '10.1029/2018JB016674', '10.1109/ICIP.2018.8451026', '10.1088/1361-6579/ab6360', '10.1109/TCDS.2018.2882140', '10.24963/ijcai.2020/286', '10.1287/moor.2022.1283', '10.4204/EPTCS.277.19', '10.1145/3340531.3412778', '10.1016/j.robot.2019.02.007', '10.1145/3357384.3357890', '10.1007/978-3-030-32304-2_15', '10.1109/TIFS.2019.2911169', '10.1016/j.pss.2020.104943', '10.1109/ICIP.2018.8451356', '10.1109/ACCESS.2019.2938220', '10.1109/TVCG.2019.2934251', '10.1016/j.mattod.2020.06.010', '10.1007/978-3-030-04239-4_11', '10.1109/LRA.2019.2895266', '10.1016/j.neunet.2019.07.011', '10.1038/s41467-019-08987-4', '10.1109/LRA.2019.2895264', '10.1109/TVLSI.2021.3060509', '10.1145/3274694.3274706', '10.1016/j.engappai.2020.103946', '10.1145/3341110', '10.1007/978-3-319-63703-7_10', '10.1007/s11263-023-01753-6', '10.1016/j.eswa.2019.113090', '10.1142/S0217595918500070', '10.3390/app8112321', '10.24963/ijcai.2019/499', '10.1088/1751-8121/ab3e89', '10.1007/s41109-019-0232-2', '10.1109/TSG.2018.2878570', '10.1371/journal.pone.0220842', '10.1109/TVCG.2019.2934433', '10.1007/978-3-030-30493-5_48', '10.1109/CVPR.2019.01143', '10.1038/s41467-020-14454-2', '10.1109/TSP.2018.2872006', '10.1609/aaai.v33i01.33014098', '10.1109/ISTEL.2018.8661053', '10.1093/mnras/stz1222', '10.1007/s10462-020-09866-x', '10.1016/j.neunet.2019.06.001', '10.1145/3230833.3232818', '10.1109/SNPD.2018.8441123', '10.1007/978-3-030-11641-5_25', '10.1162/neco_a_01299', '10.15607/RSS.2019.XV.015', '10.3390/e24010059', '10.1016/j.apenergy.2019.113466', '10.1007/978-3-030-15923-8_11', '10.5194/isprs-archives-XLII-2-W10-9-2019', '10.1007/978-3-030-20351-1_63', '10.1109/ACCESS.2019.2916828', '10.1145/3316781.3317781', '10.1109/DCOSS.2019.00111', '10.1109/ACSSC.2017.8335372', '10.1016/j.scico.2020.102450', '10.1109/TSP.2019.2959240', '10.21437/Interspeech.2019-2225', '10.1063/1.5058063', '10.1109/TSP.2020.2977256', '10.1109/TSP.2020.3031073', '10.1109/ICDAR.2019.00064', '10.1007/978-3-030-11166-3_9', '10.1109/CEC.2015.7257254', '10.1145/3290605.3300311', '10.1088/1742-6596/1525/1/012097', '10.4310/CMS.2021.v19.n5.a1', '10.1088/2632-2153/aba947', '10.1002/mrm.27910', '10.1109/ICASSP.2017.7952451', '10.1145/3366423.3380154', '10.1007/978-3-030-30493-5_63', '10.1016/j.jcp.2019.108950', '10.1109/BigDataCongress.2018.00011', '10.1007/s10994-020-05910-7', '10.4230/LIPIcs.GIScience.2018.69', '10.1007/978-3-030-56150-5_11', '10.4310/CMS.2019.v17.n5.a11', '10.1007/s11116-020-10137-5', '10.1145/3269206.3271681', '10.1109/CIBCB.2019.8791489', '10.1109/CDC.2018.8619455', '10.1109/ICDMW.2018.00056', '10.1007/s11063-019-10074-0', '10.1145/3308558.3313508', '10.1016/j.knosys.2019.105187', '10.1145/3314221.3314633', '10.1103/PhysRevE.100.012115', '10.1109/ICIP.2017.8296359', '10.1093/biomet/asaa033', '10.1109/TKDE.2019.2903410', '10.5281/zenodo.2656681', '10.1109/ACCESS.2020.3041470', '10.1109/TCBB.2016.2617337', '10.24963/ijcai.2019/281', '10.5220/0007581508300836', '10.1007/978-3-030-01240-3_19', '10.3390/agronomy9120833', '10.1016/j.diin.2014.05.009', '10.1140/epjc/s10052-019-6869-2', '10.1115/1.4044229', '10.1109/LPT.2019.2902973', '10.1103/PhysRevLett.122.080602', '10.1111/cgf.13681', '10.1109/IROS40897.2019.8967820', '10.1063/1.5063533', '10.1016/j.procs.2019.12.228', '10.1109/ACCESS.2020.2999155', '10.1109/TGRS.2020.2988770', '10.1109/ICCWAMTIP47768.2019.9067510', '10.1007/978-3-030-58558-7_3', '10.1007/978-3-030-63836-8_25', '10.3389/fnins.2019.00793', '10.1145/3359789.3359801', '10.1007/978-3-030-13709-0_25', '10.5194/isprs-archives-XLII-1-101-2018', '10.1109/TCYB.2020.3015811', '10.4236/jsea.2015.83014', '10.1371/journal.pone.0216456', '10.1109/IROS40897.2019.8967996', '10.1016/j.ejor.2019.08.023', '10.1007/978-3-030-48332-6', '10.1016/j.eswa.2018.11.028', '10.1088/1367-2630/ab6065', '10.1007/978-3-030-20351-1_46', '10.1103/PhysRevD.102.096001', '10.1038/s42256-019-0080-x', '10.1016/j.is.2021.101871', '10.1007/978-3-642-23318-0_7', '10.1038/s41598-022-10794-9', '10.1109/TIP.2020.2980980', '10.1109/TFUZZ.2019.2917124', '10.1007/978-3-030-36711-4_35', '10.1016/j.neucom.2016.11.085', '10.14778/3317315.3317322', '10.1007/s11023-020-09517-8', '10.1007/978-3-030-25540-4_29', '10.1109/ICACCI.2017.8125811', '10.1007/978-3-030-00946-5_17', '10.1214/20-EJS1711', '10.1016/j.imu.2020.100313', '10.3390/jsan7030026', '10.1109/TNNLS.2020.3006467', '10.1109/IWCMC.2019.8766558', '10.1016/j.patcog.2021.107977', '10.1016/j.ins.2020.08.035', '10.1080/00401706.2020.1832582', '10.1109/TR.2020.3035084', '10.1609/aaai.v34i04.6002', '10.1121/1.5133944', '10.1007/s00162-020-00520-4', '10.1109/IJCNN48605.2020.9207533', '10.1109/TMI.2017.2781541', '10.1007/978-3-319-46723-8_40', '10.1109/ICENCO.2018.8636143', '10.23919/DATE.2019.8714977', '10.1002/mp.13627', '10.1145/3077136.3080838', '10.1109/ACCESS.2019.2903130', '10.1007/s00466-019-01723-1', '10.1039/C9ME00039A', '10.2514/1.G003724', '10.3847/1538-4365/ab1005', '10.1371/journal.pone.0219796', '10.1145/3308558.3313695', '10.1109/TCYB.2019.2915094', '10.1007/978-3-030-11012-3_15', '10.3390/e21080741', '10.1109/IJCNN.2018.8489094', '10.1109/ACCESS.2019.2937085', '10.1007/978-3-030-20521-8_40', '10.1016/j.cobme.2018.12.005', '10.1145/3368555.3384457', '10.1109/ICDM.2018.00130', '10.1109/ISIT.2019.8849398', '10.1109/ICTAI50040.2020.00023', '10.1007/s10458-019-09421-1', '10.1016/j.ins.2018.11.057', '10.3389/frai.2020.00033', '10.3390/info10060203', '10.18653/v1/W19-4707', '10.1016/j.neucom.2020.08.055', '10.1007/978-3-030-00889-5_19', '10.1109/GlobalSIP.2015.7418363', '10.1016/j.commatsci.2019.02.046', '10.1007/s10846-019-01072-4', '10.1007/978-3-030-23937-4_11', '10.1016/j.mlwa.2021.100032', '10.1145/3292500.3330915', '10.1007/978-3-319-97676-1_7', '10.1145/3243734.3278496', '10.1073/pnas.1905544116', '10.21437/Interspeech.2017-1288', '10.1016/j.knosys.2018.09.009', '10.1109/CDC40024.2019.9029503', '10.3389/frobt.2021.686368', '10.1145/3292500.3330658', '10.1109/PRIA.2019.8786013', '10.1109/LGRS.2019.2939356', '10.1016/j.eswa.2019.03.040', '10.1109/TGRS.2019.2961599', '10.1016/j.jcp.2019.02.002', '10.1016/j.neucom.2020.05.040', '10.1186/s40537-019-0180-9', '10.1109/TSTE.2017.2762435', '10.1109/TSP.2020.2996374', '10.1109/ICCP48838.2020.9105281', '10.1109/TNNLS.2021.3082571', '10.1007/s10994-022-06266-w', '10.1016/j.media.2019.01.004', '10.1109/CDC40024.2019.9029226', '10.1109/ICBME.2018.8703559', '10.1109/TASLP.2018.2877258', '10.1109/TASLP.2018.2842156', '10.1016/j.ijforecast.2019.06.003', '10.1109/TNNLS.2019.2953131', '10.1109/EXPAT.2017.7984421', '10.1016/j.cma.2019.112623', '10.1109/ICHI.2019.8904728', '10.1109/DAS.2018.34', '10.1016/j.neucom.2018.12.076', '10.1109/TKDE.2020.3008774', '10.1016/j.physa.2018.06.078', '10.1038/s41598-020-58064-w', '10.1145/3097983.3098184', '10.1007/978-3-030-44584-3_36', '10.1002/jmri.26766', '10.1109/TNNLS.2014.2377211', '10.1145/3308558.3314139', '10.1364/OE.389432', '10.1145/3319535.3354211', '10.1103/PhysRevMaterials.3.023804', '10.1109/TGRS.2019.2940146', '10.1016/j.inffus.2017.07.001', '10.1007/s00521-022-07252-y', '10.1103/PhysRevE.104.064128', '10.1109/ICIP.2019.8803413', '10.18653/v1/P19-1309', '10.1145/3308560.3316757', '10.1109/ICRA.2019.8794317', '10.1109/TSP.2019.2908126', '10.1109/JBHI.2019.2941222', '10.1109/ITSC.2019.8917494', '10.1186/s41546-020-00047-w', '10.1007/s11517-020-02208-7', '10.1137/1.9781611975673.12', '10.1109/TVCG.2020.2988476', '10.21437/Interspeech.2019-2489', '10.3390/e21121208', '10.1145/3319619.3321935', '10.1088/1742-6596/1222/1/012041', '10.1016/j.compag.2018.10.025', '10.1109/TKDE.2019.2957755', '10.1007/978-3-030-13469-3_3', '10.1109/ICEEI.2015.7352552', '10.1016/j.neunet.2019.04.016', '10.1109/SSP.2018.8450699', '10.1093/database/baz059', '10.1145/3308558.3313684', '10.1007/978-3-030-67661-2_11', '10.1073/pnas.1905688116', '10.24963/ijcai.2019/741', '10.1117/12.2519454', '10.1103/PhysRevD.100.014014', '10.1214/22-BA1331', '10.1007/978-3-030-30493-5_43', '10.1145/3357384.3357925', '10.1109/ACCESS.2021.3119000', '10.1145/3308558.3313442', '10.32470/CCN.2018.1044-0', '10.1109/IJCNN.2018.8489756', '10.1016/j.ascom.2019.03.004', '10.1007/s00521-021-06090-8', '10.1109/ICCV.2019.00047', '10.1145/3292500.3330678', '10.1109/TSMC.2018.2876202', '10.1109/ICECAI62591.2024.10674750', '10.1007/s10115-019-01401-x', '10.1371/journal.pone.0224446', '10.1145/3316279.3316282', '10.1121/1.5118245', '10.1103/PhysRevB.101.075135', '10.1007/978-3-030-12029-0_32', '10.1109/ICASSP.2019.8683201', '10.1109/JSEN.2019.2917225', '10.1109/TMI.2019.2911211', '10.3390/designs1010007', '10.21105/joss.02606', '10.1103/PhysRevLett.127.060503', '10.1007/s10115-017-1145-y', '10.1109/TSP.2020.3008605', '10.1109/PTC.2019.8810558', '10.1109/LSP.2019.2918933', '10.1109/ACCESS.2019.2903375', '10.1162/evco_a_00310', '10.1109/MDM.2019.00-44', '10.1109/MSP.2019.2951469', '10.1145/3414685.3417836', '10.1007/s11063-021-10490-1', '10.1002/adts.201900088', '10.1109/MDAT.2019.2961325', '10.1109/FIT.2018.00064', '10.1016/j.asoc.2020.106432', '10.1109/LSP.2019.2906826', '10.1038/s41598-019-50158-4', '10.1145/3243734.3243811', '10.3390/app9020323', '10.1016/j.compbiomed.2019.02.017', '10.1109/TAC.2020.3024273', '10.1016/j.nima.2019.01.031', '10.1145/3338906.3340448', '10.35940/ijeat.A1128.109119', '10.1109/TSP.2017.2675866', '10.1016/j.eswa.2018.07.036', '10.1103/PhysRevResearch.2.023169', '10.1016/j.artmed.2019.101706', '10.2514/6.2019-3072', '10.1109/ICASSP.2019.8682061', '10.1109/LGRS.2019.2895697', '10.1109/TBME.2019.2908099', '10.1109/TASLP.2019.2942140', '10.1145/3329189.3329191', '10.1109/ICMLA.2018.00097', '10.1109/TIFS.2019.2959921', '10.5705/ss.202017.0310', '10.3847/1538-4357/ab1b3c', '10.1109/ACCESS.2019.2934928', '10.1109/ACCESS.2020.3042757', '10.3934/mcrf.2022021', '10.1109/ACCESS.2019.2927079', '10.1016/j.neucom.2020.10.056', '10.1109/EMPDP.2019.8671543', '10.1016/j.jcp.2019.05.027', '10.1109/JSSC.2020.2987714', '10.1088/1538-3873/ab1609', '10.1145/3412815.3416889', '10.1103/PhysRevResearch.2.043363', '10.1145/3292500.333086', '10.1109/ASONAM.2016.7752294', '10.1109/ACCESS.2019.2903568', '10.1007/978-3-030-12564-6', '10.1002/wics.1461', '10.1038/s41598-019-56773-5', '10.1145/3292500.3330789', '10.1109/TNSE.2019.2948474', '10.1109/ACCESS.2019.2944689', '10.1186/s40537-019-0191-6', '10.1109/WINCOM.2018.8629632', '10.1145/3325413.3329793', '10.1137/19M1264011', '10.3390/make3010003', '10.1007/s11042-019-7365-2', '10.3389/fncom.2021.678158', '10.1038/s41746-019-0194-x', '10.1117/12.2519484', '10.1145/3292500.3330872', '10.1145/3203217.3203282', '10.1007/s13171-020-00240-1', '10.1109/LRA.2020.2967659', '10.1016/j.comnet.2020.107247', '10.1016/j.neunet.2018.10.018', '10.1109/TSP.2019.2926023', '10.1109/BigData.2018.8622199', '10.1109/GIIS.2018.8635701', '10.1109/ICMEW.2019.0-104', '10.1016/j.media.2019.05.005', '10.1038/s41746-019-0112-2', '10.1073/pnas.1821458116', '10.1016/j.jcp.2020.109550', '10.18653/v1/N19-1005', '10.1109/TMI.2019.2930318', '10.1145/3219819.3219902', '10.1007/978-3-319-93034-3_3', '10.1145/3243127.3243132', '10.1007/s10032-002-0095-3', '10.1007/978-3-030-43823-4_11', '10.1016/j.jcp.2019.109119', '10.24963/ijcai.2019/481', '10.1109/ICMLA.2018.00185', '10.1109/IC2E.2019.00-10', '10.1016/j.patrec.2019.10.003', '10.1145/3351095.3372850', '10.1109/ICRA.2019.8794351', '10.23919/EUSIPCO.2019.8903176', '10.1109/BigData.2018.8622157', '10.1109/TNNLS.2017.2690683', '10.1109/TSP.2021.3102751', '10.1109/LSP.2019.2935814', '10.1109/TGRS.2018.2884771', '10.1016/j.artmed.2019.101758', '10.14778/3364324.3364325', '10.1016/j.compchemeng.2019.03.034', '10.1038/s41467-020-15432-4', '10.32614/RJ-2019-033', '10.1109/TITS.2020.2990703', '10.1109/BigData.2018.8622066', '10.1109/SP.2019.00019', '10.1007/s10044-020-00901-9', '10.1145/3377811.3380400', '10.1073/pnas.1908636117', '10.1609/aaai.v34i04.6160', '10.1038/s41534-020-00288-9', '10.1109/WSC40007.2019.9004804', '10.1145/3292500.3330989', '10.1145/3365984.3365985', '10.1109/ICRA.2019.8793579', '10.1007/978-3-030-04780-1_28', '10.1109/JPROC.2019.2936204', '10.1109/TIP.2019.2941265', '10.1007/978-3-030-17705-8', '10.1007/s10115-017-1134-1', '10.1007/978-981-10-2777-2_5', '10.1063/1.5096918', '10.18653/v1/S19-2193', '10.1145/3375627.3375812', '10.1109/FG47880.2020.00042', '10.1073/pnas.1820657116', '10.18653/v1/P19-1191', '10.1109/TKDE.2015.2433262', '10.14569/IJACSA.2018.091070', '10.1109/TNNLS.2023.3251848', '10.1007/s10994-019-05801-6', '10.1145/3308558.3313626', '10.1007/s12626-019-00042-4', '10.1109/ACCESS.2019.2916341', '10.2514/1.I010760', '10.3847/1538-3881/ab2390', '10.3938/jkps.72.1292', '10.1186/s13634-019-0619-3', '10.1051/epjconf/201921402034', '10.1103/PhysRevLett.125.100401', '10.1162/neco_a_01234', '10.1007/978-3-030-43823-4_17', '10.1109/TSP.2019.2910475', '10.1021/acsnano.9b02371', '10.1561/2200000071', '10.3390/app9081669', '10.1109/TIP.2015.2421309', '10.1109/TNNLS.2013.2238682', '10.1145/3292500.3330925', '10.1145/3320435.3320464', '10.1007/978-3-319-98131-4_4', '10.1016/j.compag.2015.12.009', '10.3390/e21050485', '10.1017/S1351324919000019', '10.1007/978-3-030-35664-4_11', '10.1109/ICASSP.2019.8683876', '10.1109/PIMRC.2018.8580826', '10.1109/TPAMI.2018.2824309', '10.1109/TNNLS.2017.2750321', '10.1109/EMBC.2019.8856570', '10.1088/2058-9565/ab4d89', '10.1145/3318170.3318183', '10.1093/mnras/staa154', '10.1109/TPAMI.2020.3011866', '10.13140/RG.2.2.33254.27208', '10.1016/j.neucom.2021.02.024', '10.1007/s10618-014-0359-9', '10.1007/978-3-030-46147-8_26', '10.1137/1.9781611975673.66', '10.1016/j.imavis.2019.02.004', '10.1007/978-3-030-66415-2_2', '10.2174/1574893610666151008012923', '10.1145/3374664.3375736', '10.1038/s41746-018-0045-1', '10.1016/j.jcp.2019.108925', '10.1109/ICMLA.2019.00210', '10.1109/ISI.2019.8823548', '10.1007/978-3-030-01418-6_48', '10.1609/aaai.v33i01.330120', '10.1103/PhysRevA.98.062309', '10.1007/978-3-030-22747-0_12', '10.1103/PhysRevE.100.042137', '10.21437/Interspeech.2019-2231', '10.24963/ijcai.2019/177', '10.1016/j.neucom.2020.11.050', '10.1093/jamia/ocz156', '10.1007/s11222-020-09946-6', '10.1109/TCYB.2017.2783325', '10.1145/3306195.3306198', '10.1186/s13755-016-0015-4', '10.1088/1751-8121/ab3065', '10.1109/CDC40024.2019.9029197', '10.1016/j.actbio.2020.02.007', '10.1109/ICCVW.2019.00524', '10.1109/TMECH.2020.2971503', '10.1007/s10851-019-00923-x', '10.1109/ICC.2019.8761938', '10.1103/PhysRevResearch.2.023300', '10.1007/s00521-019-04511-3', '10.5506/APhysPolBSupp.12.25', '10.17815/CD.2020.43', '10.5705/ss.202019.0196', '10.1016/j.media.2019.101569', '10.1016/j.neunet.2019.05.017', '10.1109/BSN.2018.8329649', '10.1109/TII.2019.2909473', '10.1109/LSP.2019.2925692', '10.1038/s41598-020-61860-z', '10.1109/BigData.2018.8621884', '10.1016/j.asoc.2019.105511', '10.1016/j.ins.2020.02.050', '10.1007/978-3-030-01418-6_18', '10.1109/IROS40897.2019.8968488', '10.1007/s11433-021-1699-3', '10.1109/ITSC.2019.8916781', '10.1117/1.JMI.6.3.034002', '10.18653/v1/K19-1083', '10.1038/s41591-020-0870-z', '10.1109/CVPR.2019.01256', '10.1007/978-3-030-21642-9_14', '10.1109/TLT.2019.2911832', '10.1109/ICC.2018.8422402', '10.1007/978-3-030-31901-4_2', '10.1109/ASRU46091.2019.9003824', '10.1016/j.neucom.2020.08.078', '10.1109/IADCC.2018.8692135', '10.1016/j.procs.2018.11.024', '10.1109/ICDMW.2018.00169', '10.1016/j.media.2020.101694', '10.1109/MIS.2020.2979203', '10.1140/epjc/s10052-019-7437-5', '10.1007/s00170-021-08242-5', '10.1109/ICSE.2019.00126', '10.1016/j.eswa.2020.113680', '10.3390/info10040150', '10.1109/WACV.2019.00033', '10.21437/Interspeech.2019-2740', '10.1109/BigData47090.2019.9006009', '10.1109/ICAIT47043.2019.8987286', '10.1109/TGRS.2019.2951433', '10.21437/Interspeech.2019-2003', '10.1109/TPAMI.2020.3008413', '10.1109/ITSC.2019.8916937', '10.1109/TCYB.2018.2883566', '10.1007/978-3-030-58517-4_24', '10.1109/ACCESS.2019.2921436', '10.1016/j.neucom.2020.03.038', '10.1109/TCYB.2018.2887094', '10.1109/ICASSP.2019.8682711', '10.1145/2020408.2020589', '10.21437/Interspeech.2019-2680', '10.1145/3319619.3326834', '10.1063/1.5132766', '10.13140/RG.2.2.12187.72486', '10.13140/RG.2.2.18688.89602', '10.1109/TVCG.2019.2934591', '10.1016/j.inffus.2019.02.010', '10.1016/j.eswa.2019.05.023', '10.1145/3292500.3330967', '10.1007/978-3-030-16145-3_46', '10.13140/RG.2.2.15012.12167', '10.1109/ACCESS.2019.2925569', '10.1109/ICASSP40776.2020.9053093', '10.26502/acbr.50170058', '10.1109/JSAC.2019.2933967', '10.1109/LGRS.2018.2885809', '10.1016/j.simpa.2021.100123', '10.1109/TFUZZ.2019.2956917', '10.1109/JSEN.2020.3018698', '10.1109/TNNLS.2020.3042525', '10.18653/v1/W19-1807', '10.1613/jair.1.12395', '10.22331/q-2019-12-16-215', '10.23919/EUSIPCO.2019.8902848', '10.18653/v1/P19-1647', '10.1007/978-3-030-34885-4', '10.1088/1751-8121/ab7b1f', '10.1117/12.2529586', '10.1063/5.0128446', '10.1109/ICCV.2019.00904', '10.1016/j.trc.2018.08.007', '10.1016/j.epsr.2020.106742', '10.1109/TGRS.2019.2914967', '10.1016/j.cageo.2020.104643', '10.24963/ijcai.2019/396', '10.1109/COMST.2021.3053615', '10.1007/978-3-030-23182-8_8', '10.1007/s10044-015-0453-7', '10.1145/3292500.3330922', '10.1145/3331184.3331371', '10.1145/3332466.3374528', '10.1103/PhysRevX.10.011057', '10.1021/acs.molpharmaceut.8b00816', '10.1016/j.specom.2019.10.006', '10.1109/TSP.2020.3005291', '10.1109/TSIPN.2019.2957717', '10.1145/3292500.3330987', '10.1109/COMST.2020.2975048', '10.1109/ICEI.2018.00038', '10.24963/ijcai.2019/282', '10.1126/scirobotics.aaw6661', '10.1109/TNNLS.2020.3043196', '10.1109/TPAMI.2019.2956046', '10.1109/BigData47090.2019.9005672', '10.1109/ICCV.2019.00506', '10.1145/3331184.3331342', '10.1145/3292500.3330791', '10.1088/1361-6420/ab4ac0', '10.20944/preprints201907.0351.v1', '10.1109/ISSPIT.2018.8642623', '10.1371/journal.pone.0243320', '10.18653/v1/W19-4314', '10.1109/CIG.2019.8847965', '10.1103/PhysRevResearch.1.033159', '10.1145/3297280.3297381', '10.1007/978-3-030-04182-3_9', '10.1007/s10851-019-00915-x', '10.1145/3292500.3330936', '10.1145/3299869.3300077', '10.1109/TMI.2019.2934125', '10.1109/TCSS.2019.2915615', '10.1039/C9SC04503A', '10.1038/s41598-020-65261-0', '10.7557/18.5124', '10.3844/ajeassp.2018.1320.1331', '10.1073/pnas.1903070116', '10.1109/ICMLA.2018.00180', '10.1145/3331184.3331333', '10.1016/j.compstruct.2019.111264', '10.1007/JHEP08(2019)057', '10.1007/978-3-030-00889-5', '10.1145/3289600.3290978', '10.1007/978-3-319-75238-9', '10.1109/LSP.2019.2897215', '10.1063/1.5112048', '10.1109/ColCACI.2019.8781972', '10.20944/preprints201908.0068.v1', '10.1073/pnas.1913995117', '10.1007/978-3-030-16621-2_61', '10.1109/ISBI.2019.8759410', '10.2139/ssrn.3398755', '10.1109/TPAMI.2017.2777841', '10.13140/RG.2.2.15014.98882', '10.1145/3493700.3493712', '10.1109/ACCESS.2019.2958663', '10.24963/ijcai.2019/671', '10.18653/v1/P19-1026', '10.1007/978-3-030-33676-9_25', '10.1137/1.9781611975673.85', '10.1016/j.nicl.2019.101872', '10.1016/j.robot.2020.103710', '10.1007/978-3-030-36802-9_36', '10.1109/JIOT.2019.2935010', '10.1145/3350546.3352506', '10.1145/3354265.3354270', '10.1109/TNNLS.2020.2978386', '10.4208/cicp.OA-2020-0142', '10.1109/LSP.2019.2951950', '10.3390/e21060551', '10.1103/PhysRevE.101.010602', '10.1109/aivr46125.2019.00018', '10.1109/TC.2020.3000118', '10.1007/s42484-021-00054-w', '10.1016/j.csl.2019.05.005', '10.1038/s42256-019-0134-0', '10.3389/fdata.2019.00033', '10.1109/TPAMI.2022.3153225', '10.31144/bncc.cs.2542-1972.2017.n41.p55-89', '10.6084/m9.figshare.7565894', '10.1016/j.compind.2019.103133', '10.1145/3340251', '10.1103/PhysRevA.102.062405', '10.1145/3313231.335236', '10.1007/978-3-030-39074-7_3', '10.1109/TSP.2020.2989551', '10.1109/TIP.2020.2973510', '10.1007/978-3-030-10997-4_33', '10.1121/1.5101104', '10.1109/HPEC43674.2020.9286232', '10.13154/294-6675', '10.12988/ijco.2017.759', '10.3390/app10030774', '10.1038/s41598-020-65958-2', '10.1109/BigData47090.2019.9006267', '10.1109/MDAT.2020.2968258', '10.5220/0007248401730180', '10.1007/s11760-020-01844-8', '10.3390/electronics8070756', '10.1155/2019/4316548', '10.1109/TAFFC.2018.2890471', '10.1080/03610918.2020.1764034', '10.24963/ijcai.2023/436', '10.1016/j.cose.2019.04.014', '10.1016/j.cma.2020.112913', '10.4204/EPTCS.306.51', '10.1063/1.5088393', '10.1109/ICIT.2019.8755235', '10.1016/j.neuroimage.2019.02.053', '10.1117/1.AP.1.4.046001', '10.1145/3341161.3342957', '10.18653/v1/D19-5608', '10.1016/j.image.2019.05.013', '10.13140/RG.2.2.21876.81283', '10.1016/j.csda.2019.06.012', '10.1111/biom.13141', '10.1080/10618600.2021.1923517', '10.1007/s10618-020-00700-0', '10.1109/WPNC47567.2019.8970177', '10.1109/JSAIT.2020.2991139', '10.15242/IIE.E1213576', '10.1109/TSP.2020.3035832', '10.1145/3292500.3330680', '10.1089/big.2019.0169', '10.1109/IJCNN.2019.8851974', '10.1109/LSP.2016.2579647', '10.5194/isprs-annals-IV-2-W5-615-2019', '10.1073/pnas.1910053116', '10.1007/978-3-030-20521-8_43', '10.1109/ICTAI.2019.00209', '10.1063/1.5124673', '10.1371/journal.pone.0250227', '10.1109/ICASSP.2019.8683229', '10.21437/SSW.2019-43', '10.5539/cis.v12n4p1', '10.1109/IJCNN52387.2021.9533899', '10.1126/sciadv.aaw4967', '10.1016/j.ijar.2019.08.012', '10.1007/978-3-030-30493-5_39', '10.5281/zenodo.3244260', '10.1093/comnet/cnz043', '10.1029/2020WR028095', '10.1109/ACCESS.2021.3108545', '10.1093/jamiaopen/ooz040', '10.1016/j.jcp.2019.05.024', '10.18653/v1/P19-1484', '10.1093/bioinformatics/btz718', '10.1145/3292500.3330707', '10.15242/IIE.E1213577', '10.1109/ICOSC.2019.8665646', '10.1109/ACCESS.2020.3000901', '10.1145/3331184.3331203', '10.1109/ICCCN49398.2020.9209652', '10.1109/IJCNN.2019.8852018', '10.1109/LSP.2019.2925537', '10.1609/aaai.v33i01.33014943', '10.5802/ojmo.15', '10.18653/v1/P19-1492', '10.1111/biom.13612', '10.4208/cicp.OA-2020-0149', '10.1109/ICASSP40776.2020.9054295', '10.1145/3314397', '10.1109/ICOSC.2019.8665546', '10.1016/j.jcp.2019.109056', '10.1142/S0219876221500298', '10.1016/j.media.2019.07.007', '10.1007/978-3-030-28954-6_11', '10.1007/s00432-019-03098-5', '10.1016/j.neuroimage.2019.05.026', '10.1007/s10055-021-00550-1', '10.1007/978-3-030-32248-9_25', '10.1088/1751-8121/ab57a7', '10.1007/978-981-15-3651-9_2', '10.1145/3412815.3416885', '10.1029/2021JA029620', '10.1007/978-3-030-30490-4_36', '10.1007/978-3-030-44584-3_26', '10.1016/j.cpc.2019.107006', '10.1109/ICCV.2019.00713', '10.1145/3347146.3359094', '10.1016/j.jbi.2019.103269', '10.1109/ICASSP40776.2020.9053078', '10.1109/WSC40007.2019.9004934', '10.1109/TSG.2020.3005634', '10.1109/TIP.2020.3011270', '10.1109/TMI.2020.3008501', '10.24963/ijcai.2020/375', '10.1016/j.ins.2016.07.057', '10.1016/j.ins.2019.06.005', '10.1137/19m1266265', '10.3390/make1030047', '10.1109/SSRR.2018.8468649', '10.18653/v1/W19-4410', '10.18653/v1/D19-1093', '10.1109/NSSMIC.2018.8824469', '10.1109/TAC.2022.3159453', '10.18653/v1/D19-1272', '10.1007/s10994-019-05836-9', '10.1103/PhysRevX.9.041023', '10.1007/978-3-030-30493-5_59', '10.1016/j.compbiomed.2020.103697', '10.1016/j.jcp.2020.109456', '10.1002/mp.13955', '10.1109/TSP.2019.2953593', '10.1145/3465416.3483305', '10.1162/tacl_a_00306', '10.1016/j.jcp.2020.109309', '10.1016/j.neunet.2022.07.012', '10.1093/bib/bbaa014', '10.1007/s00500-020-05030-3', '10.1007/s11425-019-9547-2', '10.1073/pnas.1914370116', '10.1007/978-3-319-99344-7_12', '10.1007/s11263-019-01187-z', '10.1145/3318464.3389743', '10.1088/1361-6471/ab2b14', '10.18653/v1/D19-1631', '10.21437/Interspeech.2019-1338', '10.1142/9789811215636_0044', '10.24963/ijcai.2019/298', '10.1109/LRA.2019.2920285', '10.1007/978-3-030-30484-3_49', '10.1038/s41598-019-48444-2', '10.1007/s11263-020-01323-0', '10.1371/journal.pone.0238835', '10.1109/IVS.2019.8814124', '10.3390/s19061417', '10.1109/TPAMI.2020.2987482', '10.1007/978-3-030-32226-7_60', '10.24963/ijcai.2019/381', '10.1109/TNNLS.2022.3185901', '10.1145/3299768', '10.1016/j.ipl.2018.11.003', '10.13140/RG.2.2.21979.62244', '10.1038/s41598-019-53549-9', '10.1109/TSP.2020.2974676', '10.1109/BIBM47256.2019.8983228', '10.1145/3295500.3356202', '10.1109/ACCESS.2019.2957200', '10.1109/BigData47090.2019.9006151', '10.1109/ACCESS.2019.2959220', '10.1515/nanoph-2019-0330', '10.3390/a14030087', '10.1145/3331184.3331204', '10.1109/DSW.2019.8755576', '10.18653/v1/P19-1019', '10.1109/LGRS.2018.2878420', '10.1109/LGRS.2019.2915251', '10.1088/1742-5468/abc4de', '10.1088/1742-6596/1229/1/012055', '10.1145/3292500.3330777', '10.1109/MLSP.2018.8516711', '10.1109/TMI.2020.3042873', '10.1007/978-3-030-22734-0_45', '10.1109/JTEHM.2019.2936348 10.21227/zkkm-es92', '10.25611/az5z-xt37', '10.1109/TSE.2019.2945020', '10.1109/COMST.2020.2965856', '10.1088/1742-5468/abc61e', '10.1016/j.icarus.2020.113749', '10.5194/npg-27-373-2020', '10.1016/j.neucom.2019.03.008', '10.24963/ijcai.2020/331', '10.1109/TNNLS.2021.3084467', '10.1145/3292500.3330937', '10.1145/3003665.3003669', '10.1007/s00778-019-00567-8', '10.18653/v1/D19-1169', '10.1109/ICIP.2019.8803767', '10.1038/s42256-019-0132-2', '10.1088/2632-2153/ab81e2', '10.1007/s10994-019-05789-z', '10.1109/ACCESS.2019.2959846', '10.1109/TKDE.2018.2880192', '10.3390/e21080758', '10.1145/3351095.3372828', '10.1007/978-981-13-8767-8_64', '10.1016/j.media.2020.101834', '10.1080/17517575.2019.1633689', '10.1016/j.orl.2020.02.008', '10.1016/j.neucom.2019.08.065', '10.1007/978-3-030-30490-4_51', '10.1007/978-3-030-37599-7_56', '10.1214/20-STS817', '10.2140/camcos.2020.15.37', '10.2352/ISSN.2470-1173.2019.15.AVM-048', '10.1109/TCBB.2018.2886334', '10.1109/LCSYS.2019.2916467', '10.1098/rsif.2022.0877', '10.1007/s00158-020-02522-6', '10.1016/j.ipm.2019.102084', '10.1063/1.5092170', '10.1002/int.22651', '10.1016/j.eswa.2020.113332', '10.3390/app10051699', '10.1016/j.neunet.2019.06.012', '10.1016/j.neucom.2020.02.073', '10.1613/jair.1.11352', '10.1109/AIKE.2018.00055', '10.1007/978-3-030-86383-8_8', '10.1109/ICIP40778.2020.9191173', '10.1109/SDS.2019.00005', '10.1002/hbm.24979', '10.1145/3292500.3330996', '10.1145/3292500.3330842', '10.1016/j.cub.2019.02.034', '10.1109/JSAC.2019.2904330', '10.1007/978-3-031-16237-4_2', '10.1103/PhysRevA.102.012415', '10.1109/TSP.2020.2971948', '10.1145/3290605.3300911', '10.1016/j.compbiomed.2018.12.014', '10.1007/s10618-020-00679-8', '10.1007/978-3-319-67434-6_6', '10.1109/MC.2022.3160276', '10.1145/3357384.3358145', '10.1007/s11432-018-9824-9', '10.1145/3292500.3330646', '10.1145/3339252.3340508', '10.5281/zenodo.1492443', '10.1007/s40305-019-00287-4', '10.1109/MLSP.2019.8918875', '10.1145/3159652.3159683', '10.1109/HPCS48598.2019.9188112', '10.1007/978-3-030-01418-6_10', '10.1007/978-3-030-33850-3_6', '10.1103/PhysRevA.101.012326', '10.1145/3357384.3357929', '10.1504/IJCVR.2019.102286', '10.1145/3308558.3313446', '10.3847/1538-4365/ab8868', '10.1103/PhysRevLett.124.090504', '10.3389/frai.2020.00024', '10.1109/TNNLS.2016.2551748', '10.3390/e21060617', '10.1073/pnas.1907378117', '10.1016/j.ijforecast.2020.06.008', '10.3390/e21121179', '10.1371/journal.pcbi.1007263', '10.1109/LSP.2019.2921446', '10.1109/ISPASS.2019.00012', '10.1109/ACCESS.2020.2987345', '10.1007/978-3-030-80209-7', '10.1007/978-981-13-5826-5_27', '10.1016/j.patcog.2019.01.033', '10.1016/j.nima.2020.164304', '10.1029/2019WR026082', '10.1145/3337722.3337755', '10.1088/1748-9326/ab5268', '10.1145/3308558.3313444', '10.1109/TNNLS.2020.3015790', '10.1145/3512941', '10.1021/acs.nanolett.9b01857', '10.3390/e22020153', '10.1145/3372278.3390694', '10.4230/LIPIcs.ICDT.2019.24', '10.1007/978-3-030-32430-8_22', '10.1007/978-3-030-32254-0\\\\_26', '10.1109/ICASSP.2019.8683318', '10.1007/978-3-030-46133-1_16', '10.1145/3308558.3313650', '10.1007/978-3-030-32430-8_13', '10.1007/978-3-030-32692-0_40', '10.1145/3292500.3330905', '10.1145/3331155', '10.1007/s11128-020-02661-1', '10.1007/978-3-030-14683-2_4', '10.1016/j.chemolab.2020.104038.', '10.1088/1751-8121/ab40de', '10.1016/j.eswa.2022.116712', '10.18653/v1/D19-1406', '10.1145/3449068', '10.1609/aaai.v33i01.33014755', '10.1007/978-3-030-32245-8_45', '10.21437/Odyssey.2020-2', '10.1007/978-3-030-22871-2_65', '10.1103/PhysRevB.101.064406', '10.1109/IVS.2019.8813771', '10.1109/CAVS.2019.8887778', '10.1016/j.physd.2019.132261', '10.1109/IPIN.2019.8911792', '10.1109/BigData52589.2021.9671861', '10.1007/978-3-030-22368-7_26', '10.1007/978-3-030-30493-5_6', '10.1145/3414472', '10.13140/RG.2.2.10091.59687', '10.1007/978-3-030-16841-4_30', '10.1109/JSTSP.2020.2971421', '10.1109/ITSC.2019.8916878', '10.1007/978-3-030-32245-8_87', '10.1109/IPDPS47924.2020.00042', '10.1109/ACCESS.2021.3052996', '10.1007/s10032-019-00317-0', '10.1063/1.5108871', '10.1109/IJCNN.2019.8851839', '10.1007/978-3-030-43887-6_50', '10.1109/ICCD46524.2019.00038', '10.1109/GlobalSIP.2018.8646665', '10.1145/3308558.3313595', '10.1109/TGRS.2020.2979908', '10.1109/ACCESS.2020.3045465', '10.1109/ICCVW.2019.00264', '10.11113/intrest.v15n1.10', '10.1063/5.0015301', '10.1190/GEO2019-0243.1', '10.5281/zenodo.3527766', '10.1007/978-3-030-30796-7_30', '10.24963/ijcai.2020/365', '10.18653/v1/P19-1531', '10.1145/3306618.3314288', '10.1002/mp.13464', '10.1371/journal.pone.0211512', '10.1007/978-3-030-33676-9_7', '10.1016/j.dsp.2020.102801', '10.1007/978-3-030-32245-8_51', '10.21437/Interspeech.2019-2254', '10.1007/s10462-019-09779-4', '10.1145/3308560.3316587', '10.1109/ICASSP.2019.8683564', '10.1109/ICMLA.2018.00072', '10.1016/j.neucom.2019.12.125', '10.1007/s11548-019-02039-4', '10.1007/978-3-030-39074-7_22', '10.1109/RBME.2018.2885714', '10.1145/3375395.3387648', '10.1109/MIS.2020.3014880', '10.1145/3339252.3340517', '10.1145/3339252.3341491', '10.14778/3372716.3372723', '10.5220/0007347900330041', '10.4018/978-1-5225-7467-5.ch002', '10.13140/RG.2.2.32427.39204', '10.1109/TSP.2020.2989580', '10.1145/3447516', '10.13140/RG.2.2.27394.22728/1', '10.1109/TWC.2020.2976004', '10.1007/978-3-030-40245-7_21', '10.1109/TMI.2019.2913184', '10.1109/TKDE.2020.2992529', '10.14778/3342263.3342273', '10.1088/1361-6420/ab4f55', '10.1109/GCWkshps45667.2019.9024429', '10.1038/s42256-019-0077-5', '10.1007/JHEP07(2020)001', '10.1109/ICCCBDA.2018.8386490', '10.1007/978-3-030-03405-4_12', '10.1137/20M1346778', '10.1145/3336191.3371851', '10.18653/v1/D19-1542', '10.1109/TIP.2020.3026627', '10.1088/2632-2153/ac3843', '10.1007/s11307-020-01487-8', '10.1080/01691864.2020.1778521', '10.24963/ijcai.2020/194', '10.1109/ICASSP.2019.8682360', '10.1002/sam.11461', '10.17823/gusb.352', '10.1111/itor.12724', '10.1109/TASLP.2020.3012062', '10.1007/s10115-009-0205-3', '10.1016/j.jcp.2020.109339', '10.1007/978-3-030-35699-6_36', '10.1016/j.ipm.2019.102055', '10.1109/WOCC.2019.8770653', '10.1093/mnras/stz106', '10.1109/ICASSP.2019.8682797', '10.1016/j.sigpro.2020.107486', '10.1016/j.swevo.2019.100640', '10.5281/zenodo.3527878', '10.1145/3341216.3342211', '10.1017/ATSIP.2020.13', '10.1007/s11548-019-01939-9', '10.1109/IVS.2019.8813901', '10.1007/978-3-030-46150-8\\\\_16', '10.1109/BigData47090.2019.9006257', '10.1016/j.ecolmodel.2019.108815', '10.1145/3318464.3380579', '10.1109/LCSYS.2019.2921158', '10.1016/j.neunet.2021.10.008', '10.1109/TSP.2020.2991801', '10.1063/5.0019309', '10.1109/LSP.2019.2929869', '10.5220/0007456306910698', '10.1109/BigData47090.2019.9006543', '10.1007/978-3-030-30487-4_35', '10.1007/978-3-030-29513-4', '10.3390/electronics9030432', '10.1007/978-3-030-27272-2_3', '10.1145/3363347.3363366', '10.1016/j.cose.2021.102371', '10.1007/978-3-030-20351-1_27', '10.23919/EUSIPCO.2019.8902738', '10.1109/TNSM.2024.3368501', '10.1145/3337821.3337906', '10.1016/j.eswa.2019.05.002', '10.1145/3328519.3329134', '10.1016/j.acha.2020.03.002', '10.1016/j.patrec.2019.10.028', '10.1109/ICASSP.2019.8683405', '10.1145/3325917.3325940', '10.1190/INT-2018-0250.1', '10.1007/978-3-030-01768-2_12', '10.1137/20M1336072', '10.1109/TGRS.2019.2927434', '10.23919/DATE.2019.8715103', '10.1145/3341161.3345306', '10.1109/TCI.2020.2964201', '10.1109/TCAD.2019.2944584', '10.1007/978-3-030-22750-0_61', '10.1103/PhysRevResearch.1.033030', '10.1109/MSP.2020.2975749', '10.1109/LWC.2020.2964550', '10.1109/TASLP.2020.2968738', '10.1109/PRIA.2019.8785979', '10.1109/LSP.2019.2934045', '10.1103/PhysRevResearch.2.013050', '10.1016/j.compchemeng.2019.106580', '10.1145/3292500.3330703', '10.1016/j.neunet.2020.11.019', '10.1109/IJCNN.2019.8852316', '10.1007/s13218-019-00587-0', '10.1145/3295500.3356180', '10.1109/CEC.2019.8789937', '10.23919/DATE.2018.8342201', '10.1109/IJCNN.2019.8851936', '10.1007/s41109-019-0162-z', '10.1140/epjst/e2020-000098-9', '10.1109/TPAMI.2019.2960358', '10.1137/19M1297919', '10.1007/978-3-030-19642-4', '10.1109/INDIN41052.2019.8972081', '10.1109/ACCESS.2020.2982544', '10.1007/s10440-020-00333-x', '10.1007/978-3-030-30487-4_14', '10.1016/j.wneu.2019.08.232', '10.1109/ITSC.2019.8916873', '10.1109/CogMI48466.2019.00029', '10.1109/ISGT.2019.8791595', '10.1007/978-3-030-30487-4_30', '10.1109/TNNLS.2020.3009682', '10.1109/TKDE.2019.2951398', '10.1007/978-3-030-28954-6_19', '10.5281/zenodo.3299335', '10.1007/978-3-030-57321-8_21', '10.1007/978-3-030-31332-6_44', '10.1093/qje/qjac015', '10.1109/CIG.2019.8848074', '10.24963/ijcai.2019/640', '10.5220/0007353401070114', '10.1109/ICASSP40776.2020.9052932', '10.1016/j.chemolab.2019.103907', '10.1109/IJCNN.2018.8489430', '10.1109/TVCG.2019.2934619', '10.11128/arep.58', '10.1016/j.apenergy.2019.113548', '10.1016/j.pmcj.2020.101225', '10.1109/TNET.2020.3025904', '10.3390/e21070674', '10.1007/978-3-658-25326-4_18', '10.1063/1.5099590', '10.24963/ijcai.2019/478', '10.1016/j.strusafe.2019.101918', '10.1016/j.laa.2020.04.017', '10.1109/TSC.2021.3120031', '10.1145/3370082', '10.1109/TSP.2019.2952046', '10.1109/TASLP.2019.2907015', '10.1109/EMBC.2019.8856685', '10.1109/BigData47090.2019.9006013', '10.1145/3343031.3350974', '10.1137/19M1274067', '10.1145/3355089.3356494', '10.1016/j.patcog.2021.108248', '10.1007/s00371-020-01795-8', '10.1109/GLOBECOM38437.2019.9013962', '10.1109/TCYB.2019.2933438', '10.1145/3320288.3320303', '10.1145/3308560.3316706', '10.1109/JSTSP.2020.2979669', '10.1109/TPAMI.2019.2952353', '10.1007/978-3-030-19875-6_9', '10.1109/MET.2019.00016', '10.3390/infrastructures4020026', '10.1109/LGRS.2019.2959845', '10.1145/3292500.3330716', '10.1016/j.dss.2019.113100', '10.1109/ICEEST.2018.8643321', '10.1109/JIOT.2019.2940368', '10.1145/3308558.3313559', '10.1121/1.5126115', '10.1145/3424670', '10.1049/iet-its.2019.0249', '10.1109/SSCI.2018.8628811', '10.1088/1367-2630/ab6f1f', '10.1007/s41109-019-0195-3', '10.1007/978-3-030-20257-6_3', '10.23919/ACC.2019.8815276', '10.1109/SSCI44817.2019.9002694', '10.1007/s11042-019-7304-2', '10.1137/19M1288802', '10.1093/imaiai/iaaa020', '10.1109/TAFFC.2019.2916092', '10.1007/978-3-030-33676-9_5', '10.1016/j.jbi.2020.103634', '10.1007/978-3-030-32778-1_2', '10.1007/978-3-030-30493-5_12', '10.1109/MWSCAS.2019.8885180', '10.1109/TKDE.2021.3079836', '10.3997/2214-4609.201901967', '10.1109/ACCESS.2019.2942346', '10.1016/j.jbi.2019.103248', '10.1609/aaai.v34i05.6220', '10.1109/ACCESS.2019.2915544', '10.1109/TSP.2019.2955832', '10.1016/j.ejtl.2020.100023', '10.1109/AVSS.2019.8909844', '10.1142/S2661335219300018', '10.1016/j.ymssp.2019.03.048', '10.18653/v1/N19-1070', '10.3390/math9060660', '10.24963/ijcai.2022/466', '10.5281/zenodo.3277282', '10.1109/IWOBI.2017.7985525', '10.1016/j.jbi.2022.104000', '10.1109/TCI.2020.3006718', '10.1088/1742-6596/1525/1/012088', '10.1109/ALLERTON.2019.8919803', '10.1103/PhysRevX.10.031056', '10.1145/3397191', '10.3934/jimo.2021046', '10.1145/3308558.3313632', '10.1007/978-3-030-52246-9_22', '10.1109/SPIN48934.2020.9071125', '10.1016/j.actaastro.2020.02.036', '10.1007/s00521-018-3464-7', '10.1145/3290350', '10.1109/MSP.2020.2973345', '10.1162/neco_a_01231', '10.13140/RG.2.2.10576.87048', '10.1007/978-3-030-30484-3_33', '10.1021/acs.jctc.9b00805', '10.1016/j.datak.2022.102104', '10.1109/TETCI.2023.3268707', '10.1007/978-3-030-32254-0_29', '10.1007/978-3-030-16744-8_1', '10.1007/978-3-030-31372-2_26', '10.1109/ICPHM.2019.8819383', '10.1109/ISPA.2019.8868425', '10.1109/ISPASS.2019.00041', '10.1016/j.patrec.2019.07.016', '10.1109/MGRS.2019.2937630', '10.1145/3331184.3331312', '10.1109/TGRS.2019.2959248', '10.1007/978-3-030-32239-7_35', '10.1016/j.image.2019.115774', '10.1007/978-3-030-30487-4_39', '10.1016/j.cpc.2019.106949', '10.1145/3338906.3338930', '10.1109/TIFS.2019.2895970', '10.1121/1.5137212', '10.1364/OPTICA.389482', '10.1038/s41598-019-42215-9', '10.1007/978-3-030-01418-6_25', '10.1109/TNNLS.2020.2984514', '10.13140/RG.2.2.30778.34248', '10.1080/14697688.2020.1730426', '10.1109/COMPSAC.2019.10205', '10.1002/jbio.201900107', '10.1214/21-EJP699', '10.1109/TAC.2020.3045094', '10.1145/3341161.3342936', '10.1103/PhysRevResearch.2.033199', '10.1145/3298689.3347058', '10.1109/LICS.2019.8785811', '10.1016/j.trb.2019.12.001', '10.1002/rsa.21006', '10.3389/frobt.2019.00151', '10.1145/3341161.3342892', '10.1109/ICASSP.2019.8682595', '10.1109/CEC48606.2020.9185770', '10.1109/ACCESS.2019.2947359', '10.1007/978-3-030-43823-4_18', '10.1029/2019WR026052', '10.1007/978-3-030-27615-7_20', '10.1145/3341161.3342931', '10.24963/ijcai.2020/376', '10.18653/v1/N19-1029', '10.1007/978-981-13-9939-8_31', '10.1109/ICCAD45719.2019.8942068', '10.1109/ICC40277.2020.9148854', '10.1109/ICASSP39728.2021.9413516', '10.1109/TIP.2015.2495116', '10.5121/ijscai.2019.8101', '10.1103/PhysRevA.102.042414', '10.1145/3314221.3314638', '10.1109/TVCG.2019.2934631', '10.1109/ITSC.2019.8917212', '10.1109/TNNLS.2019.2909737', '10.1007/s11425-019-1628-5', '10.18653/v1/D19-3024', '10.3390/e21100924', '10.3390/e22010007', '10.1145/3308558.3313497', '10.1137/19M1256919', '10.1109/TNNLS.2020.3027314', '10.1145/3427228.3427660', '10.1016/j.jtbi.2015.07.038', '10.1109/ISCAS.2019.8702357', '10.1080/09298215.2014.881888', '10.1145/3341162.3346276', '10.1088/1367-2630/ab783c', '10.1098/rspa.2019.0834', '10.1145/3345002.3349289', '10.1016/j.jvcir.2017.10.004', '10.1016/j.visinf.2020.10.001', '10.1103/PhysRevLett.123.170602', '10.1109/ICIP42928.2021.9506317', '10.1109/VAST47406.2019.8986948', '10.1162/tacl_a_00299', '10.1007/978-3-030-12786-2_1', '10.1007/s11129-021-09241-2', '10.1108/RPJ-01-2019-0018', '10.1038/s41534-020-0248-6', '10.1145/3308558.3314119', '10.1016/j.energy.2020.118209', '10.1038/s41598-020-58103-6', '10.18653/v1/P19-2055', '10.24963/ijcai.2020/368', '10.1109/TCCN.2020.3012445', '10.1021/acs.jcim.9b00297', '10.1109/ICASSP40776.2020.9054219', '10.1109/LRA.2020.2972794', '10.1145/3368555.3384469', '10.1016/j.neucom.2020.04.103', '10.1109/LWC.2020.2993699', '10.18653/v1/D19-1211', '10.1088/1751-8121/ab375c', '10.1007/978-3-030-19648-6_35', '10.1561/2200000056', '10.1109/COMST.2020.2970550', '10.1109/SDS.2019.00-11', '10.1109/TIP.2020.3013166', '10.36190/2020.22', '10.5220/0008364305320538', '10.1007/978-3-030-30484-3_16', '10.1145/3340555.3353731', '10.1109/TIT.2022.3196707', '10.1103/PhysRevE.100.050102', '10.1016/j.patcog.2020.107648', '10.1093/bioinformatics/btaa593', '10.1007/s10994-021-05953-4', '10.1063/1.5120370', '10.18293/SEKE2019-026', '10.1145/3331184.3331272', '10.1007/s10618-013-0327-9', '10.1007/978-3-030-18305-9_24', '10.1007/978-3-030-30508-6_24', '10.1016/j.neucom.2020.09.006', '10.1145/3308558.3313398', '10.1109/HPEC.2019.8916437', '10.1007/978-3-030-43823-4_37', '10.1145/3314111.3319827', '10.1088/2399-6528/ab3029', '10.1089/big.2016.0048', '10.1109/TSP.2020.2986897', '10.1109/TSP.2020.3003130', '10.1109/ITSC.2019.8917000', '10.21437/Interspeech.2019-1111', '10.14778/3317315.3317323', '10.1145/3307650.3322270', '10.1109/TSP.2020.2978617', '10.1145/3372297.3417231', '10.1103/PhysRevD.100.063015', '10.1007/978-3-030-36711-4_39', '10.1007/s00607-022-01052-x', '10.1109/TITS.2019.2930310', '10.1109/TNNLS.2020.3005348', '10.1109/ITSC.2019.8917174', '10.1109/ISMICT.2019.8743694', '10.36001/ijphm.2019.v10i4.2613', '10.1007/978-3-030-44584-3_39', '10.1109/TSP.2020.2975939', '10.1007/s10618-011-0232-z', '10.1109/TSE.2023.3275380', '10.1109/SMC.2019.8913944', '10.1145/3357223.3362716', '10.1109/TSP.2020.3023008', '10.1002/sam11416', '10.1613/jair.1.11688', '10.3233/SJI-190555', '10.1109/TSP.2020.2976585', '10.1371/journal.pone.0234107', '10.1145/3314221.3314614', '10.1109/TPEL.2021.3096164', '10.3115/1699571.1699578', '10.1177/1460458220987580', '10.1088/1361-6420/ab80d7', '10.1073/pnas.1912341117', '10.1088/2515-7639/ab3c45', '10.1016/j.patcog.2020.107392', '10.1109/TKDE.2021.3124599', '10.1016/j.patcog.2020.107636', '10.1145/3357384.3357871', '10.1145/3318464.3389742', '10.1109/IJCNN48605.2020.9207707', '10.1615/.2020034126', '10.1007/978-3-030-29888-3_21', '10.1145/3292500.3330908', '10.1109/STC-CSIT.2017.8098793', '10.1109/LSP.2019.2913022', '10.1109/CISS.2019.8693024', '10.1145/3298689.3347006', '10.1109/TSP.2019.2932866', '10.1145/3368555.3384451', '10.1364/AO.58.005422', '10.1145/3308558.3313736', '10.1117/12.2529984', '10.1007/978-3-030-32245-8_58', '10.1038/s41598-020-67544-y', '10.1145/3292500.3330783', '10.1007/s00521-020-04748-3', '10.1007/978-3-030-37599-7_30', '10.1109/TPAMI.2020.2992934', '10.1103/PhysRevResearch.2.033293', '10.1007/978-3-030-27202-9_7', '10.1007/978-3-030-27202-9_11', '10.1007/978-3-030-33607-3_39', '10.1109/ICMLA.2018.00073', '10.1016/J.RIIT.2016.06.006', '10.3233/FAIA200231', '10.1007/978-3-030-30446-1_16', '10.21437/Interspeech.2019-1388', '10.1063/1.5120830', '10.1007/978-3-030-46640-4_4', '10.1109/ICASSP.2019.8683486', '10.1109/TAFFC.2019.2928297', '10.1109/MDAT.2019.2952341', '10.1016/j.patcog.2020.107332', '10.1109/LCN44214.2019.8990753', '10.1088/1741-2552/aae8c7', '10.1109/ICDARW.2019.40098', '10.1038/s41534-020-00305-x', '10.24963/ijcai.2020/280', '10.1609/aaai.v34i04.6043', '10.1109/TITS.2016.2641903', '10.1038/s41467-020-18946-z', '10.3389/fnins.2021.629892', '10.18653/v1/P19-1494', '10.1109/ICTC46691.2019.8939812', '10.1109/ACCESS.2019.2949697', '10.1109/ISCMI47871.2019.9004400', '10.1007/978-3-030-37720-5_2', '10.3847/1538-3881/ab1e52', '10.1109/IROS40897.2019.8968560', '10.1016/j.datak.2019.06.003', '10.1109/TCYB.2020.3013251', '10.1016/j.knosys.2020.105885', '10.1007/s10994-020-05886-4', '10.1007/978-3-030-30493-5_38', '10.1093/bioinformatics/btaa060', '10.1145/3292500.3330689', '10.1007/s10618-021-00759-3', '10.1007/978-3-030-29888-3_20', '10.3390/e22020213', '10.2514/1.T5865', '10.1109/CDC40024.2019.9029255', '10.1146/annurev-control-053018-023843', '10.1007/978-3-030-33843-5_14', '10.1016/j.ins.2019.10.050', '10.1109/IPDPSW.2019.00051', '10.18653/v1/K19-1009', '10.1016/j.neunet.2020.07.021', '10.1145/3343031.3350909', '10.1049/trit.2020.0020', '10.1109/HiPC.2019.00032', '10.1109/TKDE.2019.2915231', '10.1145/3308558.3313660', '10.1029/2019MS001958', '10.1115/1.4044256', '10.1111/2041-210X.13329', '10.3389/fnagi.2019.00220', '10.1109/TLA.2015.7350026', '10.1007/978-3-030-33607-3_2', '10.1109/TPAMI.2020.3012955', '10.1145/3328932', '10.1145/3306346.3323036', '10.1109/SASO.2019.00015', '10.1109/JSTSP.2020.2969554', '10.1016/j.tej.2019.106628', '10.1145/3357384.3357878', '10.1016/j.patrec.2019.10.022', '10.1080/23729333.2019.1615729', '10.1103/PhysRevE.101.033301', '10.1109/CAMSAP45676.2019.9022486', '10.1145/3307339.3342177', '10.1109/TPAMI.2020.3022533', '10.1145/3292500.3330691', '10.1145/3308558.3313710', '10.1145/3209219.3209236', '10.1145/3357384.3357981', '10.1007/978-3-030-30487-4_32', '10.1016/j.ins.2019.12.084', '10.1098/rsta.2019.0051', '10.24963/ijcai.2020/590', '10.1145/3298689.3347029', '10.1145/3298689.3347007', '10.7566/JPSJ.89.014801', '10.18713/JIMIS-300519-5-2', '10.1016/j.jcp.2020.109338', '10.1007/s41468-020-00056-w', '10.1109/VAST47406.2019.8986940', '10.1109/MCG.2018.2878902', '10.1007/978-981-15-9323-9_34', '10.1007/978-3-030-32226-7_71', '10.1145/3308558.3308558.3313622', '10.1109/TAC.2021.3112851', '10.1109/ITSC.2019.8917362', '10.1088/1538-3873/ab213d', '10.1145/3314111.3323073', '10.1145/3368555.3384456', '10.1007/978-3-030-84060-0_11', '10.1109/ICTC.2017.8190813', '10.22331/q-2020-02-27-237', '10.1016/j.neucom.2019.11.023', '10.1145/3292500.3330826', '10.1145/3411808', '10.1016/j.patcog.2020.107327', '10.1109/TMM.2019.2963592', '10.1051/0004-6361/201935223', '10.1109/TCYB.2020.3035282', '10.1007/978-3-031-16237-4_3', '10.1007/s10489-020-01758-5', '10.1016/j.patrec.2020.06.026', '10.1145/3357384.3357956', '10.1007/s11128-020-02785-4', '10.1109/LRA.2021.3070302', '10.14778/3368289.3368294', '10.1016/j.neucom.2018.09.104', '10.1007/978-3-030-33676-9_26', '10.1007/s40300-019-00155-4', '10.1145/3343737.3343741', '10.1109/TMM.2019.2928494', '10.1109/TSP.2020.3026980', '10.1109/TASLP.2019.2915322', '10.1109/TBME.2020.3020381', '10.1016/j.cma.2019.112790', '10.1016/j.patcog.2023.109356', '10.1038/s41597-019-0235-y', '10.1007/978-3-030-00934-2_57', '10.1109/MM.2019.2935967', '10.1109/LWC.2020.3001121', '10.1016/j.neucom.2019.12.090', '10.1109/SampTA45681.2019.9031005', '10.1007/s11063-022-10958-8', '10.24963/ijcai.2019/822', '10.1016/j.simpa.2022.100406', '10.1038/s42256-019-0104-6', '10.13140/RG.2.2.33978.64961/1', '10.1088/1361-6560/ab3fc1', '10.1088/1742-5468/abc62c', '10.1088/2632-2153/ab42ec', '10.5281/zenodo.3904247', '10.1145/3292500.3330667', '10.1145/3357384.3357902', '10.1016/j.patrec.2020.02.024', '10.1016/j.omega.2020.102197', '10.1007/978-3-030-43036-8_3', '10.1007/978-3-030-43036-8_6', '10.1109/MWSCAS.2019.8884910', '10.1177/0278364920917446', '10.1109/CIG.2019.8848046', '10.21437/Interspeech.2019-1427', '10.1109/ACCESS.2019.2954576', '10.18653/v1/D19-1042', '10.1016/j.neucom.2019.08.007', '10.1016/j.automatica.2019.108771', '10.1109/ICIP.2019.8803074', '10.18653/v1/P19-1283', '10.1177/1550147720921309', '10.1145/3469029', '10.1145/3351095.3372824', '10.1109/ICDE.2019.00208', '10.1016/j.scs.2019.101602', '10.1109/TVCG.2019.2934629', '10.1002/widm.1353', '10.1017/S0263574722000625', '10.1140/epjc/s10052-019-7501-1', '10.1109/TSP.2020.3006754', '10.1145/3341301.3359639', '10.1007/978-3-030-33676-9_39', '10.1007/s00521-022-07308-z', '10.1109/INTERCON.2019.8853566', '10.1109/TVCG.2019.2934262', '10.1109/TCCN.2020.2990657', '10.1016/j.patcog.2019.05.009', '10.1145/3350546.3352501', '10.1016/j.patrec.2021.02.022', '10.1145/3357384.3358117', '10.1145/3331184.3331310', '10.1145/3355089.3356560', '10.1145/3366423.3380018', '10.1109/ACII.2019.8925507', '10.1109/TCYB.2020.2984646', '10.1016/j.jclepro.2019.117732', '10.1109/TFUZZ.2020.2967282', '10.1109/ICASSP40776.2020.9053197', '10.1109/TVCG.2019.2934668', '10.1007/978-3-030-43887-6_19', '10.1016/j.knosys.2020.106622', '10.1145/3343031.3350960', '10.2352/ISSN.2470-1173.2018.01.VDA-380', '10.1145/3357384.3357820', '10.2991/jrnal.k.201215.006', '10.33682/1syg-dy60', '10.1145/3240323.3240388', '10.1088/1751-8121/ab956e', '10.1109/CAMSAP45676.2019.9022676', '10.1016/j.segan.2019.100244', '10.3390/app9204291', '10.1109/ICAC.2016.43', '10.1007/978-3-030-35817-4_11', '10.1103/PhysRevLett.124.010506', '10.1093/jrsssb/qkad105', '10.1016/j.artmed.2020.101806', '10.1016/j.knosys.2020.105480', '10.1109/TSP.2020.3009007', '10.20944/preprints201908.0029.v1', '10.1145/3331184.3331267', '10.1051/0004-6361/201935945', '10.1016/j.chaos.2020.110131', '10.17148/IARJSET.2019.6508', '10.1103/PhysRevA.102.012601', '10.1016/j.neunet.2018.11.009', '10.1371/journal.pone.0214168', '10.3390/e21080787', '10.1109/TKDE.2020.3035685', '10.1145/3292500.3330895', '10.1109/LRA.2020.2974653', '10.1109/TPAMI.2013.226', '10.1145/1276958.1277060', '10.1002/asl.861', '10.1109/IROS40897.2019.8967639', '10.1109/TIT.2023.3237231', '10.1109/JIOT.2019.2896174', '10.1109/TNNLS.2020.3029631', '10.1145/3292500.3330855', '10.3233/AF-200296', '10.1371/journal.pone.0237749', '10.1109/TII.2019.2932453', '10.1017/S1471068410000566', '10.1016/j.neunet.2019.04.013', '10.1145/3318464.3389711', '10.1109/ICEEST.2018.8643322', '10.1016/j.knosys.2019.105161', '10.1109/ICASSP.2019.8682259', '10.1145/3514260', '10.18653/v1/N19-1039', '10.1016/j.neunet.2019.12.014', '10.1088/1361-6420/ab5a21', '10.1007/s42985-021-00100-z', '10.1088/1742-6596/1334/1/012002', '10.1007/978-3-030-33327-0_19', '10.1145/3298689.3347043', '10.1007/978-3-030-19738-4_35', '10.1109/ICDARW.2019.40075', '10.20944/preprints201908.0019.v1', '10.1017/S0956792521000073', '10.1109/TMI.2020.2974858', '10.18653/v1/D19-1619', '10.1002/sam.11184', '10.1609/aaai.v34i04.5816', '10.1109/TC.2021.3062227', '10.1109/HPEC.2019.8916416', '10.18653/v1/D19-1555', '10.1109/JSEN.2021.3077949', '10.1109/TMM.2020.3014561', '10.1109/SBRN.2010.10', '10.1145/3531146.3533232', '10.1016/j.compchemeng.2020.106844', '10.1007/978-3-030-01424-7_13', '10.1145/3343031.3350943', '10.1145/3303772.3303786', '10.1109/ICASSP40776.2020.9054118', '10.1109/ACCESS.2019.2929571', '10.1145/3343031.3350887', '10.1109/JSEN.2019.2956998', '10.18653/v1/N19-1340', '10.1007/s10994-020-05882-8', '10.1088/1742-5468/abc62d', '10.1109/TVCG.2019.2934614', '10.1109/TASLP.2020.3000593', '10.1007/978-3-030-43823-4_47', '10.1145/3292500.3330647', '10.1109/CVPRW.2019.00078', '10.1145/3338501.3357366', '10.1016/j.neucom.2021.02.007', '10.1016/j.ijheatmasstransfer.2022.122919', '10.1109/GLOBECOM38437.2019.9013240', '10.3390/w10111536', '10.1109/IJCNN.2018.8489090', '10.1117/12.2529791', '10.1016/j.ejor.2019.05.035', '10.1109/TNNLS.2021.3054480', '10.1109/JIOT.2019.2952146', '10.1007/978-981-15-5093-5_38', '10.1145/3359313', '10.15607/RSS.2019.XV.014', '10.1146/annurev-fluid-010719-060214', '10.1088/1742-6596/1525/1/012005', '10.1109/DICTA.2018.8615780', '10.1609/aaai.v34i04.5897', '10.1109/IVS.2018.8500607', '10.1109/TIP.2019.2922837', '10.1007/978-3-030-33778-0_9', '10.1145/3289600.3290990', '10.1080/01605682.2021.1919035', '10.4018/IJDWM.2021040101', '10.18653/v1/D19-6401', '10.21437/Interspeech.2019-2048', '10.1109/ACCESS.2020.3031292', '10.1038/s41598-019-48295-x', '10.1109/TITS.2019.2931429', '10.1007/s00158-019-02458-6', '10.1007/s10822-019-00274-0', '10.1109/IVS.2019.8813773', '10.1109/BigDIA60676.2023.10429740', '10.1109/IPIN.2019.8911823', '10.2514/1.J058943', '10.1109/ECMR.2019.8870964', '10.1007/s10462-019-09770-z', '10.1109/TMM.2020.3006415', '10.3389/fmed.2019.00264', '10.1109/ALLERTON.2019.8919799', '10.1007/s10044-015-0496-9', '10.1109/ICDAR.2019.00139', '10.1016/j.compbiomed.2019.05.002', '10.1145/3292500.3330874', '10.24963/ijcai.2019/625', '10.1145/3152041.3152084', '10.1109/TCNS.2019.2891002', '10.1109/ISBI.2018.8363756', '10.1007/978-3-030-27544-0_19', '10.1121/1.5137211', '10.1088/1751-8121/ab59ef', '10.1109/EMC249363.2019.00013', '10.1109/ITA.2018.8502950', '10.1145/3447548.3467194', '10.5121/ijnsa.2019.11307', '10.1103/PhysRevResearch.3.023034', '10.1134/S1064226919120118', '10.1109/TNSRE.2019.2891000', '10.5281/zenodo.3240529', '10.1145/3136624', '10.1007/s10618-019-00657-9', '10.1109/TNNLS.2021.3121870', '10.1007/978-3-030-32251-9_54', '10.1007/s10489-022-03860-2', '10.1016/j.measurement.2017.11.004', '10.1109/LRA.2018.2806083', '10.1109/TPAMI.2019.2952096', '10.1088/1742-5468/ab371f', '10.1063/1.5110439', '10.1109/TVCG.2019.2956697', '10.1109/TPAMI.2019.2954885', '10.1007/978-3-030-43823-4_23', '10.1145/3299874.3319452', '10.24963/ijcai.2019/809', '10.1109/ICMLA.2019.00158', '10.1016/j.neunet.2022.03.022', '10.1137/19M1268781', '10.1007/978-3-030-21803-4_72', '10.3390/e21070627', '10.1016/j.chaos.2018.12.033', '10.1088/2058-9565/ab4eb5', '10.1109/ICASSP.2019.8682387', '10.3389/frai.2020.00025', '10.1109/TASLP.2021.3124365', '10.1016/j.knosys.2020.105514', '10.21437/Interspeech.2019-2177', '10.1038/s41598-019-47751-y', '10.1109/LSP.2020.2970306', '10.20944/preprints201905.0121.v1', '10.1145/3351095.3372845', '10.1371/journal.pone.0234806', '10.1109/TASLP.2021.3104193', '10.1613/jair.1.12904', '10.1609/aaai.v34i04.5728', '10.1088/2632-2153/ab57f3', '10.1109/ITSC.2019.8917470', '10.1007/s10107-019-01419-7', '10.1145/3337722.3341855', '10.5281/zenodo.3527965', '10.21437/Interspeech.2019-2454', '10.1145/3408288', '10.1103/PhysRevE.103.012103', '10.1109/ICRA.2019.8794065', '10.1007/978-3-030-22747-0_15', '10.1109/ICoIAS.2019.00018', '10.1007/978-3-030-30484-3_13', '10.1016/j.matcom.2020.02.012', '10.1007/978-3-030-46147-8_18', '10.1016/j.physletb.2017.12.053', '10.1109/PESGM.2018.8586321', '10.1109/IJCNN.2019.8851927', '10.1016/j.cose.2019.101603', '10.1109/LRA.2018.2856922', '10.3389/fnins.2020.00150', '10.1109/icdmw.2018.00035', '10.1038/s41586-021-03229-4', '10.1109/ACCESS.2019.2937357', '10.1029/2019JB018299', '10.1093/jrsssb/qkad050', '10.1109/TGRS.2019.2921809', '10.1109/TFUZZ.2011.2160024', '10.1103/PhysRevLett.106.090601', '10.1109/IJCNN.2018.8489675', '10.1007/s10994-008-5069-3', '10.1117/12.2531198', '10.1109/ITW.2007.4313111', '10.1109/TSP.2008.920143', '10.1143/JPSJ.76.114001', '10.1109/ICTAI.2007.99', '10.1371/journal.pcbi.0030252', '10.1007/s11128-007-0061-6', '10.1016/j.chemolab.2005.06.010', '10.1016/j.neunet.2006.05.002', '10.1016/j.chemolab.2006.06.007', '10.1016/j.neucom.2006.11.019', '10.1007/978-3-642-13800-3_7', '10.1016/j.fss.2007.04.026', '10.1088/1751-8113/42/44/445303', '10.1016/j.artint.2011.10.002', '10.4018/978-1-60566-766-9', '10.1109/TPAMI.2008.275', '10.1109/TSMCB.2008.925743', '10.3758/BRM.41.4.1201', '10.1016/j.geb.2012.05.002', '10.1186/gb-2008-9-s2-s11', '10.1109/TNN.2010.2095882', '10.1613/jair.2693', '10.1016/j.eswa.2010.02.050', '10.1109/TIT.2009.2015987', '10.1075/is.12.1.05fon', '10.1109/ISIT.2009.5205777', '10.1134/S2070046609040013', '10.1016/j.physa.2009.08.030', '10.3389/neuro.10.015.2009', '10.1007/s10994-008-5093-3', '10.1098/rsta.2009.0161', '10.1109/TIP.2009.2035228', '10.1007/s10846-005-3806-y', '10.1007/978-3-642-01805-3_4', '10.1109/JSTSP.2010.2076150', '10.1088/1751-8113/45/3/032003', '10.1109/TIT.2011.2104670', '10.1109/ICCVW.2009.5457695', '10.4086/toc.2014.v010a001', '10.1109/ICDMW.2008.87', '10.1109/TSP.2010.2062509', '10.1016/j.trc.2012.12.007', '10.1239/jap/1346955334', '10.1017/S1473550409990358', '10.1109/TIT.2012.2201375', '10.1109/CTS.2009.5067478', '10.1109/JSTSP.2010.2076050', '10.1214/09-AOAS321', '10.1088/1742-6596/233/1/012014', '10.1016/j.eij.2011.02.007', '10.1109/ALLERTON.2016.7852262', '10.1145/1772690.1772758', '10.1088/1742-5468/2010/08/P08014', '10.1613/jair.2934', '10.1145/1935826.1935878', '10.1109/ALLERTON.2010.5706896', '10.1109/TSP.2010.2050062', '10.1109/TNNLS.2014.2333876', '10.1109/GrC.2010.102', '10.1109/ICASSP.2010.5495281', '10.1109/TSP.2011.2171953', '10.1145/3219819.3220070', '10.1007/s10994-019-05780-8', '10.1109/JPROC.2018.2844126', '10.1162/neco_a_01099', '10.1007/s10618-010-0182-x', '10.5121/ijaia.2010.1303', '10.1371/journal.pone.0134968', '10.1007/s10472-013-9358-6', '10.1063/1.3573612', '10.1109/INFCOM.2011.5934995', '10.1109/TSMCB.2011.2163392', '10.4204/EPTCS.35.2', '10.3923/ijepe.2007.274.278', '10.1109/TSP.2011.2165211', '10.1109/TSP.2010.2086449', '10.1007/s11634-012-0110-6', '10.1109/TSP.2011.2141661', '10.1016/j.specom.2013.01.005', '10.1109/TPAMI.2012.172', '10.1109/TNNLS.2012.2235082', '10.1007/s00453-012-9717-4', '10.1109/TSP.2010.2097253', '10.1109/TSP.2013.2272925', '10.1088/1742-5468/2011/08/P08009', '10.1109/TSP.2011.2168521', '10.1214/12-AOAS543', '10.5121/ijaia.2011.2101', '10.1109/TNNLS.2012.2198240', '10.1109/ISIT.2011.6033687', '10.1214/12-AOS1000', '10.1109/WCNC.2011.5779375', '10.5121/ijmit.2011.3104', '10.1109/TSP.2011.2165952', '10.1109/TPAMI.2012.266', '10.1109/ICDM.2011.39', '10.1109/JSAC.2012.1201xx', '10.1007/s10618-012-0302-x', '10.1016/j.csda.2013.04.010', '10.1016/j.nima.2010.11.016', '10.1016/j.neucom.2012.01.013', '10.1613/jair.587', '10.3390/e13061076', '10.1613/jair.898', '10.1613/jair.946', '10.1007/s11042-019-7427-5', '10.1613/jair.1050', '10.1145/3084041.3084049', '10.1109/TNNLS.2018.2790388', '10.1016/j.neucom.2018.09.013', '10.1109/MSP.2018.2877582', '10.1007/978-3-642-20161-5_41', '10.1214/12-AOS1009', '10.1007/978-3-642-23291-6_28', '10.1007/s10462-012-9346-y', '10.5121/ijcses.2011.2302', '10.1002/cpe.2858', '10.1103/PhysRevE.85.041145', '10.1613/jair.1509', '10.1613/jair.1655', '10.1613/jair.1666', '10.1109/TPAMI.2012.185', '10.1007/s11263-012-0602-z', '10.1016/j.patcog.2012.09.027', '10.1109/TSP.2012.2215026', '10.1109/TIT.2013.2255021', '10.1613/jair.1872', '10.1007/978-3-642-24031-7_17', '10.1109/TIP.2014.2375641', '10.1371/journal.pone.0034796', '10.1137/110852462', '10.1117/12.893811', '10.1371/journal.pone.0040014', '10.1214/13-AOS1101', '10.5120/3864-5394', '10.1109/TSP.2012.2198470', '10.1088/0004-637X/756/1/67', '10.1109/TIT.2013.2271378', '10.1214/13-AOS1092', '10.1007/978-3-642-33492-4_4', '10.1109/TAC.2013.2254619', '10.1007/s10994-013-5345-8', '10.1109/TFUZZ.2012.2194151', '10.1038/srep00287', '10.1214/12-STS391', '10.1007/978-3-642-13312-1_46', '10.1109/IB2Com.2011.6217894', '10.1007/978-3-540-88045-5', '10.4156/AISS.vol3.issue9.31', '10.1109/TPAMI.2014.2313126', '10.1007/s10618-012-0291-9', '10.1007/s00500-013-1044-4', '10.1109/IVCNZ.2009.5378367', '10.1109/TSP.2012.2226165', '10.18637/jss.v061.i10', '10.1007/s10107-013-0729-x', '10.1109/LSP.2012.2184795', '10.1016/j.neunet.2013.01.012', '10.1007/978-3-642-30870-3_18', '10.1214/12-AOS1070', '10.1109/ICASSP.2012.6288022', '10.1007/s11063-012-9220-6', '10.1007/978-3-642-33486-3_5', '10.1016/j.jmp.2012.11.002', '10.1214/13-AOS1142', '10.5121/ijdkp.2012.2201', '10.1145/1569901.1570075', '10.1109/TIP.2013.2246175', '10.1007/978-3-642-29892-9_24', '10.1109/TSP.2013.2241057', '10.5121/ijnsa.2012.4106', '10.1016/j.eswa.2011.08.066', '10.1016/j.artint.2014.08.003', '10.1109/LSP.2012.2223757', '10.3150/13-BEJ582', '10.1109/JSTSP.2013.2245859', '10.1109/CDC.2012.6426587', '10.1145/2382936.2383060', '10.1145/2628434', '10.1109/TKDE.2012.131', '10.1088/1367-2630/14/10/103013', '10.1088/1742-5468/2012/12/P12021', '10.1214/19-EJS1635', '10.1214/13-AOS1140', '10.1109/TIFS.2012.2225048', '10.1186/1471-2105-14-82', '10.1137/130936166', '10.1016/j.neucom.2012.07.011', '10.5121/ijaia.2012.3409', '10.1186/1471-2105-13-307', '10.1109/TWC.2013.030413.121120', '10.1109/JSTSP.2012.2234082', '10.5120/8320-1959', '10.1214/12-AOAS614', '10.1109/ICSTE.2010.5608792', '10.1016/j.neucom.2014.09.044', '10.1109/TIT.2016.2515078', '10.1016/j.eswa.2012.07.021', '10.1007/978-3-642-38679-4_50', '10.1016/j.ijar.2013.04.003', '10.1007/s00453-015-0017-7', '10.1007/978-3-642-33636-2_20', '10.1016/j.jvcir.2011.10.009', '10.1007/s10115-012-0577-7', '10.1109/TSP.2012.2226446', '10.1371/journal.pone.0064846', '10.1007/s13218-012-0207-2', '10.1109/MSP.2012.2235192', '10.1214/12-AOS979', '10.1214/12-AOS980', '10.1214/12-AOS981', '10.1016/j.sigpro.2014.03.047', '10.1016/j.patcog.2013.10.006', '10.1109/TNNLS.2013.2271507', '10.5121/ijbb.2013.3202', '10.1109/JSTSP.2013.2258657', '10.1109/TSP.2014.2318138', '10.1007/s10994-016-5546-z', '10.1103/PhysRevE.90.011301', '10.1109/TWC.2014.022014.130840', '10.1007/978-3-642-33460-3_51', '10.1137/120900629', '10.1371/journal.pone.0061318', '10.1142/S0218001413600033', '10.1109/TSP.2013.2280444', '10.1109/TPAMI.2013.99', '10.5121/ijnsa', '10.4204/EPTCS.103', '10.4204/EPTCS.118.2', '10.1109/TCSI.2012.2206463', '10.1109/TPAMI.2013.182', '10.1109/TCYB.2014.2343194', '10.1016/j.camwa.2012.12.009', '10.1109/CCNC.2013.6488435', '10.1016/j.neucom.2012.12.043', '10.3150/15-BEJ703', '10.1109/ICDMW.2012.61', '10.1007/s10472-014-9419-5', '10.1109/ISPA.2011.24', '10.1016/j.robot.2012.05.008', '10.1109/ISIT.2013.6620308', '10.1371/journal.pone.0063400', '10.5121/ijist.2013.3103', '10.1109/TPAMI.2014.2315792', '10.1109/ICASSP.2014.6854993', '10.1109/TSP.2014.2298839', '10.5120/3913-5505', '10.1093/bioinformatics/btt425', '10.1007/978-3-642-16567-2_7', '10.1214/16-EJS1147', '10.1049/el.2013.1789', '10.1016/j.is.2017.05.006', '10.1109/TNNLS.2014.2336679', '10.1109/TSP.2013.2295553', '10.1073/pnas.1219097111', '10.1109/TSP.2014.2350956', '10.1109/CVPR.2013.205', '10.1007/978-3-642-39712-7_15', '10.1145/2487575.2487693', '10.1109/TSP.2014.2333554', '10.1016/j.sigpro.2013.06', '10.1109/TIT.2016.2605122', '10.1109/CVPR.2013.173', '10.1088/1751-8113/46/37/375002', '10.1142/S0218001412500188', '10.5121/ijdkp.2013.3207', '10.5120/11267-6526', '10.4230/LIPIcs.TQC.2013.50', '10.1109/TIT.2019.2961814', '10.1007/978-3-642-40988-2_15', '10.1007/978-3-642-37210-0_22', '10.1109/CVPRW.2013.131', '10.1109/ICC.2009.5199418', '10.1016/j.patcog.2013.01.006', '10.1214/14-AOP997', '10.5121/csit.2013.3305', '10.1109/CIG.2011.6031994', '10.1109/ICCCA.2012.6179181', '10.1109/MLSP.2013.6661923', '10.1109/IROS.2014.6942972', '10.1088/0266-5611/30/2/025003', '10.1002/wics.1270', '10.1109/TIP.2016.2544703', '10.1109/TPAMI.2014.2343973', '10.1109/ICSMC.2012.6377825', '10.1137/1.9781611973402.94', '10.1007/978-3-319-05530-5_11', '10.1287/opre.2015.1408', '10.1109/TKDE.2014.2377746', '10.1504/IJBRA.2015.071940', '10.3150/14-BEJ679', '10.1093/bioinformatics/btt211', '10.1007/s11222-014-9461-5', '10.1109/TSP.2013.2279358', '10.1007/s10472-015-9470-x', '10.1093/mnras/stu642', '10.4204/EPTCS.125.1', '10.1103/PhysRevE.89.042119', '10.1017/S1471068413000689', '10.5121/acij.2013.4501', '10.1613/jair.3640', '10.1007/s00422-013-0557-3', '10.1016/j.patcog.2014.07.022', '10.1109/JSTSP.2014.2299517', '10.1080/01621459.2014.998762', '10.1109/TIT.2015.2415195', '10.1109/JSTSP.2014.2336611', '10.1007/s10618-014-0355-0', '10.1007/s00500-017-2525-7', '10.5121/ijdkp.2013.3504', '10.1137/130940670', '10.1109/MSP.2013.2250591', '10.1007/978-3-642-37382-4_9', '10.3233/978-1-61499-419-0-537', '10.1371/journal.pone.0085733.s001', '10.1137/130946782', '10.1371/journal.pone.0094137', '10.1162/NECO_a_00600', '10.1109/TCYB.2014.2319577', '10.1109/MLSP.2013.6661985', '10.1109/TIT.2013.2273353', '10.1017/S026988891300043X', '10.1109/IJCNN.2013.6706862', '10.1007/978-3-642-40728-4_17', '10.1109/ICCIS.2008.4670763', '10.1007/978-3-662-44851-9_28', '10.1109/TASLP.2014.2337842', '10.3390/e20020097', '10.1016/j.jcp.2017.10.034', '10.1007/s10618-014-0364-z', '10.1016/j.neucom.2013.04.003', '10.1109/TASE.2013.2256349', '10.1016/j.neucom.2012.10.030', '10.1007/s11634-011-0096-5', '10.1016/j.neucom.2009.12.023', '10.1016/j.neunet.2009.06.040', '10.1016/j.pmcj.2014.05.006', '10.1109/IJCNN.2012.6252818', '10.1109/IJCNN.2011.6033590', '10.1016/j.sigpro.2015.09.017', '10.1109/TCYB.2013.2265084', '10.1109/TKDE.2013.126', '10.1109/TSP.2014.2332441', '10.1016/j.eneco.2013.07.028', '10.1016/j.knosys.2013.10.012', '10.1016/j.acha.2016.04.003', '10.1016/j.neucom.2013.01.027', '10.1016/j.neucom.2013.09.010', '10.1371/journal.pcbi.1003500', '10.1166/jbic.2013.1052', '10.1613/jair.2548', '10.1613/jair.2587', '10.1613/jair.2628', '10.1613/jair.2773', '10.1613/jair.2784', '10.1109/TKDE.2014.2316504', '10.1109/TPAMI.2016.2618118', '10.1109/LGRS.2013.2290531', '10.1613/jair.3396', '10.1613/jair.3175', '10.1613/jair.3195', '10.1613/jair.3198', '10.1613/jair.3003', '10.1613/jair.3313', '10.1613/jair.3384', '10.1613/jair.2986', '10.1007/s10618-015-0417-y', '10.1613/jair.3401', '10.1109/JSTSP.2014.2310294', '10.1007/s13042-015-0338-5', '10.1016/j.neucom.2016.01.004', '10.1371/journal.pone.0171015', '10.1613/jair.3348', '10.1613/jair.3623', '10.1613/jair.3693', '10.1109/TSP.2014.2357775', '10.1017/S1351324913000387', '10.1613/jair.3744', '10.1613/jair.3879', '10.1016/j.cviu.2015.03.002', '10.1109/TIT.2016.2556702', '10.1016/j.neucom.2014.10.081', '10.1007/978-3-662-43948-7_51', '10.1109/TMI.2014.2358499', '10.1109/TIP.2014.2378057', '10.1098/rspa.2014.0081', '10.1109/TASLP.2014.2357676', '10.1016/j.ins.2012.07.066', '10.5120/13376-0987', '10.5120/12065-8172', '10.5121/ijscai.2014.3102', '10.1016/j.neucom.2014.09.081', '10.1109/CVPR.2014.191', '10.1145/2700399', '10.1109/TCIAIG.2017.2679115', '10.1145/2623330.2623732', '10.1109/TNNLS.2015.2429711', '10.1007/978-3-319-08123-6_2', '10.1007/978-3-662-44848-9_39', '10.1109/TVT.2015.2453391', '10.1109/CVPR.2014.253', '10.1109/ROMAN.2014.6926328', '10.5121/ijdkp.2014.4203', '10.1145/2567948.2579272', '10.1109/TNNLS.2014.2309939', '10.1109/TIP.2015.2475625', '10.1109/TIP.2015.2478396', '10.1109/TSP.2015.2417491', '10.1088/0004-637X/793/1/23', '10.1007/978-3-662-44845-8_15', '10.1109/ICADIWT.2014.6814694', '10.1109/TSP.2015.2461515', '10.1007/978-3-319-08434-3_8', '10.1117/12.2050759', '10.1109/CVPR.2014.526', '10.1016/j.neunet.2014.09.003', '10.1016/j.neucom.2014.05.094', '10.1016/j.eswa.2014.04.009', '10.1371/journal.pcbi.1003892', '10.1137/140967325', '10.5121/ijfcst.2014.4102', '10.1145/2696454.2696455', '10.1007/s11263-014-0754-0', '10.1109/LSP.2014.2345761', '10.1007/978-3-319-07176-3_6', '10.1613/jair.2964', '10.1016/j.patrec.2015.03.008', '10.1080/10618600.2015.1054033', '10.1162/NECO_a_00694', '10.1109/IC3INA.2013.6819148', '10.1007/978-3-319-10404-1_65', '10.1613/jair.3077', '10.1007/978-3-642-29347-4_20', '10.3233/IDA-150734', '10.1109/TNNLS.2015.2440473', '10.1016/j.ijepes.2014.06.010', '10.1007/978-3-319-71249-9_28', '10.1109/TSP.2015.2451111', '10.1109/TSP.2015.2421476', '10.1109/LSP.2014.2347582', '10.3389/fnins.2014.00205', '10.1137/140994915', '10.1080/10556788.2015.1099652', '10.1109/TSP.2015.2405492', '10.1109/CCA.2014.6981380', '10.5815/ijigsp.2013.09.02', '10.1137/140973529', '10.1016/j.jmp.2015.01.001', '10.1007/978-3-319-53070-3_2', '10.1109/TSP.2015.2401536', '10.1109/TASLP.2015.2416655', '10.1016/j.ins.2014.05.001', '10.1038/nature14422', '10.1140/epjst/e2015-02349-9', '10.1145/3105576', '10.1109/TNNLS.2015.2418332', '10.1016/j.ins.2015.07.043', '10.1109/TSP.2015.2463261', '10.1137/1.9781611972832.11', '10.1016/j.cviu.2016.09.003', '10.1103/PhysRevE.90.052813', '10.1016/j.neucom.2014.01.069', '10.1016/j.neucom.2014.07.062', '10.1109/TSP.2015.2415759', '10.1109/TPAMI.2015.2469286', '10.1145/2661829.2662010', '10.1109/TPAMI.2015.2404776', '10.1109/TSP.2015.2394443', '10.1109/MIPRO.2014.6859744', '10.1145/2661829.2662091', '10.1080/0952813X.2014.886301', '10.1109/CIVEMSA.2013.6617400', '10.1007/978-3-319-23751-0_2', '10.1109/TIP.2015.2441632', '10.1088/1475-7516/2015/01/038', '10.1016/j.neucom.2010.11.030', '10.1109/IJCNN.2014.6889841', '10.1007/s00500-015-1876-1', '10.1109/TSP.2015.2457396', '10.1109/TSP.2015.2442960', '10.1109/TSP.2015.2415755', '10.1007/s00521-015-1907-y', '10.1109/ICDM.2014.147', '10.13140/2.1.1446.7843', '10.1109/ICASSP.2014.6853969', '10.1080/11663081.2016.1139967', '10.1103/PhysRevLett.114.111801', '10.7566/JPSJ.84.024801', '10.1155/2015/717095', '10.1016/j.neucom.2015.06.065', '10.1109/ICASSP.2014.6854728', '10.1145/2647868.2654933', '10.1109/TSG.2015.2469098', '10.1109/ISCAS.2015.7168664', '10.1007/s13278-014-0237-x', '10.1109/MSP.2014.2329397', '10.1109/TNNLS.2016.2582746', '10.5121/sipij.2014.5503', '10.1007/s13042-015-0418-6', '10.1109/MSP.2014.2326181', '10.14569/IJARAI.2014.030101', '10.1109/TNNLS.2015.2441735', '10.1145/2910585', '10.1007/s10898-015-0350-z', '10.1109/TSP.2015.2441042', '10.1109/TIP.2015.2401511', '10.1109/TPAMI.2015.2456899', '10.1109/TAC.2016.2525928', '10.1109/ICDM.2014.107', '10.1109/TIT.2016.2598574', '10.1109/EMBC.2012.6346629', '10.1145/2688073.2688095', '10.5121/ijfcst.2014.4606', '10.1109/ICM.2012.6471380', '10.1162/neco_a_00982', '10.1109/TIT.2016.2601599', '10.1109/TPAMI.2014.2315802', '10.1109/ACCESS.2015.2425304', '10.1007/978-3-319-18038-0_48', '10.1109/TSP.2015.2469637', '10.1186/1752-0509-8-S4-S7', '10.1109/TSP.2015.2472372', '10.1007/978-3-319-11179-7_28', '10.1145/2668067.2668072', '10.5121/ijcnc.2012.4115', '10.1007/s10994-018-5773-6', '10.1109/TSP.2015.2405503', '10.1016/j.neucom.2016.01.007', '10.1155/2015/814104', '10.1016/j.cageo.2015.05.018', '10.7566/JPSJ.84.034003', '10.23638/LMCS-15(1:10)2019', '10.1371/journal.pone.0137278', '10.1109/JSTSP.2015.2396477', '10.1109/TPAMI.2015.2456887', '10.1109/ISIT.2015.7282736', '10.1109/TITB.2012.2227271', '10.1016/j.knosys.2015.10.021', '10.1145/2668067.2668077', '10.1109/JSYST.2015.2478800', '10.1109/TSP.2017.2649482', '10.1103/PhysRevE.91.050101', '10.1109/TASLP.2016.2530409', '10.1109/IJCNN.2015.7280766', '10.1007/s00521-016-2269-9', '10.1109/TIP.2016.2520368', '10.1016/j.ins.2015.06.027', '10.1007/s10994-015-5528-6', '10.1109/TKDE.2016.2598171', '10.1145/3106235', '10.1145/2700406', '10.1145/2817946.2817949', '10.1109/ICDMW.2014.53', '10.1109/ACCESS.2016.2551727', '10.1109/TIT.2016.2621111', '10.1109/TASLP.2016.2520371', '10.1214/15-AOAS887', '10.1016/j.acha.2016.03.007', '10.1109/DSAA.2014.7058121', '10.1145/2742548', '10.1109/ICDMW.2014.90', '10.1016/j.eswa.2016.02.026', '10.1007/s00034-016-0310-y', '10.1109/JSTSP.2016.2537145', '10.1109/ICASSP.2015.7178129', '10.7566/JPSJ.84.054801', '10.1145/2736277.2741093', '10.1007/s00354-016-0306-y', '10.1109/TNNLS.2016.2582924', '10.1109/TCOMM.2015.2415777', '10.1109/TSMCC.2012.2220963', '10.1109/TNNLS.2015.2404803', '10.14569/IJACSA.2015.060313', '10.1007/s10439-015-1344-1', '10.1093/mnras/stv632', '10.1007/s11222-016-9649-y', '10.20904/271001', '10.1145/2783258.2783340', '10.1016/j.asoc.2017.01.034', '10.1109/LCSYS.2019.2913770', '10.1038/s41598-017-14740-y', '10.1371/journal.pone.0148655', '10.1145/2746539.2746632', '10.4467/20838476SI.14.005.3022', '10.4467/20838476SI.15.012.3034', '10.3390/s150409277', '10.1109/TSP.2016.2516962', '10.1109/TSP.2016.2546221', '10.1109/FOCS.2015.77', '10.1145/2732587.2732600', '10.1016/j.compchemeng.2015.03.016', '10.1109/IVMSPW.2016.7528230', '10.1137/18M1212586', '10.1073/pnas.1508400112', '10.1093/imaiai/iaw004', '10.1016/j.acha.2015.12.005', '10.1109/ICASSP.2016.7472809', '10.1007/s11222-016-9642-5', '10.1145/2939672.2939679', '10.1007/978-3-642-33460-3_9', '10.1093/bioinformatics/btv762', '10.1088/1742-5468/2015/08/P08008', '10.1109/CCNC.2016.7444919', '10.1109/TIM.2014.2367775', '10.2478/amcs-2019-0028', '10.1145/2835776.2835777', '10.1109/ASRU.2015.7404778', '10.1103/PhysRevX.6.031005', '10.1098/rspa.2015.0142', '10.1371/journal.pone.0139931', '10.1016/j.asoc.2016.10.003', '10.7717/peerj-cs.26', '10.1109/TPAMI.2017.2707495', '10.1109/TIT.2016.2573311', '10.1007/s10618-016-0467-9', '10.1162/neco_a_01100', '10.1162/ARTL_a_00225', '10.1109/TNNLS.2013.2286696', '10.1109/TMM.2015.2477044', '10.1016/j.neucom.2013.02.019', '10.1109/TSIPN.2016.2612120', '10.1016/j.neucom.2015.12.110', '10.1109/TSP.2015.2500889', '10.1117/12.2189112', '10.1109/ICASSP.2014.6854029', '10.1007/s10994-017-5652-6', '10.1145/3201064.3201093', '10.1109/CISTI.2014.6877093', '10.1007/978-3-319-07617-1_17', '10.1016/j.neunet.2015.07.011', '10.1109/LCN.2015.7366290', '10.1016/j.optcom.2020.126709', '10.1016/j.patcog.2016.03.014', '10.1109/TSP.2016.2580527', '10.1007/s00521-016-2726-5', '10.1103/PhysRevD.99.024024', '10.1007/978-3-319-11259-6_3-1', '10.1016/j.physd.2014.09.009', '10.1109/TSP.2015.2496278', '10.4204/EPTCS.188.8', '10.1109/ALLERTON.2015.7447163', '10.1007/s00521-015-2042-5', '10.4218/etrij.13.2013.0049', '10.1109/TCYB.2016.2601438', '10.1109/ICDM.2015.50', '10.1016/j.ins.2015.07.046', '10.1109/TNNLS.2015.2466686', '10.1111/insr.12176', '10.1109/TSP.2016.2557301', '10.1007/s10044-015-0508-9', '10.1109/TCYB.2015.2508603', '10.1016/j.neunet.2015.07.015', '10.1109/TSP.2016.2631454', '10.1109/JPROC.2015.2474704', '10.1088/0031-9155/60/16/6459', '10.1109/TNNLS.2017.2705694', '10.1109/TSP.2016.2591510', '10.1109/TPAMI.2016.2522425', '10.5121/csit.2015.51408', '10.1016/j.artmed.2014.07.004', '10.1016/j.dss.2015.09.003', '10.1109/BigData.2016.7840682', '10.1109/JSTARS.2015.2404808', '10.1007/s00521-013-1535-3', '10.1109/TNSE.2016.2516339', '10.1109/MCI.2014.2326100', '10.1007/s10514-015-9500-x', '10.1371/journal.pone.0156479', '10.1088/1742-6596/664/4/042026', '10.1109/MWC.2016.7498076', '10.3390/e17107266', '10.1016/j.cviu.2015.11.003', '10.1109/ICMLA.2015.141', '10.1145/2983323.2983377', '10.1109/ICASSP.2016.7472887', '10.1007/978-3-319-46227-1_26', '10.1145/2872427.2883031', '10.1109/JSTSP.2016.2548442', '10.1109/IPDPS.2016.119', '10.1016/j.ins.2016.12.015', '10.1145/2806416.2806506', '10.1109/TIT.2017.2672725', '10.1186/s13040-016-0108-2', '10.1145/3301282', '10.1016/j.ins.2019.01.025', '10.1109/TCI.2016.2567299', '10.1109/BigData.2015.7363931', '10.1214/15-AOAS848', '10.1109/LSP.2016.2535227', '10.1037/met0000087', '10.5121/csit.2015.51517', '10.1109/TETC.2015.2496504', '10.1109/ICICS.2013.6782778', '10.1145/2897518.2897519', '10.1007/978-3-319-46448-0_49', '10.1109/ICME.2016.7552887', '10.1371/journal.pcbi.1004948', '10.1109/TSP.2016.2572047', '10.1016/j.neucom.2018.04.027', '10.1109/ICCChina.2015.7448619', '10.1109/TNNLS.2018.2805019', '10.1109/MIS.2016.29', '10.1016/j.imavis.2015.09.005', '10.1007/s10994-017-5634-8', '10.1007/s10044-015-0485-z', '10.23638/DMTCS-20-1-9', '10.1016/j.patrec.2016.09.002', '10.1103/PhysRevE.93.042309', '10.1109/ICACCI.2015.7275618', '10.1109/TSP.2017.2749206', '10.1109/MSP.2015.2411564', '10.14738/tmlai.25.562', '10.1007/s11128-016-1388-7', '10.1109/CVPR.2016.438', '10.1016/j.patcog.2016.11.008', '10.1109/TSP.2016.2613067', '10.1109/TIFS.2015.2498131', '10.1109/MICC.2015.7725398', '10.1109/TMI.2015.2508780', '10.1109/LSP.2016.2548245', '10.1007/s10844-013-0235-x', '10.1109/BigDataCongress.2015.107', '10.1109/TKDE.2016.2561288', '10.1109/ICASSP.2016.7472120', '10.1016/j.patcog.2016.09.009', '10.1007/s00500-015-1938-4', '10.1093/bioinformatics/btw207', '10.1049/iet-spr.2016.0169', '10.1109/TIT.2017.2723898', '10.1109/TSP.2016.2595495', '10.1109/TSP.2017.2708029', '10.1016/j.knosys.2015.07.009', '10.1080/01621459.2017.1285773', '10.1371/journal.pcbi.1005070', '10.1109/TNNLS.2017.2727545', '10.1007/978-3-319-16354-3_66', '10.1142/S0218213014600136', '10.1007/s10955-016-1521-0', '10.1016/j.newast.2016.10.004', '10.1016/j.jmva.2016.06.003', '10.1080/10618600.2017.1377081', '10.1098/rsta.2015.0203', '10.1109/ICASSP.2016.7472767', '10.1371/journal.pone.0159188', '10.1109/ISM.2016.0016', '10.1109/ICASSP.2016.7472696', '10.1007/s10994-016-5567-7', '10.3389/frobt.2015.00036', '10.1109/ISIT.2016.7541405', '10.1103/PhysRevA.97.022303', '10.1109/TNNLS.2016.2630802', '10.1109/ICMLA.2016.0160', '10.1109/TSP.2017.2699639', '10.1140/epjc/s10052-016-4099-4', '10.1145/3136625', '10.1145/3403676.3403691', '10.1145/2872427.2883041', '10.1109/TIFS.2017.2730819', '10.1007/s10994-017-5632-x', '10.1109/TSP.2016.2607180', '10.1109/ISBI.2016.7493501', '10.1109/TKDE.2016.2563436', '10.1007/978-3-319-26535-3_39', '10.1109/CVPR.2015.7298831', '10.1109/TSP.2016.2605073', '10.1109/TSP.2016.2614793', '10.1093/imaiai/iaab007', '10.1145/2806416.2806615', '10.1145/2939672.2939787', '10.1109/TSIPN.2016.2613687', '10.14569/IJACSA.2016.070180', '10.1093/mnras/stw1454', '10.1038/s41467-017-01825-5', '10.1016/j.ejor.2017.03.021', '10.1109/ACCESS.2015.2430359', '10.1109/MNET.2016.7474340', '10.1371/journal.pone.0173610', '10.1177/1176934318785167', '10.1016/j.ijar.2017.01.001', '10.1109/access.2016.2556579', '10.1145/2872518.2890549', '10.1453/jel.v3i2.750', '10.1109/TNNLS.2016.2530403.', '10.1109/TNNLS.2016.2644268', '10.1073/pnas.1614734113', '10.1109/TCYB.2016.2633306', '10.1007/s11721-016-0126-1', '10.1111/cgf.13225', '10.3389/fnins.2016.00333', '10.1016/j.neunet.2017.11.010', '10.1007/s10994-017-5659-z', '10.1109/ICASSP.2016.7472917', '10.1073/pnas.1606316113', '10.1371/journal.pcbi.1005356', '10.1109/ICASSP.2016.7471667', '10.1109/TNNLS.2016.2608983', '10.1109/TSP.2016.2620967', '10.1109/ISIT.2016.7541385', '10.1016/j.eswa.2014.02.017', '10.1016/j.ipl.2017.05.004', '10.1109/TIP.2017.2725580', '10.1016/j.patcog.2015.02.012', '10.1016/j.jrp.2017.12.004', '10.1007/s11263-015-0799-8', '10.1016/j.asoc.2012.07.021', '10.3389/frobt.2016.00071', '10.1109/TIP.2017.2651399', '10.1109/JSTSP.2016.2592622', '10.14569/IJACSA.2015.060632', '10.1109/ICDM.2015.145', '10.1109/IWQoS.2016.7590438', '10.1145/3334480.3382899', '10.1007/s10994-017-5644-6', '10.1109/ISIT.2016.7541482', '10.1109/ACCESS.2017.2676166', '10.1109/PRNI.2016.7552331', '10.1007/978-3-319-47874-6_3', '10.1109/ICRA.2016.7487144', '10.1109/ISIT.2016.7541627', '10.1002/sim.7212', '10.2196/jmir.7994', '10.1145/2939672.2939832', '10.13140/RG.2.1.4983.3442', '10.1109/TCYB.2017.2702343', '10.1109/ISIT.2016.7541479', '10.1016/j.neunet.2016.08.007', '10.1088/1742-6596/1036/1/012015', '10.1073/pnas.1608103113', '10.1109/ICMLA.2016.0131', '10.1109/CVPR.2017.633', '10.1109/TSP.2016.2614491', '10.1109/ACC.2016.7526495', '10.1137/20M134695X', '10.1109/TSP.2016.2620116', '10.1145/3077136.3084135', '10.1103/PhysRevLett.118.190503', '10.1109/TSP.2017.2708039', '10.18653/v1/W16-2358', '10.1016/j.medengphy.2016.10.014', '10.1109/TASLP.2016.2632307', '10.1561/2200000060', '10.24963/ijcai.2017/267', '10.1109/TCYB.2017.2742705', '10.3390/e18080282', '10.1109/ICASSP40776.2020.9053613', '10.1016/j.patcog.2017.09.005', '10.1093/bioinformatics/btw433.', '10.1007/978-3-319-43997-6_4', '10.1109/TKDE.2018.2883613', '10.1109/TG.2018.2799997', '10.1103/PhysRevA.101.032323', '10.1145/3292500.3330682', '10.1021/acs.jcim.8b00839', '10.1145/3289600.3291009', '10.1109/CLOUD.2019.00067', '10.1016/j.jcp.2019.06.041', '10.1109/ISIT.2018.8437852', '10.1145/3279755.3279760', '10.1016/j.cviu.2019.06.004', '10.1016/j.eswa.2018.11.027', '10.1080/01621459.2021.1891925', '10.1145/3304105', '10.1007/978-3-030-14799-0_56', '10.1145/3287560.3287575', '10.1007/s13748-018-00167-7', '10.1109/TCBB.2018.2868088', '10.1186/s40537-020-00295-9', '10.1007/s11548-019-01944-y', '10.1109/BigData.2018.8622151', '10.1109/IJCNN.2018.8489690', '10.3390/e22010101', '10.1007/978-3-030-20074-9_10', '10.1007/978-3-319-20807-7_47', '10.1109/WACV.2018.00087', '10.1145/3132847.3132860', '10.1007/s00521-020-04943-2', '10.1039/C9CP05621A', '10.1038/s41591-019-0539-7', '10.1109/TNNLS.2020.2969327', '10.1109/SP.2019.00065', '10.1109/TSP.2019.2904922', '10.1109/ICDM.2018.00139', '10.1007/s11548-019-01958-6', '10.1109/JIOT.2019.2916777', '10.1145/3289600.3291002', '10.1109/MLHPC.2018.000-7', '10.20676/00000341', '10.1103/PhysRevB.103.014509', '10.1016/j.jcss.2022.01.003', '10.1609/aaai.v34i07.6722', '10.1016/j.physletb.2019.06.009', '10.1007/s10618-024-01002-5', '10.1038/s41524-019-0261-5', '10.1103/PhysRevLett.128.110501', '10.1145/3290605.3300468', '10.1145/3308558.3313668', '10.1016/j.artmed.2020.101804', '10.1051/epjconf/201921602003', '10.1007/s12530-017-9207-7', '10.1109/JIOT.2019.2908019', '10.1109/TIP.2013.2255302', '10.1109/TNNLS.2019.2955597', '10.1051/epjconf/201921406018', '10.1007/978-3-030-37309-2_26', '10.1109/TRO.2020.2980176', '10.1145/3108242', '10.1109/TSG.2019.2924183', '10.4204/EPTCS.304.9', '10.1016/j.knosys.2020.106609', '10.1145/3290605.3300830', '10.14722/ndss.2019.23138', '10.1109/CSCloud.2017.15', '10.7566/JPSJ.88.044003', '10.3390/make1040060', '10.1109/ICACCI.2018.8554637', '10.1103/PhysRevD.100.043527', '10.1109/ACCESS.2019.2918714', '10.1109/ACCESS.2019.2954957', '10.1016/j.ins.2018.09.061', '10.1145/3297280.3297378', '10.1109/ACCESS.2019.2961960', '10.26555/ijain.v4i2.249', '10.18178/ijmlc.2018.8.5.724', '10.1088/1742-5468/abc62f', '10.1007/s12559-018-9577-6', '10.1145/3297280.3297502', '10.1098/rsfs.2018.0083', '10.1002/sim.8082', '10.1016/j.neunet.2019.09.007', '10.1016/j.cageo.2019.04.006', '10.1145/3368555.3384462', '10.1109/IJCNN.2019.8852464', '10.1016/j.eswa.2018.06.034', '10.1145/3320496.3320500', '10.1007/s00180-016-0668-0', '10.1186/s13638-020-01801-6', '10.1007/978-3-030-20518-8_26', '10.1109/TAFFC.2020.2978069', '10.1186/s13362-019-0066-7', '10.1145/3308558.3313700', '10.1109/IJCNN48605.2020.9206968', '10.1088/1742-5468/abc61d', '10.1145/3292500.3330900', '10.1145/3219819.3219962', '10.1109/ICOSST.2018.8632192', '10.1145/3292500.3330931', '10.1145/3331184.3331259', '10.1109/ICMIM.2019.8726801', '10.1515/jci-2021-0042', '10.1007/978-1-0716-0826-5_14', '10.1016/j.neunet.2020.06.024', '10.1145/3292500.3330880', '10.1109/ISCAS.2019.8702725', '10.1016/j.automatica.2020.109127', '10.1088/1748-0221/14/08/P08020', '10.1016/j.neucom.2020.01.116', '10.1109/IJCNN.2019.8852414', '10.1016/j.asoc.2020.106127', '10.1007/978-3-030-39303-8_17', '10.1109/ICIP.2019.8803627', '10.1017/S0885715620000214', '10.1016/j.eswa.2019.112880', '10.1145/3357384.3357860', '10.13140/RG.2.2.35255.27043', '10.1145/3404191', '10.1021/acs.jctc.9b00884', '10.1145/3394486.3403059', '10.22331/q-2020-05-25-269', '10.1109/TIP.2018.2859820', '10.1038/s42005-020-00444-9', '10.1609/aaai.v34i04.5791', '10.1103/PhysRevResearch.2.033429', '10.1145/3355089.3356500', '10.1088/2632-2153/ab9c3d', '10.1364/OSAC.2.003438', '10.1007/s10994-020-05874-8', '10.1007/s10458-019-09433-x', '10.1109/ACCESS.2021.3053427', '10.1142/S0219691320500411', '10.1016/j.parco.2021.102788', '10.26348/znwwsi.18.45', '10.59275/j.melba.2023-5g54', '10.1109/ICDM.2019.00012', '10.1609/aaai.v34i05.6232', '10.1109/ICDE48307.2020.00078', '10.1007/978-3-030-46150-8_43', '10.1109/TBME.2019.2953274', '10.1142/S0219649220400134', '10.1016/j.neucom.2020.01.093', '10.1002/isaf.1465', '10.1145/3372297.3417238', '10.1109/MLHPC49564.2019.00009', '10.1007/s11063-019-10149-y', '10.1186/s13634-017-0444-5', '10.1109/TKDE.2020.3017120', '10.1145/3450268.3453519', '10.1007/s00521-020-05172-3', '10.1109/ACCESS.2020.2978435', '10.1029/2020JD032688', '10.26421/QIC20.7-8-1', '10.1109/TNNLS.2020.2985720', '10.1103/PhysRevE.101.032107', '10.1109/TSP.2020.3018665', '10.1007/s41109-019-0248-7', '10.1007/978-3-030-30490-4_40', '10.1029/2019MS001896', '10.1016/j.trc.2020.102715', '10.1109/ISBI45749.2020.9098656', '10.1145/3397271.3401113', '10.1109/TPAMI.2021.3059462', '10.1145/3302509.3311038', '10.1609/aaai.v34i04.5892', '10.1007/s10618-020-00710-y', '10.1109/ICDM.2019.00022', '10.1109/TCBB.2020.2993232', '10.1007/s42484-021-00041-1', '10.1007/978-3-030-49210-6_9', '10.1109/ICIP40778.2020.9191174', '10.1109/DSW.2019.8755564', '10.1007/978-3-030-45257-5_18', '10.4208/jms.v53n2.20.03', '10.1016/j.rinam.2022.100256', '10.1088/1757-899X/646/1/012048', '10.1109/TIV.2023.3255264', '10.1016/j.energy.2020.117136', '10.1109/HPEC.2019.8916336', '10.1145/3357384.3357870', '10.1063/1.5126869', '10.1561/2200000054', '10.1109/TGRS.2019.2930348', '10.1140/epjds/s13688-021-00277-8', '10.1080/10618600.2020.1825451', '10.1007/978-3-030-30241-2_48', '10.1007/978-3-030-46133-1_31', '10.1145/3418463', '10.1016/j.cmpb.2019.105079', '10.1038/s41567-021-01425-7', '10.1016/j.ins.2019.11.042', '10.1145/3361525.3361538', '10.1109/ICDM.2019.00060', '10.1016/j.eswa.2020.113453', '10.1016/j.neucom.2020.09.076', '10.1109/IV47402.2020.9304721', '10.1016/j.chb.2019.04.020', '10.1109/TITS.2020.3031331', '10.1038/s41467-020-19693-x', '10.1007/978-3-030-31372-2_24', '10.1145/3341215.3356314', '10.1002/aisy.201900132', '10.1073/pnas.1914950117', '10.1109/CONECCT50063.2020.9198447', '10.1145/3328905.3329510', '10.1145/3357729.3357736', '10.1016/j.future.2019.03.016', '10.1109/FPL.2019.00032', '10.1145/3337065', '10.1109/DASC/PiCom/DataCom/CyberSciTec.2018.000-1', '10.1145/3298689.3347034', '10.4204/EPTCS.306.32', '10.4204/EPTCS.306.39', '10.1007/978-3-030-30487-4_28', '10.1145/3424660', '10.1038/s41557-020-0544-y', '10.4230/LIPIcs.FORC.2020.6', '10.1145/3360309', '10.1016/j.jmarsys.2020.103347', '10.1145/3357384.3357974', '10.13140/RG.2.2.28808.16643', '10.1007/s10458-021-09504-y', '10.1109/TNNLS.2020.3015971', '10.24963/ijcai.2020/319', '10.1109/TSP.2020.2986351', '10.4204/EPTCS.306.23', '10.1145/3375627.3375850', '10.1016/j.eswa.2021.115937', '10.1109/ACCESS.2021.3118056', '10.1016/j.artmed.2019.101725', '10.5445/KSP/1000098011/09', '10.1109/ICCVW.2019.00317', '10.1145/3347146.3359078', '10.1145/3363347.3363357', '10.18653/v1/D19-1340', '10.1109/ISMCR47492.2019.8955725', '10.1007/978-3-030-20656-7_10', '10.1016/j.cma.2020.113250', '10.1016/j.cageo.2019.104330', '10.1109/LRA.2020.2967331', '10.1007/s41781-020-00040-0', '10.1109/TNSE.2019.2949036', '10.1038/s41598-019-50739-3', '10.1177/1077546320930144', '10.1103/PhysRevX.11.021043', '10.1609/aaai.v34i05.6263', '10.1109/TSP.2020.2979601', '10.1109/JBHI.2019.2942845', '10.1109/LRA.2020.3013937', '10.1007/978-3-030-34879-3_31', '10.1016/j.media.2021.101996', '10.1016/j.artmed.2020.101837', '10.1109/WI.2018.00-94', '10.1007/978-3-030-30508-6_2', '10.1145/3331184.3331337', '10.1177/0361198120930010', '10.1038/s41598-020-59985-2', '10.1109/TIT.2022.3175691', '10.1103/PhysRevX.10.041044', '10.1016/j.bdr.2021.100248', '10.1016/j.cviu.2022.103525', '10.1109/ICCChina.2019.8855868', '10.1109/TCSS.2020.3021467', '10.1109/TMI.2020.2998600', '10.1109/LRA.2020.3015448', '10.1371/journal.pone.0226990', '10.1007/978-3-319-75541-0_9', '10.1109/ASRU46091.2019.9003935', '10.1103/PhysRevLett.124.200504', '10.1007/978-3-030-20242-2_14', '10.1145/3292500.3330734', '10.18653/v1/D19-1197', '10.1007/978-3-030-37599-7_5', '10.23919/Eusipco47968.2020.9287606', '10.1016/j.eswa.2019.112876', '10.1145/3447548.3467413', '10.18653/v1/W19-8654', '10.1007/978-3-030-28954-6_1', '10.1109/ACCESS.2023.3271515', '10.1098/rspa.2020.0334', '10.1007/978-3-030-27947-9_30', '10.1007/978-3-030-01424-7_57', '10.1145/3357384.3357892', '10.1073/pnas.2005013117', '10.1109/TDSC.2021.3052953', '10.1371/journal.pone.0251248', '10.17706/jcp.12.6.500-510', '10.1109/IROS45743.2020.9341354', '10.1109/VISUAL.2019.8933568', '10.1016/j.compbiomed.2019.103545', '10.1007/978-3-030-43887-6_26', '10.24963/ijcai.2020/430', '10.1016/j.future.2019.09.046', '10.1051/0004-6361/202037709', '10.1109/LSP.2019.2957673', '10.1109/ICASSP40776.2020.9054458', '10.1145/3419394.3423643', '10.1038/s41598-020-64643-8', '10.1007/978-3-030-46640-4_15', '10.1109/ICTAI.2018.00054', '10.1145/3343031.3351030', '10.1103/PhysRevX.10.021020', '10.1088/1742-5468/ab43d3', '10.1145/3360901.3364432', '10.1145/3347448.3357164', '10.1142/S021902572150020X', '10.1109/BigData47090.2019.9005971', '10.1109/TNNLS.2021.3085299', '10.1145/3360901.3364441', '10.1609/aaai.v34i10.7243', '10.1109/LSP.2019.2957604', '10.1007/978-3-030-44094-7_7', '10.1371/journal.pone.0235424', '10.1109/TVCG.2020.3012063', '10.1109/MSP.2019.2935234', '10.1038/s41597-021-00893-z', '10.22331/q-2020-08-31-314', '10.1785/0220200021', '10.1109/HiPC.2019.00037', '10.1007/978-3-030-27202-9_29', '10.1007/s00779-020-01427-x', '10.1038/s42256-020-0216-z', '10.1109/DSAA49011.2020.00051', '10.1109/JSAC.2020.3000405', '10.1088/2632-2153/abe807', '10.1007/978-3-030-64580-9_26', '10.1109/LSP.2020.2998400', '10.1016/j.ins.2020.10.005', '10.1109/TransAI46475.2019.00014', '10.1109/ICPADS47876.2019.00150', '10.1109/ICASSP40776.2020.9054078', '10.1109/ICMLA.2019.00277', '10.1007/s10489-020-02051-1', '10.1109/ICRA40945.2020.9196709', '10.1109/LSP.2020.3027517', '10.1145/3368089.3409696', '10.1109/TMI.2020.2969682', '10.1007/s00158-021-02892-5', '10.1109/ACCESS.2020.2965621', '10.1109/BIBM47256.2019.8983232', '10.32470/CCN.2019.1323-0', '10.1109/IJCNN52387.2021.9533769', '10.1145/3357384.3357799', '10.1016/j.isprsjprs.2017.11.008', '10.1016/j.ins.2023.02.032', '10.1007/978-3-030-33391-1_1', '10.1109/IJCNN48605.2020.9207220', '10.1007/978-3-030-29743-5_5', '10.15607/RSS.2020.XVI.075', '10.1016/j.media.2021.102062', '10.1007/978-3-030-33850-3_10', '10.1109/ASYU48272.2019.8946437', '10.1038/s42256-021-00302-5', '10.1109/JSAIT.2020.2981538', '10.1007/s10472-020-09723-1', '10.18653/v1/D19-5228', '10.1016/j.robot.2020.103449', '10.1016/j.neucom.2021.03.062', '10.1145/3387514.3405859', '10.1109/TSP.2020.2983166', '10.1109/TSP.2015.2414900', '10.1109/ITSC.2019.8917518', '10.3847/1538-4357/accd61', '10.24963/ijcai.2020/572', '10.1103/PhysRevX.11.011052', '10.1021/jacs.1c06786', '10.1109/DEVLRN.2019.8850723', '10.18653/v1/2020.emnlp-main.496', '10.1109/BigData52589.2021.9672024', '10.1145/3362966.3362985', '10.1109/ICCCA49541.2020.9250764', '10.1016/j.neunet.2020.12.011', '10.1073/pnas.1802103115', '10.1007/978-3-030-26142-9_16', '10.1109/TCSVT.2019.2940647', '10.1037/rev0000346', '10.1109/PRDC50213.2020.00022', '10.1109/TWC.2020.3023397', '10.1109/GCWkshps45667.2019.9024679', '10.18653/v1/K19-1085', '10.1117/12.2532551', '10.1016/j.dss.2020.113284', '10.1109/BIBM47256.2019.8983375', '10.1007/978-3-030-50347-5_29', '10.1109/TCC.2019.2936567', '10.1142/S0218194020500230', '10.1145/3357384.3357951', '10.1016/j.patrec.2020.06.027', '10.1007/s10618-020-00723-7', '10.1145/3352460.3358263', '10.1109/ICMLA.2019.00161', '10.1109/TSP.2021.3049618', '10.1016/j.jcp.2020.109922', '10.1007/s13042-020-01193-5', '10.1016/j.patcog.2022.108759', '10.1145/3357713.3384314', '10.1145/3369583.3392674', '10.14778/3389133.3389135', '10.1109/IPDPS47924.2020.00080', '10.1109/TPAMI.2021.3066551', '10.5281/zenodo.3996808', '10.1109/ICASSP.2019.8683277', '10.1109/TVCG.2020.3003823', '10.1109/Blockchain.2019.00011', '10.1109/BigDataSE53435.2021.00022', '10.1016/j.infsof.2020.106296', '10.1109/TRPMS.2020.3025071', '10.1109/ICIP.2019.8804396', '10.1109/LRA.2020.2967324', '10.1109/TPAMI.2021.3074057', '10.1016/j.jcp.2020.109307', '10.1007/978-3-030-32692-0_44', '10.1080/24725854.2023.2219468', '10.1109/SIBIRCON48586.2019.8958134', '10.1007/s11704-020-0431-0', '10.1109/ICASSP40776.2020.9053913', '10.1016/j.procs.2019.09.165', '10.3390/electronics10070820', '10.1109/ICMLA.2019.00182', '10.1093/mnras/staa713', '10.1007/s10994-021-06116-1', '10.1109/ACCESS.2019.2950287', '10.1109/TNNLS.2020.3044364', '10.1016/j.comcom.2022.09.029', '10.1088/2632-2153/ab8731', '10.1016/j.crad.2019.07.001', '10.1016/j.physa.2020.125517', '10.1098/rsta.2019.0054', '10.1137/1.9781611976700.82', '10.1002/rob.21918', '10.1109/TITS.2020.3002070', '10.1088/2632-2153/ac298c', '10.1016/j.ins.2019.10.017', '10.1109/WACV45572.2020.9093434', '10.1145/3308558.3313696', '10.1109/MC.2018.2701640', '10.1109/ICMLA.2019.00301', '10.1609/aaai.v34i09.7111', '10.1093/mnras/staa744', '10.1016/j.neucom.2019.07.114', '10.1109/MSP.2020.2968813', '10.1145/3366703', '10.1007/978-3-030-11723-8_4', '10.1016/j.elerap.2021.101071', '10.1609/aaai.v34i05.6328', '10.1007/s11081-021-09600-8', '10.1109/ICMLA.2019.00202', '10.1017/dce.2021.7', '10.1145/3366634', '10.1109/ICACI.2018.8377567', '10.1109/ICASSP40776.2020.9053924', '10.1103/PhysRevA.102.042418', '10.1016/j.swevo.2020.100740', '10.1109/TIP.2020.3036752', '10.1007/978-3-030-32226-7_73', '10.1016/j.spl.2024.110278', '10.1109/TKDE.2020.3031329', '10.1109/TASLP.2020.3012060', '10.1007/s00354-019-00084-w', '10.1016/j.ultrasmedbio.2020.06.015', '10.1016/j.trc.2020.102858', '10.18653/v1/2020.blackboxnlp-1.23', '10.1109/ISBI45749.2020.9098514', '10.1109/TNNLS.2020.3006738', '10.1007/978-3-030-30487-4_24', '10.1038/s41524-020-00361-z', '10.1109/ICASSP40776.2020.9053029', '10.1186/s12880-020-00543-7', '10.1007/s10994-020-05901-8', '10.1063/1.5135919', '10.1145/3366423.3380087', '10.1109/TAI.2021.3086046', '10.1007/s10994-021-05946-3', '10.1016/j.visinf.2020.04.002', '10.1142/S0129065720500276', '10.1080/10618600.2021.1978471', '10.1007/978-3-030-29911-8_7', '10.1609/aaai.v34i07.6870', '10.1016/j.ijggc.2020.103223', '10.1016/j.jcp.2019.109099', '10.1007/s10618-020-00701-z', '10.1109/TITS.2018.2883823', '10.1007/978-981-15-5619-7_25', '10.1109/ICASSP40776.2020.9054172', '10.1109/ICASSP40776.2020.9053272', '10.21468/SciPostPhysCore.2.2.005', '10.1145/3371158.3371194', '10.1145/3366423.3380152', '10.1109/ICASSP40776.2020.9053252', '10.1007/978-3-030-58520-4_37', '10.1038/s41524-020-00367-7', '10.1016/j.cose.2021.102275', '10.1109/DCC47342.2020.00051', '10.1109/ACCESS.2020.3001768', '10.1016/j.isprsjprs.2020.06.006', '10.3389/fdata.2020.00001', '10.1109/TEVC.2021.3079320', '10.1137/20M1379745', '10.1002/lpor.202000120', '10.1109/TBME.2020.3024826', '10.1109/ICASSP40776.2020.9054546', '10.3390/symxx010005', '10.1162/neco_a_01232', '10.1109/3DV.2019.00043', '10.1109/Deep-ML.2019.00010', '10.1177/0361198120907283', '10.1145/3267935.3267946', '10.1109/TPAMI.2020.2976978', '10.21437/Interspeech.2019-1577', '10.1109/TNNLS.2020.3044146', '10.1103/PhysRevE.101.023304', '10.1016/j.eswa.2019.113075', '10.1088/1367-2630/ab82b9', '10.1109/ICASSP40776.2020.9053602', '10.1145/3336191.3371796', '10.1145/3372394.3372396', '10.1109/ICASSP40776.2020.9053323', '10.1109/TASLP.2020.2982285', '10.1007/s11263-019-01279-w', '10.1016/j.media.2020.101715', '10.18653/v1/2020.acl-main.421', '10.1016/j.ejor.2021.06.021', '10.1007/s42484-020-00023-9', '10.1088/1361-6382/ab8650', '10.1109/MSP.2019.2950432', '10.18653/v1/2020.acl-main.540', '10.1007/s11390-020-0142-x', '10.1186/s11671-018-2831-8', '10.1109/ICMLA.2019.00200', '10.2478/popets-2020-0077', '10.1109/ICIP40778.2020.9190691', '10.1103/PRXQuantum.2.010328', '10.1007/s11257-020-09277-1', '10.3390/s21041059', '10.1016/j.csda.2019.106849', '10.1109/TNET.2020.3035770', '10.1016/j.neucom.2020.10.008', '10.3390/su11205791', '10.24963/ijcai.2021/447', '10.1109/JSTSP.2020.2972775', '10.1145/3331184.3331195', '10.1109/TPS.2019.2947304', '10.1007/978-3-030-33778-0_21', '10.1109/TPAMI.2020.3021209', '10.1016/j.gaitpost.2020.10.035', '10.1016/j.spasta.2020.100408', '10.1109/TCYB.2021.3053165', '10.1007/978-3-030-17795-9', '10.3390/photonics8120535', '10.21437/Interspeech.2019-1582', '10.1109/MTITS.2019.8883365', '10.1007/s11192-021-03923-0', '10.3929/ethz-b-000388707', '10.1109/IJCNN48605.2020.9206822', '10.3233/JIFS-179677', '10.1109/CVPRW50498.2020.00465', '10.33682/ts6e-sn53', '10.1364/JOSAA.390384', '10.4208/nmtma.OA-2020-0032', '10.1109/LRA.2020.2965078', '10.1088/1751-8121/ab79f3', '10.1016/j.apenergy.2020.115413', '10.1016/j.imavis.2019.10.002', '10.1007/978-3-030-53288-8_3', '10.18653/v1/2020.acl-main.240', '10.18653/v1/D19-1038', '10.1109/ICSESS.2018.8663952', '10.1016/j.jhydrol.2020.124700', '10.1145/3485730.3493446', '10.1109/TMI.2019.2948320', '10.1007/978-3-030-22747-0_4', '10.1145/3437992.3439917', '10.1109/LCSYS.2020.2970555', '10.12681/eadd/46590', '10.1080/00224065.2021.1903821', '10.1016/j.media.2020.101714', '10.1049/iet-its.2019.0428', '10.1109/TKDE.2020.3021176', '10.1145/3139550.3139556', '10.1145/3357384.3357936', '10.1088/1751-8121/ab7f65', '10.7275/91ey-3n44', '10.1145/3298689.3347015', '10.1109/BigData47090.2019.9006481', '10.1016/j.physd.2020.132636', '10.1109/TWC.2020.2971981', '10.1214/21-AOAS1544', '10.1007/978-3-030-32226-7_90', '10.1088/1361-6560/ab7308', '10.1109/ICASSP40776.2020.9053422', '10.1145/3392149', '10.1016/j.procs.2019.12.043', '10.1145/3385730', '10.1145/3372297.3417253', '10.1109/ACCESS.2020.2993839', '10.1016/j.neunet.2019.10.002', '10.1007/978-3-030-32245-8_11', '10.1016/j.image.2021.116355', '10.1007/s10618-020-00693-w', '10.1109/SII46433.2020.9025951', '10.1016/j.patcog.2020.107745', '10.1007/978-3-030-32245-8_4', '10.1007/978-3-030-32689-0_8', '10.1109/EuroSP48549.2020.00021', '10.1109/TR.2021.3080664', '10.1093/jjfinec/nbz040', '10.1109/ICPR48806.2021.9413249', '10.1109/ICASSP40776.2020.9053783', '10.1109/TASLP.2020.3013105', '10.1109/ICCCNT45670.2019.8944750', '10.1007/978-981-15-6067-5_30', '10.1103/PhysRevLett.124.248302', '10.1080/15472450.2020.1780922', '10.3847/1538-3881/ab557d', '10.1145/3292500.3330693', '10.1109/MM.2020.3012391', '10.1088/1741-4326/ab555f', '10.1002/mp.13649', '10.1103/PhysRevLett.125.200602', '10.1017/S0956792520000327', '10.1146/annurev-physchem-042018-052331', '10.2514/1.J059203', '10.1109/ICASSP40776.2020.9053902', '10.1007/s10462-021-09975-1', '10.1109/TNNLS.2019.2944562', '10.1080/01621459.2021.1979010', '10.1007/s10851-020-00996-z', '10.1145/3379156.3391364', '10.1002/asna.202013690', '10.1177/0002764219859639', '10.1002/rnc.5361', '10.3233/FAIA190109', '10.18653/v1/2020.acl-main.197', '10.1007/978-3-030-17798-0_2', '10.1109/JBHI.2019.2919270', '10.18653/v1/D19-5229', '10.18653/v1/2020.findings-emnlp.294', '10.1007/978-3-030-22744-9_16', '10.1137/19M1299335', '10.21437/Interspeech.2019-3135', '10.1109/MITS.2020.3037324', '10.1109/TAC.2021.3126243', '10.1145/3336191.3371842', '10.1109/TCOMM.2021.3083597', '10.1109/ICASSP40776.2020.9053373', '10.1109/JSTSP.2020.2987728', '10.1109/TSP.2020.3030073', '10.1609/aaai.v34i04.5769', '10.1038/s41598-020-65235-2', '10.1109/TVT.2019.2951501', '10.1016/j.jneumeth.2021.109196', '10.1109/TrustCom50675.2020.00121', '10.1007/978-3-030-32695-1_9', '10.3389/fbioe.2020.00260', '10.1109/ACCESS.2020.2982571', '10.1016/j.compchemeng.2020.106991', '10.1109/TCSVT.2019.2936710', '10.1145/3371106', '10.1145/3363347.3363365', '10.1109/ICDARW.2019.60123', '10.1109/ICRA.2019.8794130', '10.1145/3358960.3379141', '10.24963/ijcai.2020/462', '10.1109/TSG.2020.2988171', '10.1109/LSP.2020.3044547', '10.21437/Interspeech.2019-2415', '10.1016/j.solener.2018.07.050', '10.1109/JSTSP.2020.3005030', '10.1109/VTC2020-Spring48590.2020.9128408', '10.1109/ICASSP.2019.8683538', '10.1038/s41524-020-00352-0', '10.1109/SC.2000.10031', '10.1109/embc.2019.8857242', '10.1007/978-3-030-27272-2_41', '10.29007/f4j4', '10.13140/RG.2.2.16800.17922', '10.1016/j.media.2020.101829', '10.1049/PBPC035G_ch5', '10.1109/TNNLS.2019.2947740', '10.1109/IJCNN.2019.8852121', '10.1109/TBCAS.2019.2953001', '10.1088/1748-0221/15/05/P05009', '10.1109/ACCESS.2021.3097964', '10.1093/bib/bbaa140', '10.1093/llc/fqaa032', '10.1126/sciadv.aba7281', '10.1145/225298.225336', '10.3390/app10144945', '10.1109/TPAMI.2019.2948348', '10.1109/JIOT.2019.2949374', '10.1029/2019GL085976', '10.1109/TNNLS.2015.2400448', '10.1109/ISBI45749.2020.9098723', '10.1016/j.patrec.2020.07.001', '10.1007/978-3-030-63092-8', '10.1109/BigData.2018.8622416', '10.1007/978-1-4615-5529-2_7', '10.1007/978-3-030-77517-9_20', '10.1109/RADAR.2019.8835656', '10.3390/a13110268', '10.1186/s13321-020-00423-w', '10.3311/PPee.17024', '10.1049/cit2.12002', '10.1109/IPDPS47924.2020.00053', '10.1109/TPWRS.2019.2953225', '10.1109/LRA.2017.2652494', '10.1109/TNNLS.2020.3043298', '10.1145/3433210.3453079', '10.1016/j.jspi.2019.11.002', '10.1016/j.envsoft.2020.104926', '10.3390/e21111109', '10.1109/ACCESS.2020.3001637', '10.1109/TSP.2020.2995192', '10.1109/LGRS.2019.2947783', '10.1007/s42979-021-00566-z', '10.1103/PhysRevE.102.030301', '10.1145/3434185', '10.1109/TNSM.2019.2943779', '10.1080/2150704X.2019.1693071', '10.5121/acij.2019.10501', '10.1109/TSMC.2020.3048950', '10.30534/ijatcse/2019/116852019', '10.1109/ICASSP40776.2020.9053921', '10.1145/3358960.3379143', '10.1109/CLOUD49709.2020.00063', '10.1145/3404835.3462953', '10.1109/ACCESS.2020.3002090', '10.1038/s41586-020-03051-4', '10.1093/mnras/stz3250', '10.1007/978-3-030-45442-5_1', '10.1109/BigData47090.2019.9006273', '10.1145/3336191.3371824', '10.1080/01605682.2021.2023672', '10.30534/ijatcse/2019/84842019', '10.1103/PhysRevD.102.103509', '10.1016/j.actaastro.2020.03.026', '10.1007/s00146-020-01045-4', '10.1109/ICECS46596.2019.8964993', '10.1162/evco_a_00267', '10.1145/3347146.3359381', '10.1007/978-3-030-58607-2_9', '10.1016/j.ejor.2019.11.030', '10.1007/s10994-024-06565-4', '10.1007/978-3-030-41099-5_12', '10.1007/s10472-020-09712-4', '10.18653/v1/P19-1438', '10.1016/j.patcog.2020.107625', '10.1145/3373087.3375389', '10.1109/LRA.2018.2800110', '10.1016/j.patrec.2020.06.023', '10.3233/FAIA200375', '10.3389/fpls.2019.01750', '10.1103/PhysRevD.101.042003', '10.1103/PhysRevResearch.5.033041', '10.1016/j.eswa.2021.116100', '10.1109/IJCNN.2019.8852427', '10.1186/s40537-020-00336-3', '10.1109/JSEN.2020.2991741', '10.1093/imanum/drab027', '10.1109/USBEREIT48449.2020.9117627', '10.1145/3336191.3371775', '10.1103/PhysRevResearch.2.023201', '10.1145/3442381.3449794', '10.1109/TSMC.2022.3146284', '10.5281/zenodo.4245396', '10.1016/j.jcp.2020.109665', '10.1016/j.neucom.2020.12.131', '10.1016/j.acha.2021.01.003', '10.1016/j.cose.2019.101663', '10.1038/s41598-020-62939-3', '10.1080/01621459.2019.1700130', '10.1145/3410463.3414655', '10.1109/BigData47090.2019.9005633', '10.1109/TKDE.2019.2954133', '10.1088/1757-899X/768/7/072032', '10.1364/OE.383217', '10.1109/TMM.2020.3032023', '10.1109/IGARSS.2019.8900186', '10.1109/JBHI.2021.3049452', '10.1145/3501714.3501755', '10.1109/ISCC50000.2020.9219693', '10.1007/978-3-658-29267-6_1', '10.1609/aaai.v34i02.5487', '10.1109/TNNLS.2020.3045000', '10.1016/j.neunet.2020.05.007', '10.3390/e22010098', '10.1002/int.22230', '10.1609/aaai.v34i03.5616', '10.5220/0009367504010409', '10.1109/ETFA.2019.8869311', '10.1109/ICMLA.2019.00300', '10.1016/j.neucom.2021.04.134', '10.1007/978-3-030-93278-7_3', '10.1007/978-3-030-61616-8_25', '10.1088/2632-2153/ab845a', '10.1093/mnras/stz3292', '10.1109/IJCNN.2018.8489605', '10.1038/s42254-019-0097-4', '10.1609/aaai.v34i03.5623', '10.3233/FAIA200244', '10.1145/3347146.3359063', '10.1098/rspa.2019.0841', '10.1038/s41467-020-19497-z', '10.1109/MWC.001.1900534.', '10.1016/j.jhydrol.2020.125802', '10.1145/3336191.3371778', '10.23919/Eusipco47968.2020.9287745', '10.18653/v1/P19-1660', '10.5815/ijitcs.2019.11.03', '10.1007/s10844-019-00582-9', '10.1007/978-3-030-43120-4_27', '10.1145/3425501', '10.20944/preprints201911.0338.v1', '10.1109/MSP.2020.2976000', '10.1109/TAFFC.2021.3093923', '10.1109/LRA.2020.3047778', '10.1145/3340531.3411940', '10.1016/j.compmedimag.2020.101721', '10.1109/ICIET48527.2019.9290671', '10.1007/978-3-030-30493-5_44', '10.1007/978-3-030-52856-0_36', '10.1016/j.neucom.2020.09.060', '10.3389/fbioe.2020.00158', '10.1145/3146347.3146358', '10.1109/TSP.2020.3013516', '10.1109/TKDE.2019.2956700', '10.23919/DATE.2019.8714788', '10.1007/978-3-030-58610-2_15', '10.21468/SciPostPhys.8.4.070', '10.1145/3383313.3412245', '10.7717/peerj-cs.274', '10.1109/TITS.2020.3046478', '10.1121/10.0002172', '10.1088/1475-7516/2020/11/005', '10.1093/jamia/ocz211', '10.1109/TITS.2021.3055614', '10.23919/DATE48585.2020.9116393', '10.21105/joss.01957', '10.1145/3292500.3330699', '10.3390/en14040847', '10.1109/ICST46399.2020.00019', '10.1088/1751-8121/ab82dd', '10.1063/5.0002047', '10.1016/j.commatsci.2022.111280', '10.1364/OPTICA.392465', '10.3390/e20050390', '10.3390/e21030221', '10.1109/ICASSP40776.2020.9053176', '10.1007/978-3-030-01424-7_60', '10.1073/pnas.1922204117', '10.1109/ACCESS.2020.2979348', '10.1145/3359989.3365418', '10.1109/TIFS.2020.3021899', '10.1093/mnras/stz3426', '10.1609/aimag.v40i2.2847', '10.32470/CCN.2019.1300-0', '10.1145/3377930.3390232', '10.1186/s13634-020-00698-z', '10.1145/3338466.3358922', '10.1145/3343031.3350873', '10.1016/j.media.2021.102169', '10.14722/ndss.2020.23005', '10.1145/3372885.3373827', '10.1145/3506719', '10.1145/3321707.3321821', '10.1063/1.5134845', '10.1016/j.imavis.2020.103927', '10.1016/j.cviu.2020.103103', '10.1109/ICRA40945.2020.9196778', '10.1002/mp.14545', '10.1145/3388176.3388187', '10.1016/j.advwatres.2020.103610', '10.1007/978-3-030-01424-7_59', '10.1007/s11590-020-01639-3', '10.1007/s00521-020-05612-0', '10.1088/1367-2630/ab976f', '10.1109/LCOMM.2019.2956929', '10.1145/3336191.3371813', '10.1016/j.infsof.2021.106756', '10.1016/j.artmed.2023.102640', '10.1093/bioinformatics/btab021', '10.1109/PRIA.2019.8785981', '10.1145/3450439.3451855', '10.1073/pnas.1921562117', '10.1109/TETCI.2019.2961157', '10.1109/IJCNN.2019.8851798', '10.1007/s42979-020-00362-1', '10.1109/TSE.2021.3073242', '10.1007/s42979-020-00324-7', '10.1016/j.osnem.2020.100071', '10.1109/ACCESS.2020.3033795', '10.1109/LSENS.2020.2980384', '10.1016/j.patter.2021.100271', '10.1109/USBEREIT48449.2020.9117753', '10.1109/TNNLS.2020.3017010', '10.1016/j.neucom.2019.12.133', '10.1145/3161196', '10.1109/TNNLS.2020.3023941.', '10.55630/sjc.2021.15.85-128', '10.1109/EMBC44109.2020.9175641', '10.1109/TIP.2019.2959254', '10.1371/journal.pone.0244245', '10.1109/TNNLS.2021.3087497', '10.1145/3351095.3372870', '10.1109/PESGM41954.2020.9281560', '10.1016/j.knosys.2021.106771', '10.1145/3460944.3464312', '10.1109/IJCNN.2019.8851920', '10.1609/aaai.v34i05.6339', '10.1016/j.ins.2020.04.014', '10.1145/3442188.3445901', '10.20944/preprints201906.0055.v2', '10.1063/1.5142089', '10.1038/s41467-020-18197-y', '10.1080/01691864.2018.1554508', '10.1109/TGRS.2020.3046454', '10.1007/978-3-030-34255-5_11', '10.1145/3338501.3357371', '10.1109/ICIET48527.2019.9290722', '10.1109/BigData47090.2019.9005596', '10.7566/JPSJ.89.124006', '10.1007/s00791-020-00327-0', '10.1007/978-3-030-32251-9_65', '10.1109/TIP.2020.3021789', '10.1016/j.physa.2020.125581', '10.1109/TPAMI.2020.3014297', '10.1109/LRA.2020.3013848', '10.1016/j.peva.2020.102183', '10.1016/j.csda.2020.107089', '10.1007/978-3-030-37051-0_85', '10.1063/1.5128898', '10.1016/j.patcog.2019.107103', '10.1002/mp.14507', '10.1109/LRA.2020.3004800', '10.1140/epjc/s10052-020-8251-9', '10.1109/IJCNN52387.2021.9534033', '10.1103/PhysRevLett.125.093901', '10.3390/computers9040085', '10.1109/JSTSP.2020.3003170', '10.1016/j.mri.2020.08.005', '10.1109/LSP.2020.2988771', '10.1109/TIP.2020.3010631', '10.1103/PhysRevA.101.052316', '10.1371/journal.pone.0233678', '10.17656/jzs.10755', '10.1109/DFT.2019.8875314', '10.1109/ACCESS.2020.3032056', '10.1007/978-3-030-64610-3_40', '10.1002/mrm.28378', '10.36227/techrxiv.15023361.v1', '10.1145/3474121', '10.1109/ICDARW.2019.10037', '10.1109/TNSRE.2021.3089594', '10.1007/s42452-019-1914-1', '10.1016/j.cmpb.2021.106225', '10.1073/pnas.1916634117', '10.1109/TNNLS.2021.3102378', '10.1109/TPAMI.2019.2963387', '10.1177/11779322211020315', '10.1038/s41467-020-17478-w', '10.1016/j.physd.2020.132401', '10.1109/ICIP40778.2020.9190825', '10.1109/CVPRW50498.2020.00029', '10.22331/q-2020-10-09-340', '10.3390/info11020063', '10.1145/3351095.3372862', '10.1016/j.neucom.2022.04.005', '10.1103/PhysRevE.101.052604', '10.1007/978-981-15-3651-9_20', '10.1609/aaai.v34i05.6306', '10.3929/ethz-b-000386316', '10.1016/j.cmpb.2019.105172', '10.1016/j.neunet.2021.02.017', '10.1007/s00521-020-04942-3', '10.1016/j.neunet.2020.09.016', '10.1016/j.patcog.2021.107899', '10.1145/3357384.3357893', '10.1029/2019WR026793', '10.1016/j.artint.2020.103367', '10.1109/TMI.2020.3018508', '10.1109/TNNLS.2021.3056201', '10.1002/mp.14391', '10.7717/peerj-cs.757', '10.1088/1361-6560/ab990e', '10.1007/978-3-030-59065-9_24', '10.1016/j.neunet.2020.10.016', '10.1145/3371425.3371641', '10.1145/3377454', '10.1016/j.cosrev.2020.100286', '10.1109/BigDataService49289.2020.00030', '10.1214/22-EJS2008', '10.1016/j.softx.2022.101095', '10.1145/3351095.3372866', '10.1109/BigData.2018.8621927', '10.1093/bioinformatics/btaa609', '10.1109/LRA.2020.2975727', '10.1145/3351095.3372829', '10.1007/978-3-030-36708-4_23', '10.1007/s10590-021-09284-y', '10.5220/0009178209800986', '10.1016/j.engappai.2021.104603', '10.1109/DSAA.2019.00016', '10.1371/journal.pcbi.1007617', '10.1016/j.jcp.2020.109498', '10.1109/ACCESS.2020.3027497', '10.18653/v1/2020.acl-main.468', '10.1145/3336191.3371831', '10.1007/s42001-020-00082-9', '10.1016/j.cma.2020.113379', '10.1016/j.phro.2020.04.002', '10.1016/j.adhoc.2021.102738', '10.1088/1361-6560/ab843e', '10.1007/978-3-030-59065-9_9', '10.1103/PhysRevE.100.062312', '10.1609/aaai.v34i04.5841', '10.1186/s12544-021-00516-z', '10.1021/acs.jcim.0c00005', '10.1016/j.ins.2020.11.009', '10.1145/3126686.3126735', '10.1145/3385412.3386015', '10.1088/1742-5468/ab8c3a', '10.1109/TITS.2020.3012034', '10.1145/3132847.3133127', '10.1103/PhysRevE.101.033305', '10.1088/2632-2153/ab8967', '10.1613/jair.1.13509', '10.1080/00949655.2021.1903463', '10.1109/NCA.2019.8935007', '10.1109/ROBIO49542.2019.8961836', '10.1145/3385412.3386023', '10.1007/s10115-021-01583-3', '10.1038/s41534-023-00766-w', '10.1080/10618600.2019.1598871', '10.1186/s12911-018-0657-z', '10.1109/TITS.2020.3028424', '10.1080/10618600.2021.1938585', '10.3390/e22020204', '10.1145/3442390', '10.1016/j.inffus.2020.09.008', '10.1016/j.media.2020.101813', '10.1109/TKDE.2020.3038234', '10.1145/3563210', '10.1002/prot.25888', '10.1109/TIM.2021.3116309', '10.1109/IEEECONF44664.2019.9048939', '10.1177/1478077119894483', '10.3233/FAIA190111', '10.1088/1361-6641/ac251b', '10.1016/j.neunet.2020.06.006', '10.1109/TSP.2020.3012952', '10.1109/TCDS.2021.3050723', '10.1016/j.asoc.2020.106878', '10.1016/j.ymssp.2019.106585', '10.1088/1751-8121/ab7d00', '10.1007/s11222-021-10067-x', '10.1162/neco_a_01360', '10.1109/JIOT.2020.2964162', '10.1007/s00500-021-06110-8', '10.1613/jair.1.12376', '10.1109/TSP.2022.3153135', '10.3390/e22020131', '10.1109/ROBIO49542.2019.8961780', '10.1609/aimag.v41i4.5296', '10.1103/PhysRevE.103.033303', '10.3390/a15030081', '10.1145/3336191.3371811', '10.1016/j.neunet.2020.12.018', '10.1145/3373376.3378534', '10.1109/TAI.2021.3135804', '10.1109/TPAMI.2020.3010201', '10.1007/978-3-030-31756-0_6', '10.3389/frai.2020.00034', '10.1088/1742-5468/ab7123', '10.5220/0008949905220529', '10.1145/3319502.3374791', '10.1007/s11042-020-09223-8', '10.1038/s41467-021-21728-w', '10.1109/TIP.2020.3024026', '10.1109/ACCESS.2019.2962617', '10.1088/2632-2153/ac9ae8', '10.1007/s11036-019-01443-z', '10.1109/TMI.2019.2963446', '10.1098/rspa.2020.0563', '10.5220/0008915003780385', '10.1016/j.jhydrol.2020.125205', '10.1186/s40494-020-00369-0', '10.1145/3320326.3320391', '10.1109/EIT.2019.8834255', '10.1007/s42979-021-00688-4', '10.1145/3364222', '10.1088/2632-072X/aba83d', '10.5220/0007255301930204', '10.1145/3319499.3328231', '10.1109/6GSUMMIT49458.2020.9083856', '10.1109/ACCESS.2020.2980266', '10.1007/s10710-020-09375-4', '10.1109/LRA.2020.2967299', '10.1109/JETCAS.2020.2992593', '10.1016/j.jocs.2020.101171', '10.1007/s42979-019-0023-y', '10.1016/j.neucom.2021.02.027', '10.1109/TBME.2020.2964724', '10.1109/RADAR42522.2020.9114698', '10.1145/3336191.3371814', '10.1109/ICMLA.2019.00094', '10.1145/3394486.3403205', '10.1109/TIP.2021.3118984', '10.1145/3306618.3314283', '10.1177/1059712320922916', '10.1007/s41233-020-00034-1', '10.1109/TIE.2019.2962438', '10.15623/ijret.2018.0710009', '10.1109/MSP.2020.2966273', '10.1007/s11004-021-09957-7', '10.1109/TDSC.2019.2942930', '10.1109/ISCAS45731.2020.9181099', '10.1109/JSEN.2020.2972850', '10.1103/PhysRevA.102.062403', '10.1145/3313831.3376590', '10.1287/trsc.2021.1086', '10.1145/3373087.3375312', '10.1109/ACCESS.2020.3000816', '10.1038/s41467-020-17835-9', '10.59275/j.melba.2022-8b6a', '10.1109/TNNLS.2021.3082568', '10.1109/TCDS.2020.2965981', '10.3233/IDA-184287', '10.1145/3312614.3312646', '10.3390/s20185250', '10.1109/BIBM47256.2019.8983041', '10.1109/TSC.2020.3000900', '10.1109/MSP.2020.2996545', '10.1103/PhysRevLett.125.178301', '10.1016/j.cma.2020.113008', '10.1364/OE.424165', '10.1016/j.apenergy.2021.116778', '10.1109/AICAS48895.2020.9073950', '10.1016/j.jcp.2021.110414', '10.1145/3377811.3380337', '10.7566/JPSJ.89.034801', '10.1371/journal.pcbi.1008483', '10.1103/PhysRevE.102.012152', '10.14722/ndss.2020.24210', '10.1109/TCYB.2019.2931067', '10.1109/TNNLS.2020.3025954', '10.1103/PhysRevE.101.062209', '10.1109/TGRS.2021.3056196', '10.1016/j.cma.2020.113299', '10.1002/nla.2373', '10.1088/1367-2630/abb64c', '10.24963/ijcai.2019/883', '10.1145/3319502.3374811', '10.1111/cgf.13889', '10.1002/mp.14648', '10.1109/ACCESS.2020.3001393', '10.1145/3313831.3376783', '10.1017/jfm.2020.820', '10.1038/s41598-020-68287-6', '10.1109/LCSYS.2020.2980552', '10.1016/j.patrec.2021.08.013', '10.1007/978-3-030-30425-6_29', '10.1088/1751-8121/ab8ff4', '10.1016/j.imavis.2020.103889', '10.1109/MSP.2020.2970170', '10.1093/bioinformatics/btaa966', '10.1109/JSTSP.2020.2967566', '10.1016/j.heliyon.2021.e06226', '10.1109/wacv45572.2020.9093339', '10.1007/s42979-020-00306-9', '10.5555/3463952.3464080', '10.1145/3336191.3371768', '10.1109/MWC.001.1900239', '10.1007/s13748-019-00201-2', '10.1103/PhysRevResearch.2.023266', '10.1109/TPAMI.2020.2968065', '10.1002/qute.201900115', '10.1088/2632-2153/abab62', '10.1145/3308558.3313504', '10.1109/LSP.2020.3025020', '10.1080/10556788.2020.1713779', '10.1038/s42005-020-0373-8', '10.1007/s12652-020-02268-5', '10.1109/ISMAR-Adjunct.2019.00-30', '10.1109/WACV45572.2020.9093549', '10.11517/pjsai.JSAI2022.0_2S4IS2b03', '10.1109/TPWRS.2020.3015913', '10.5121/ijcsit.2019.11604', '10.1109/CEC.2019.8790123', '10.1109/ICDL-EpiRob48136.2020.9278105', '10.1145/10.1145/3313831.3376873', '10.1609/aaai.v34i07.6898', '10.1007/s00521-020-05139-4', '10.1145/3377325.3377490', '10.1145/3387939.3391607', '10.1109/IJCNN48605.2020.9207166', '10.1016/j.jcp.2020.109672', '10.1109/TIFS.2020.3033454', '10.1109/TEC.2021.3052546', '10.1109/TSP.2020.3014611', '10.3934/fods.2020004', '10.1016/j.artmed.2020.101987', '10.1016/j.lwt.2019.03.074', '10.1016/j.jocs.2021.101385', '10.1145/3377325.3377501', '10.1016/j.ymeth.2020.06.016', '10.18653/v1/D19-1188', '10.1109/ICSENS.2018.8589920', '10.1016/j.knosys.2020.105502', '10.1109/TNNLS.2021.3067028', '10.1021/acs.chemrev.0c00004', '10.1007/s00521-021-06488-4', '10.1007/978-3-030-27202-9_10', '10.1371/journal.pone.0286072', '10.1016/j.patcog.2023.110229', '10.1145/3366423.3380001', '10.1007/s13319-014-0014-7', '10.1038/s41377-020-0315-y', '10.1016/j.jcp.2020.109584', '10.1088/1742-6596/1525/1/012099', '10.1109/TIP.2020.3014729', '10.1109/TGRS.2020.3021819', '10.1109/TETCI.2020.2977678', '10.1109/TCCN.2019.2941191', '10.1145/3366423.3380171', '10.1088/2632-2153/ac3ffa', '10.1109/ICASSP40776.2020.9054071', '10.1093/jamia/ocaa096', '10.1016/j.iot.2019.100072', '10.1145/3366423.3380201', '10.1117/12.2549366', '10.1109/LRA.2020.2970620', '10.1016/j.eswa.2021.114913', '10.1109/ICDM.2019.00180', '10.1109/JSTARS.2021.3070786', '10.1145/3377930.3389805', '10.30534/ijatcse/2019/155862019', '10.1109/IJCNN48605.2020.9207209', '10.1063/1.5143285', '10.1109/ICRA40945.2020.9196846', '10.1007/s10851-022-01114-x', '10.3389/fpls.2020.01120', '10.23919/EuCAP48036.2020.9135310', '10.1121/10.0001132', '10.3934/fods.2020022', '10.1145/3351095.3372863', '10.1145/3382507.3418815', '10.1002/widm.1368', '10.1109/ICASSP40776.2020.9053577', '10.1109/LGRS.2020.3010504', '10.1016/j.watres.2020.115490', '10.1109/TNSM.2020.3016246', '10.1007/s13218-020-00637-y', '10.1109/JBHI.2020.3021143', '10.36227/techrxiv.15088734.v1', '10.1016/j.sysarc.2022.102413', '10.1016/j.neunet.2019.09.011', '10.3390/ijerph17030731', '10.1007/978-981-33-6977-1', '10.1371/journal.pone.0233382', '10.1016/j.xcrp.2020.100264', '10.1145/3366423.3380136', '10.1016/j.jcp.2020.109681', '10.2523/IPTC-19693-MS', '10.1155/2020/4015323', '10.1109/ICASSP40776.2020.9053934', '10.3233/FAIA200390', '10.1103/PhysRevFluids.5.113506', '10.1103/PhysRevResearch.2.033295', '10.1109/TSP.2020.3046972', '10.1109/ICSC.2020.00018', '10.1007/978-3-030-44689-5_9', '10.1109/ICMLA.2019.00265', '10.1016/j.simpa.2021.100113', '10.1007/978-3-030-21348-0_15', '10.1016/j.apenergy.2020.115451', '10.1109/IJCNN48605.2020.9207161', '10.1016/j.asoc.2021.107356', '10.1007/978-3-030-61527-7_21', '10.1109/ICASSP40776.2020.9054760', '10.1109/JSTSP.2020.2969775', '10.3390/e23060693', '10.24963/ijcai.2021/293', '10.1103/PhysRevE.105.065305', '10.1007/s10994-022-06280-y', '10.1016/j.eswa.2020.114072', '10.1145/3366423.3380016', '10.1007/s10618-022-00847-y', '10.1121/10.0001687', '10.13140/RG.2.2.21224.21769', '10.1098/rspa.2021.0168', '10.1145/3366423.3380241', '10.1007/s11704-021-0261-8', '10.23919/EUSIPCO.2019.8902975', '10.1109/TSP.2022.3164837', '10.1162/neco_a_01372', '10.1038/s42003-020-1057-3', '10.1093/nsr/nwaa233', '10.1145/3397271.3401045', '10.46298/theoretics.23.8', '10.1109/MIPR.2019.00098', '10.1093/mnras/staa319', '10.1080/01605682.2020.1865846', '10.1186/s41747-020-00173-2', '10.1109/TCI.2020.3019647', '10.1109/JLT.2020.3007919', '10.1103/PhysRevE.102.032309', '10.1016/j.tcs.2020.08.033', '10.1137/1.9781611976700.51', '10.1109/ICEE50131.2020.9260808', '10.1007/s00521-020-05549-4', '10.1142/S0218202520500530', '10.1109/TSP.2020.3036902', '10.1016/j.neucom.2020.12.034', '10.1109/JSAC.2020.3018804', '10.1109/TPWRS.2020.3029557', '10.1109/LCSYS.2020.2989110', '10.1016/j.neucom.2019.11.112', '10.1109/ICASSP40776.2020.9053367', '10.1145/3441452', '10.1109/IV47402.2020.9304597', '10.1109/CEC48606.2020.9185648', '10.1007/978-981-15-5199-4_16', '10.14778/3407790.3407796', '10.3390/forecast2030015', '10.1016/j.neucom.2021.06.051', '10.1007/s10994-021-06009-3', '10.24963/ijcai.2020/512', '10.1145/3366423.3380270', '10.21437/Interspeech.2020-1783', '10.1109/TAC.2023.3313351', '10.1016/j.jcp.2021.110219', '10.1145/3424672', '10.1017/nws.2020.45', '10.1145/3366423.3380083', '10.1145/3366423.3380180', '10.1109/TR.2021.3074750', '10.1109/TRO.2020.2971415', '10.1007/978-3-030-46640-4_10', '10.1093/mnras/staa350', '10.5194/gmd-13-3373-2020', '10.1002/mrm.28937', '10.1109/TSP.2020.3033962', '10.1109/TDSC.2020.3043369', '10.1109/ISIT44484.2020.9174368', '10.1007/978-3-319-76941-7_45', '10.1007/s42484-020-00027-5', '10.1016/j.ress.2018.10.004', '10.1093/mnras/staa2109', '10.3390/e22111281', '10.3390/rs12030465', '10.1088/2632-2153/ab983a', '10.1021/acs.jpcb.0c00708']\n",
      "processing  0 to 5\n"
     ]
    },
    {
     "name": "stderr",
     "output_type": "stream",
     "text": [
      "Flash attention implementation does not support kwargs: task\n",
      "Flash attention implementation does not support kwargs: task\n",
      "Flash attention implementation does not support kwargs: task\n"
     ]
    },
    {
     "name": "stdout",
     "output_type": "stream",
     "text": [
      "processing  5 to 10\n"
     ]
    },
    {
     "name": "stderr",
     "output_type": "stream",
     "text": [
      "Flash attention implementation does not support kwargs: task\n",
      "Flash attention implementation does not support kwargs: task\n"
     ]
    },
    {
     "name": "stdout",
     "output_type": "stream",
     "text": [
      "processing  10 to 15\n"
     ]
    },
    {
     "name": "stderr",
     "output_type": "stream",
     "text": [
      "Flash attention implementation does not support kwargs: task\n",
      "Flash attention implementation does not support kwargs: task\n"
     ]
    },
    {
     "name": "stdout",
     "output_type": "stream",
     "text": [
      "processing  15 to 20\n"
     ]
    },
    {
     "name": "stderr",
     "output_type": "stream",
     "text": [
      "Flash attention implementation does not support kwargs: task\n",
      "Flash attention implementation does not support kwargs: task\n"
     ]
    },
    {
     "name": "stdout",
     "output_type": "stream",
     "text": [
      "processing  20 to 25\n"
     ]
    },
    {
     "name": "stderr",
     "output_type": "stream",
     "text": [
      "Flash attention implementation does not support kwargs: task\n",
      "Flash attention implementation does not support kwargs: task\n"
     ]
    },
    {
     "name": "stdout",
     "output_type": "stream",
     "text": [
      "processing  25 to 30\n"
     ]
    },
    {
     "name": "stderr",
     "output_type": "stream",
     "text": [
      "Flash attention implementation does not support kwargs: task\n",
      "Flash attention implementation does not support kwargs: task\n"
     ]
    },
    {
     "name": "stdout",
     "output_type": "stream",
     "text": [
      "processing  30 to 35\n"
     ]
    },
    {
     "name": "stderr",
     "output_type": "stream",
     "text": [
      "Flash attention implementation does not support kwargs: task\n",
      "Flash attention implementation does not support kwargs: task\n"
     ]
    },
    {
     "name": "stdout",
     "output_type": "stream",
     "text": [
      "processing  35 to 40\n"
     ]
    },
    {
     "name": "stderr",
     "output_type": "stream",
     "text": [
      "Flash attention implementation does not support kwargs: task\n",
      "Flash attention implementation does not support kwargs: task\n"
     ]
    },
    {
     "name": "stdout",
     "output_type": "stream",
     "text": [
      "processing  40 to 45\n"
     ]
    },
    {
     "name": "stderr",
     "output_type": "stream",
     "text": [
      "Flash attention implementation does not support kwargs: task\n",
      "Flash attention implementation does not support kwargs: task\n"
     ]
    },
    {
     "name": "stdout",
     "output_type": "stream",
     "text": [
      "processing  45 to 50\n"
     ]
    },
    {
     "name": "stderr",
     "output_type": "stream",
     "text": [
      "Flash attention implementation does not support kwargs: task\n",
      "Flash attention implementation does not support kwargs: task\n"
     ]
    },
    {
     "name": "stdout",
     "output_type": "stream",
     "text": [
      "processing  50 to 55\n"
     ]
    },
    {
     "name": "stderr",
     "output_type": "stream",
     "text": [
      "Flash attention implementation does not support kwargs: task\n",
      "Flash attention implementation does not support kwargs: task\n"
     ]
    },
    {
     "name": "stdout",
     "output_type": "stream",
     "text": [
      "processing  55 to 60\n"
     ]
    },
    {
     "name": "stderr",
     "output_type": "stream",
     "text": [
      "Flash attention implementation does not support kwargs: task\n",
      "Flash attention implementation does not support kwargs: task\n"
     ]
    },
    {
     "name": "stdout",
     "output_type": "stream",
     "text": [
      "processing  60 to 65\n"
     ]
    },
    {
     "name": "stderr",
     "output_type": "stream",
     "text": [
      "Flash attention implementation does not support kwargs: task\n",
      "Flash attention implementation does not support kwargs: task\n"
     ]
    },
    {
     "name": "stdout",
     "output_type": "stream",
     "text": [
      "processing  65 to 70\n"
     ]
    },
    {
     "name": "stderr",
     "output_type": "stream",
     "text": [
      "Flash attention implementation does not support kwargs: task\n",
      "Flash attention implementation does not support kwargs: task\n"
     ]
    },
    {
     "name": "stdout",
     "output_type": "stream",
     "text": [
      "processing  70 to 75\n"
     ]
    },
    {
     "name": "stderr",
     "output_type": "stream",
     "text": [
      "Flash attention implementation does not support kwargs: task\n",
      "Flash attention implementation does not support kwargs: task\n"
     ]
    },
    {
     "name": "stdout",
     "output_type": "stream",
     "text": [
      "processing  75 to 80\n"
     ]
    },
    {
     "name": "stderr",
     "output_type": "stream",
     "text": [
      "Flash attention implementation does not support kwargs: task\n",
      "Flash attention implementation does not support kwargs: task\n"
     ]
    },
    {
     "name": "stdout",
     "output_type": "stream",
     "text": [
      "processing  80 to 85\n"
     ]
    },
    {
     "name": "stderr",
     "output_type": "stream",
     "text": [
      "Flash attention implementation does not support kwargs: task\n",
      "Flash attention implementation does not support kwargs: task\n"
     ]
    },
    {
     "name": "stdout",
     "output_type": "stream",
     "text": [
      "processing  85 to 90\n"
     ]
    },
    {
     "name": "stderr",
     "output_type": "stream",
     "text": [
      "Flash attention implementation does not support kwargs: task\n",
      "Flash attention implementation does not support kwargs: task\n"
     ]
    },
    {
     "name": "stdout",
     "output_type": "stream",
     "text": [
      "processing  90 to 95\n"
     ]
    },
    {
     "name": "stderr",
     "output_type": "stream",
     "text": [
      "Flash attention implementation does not support kwargs: task\n",
      "Flash attention implementation does not support kwargs: task\n"
     ]
    },
    {
     "name": "stdout",
     "output_type": "stream",
     "text": [
      "processing  95 to 100\n"
     ]
    },
    {
     "name": "stderr",
     "output_type": "stream",
     "text": [
      "Flash attention implementation does not support kwargs: task\n",
      "Flash attention implementation does not support kwargs: task\n"
     ]
    },
    {
     "name": "stdout",
     "output_type": "stream",
     "text": [
      "processing  100 to 105\n"
     ]
    },
    {
     "name": "stderr",
     "output_type": "stream",
     "text": [
      "Flash attention implementation does not support kwargs: task\n",
      "Flash attention implementation does not support kwargs: task\n"
     ]
    },
    {
     "name": "stdout",
     "output_type": "stream",
     "text": [
      "processing  105 to 110\n"
     ]
    },
    {
     "name": "stderr",
     "output_type": "stream",
     "text": [
      "Flash attention implementation does not support kwargs: task\n",
      "Flash attention implementation does not support kwargs: task\n"
     ]
    },
    {
     "name": "stdout",
     "output_type": "stream",
     "text": [
      "processing  110 to 115\n"
     ]
    },
    {
     "name": "stderr",
     "output_type": "stream",
     "text": [
      "Flash attention implementation does not support kwargs: task\n",
      "Flash attention implementation does not support kwargs: task\n"
     ]
    },
    {
     "name": "stdout",
     "output_type": "stream",
     "text": [
      "processing  115 to 120\n"
     ]
    },
    {
     "name": "stderr",
     "output_type": "stream",
     "text": [
      "Flash attention implementation does not support kwargs: task\n",
      "Flash attention implementation does not support kwargs: task\n"
     ]
    },
    {
     "name": "stdout",
     "output_type": "stream",
     "text": [
      "processing  120 to 125\n"
     ]
    },
    {
     "name": "stderr",
     "output_type": "stream",
     "text": [
      "Flash attention implementation does not support kwargs: task\n",
      "Flash attention implementation does not support kwargs: task\n"
     ]
    },
    {
     "name": "stdout",
     "output_type": "stream",
     "text": [
      "processing  125 to 130\n"
     ]
    },
    {
     "name": "stderr",
     "output_type": "stream",
     "text": [
      "Flash attention implementation does not support kwargs: task\n",
      "Flash attention implementation does not support kwargs: task\n"
     ]
    },
    {
     "name": "stdout",
     "output_type": "stream",
     "text": [
      "processing  130 to 135\n"
     ]
    },
    {
     "name": "stderr",
     "output_type": "stream",
     "text": [
      "Flash attention implementation does not support kwargs: task\n",
      "Flash attention implementation does not support kwargs: task\n"
     ]
    },
    {
     "name": "stdout",
     "output_type": "stream",
     "text": [
      "processing  135 to 140\n"
     ]
    },
    {
     "name": "stderr",
     "output_type": "stream",
     "text": [
      "Flash attention implementation does not support kwargs: task\n",
      "Flash attention implementation does not support kwargs: task\n"
     ]
    },
    {
     "name": "stdout",
     "output_type": "stream",
     "text": [
      "processing  140 to 145\n"
     ]
    },
    {
     "name": "stderr",
     "output_type": "stream",
     "text": [
      "Flash attention implementation does not support kwargs: task\n",
      "Flash attention implementation does not support kwargs: task\n"
     ]
    },
    {
     "name": "stdout",
     "output_type": "stream",
     "text": [
      "processing  145 to 150\n"
     ]
    },
    {
     "name": "stderr",
     "output_type": "stream",
     "text": [
      "Flash attention implementation does not support kwargs: task\n",
      "Flash attention implementation does not support kwargs: task\n"
     ]
    },
    {
     "name": "stdout",
     "output_type": "stream",
     "text": [
      "processing  150 to 155\n"
     ]
    },
    {
     "name": "stderr",
     "output_type": "stream",
     "text": [
      "Flash attention implementation does not support kwargs: task\n",
      "Flash attention implementation does not support kwargs: task\n"
     ]
    },
    {
     "name": "stdout",
     "output_type": "stream",
     "text": [
      "processing  155 to 160\n"
     ]
    },
    {
     "name": "stderr",
     "output_type": "stream",
     "text": [
      "Flash attention implementation does not support kwargs: task\n",
      "Flash attention implementation does not support kwargs: task\n"
     ]
    },
    {
     "name": "stdout",
     "output_type": "stream",
     "text": [
      "processing  160 to 165\n"
     ]
    },
    {
     "name": "stderr",
     "output_type": "stream",
     "text": [
      "Flash attention implementation does not support kwargs: task\n",
      "Flash attention implementation does not support kwargs: task\n"
     ]
    },
    {
     "name": "stdout",
     "output_type": "stream",
     "text": [
      "processing  165 to 170\n"
     ]
    },
    {
     "name": "stderr",
     "output_type": "stream",
     "text": [
      "Flash attention implementation does not support kwargs: task\n",
      "Flash attention implementation does not support kwargs: task\n"
     ]
    },
    {
     "name": "stdout",
     "output_type": "stream",
     "text": [
      "processing  170 to 175\n"
     ]
    },
    {
     "name": "stderr",
     "output_type": "stream",
     "text": [
      "Flash attention implementation does not support kwargs: task\n",
      "Flash attention implementation does not support kwargs: task\n"
     ]
    },
    {
     "name": "stdout",
     "output_type": "stream",
     "text": [
      "processing  175 to 180\n"
     ]
    },
    {
     "name": "stderr",
     "output_type": "stream",
     "text": [
      "Flash attention implementation does not support kwargs: task\n",
      "Flash attention implementation does not support kwargs: task\n"
     ]
    },
    {
     "name": "stdout",
     "output_type": "stream",
     "text": [
      "processing  180 to 185\n"
     ]
    },
    {
     "name": "stderr",
     "output_type": "stream",
     "text": [
      "Flash attention implementation does not support kwargs: task\n",
      "Flash attention implementation does not support kwargs: task\n"
     ]
    },
    {
     "name": "stdout",
     "output_type": "stream",
     "text": [
      "processing  185 to 190\n"
     ]
    },
    {
     "name": "stderr",
     "output_type": "stream",
     "text": [
      "Flash attention implementation does not support kwargs: task\n",
      "Flash attention implementation does not support kwargs: task\n"
     ]
    },
    {
     "name": "stdout",
     "output_type": "stream",
     "text": [
      "processing  190 to 195\n"
     ]
    },
    {
     "name": "stderr",
     "output_type": "stream",
     "text": [
      "Flash attention implementation does not support kwargs: task\n",
      "Flash attention implementation does not support kwargs: task\n"
     ]
    },
    {
     "name": "stdout",
     "output_type": "stream",
     "text": [
      "processing  195 to 200\n"
     ]
    },
    {
     "name": "stderr",
     "output_type": "stream",
     "text": [
      "Flash attention implementation does not support kwargs: task\n",
      "Flash attention implementation does not support kwargs: task\n"
     ]
    },
    {
     "name": "stdout",
     "output_type": "stream",
     "text": [
      "processing  200 to 205\n"
     ]
    },
    {
     "name": "stderr",
     "output_type": "stream",
     "text": [
      "Flash attention implementation does not support kwargs: task\n",
      "Flash attention implementation does not support kwargs: task\n"
     ]
    },
    {
     "name": "stdout",
     "output_type": "stream",
     "text": [
      "processing  205 to 210\n"
     ]
    },
    {
     "name": "stderr",
     "output_type": "stream",
     "text": [
      "Flash attention implementation does not support kwargs: task\n",
      "Flash attention implementation does not support kwargs: task\n"
     ]
    },
    {
     "name": "stdout",
     "output_type": "stream",
     "text": [
      "processing  210 to 215\n"
     ]
    },
    {
     "name": "stderr",
     "output_type": "stream",
     "text": [
      "Flash attention implementation does not support kwargs: task\n",
      "Flash attention implementation does not support kwargs: task\n"
     ]
    },
    {
     "name": "stdout",
     "output_type": "stream",
     "text": [
      "processing  215 to 220\n"
     ]
    },
    {
     "name": "stderr",
     "output_type": "stream",
     "text": [
      "Flash attention implementation does not support kwargs: task\n",
      "Flash attention implementation does not support kwargs: task\n"
     ]
    },
    {
     "name": "stdout",
     "output_type": "stream",
     "text": [
      "processing  220 to 225\n"
     ]
    },
    {
     "name": "stderr",
     "output_type": "stream",
     "text": [
      "Flash attention implementation does not support kwargs: task\n",
      "Flash attention implementation does not support kwargs: task\n"
     ]
    },
    {
     "name": "stdout",
     "output_type": "stream",
     "text": [
      "processing  225 to 230\n"
     ]
    },
    {
     "name": "stderr",
     "output_type": "stream",
     "text": [
      "Flash attention implementation does not support kwargs: task\n",
      "Flash attention implementation does not support kwargs: task\n"
     ]
    },
    {
     "name": "stdout",
     "output_type": "stream",
     "text": [
      "processing  230 to 235\n"
     ]
    },
    {
     "name": "stderr",
     "output_type": "stream",
     "text": [
      "Flash attention implementation does not support kwargs: task\n",
      "Flash attention implementation does not support kwargs: task\n"
     ]
    },
    {
     "name": "stdout",
     "output_type": "stream",
     "text": [
      "processing  235 to 240\n"
     ]
    },
    {
     "name": "stderr",
     "output_type": "stream",
     "text": [
      "Flash attention implementation does not support kwargs: task\n",
      "Flash attention implementation does not support kwargs: task\n"
     ]
    },
    {
     "name": "stdout",
     "output_type": "stream",
     "text": [
      "processing  240 to 245\n"
     ]
    },
    {
     "name": "stderr",
     "output_type": "stream",
     "text": [
      "Flash attention implementation does not support kwargs: task\n",
      "Flash attention implementation does not support kwargs: task\n"
     ]
    },
    {
     "name": "stdout",
     "output_type": "stream",
     "text": [
      "processing  245 to 250\n"
     ]
    },
    {
     "name": "stderr",
     "output_type": "stream",
     "text": [
      "Flash attention implementation does not support kwargs: task\n",
      "Flash attention implementation does not support kwargs: task\n"
     ]
    },
    {
     "name": "stdout",
     "output_type": "stream",
     "text": [
      "processing  250 to 255\n"
     ]
    },
    {
     "name": "stderr",
     "output_type": "stream",
     "text": [
      "Flash attention implementation does not support kwargs: task\n",
      "Flash attention implementation does not support kwargs: task\n"
     ]
    },
    {
     "name": "stdout",
     "output_type": "stream",
     "text": [
      "processing  255 to 260\n"
     ]
    },
    {
     "name": "stderr",
     "output_type": "stream",
     "text": [
      "Flash attention implementation does not support kwargs: task\n",
      "Flash attention implementation does not support kwargs: task\n"
     ]
    },
    {
     "name": "stdout",
     "output_type": "stream",
     "text": [
      "processing  260 to 265\n"
     ]
    },
    {
     "name": "stderr",
     "output_type": "stream",
     "text": [
      "Flash attention implementation does not support kwargs: task\n",
      "Flash attention implementation does not support kwargs: task\n"
     ]
    },
    {
     "name": "stdout",
     "output_type": "stream",
     "text": [
      "processing  265 to 270\n"
     ]
    },
    {
     "name": "stderr",
     "output_type": "stream",
     "text": [
      "Flash attention implementation does not support kwargs: task\n",
      "Flash attention implementation does not support kwargs: task\n"
     ]
    },
    {
     "name": "stdout",
     "output_type": "stream",
     "text": [
      "processing  270 to 275\n"
     ]
    },
    {
     "name": "stderr",
     "output_type": "stream",
     "text": [
      "Flash attention implementation does not support kwargs: task\n",
      "Flash attention implementation does not support kwargs: task\n"
     ]
    },
    {
     "name": "stdout",
     "output_type": "stream",
     "text": [
      "processing  275 to 280\n"
     ]
    },
    {
     "name": "stderr",
     "output_type": "stream",
     "text": [
      "Flash attention implementation does not support kwargs: task\n",
      "Flash attention implementation does not support kwargs: task\n"
     ]
    },
    {
     "name": "stdout",
     "output_type": "stream",
     "text": [
      "processing  280 to 285\n"
     ]
    },
    {
     "name": "stderr",
     "output_type": "stream",
     "text": [
      "Flash attention implementation does not support kwargs: task\n",
      "Flash attention implementation does not support kwargs: task\n"
     ]
    },
    {
     "name": "stdout",
     "output_type": "stream",
     "text": [
      "processing  285 to 290\n"
     ]
    },
    {
     "name": "stderr",
     "output_type": "stream",
     "text": [
      "Flash attention implementation does not support kwargs: task\n",
      "Flash attention implementation does not support kwargs: task\n"
     ]
    },
    {
     "name": "stdout",
     "output_type": "stream",
     "text": [
      "processing  290 to 295\n"
     ]
    },
    {
     "name": "stderr",
     "output_type": "stream",
     "text": [
      "Flash attention implementation does not support kwargs: task\n",
      "Flash attention implementation does not support kwargs: task\n"
     ]
    },
    {
     "name": "stdout",
     "output_type": "stream",
     "text": [
      "processing  295 to 300\n"
     ]
    },
    {
     "name": "stderr",
     "output_type": "stream",
     "text": [
      "Flash attention implementation does not support kwargs: task\n",
      "Flash attention implementation does not support kwargs: task\n"
     ]
    },
    {
     "name": "stdout",
     "output_type": "stream",
     "text": [
      "processing  300 to 305\n"
     ]
    },
    {
     "name": "stderr",
     "output_type": "stream",
     "text": [
      "Flash attention implementation does not support kwargs: task\n",
      "Flash attention implementation does not support kwargs: task\n"
     ]
    },
    {
     "name": "stdout",
     "output_type": "stream",
     "text": [
      "processing  305 to 310\n"
     ]
    },
    {
     "name": "stderr",
     "output_type": "stream",
     "text": [
      "Flash attention implementation does not support kwargs: task\n",
      "Flash attention implementation does not support kwargs: task\n"
     ]
    },
    {
     "name": "stdout",
     "output_type": "stream",
     "text": [
      "processing  310 to 315\n"
     ]
    },
    {
     "name": "stderr",
     "output_type": "stream",
     "text": [
      "Flash attention implementation does not support kwargs: task\n",
      "Flash attention implementation does not support kwargs: task\n"
     ]
    },
    {
     "name": "stdout",
     "output_type": "stream",
     "text": [
      "processing  315 to 320\n"
     ]
    },
    {
     "name": "stderr",
     "output_type": "stream",
     "text": [
      "Flash attention implementation does not support kwargs: task\n",
      "Flash attention implementation does not support kwargs: task\n"
     ]
    },
    {
     "name": "stdout",
     "output_type": "stream",
     "text": [
      "processing  320 to 325\n"
     ]
    },
    {
     "name": "stderr",
     "output_type": "stream",
     "text": [
      "Flash attention implementation does not support kwargs: task\n",
      "Flash attention implementation does not support kwargs: task\n"
     ]
    },
    {
     "name": "stdout",
     "output_type": "stream",
     "text": [
      "processing  325 to 330\n"
     ]
    },
    {
     "name": "stderr",
     "output_type": "stream",
     "text": [
      "Flash attention implementation does not support kwargs: task\n",
      "Flash attention implementation does not support kwargs: task\n"
     ]
    },
    {
     "name": "stdout",
     "output_type": "stream",
     "text": [
      "processing  330 to 335\n"
     ]
    },
    {
     "name": "stderr",
     "output_type": "stream",
     "text": [
      "Flash attention implementation does not support kwargs: task\n",
      "Flash attention implementation does not support kwargs: task\n"
     ]
    },
    {
     "name": "stdout",
     "output_type": "stream",
     "text": [
      "processing  335 to 340\n"
     ]
    },
    {
     "name": "stderr",
     "output_type": "stream",
     "text": [
      "Flash attention implementation does not support kwargs: task\n",
      "Flash attention implementation does not support kwargs: task\n"
     ]
    },
    {
     "name": "stdout",
     "output_type": "stream",
     "text": [
      "processing  340 to 345\n"
     ]
    },
    {
     "name": "stderr",
     "output_type": "stream",
     "text": [
      "Flash attention implementation does not support kwargs: task\n",
      "Flash attention implementation does not support kwargs: task\n"
     ]
    },
    {
     "name": "stdout",
     "output_type": "stream",
     "text": [
      "processing  345 to 350\n"
     ]
    },
    {
     "name": "stderr",
     "output_type": "stream",
     "text": [
      "Flash attention implementation does not support kwargs: task\n",
      "Flash attention implementation does not support kwargs: task\n"
     ]
    },
    {
     "name": "stdout",
     "output_type": "stream",
     "text": [
      "processing  350 to 355\n"
     ]
    },
    {
     "name": "stderr",
     "output_type": "stream",
     "text": [
      "Flash attention implementation does not support kwargs: task\n",
      "Flash attention implementation does not support kwargs: task\n"
     ]
    },
    {
     "name": "stdout",
     "output_type": "stream",
     "text": [
      "processing  355 to 360\n"
     ]
    },
    {
     "name": "stderr",
     "output_type": "stream",
     "text": [
      "Flash attention implementation does not support kwargs: task\n",
      "Flash attention implementation does not support kwargs: task\n"
     ]
    },
    {
     "name": "stdout",
     "output_type": "stream",
     "text": [
      "processing  360 to 365\n"
     ]
    },
    {
     "name": "stderr",
     "output_type": "stream",
     "text": [
      "Flash attention implementation does not support kwargs: task\n",
      "Flash attention implementation does not support kwargs: task\n"
     ]
    },
    {
     "name": "stdout",
     "output_type": "stream",
     "text": [
      "processing  365 to 370\n"
     ]
    },
    {
     "name": "stderr",
     "output_type": "stream",
     "text": [
      "Flash attention implementation does not support kwargs: task\n",
      "Flash attention implementation does not support kwargs: task\n"
     ]
    },
    {
     "name": "stdout",
     "output_type": "stream",
     "text": [
      "processing  370 to 375\n"
     ]
    },
    {
     "name": "stderr",
     "output_type": "stream",
     "text": [
      "Flash attention implementation does not support kwargs: task\n",
      "Flash attention implementation does not support kwargs: task\n"
     ]
    },
    {
     "name": "stdout",
     "output_type": "stream",
     "text": [
      "processing  375 to 380\n"
     ]
    },
    {
     "name": "stderr",
     "output_type": "stream",
     "text": [
      "Flash attention implementation does not support kwargs: task\n",
      "Flash attention implementation does not support kwargs: task\n"
     ]
    },
    {
     "name": "stdout",
     "output_type": "stream",
     "text": [
      "processing  380 to 385\n"
     ]
    },
    {
     "name": "stderr",
     "output_type": "stream",
     "text": [
      "Flash attention implementation does not support kwargs: task\n",
      "Flash attention implementation does not support kwargs: task\n"
     ]
    },
    {
     "name": "stdout",
     "output_type": "stream",
     "text": [
      "processing  385 to 390\n"
     ]
    },
    {
     "name": "stderr",
     "output_type": "stream",
     "text": [
      "Flash attention implementation does not support kwargs: task\n",
      "Flash attention implementation does not support kwargs: task\n"
     ]
    },
    {
     "name": "stdout",
     "output_type": "stream",
     "text": [
      "processing  390 to 395\n"
     ]
    },
    {
     "name": "stderr",
     "output_type": "stream",
     "text": [
      "Flash attention implementation does not support kwargs: task\n",
      "Flash attention implementation does not support kwargs: task\n"
     ]
    },
    {
     "name": "stdout",
     "output_type": "stream",
     "text": [
      "processing  395 to 400\n"
     ]
    },
    {
     "name": "stderr",
     "output_type": "stream",
     "text": [
      "Flash attention implementation does not support kwargs: task\n",
      "Flash attention implementation does not support kwargs: task\n"
     ]
    },
    {
     "name": "stdout",
     "output_type": "stream",
     "text": [
      "processing  400 to 405\n"
     ]
    },
    {
     "name": "stderr",
     "output_type": "stream",
     "text": [
      "Flash attention implementation does not support kwargs: task\n",
      "Flash attention implementation does not support kwargs: task\n"
     ]
    },
    {
     "name": "stdout",
     "output_type": "stream",
     "text": [
      "processing  405 to 410\n"
     ]
    },
    {
     "name": "stderr",
     "output_type": "stream",
     "text": [
      "Flash attention implementation does not support kwargs: task\n",
      "Flash attention implementation does not support kwargs: task\n"
     ]
    },
    {
     "name": "stdout",
     "output_type": "stream",
     "text": [
      "processing  410 to 415\n"
     ]
    },
    {
     "name": "stderr",
     "output_type": "stream",
     "text": [
      "Flash attention implementation does not support kwargs: task\n",
      "Flash attention implementation does not support kwargs: task\n"
     ]
    },
    {
     "name": "stdout",
     "output_type": "stream",
     "text": [
      "processing  415 to 420\n"
     ]
    },
    {
     "name": "stderr",
     "output_type": "stream",
     "text": [
      "Flash attention implementation does not support kwargs: task\n",
      "Flash attention implementation does not support kwargs: task\n"
     ]
    },
    {
     "name": "stdout",
     "output_type": "stream",
     "text": [
      "processing  420 to 425\n"
     ]
    },
    {
     "name": "stderr",
     "output_type": "stream",
     "text": [
      "Flash attention implementation does not support kwargs: task\n",
      "Flash attention implementation does not support kwargs: task\n"
     ]
    },
    {
     "name": "stdout",
     "output_type": "stream",
     "text": [
      "processing  425 to 430\n"
     ]
    },
    {
     "name": "stderr",
     "output_type": "stream",
     "text": [
      "Flash attention implementation does not support kwargs: task\n",
      "Flash attention implementation does not support kwargs: task\n"
     ]
    },
    {
     "name": "stdout",
     "output_type": "stream",
     "text": [
      "processing  430 to 435\n"
     ]
    },
    {
     "name": "stderr",
     "output_type": "stream",
     "text": [
      "Flash attention implementation does not support kwargs: task\n",
      "Flash attention implementation does not support kwargs: task\n"
     ]
    },
    {
     "name": "stdout",
     "output_type": "stream",
     "text": [
      "processing  435 to 440\n"
     ]
    },
    {
     "name": "stderr",
     "output_type": "stream",
     "text": [
      "Flash attention implementation does not support kwargs: task\n",
      "Flash attention implementation does not support kwargs: task\n"
     ]
    },
    {
     "name": "stdout",
     "output_type": "stream",
     "text": [
      "processing  440 to 445\n"
     ]
    },
    {
     "name": "stderr",
     "output_type": "stream",
     "text": [
      "Flash attention implementation does not support kwargs: task\n",
      "Flash attention implementation does not support kwargs: task\n"
     ]
    },
    {
     "name": "stdout",
     "output_type": "stream",
     "text": [
      "processing  445 to 450\n"
     ]
    },
    {
     "name": "stderr",
     "output_type": "stream",
     "text": [
      "Flash attention implementation does not support kwargs: task\n",
      "Flash attention implementation does not support kwargs: task\n"
     ]
    },
    {
     "name": "stdout",
     "output_type": "stream",
     "text": [
      "processing  450 to 455\n"
     ]
    },
    {
     "name": "stderr",
     "output_type": "stream",
     "text": [
      "Flash attention implementation does not support kwargs: task\n",
      "Flash attention implementation does not support kwargs: task\n"
     ]
    },
    {
     "name": "stdout",
     "output_type": "stream",
     "text": [
      "processing  455 to 460\n"
     ]
    },
    {
     "name": "stderr",
     "output_type": "stream",
     "text": [
      "Flash attention implementation does not support kwargs: task\n",
      "Flash attention implementation does not support kwargs: task\n"
     ]
    },
    {
     "name": "stdout",
     "output_type": "stream",
     "text": [
      "processing  460 to 465\n"
     ]
    },
    {
     "name": "stderr",
     "output_type": "stream",
     "text": [
      "Flash attention implementation does not support kwargs: task\n",
      "Flash attention implementation does not support kwargs: task\n"
     ]
    },
    {
     "name": "stdout",
     "output_type": "stream",
     "text": [
      "processing  465 to 470\n"
     ]
    },
    {
     "name": "stderr",
     "output_type": "stream",
     "text": [
      "Flash attention implementation does not support kwargs: task\n",
      "Flash attention implementation does not support kwargs: task\n"
     ]
    },
    {
     "name": "stdout",
     "output_type": "stream",
     "text": [
      "processing  470 to 475\n"
     ]
    },
    {
     "name": "stderr",
     "output_type": "stream",
     "text": [
      "Flash attention implementation does not support kwargs: task\n",
      "Flash attention implementation does not support kwargs: task\n"
     ]
    },
    {
     "name": "stdout",
     "output_type": "stream",
     "text": [
      "processing  475 to 480\n"
     ]
    },
    {
     "name": "stderr",
     "output_type": "stream",
     "text": [
      "Flash attention implementation does not support kwargs: task\n",
      "Flash attention implementation does not support kwargs: task\n"
     ]
    },
    {
     "name": "stdout",
     "output_type": "stream",
     "text": [
      "processing  480 to 485\n"
     ]
    },
    {
     "name": "stderr",
     "output_type": "stream",
     "text": [
      "Flash attention implementation does not support kwargs: task\n",
      "Flash attention implementation does not support kwargs: task\n"
     ]
    },
    {
     "name": "stdout",
     "output_type": "stream",
     "text": [
      "processing  485 to 490\n"
     ]
    },
    {
     "name": "stderr",
     "output_type": "stream",
     "text": [
      "Flash attention implementation does not support kwargs: task\n",
      "Flash attention implementation does not support kwargs: task\n"
     ]
    },
    {
     "name": "stdout",
     "output_type": "stream",
     "text": [
      "processing  490 to 495\n"
     ]
    },
    {
     "name": "stderr",
     "output_type": "stream",
     "text": [
      "Flash attention implementation does not support kwargs: task\n",
      "Flash attention implementation does not support kwargs: task\n"
     ]
    },
    {
     "name": "stdout",
     "output_type": "stream",
     "text": [
      "processing  495 to 500\n"
     ]
    },
    {
     "name": "stderr",
     "output_type": "stream",
     "text": [
      "Flash attention implementation does not support kwargs: task\n",
      "Flash attention implementation does not support kwargs: task\n"
     ]
    },
    {
     "name": "stdout",
     "output_type": "stream",
     "text": [
      "processing  500 to 505\n"
     ]
    },
    {
     "name": "stderr",
     "output_type": "stream",
     "text": [
      "Flash attention implementation does not support kwargs: task\n",
      "Flash attention implementation does not support kwargs: task\n"
     ]
    },
    {
     "name": "stdout",
     "output_type": "stream",
     "text": [
      "processing  505 to 510\n"
     ]
    },
    {
     "name": "stderr",
     "output_type": "stream",
     "text": [
      "Flash attention implementation does not support kwargs: task\n",
      "Flash attention implementation does not support kwargs: task\n"
     ]
    },
    {
     "name": "stdout",
     "output_type": "stream",
     "text": [
      "processing  510 to 515\n"
     ]
    },
    {
     "name": "stderr",
     "output_type": "stream",
     "text": [
      "Flash attention implementation does not support kwargs: task\n",
      "Flash attention implementation does not support kwargs: task\n"
     ]
    },
    {
     "name": "stdout",
     "output_type": "stream",
     "text": [
      "processing  515 to 520\n"
     ]
    },
    {
     "name": "stderr",
     "output_type": "stream",
     "text": [
      "Flash attention implementation does not support kwargs: task\n",
      "Flash attention implementation does not support kwargs: task\n"
     ]
    },
    {
     "name": "stdout",
     "output_type": "stream",
     "text": [
      "processing  520 to 525\n"
     ]
    },
    {
     "name": "stderr",
     "output_type": "stream",
     "text": [
      "Flash attention implementation does not support kwargs: task\n",
      "Flash attention implementation does not support kwargs: task\n"
     ]
    },
    {
     "name": "stdout",
     "output_type": "stream",
     "text": [
      "processing  525 to 530\n"
     ]
    },
    {
     "name": "stderr",
     "output_type": "stream",
     "text": [
      "Flash attention implementation does not support kwargs: task\n",
      "Flash attention implementation does not support kwargs: task\n"
     ]
    },
    {
     "name": "stdout",
     "output_type": "stream",
     "text": [
      "processing  530 to 535\n"
     ]
    },
    {
     "name": "stderr",
     "output_type": "stream",
     "text": [
      "Flash attention implementation does not support kwargs: task\n",
      "Flash attention implementation does not support kwargs: task\n"
     ]
    },
    {
     "name": "stdout",
     "output_type": "stream",
     "text": [
      "processing  535 to 540\n"
     ]
    },
    {
     "name": "stderr",
     "output_type": "stream",
     "text": [
      "Flash attention implementation does not support kwargs: task\n",
      "Flash attention implementation does not support kwargs: task\n"
     ]
    },
    {
     "name": "stdout",
     "output_type": "stream",
     "text": [
      "processing  540 to 545\n"
     ]
    },
    {
     "name": "stderr",
     "output_type": "stream",
     "text": [
      "Flash attention implementation does not support kwargs: task\n",
      "Flash attention implementation does not support kwargs: task\n"
     ]
    },
    {
     "name": "stdout",
     "output_type": "stream",
     "text": [
      "processing  545 to 550\n"
     ]
    },
    {
     "name": "stderr",
     "output_type": "stream",
     "text": [
      "Flash attention implementation does not support kwargs: task\n",
      "Flash attention implementation does not support kwargs: task\n"
     ]
    },
    {
     "name": "stdout",
     "output_type": "stream",
     "text": [
      "processing  550 to 555\n"
     ]
    },
    {
     "name": "stderr",
     "output_type": "stream",
     "text": [
      "Flash attention implementation does not support kwargs: task\n",
      "Flash attention implementation does not support kwargs: task\n"
     ]
    },
    {
     "name": "stdout",
     "output_type": "stream",
     "text": [
      "processing  555 to 560\n"
     ]
    },
    {
     "name": "stderr",
     "output_type": "stream",
     "text": [
      "Flash attention implementation does not support kwargs: task\n",
      "Flash attention implementation does not support kwargs: task\n"
     ]
    },
    {
     "name": "stdout",
     "output_type": "stream",
     "text": [
      "processing  560 to 565\n"
     ]
    },
    {
     "name": "stderr",
     "output_type": "stream",
     "text": [
      "Flash attention implementation does not support kwargs: task\n",
      "Flash attention implementation does not support kwargs: task\n"
     ]
    },
    {
     "name": "stdout",
     "output_type": "stream",
     "text": [
      "processing  565 to 570\n"
     ]
    },
    {
     "name": "stderr",
     "output_type": "stream",
     "text": [
      "Flash attention implementation does not support kwargs: task\n",
      "Flash attention implementation does not support kwargs: task\n"
     ]
    },
    {
     "name": "stdout",
     "output_type": "stream",
     "text": [
      "processing  570 to 575\n"
     ]
    },
    {
     "name": "stderr",
     "output_type": "stream",
     "text": [
      "Flash attention implementation does not support kwargs: task\n",
      "Flash attention implementation does not support kwargs: task\n"
     ]
    },
    {
     "name": "stdout",
     "output_type": "stream",
     "text": [
      "processing  575 to 580\n"
     ]
    },
    {
     "name": "stderr",
     "output_type": "stream",
     "text": [
      "Flash attention implementation does not support kwargs: task\n",
      "Flash attention implementation does not support kwargs: task\n"
     ]
    },
    {
     "name": "stdout",
     "output_type": "stream",
     "text": [
      "processing  580 to 585\n"
     ]
    },
    {
     "name": "stderr",
     "output_type": "stream",
     "text": [
      "Flash attention implementation does not support kwargs: task\n",
      "Flash attention implementation does not support kwargs: task\n"
     ]
    },
    {
     "name": "stdout",
     "output_type": "stream",
     "text": [
      "processing  585 to 590\n"
     ]
    },
    {
     "name": "stderr",
     "output_type": "stream",
     "text": [
      "Flash attention implementation does not support kwargs: task\n",
      "Flash attention implementation does not support kwargs: task\n"
     ]
    },
    {
     "name": "stdout",
     "output_type": "stream",
     "text": [
      "processing  590 to 595\n"
     ]
    },
    {
     "name": "stderr",
     "output_type": "stream",
     "text": [
      "Flash attention implementation does not support kwargs: task\n",
      "Flash attention implementation does not support kwargs: task\n"
     ]
    },
    {
     "name": "stdout",
     "output_type": "stream",
     "text": [
      "processing  595 to 600\n"
     ]
    },
    {
     "name": "stderr",
     "output_type": "stream",
     "text": [
      "Flash attention implementation does not support kwargs: task\n",
      "Flash attention implementation does not support kwargs: task\n"
     ]
    },
    {
     "name": "stdout",
     "output_type": "stream",
     "text": [
      "processing  600 to 605\n"
     ]
    },
    {
     "name": "stderr",
     "output_type": "stream",
     "text": [
      "Flash attention implementation does not support kwargs: task\n",
      "Flash attention implementation does not support kwargs: task\n"
     ]
    },
    {
     "name": "stdout",
     "output_type": "stream",
     "text": [
      "processing  605 to 610\n"
     ]
    },
    {
     "name": "stderr",
     "output_type": "stream",
     "text": [
      "Flash attention implementation does not support kwargs: task\n",
      "Flash attention implementation does not support kwargs: task\n"
     ]
    },
    {
     "name": "stdout",
     "output_type": "stream",
     "text": [
      "processing  610 to 615\n"
     ]
    },
    {
     "name": "stderr",
     "output_type": "stream",
     "text": [
      "Flash attention implementation does not support kwargs: task\n",
      "Flash attention implementation does not support kwargs: task\n"
     ]
    },
    {
     "name": "stdout",
     "output_type": "stream",
     "text": [
      "processing  615 to 620\n"
     ]
    },
    {
     "name": "stderr",
     "output_type": "stream",
     "text": [
      "Flash attention implementation does not support kwargs: task\n",
      "Flash attention implementation does not support kwargs: task\n"
     ]
    },
    {
     "name": "stdout",
     "output_type": "stream",
     "text": [
      "processing  620 to 625\n"
     ]
    },
    {
     "name": "stderr",
     "output_type": "stream",
     "text": [
      "Flash attention implementation does not support kwargs: task\n",
      "Flash attention implementation does not support kwargs: task\n"
     ]
    },
    {
     "name": "stdout",
     "output_type": "stream",
     "text": [
      "processing  625 to 630\n"
     ]
    },
    {
     "name": "stderr",
     "output_type": "stream",
     "text": [
      "Flash attention implementation does not support kwargs: task\n",
      "Flash attention implementation does not support kwargs: task\n"
     ]
    },
    {
     "name": "stdout",
     "output_type": "stream",
     "text": [
      "processing  630 to 635\n"
     ]
    },
    {
     "name": "stderr",
     "output_type": "stream",
     "text": [
      "Flash attention implementation does not support kwargs: task\n",
      "Flash attention implementation does not support kwargs: task\n"
     ]
    },
    {
     "name": "stdout",
     "output_type": "stream",
     "text": [
      "processing  635 to 640\n"
     ]
    },
    {
     "name": "stderr",
     "output_type": "stream",
     "text": [
      "Flash attention implementation does not support kwargs: task\n",
      "Flash attention implementation does not support kwargs: task\n"
     ]
    },
    {
     "name": "stdout",
     "output_type": "stream",
     "text": [
      "processing  640 to 645\n"
     ]
    },
    {
     "name": "stderr",
     "output_type": "stream",
     "text": [
      "Flash attention implementation does not support kwargs: task\n",
      "Flash attention implementation does not support kwargs: task\n"
     ]
    },
    {
     "name": "stdout",
     "output_type": "stream",
     "text": [
      "processing  645 to 650\n"
     ]
    },
    {
     "name": "stderr",
     "output_type": "stream",
     "text": [
      "Flash attention implementation does not support kwargs: task\n",
      "Flash attention implementation does not support kwargs: task\n"
     ]
    },
    {
     "name": "stdout",
     "output_type": "stream",
     "text": [
      "processing  650 to 655\n"
     ]
    },
    {
     "name": "stderr",
     "output_type": "stream",
     "text": [
      "Flash attention implementation does not support kwargs: task\n",
      "Flash attention implementation does not support kwargs: task\n"
     ]
    },
    {
     "name": "stdout",
     "output_type": "stream",
     "text": [
      "processing  655 to 660\n"
     ]
    },
    {
     "name": "stderr",
     "output_type": "stream",
     "text": [
      "Flash attention implementation does not support kwargs: task\n",
      "Flash attention implementation does not support kwargs: task\n"
     ]
    },
    {
     "name": "stdout",
     "output_type": "stream",
     "text": [
      "processing  660 to 665\n"
     ]
    },
    {
     "name": "stderr",
     "output_type": "stream",
     "text": [
      "Flash attention implementation does not support kwargs: task\n",
      "Flash attention implementation does not support kwargs: task\n"
     ]
    },
    {
     "name": "stdout",
     "output_type": "stream",
     "text": [
      "processing  665 to 670\n"
     ]
    },
    {
     "name": "stderr",
     "output_type": "stream",
     "text": [
      "Flash attention implementation does not support kwargs: task\n",
      "Flash attention implementation does not support kwargs: task\n"
     ]
    },
    {
     "name": "stdout",
     "output_type": "stream",
     "text": [
      "processing  670 to 675\n"
     ]
    },
    {
     "name": "stderr",
     "output_type": "stream",
     "text": [
      "Flash attention implementation does not support kwargs: task\n",
      "Flash attention implementation does not support kwargs: task\n"
     ]
    },
    {
     "name": "stdout",
     "output_type": "stream",
     "text": [
      "processing  675 to 680\n"
     ]
    },
    {
     "name": "stderr",
     "output_type": "stream",
     "text": [
      "Flash attention implementation does not support kwargs: task\n",
      "Flash attention implementation does not support kwargs: task\n"
     ]
    },
    {
     "name": "stdout",
     "output_type": "stream",
     "text": [
      "processing  680 to 685\n"
     ]
    },
    {
     "name": "stderr",
     "output_type": "stream",
     "text": [
      "Flash attention implementation does not support kwargs: task\n",
      "Flash attention implementation does not support kwargs: task\n"
     ]
    },
    {
     "name": "stdout",
     "output_type": "stream",
     "text": [
      "processing  685 to 690\n"
     ]
    },
    {
     "name": "stderr",
     "output_type": "stream",
     "text": [
      "Flash attention implementation does not support kwargs: task\n",
      "Flash attention implementation does not support kwargs: task\n"
     ]
    },
    {
     "name": "stdout",
     "output_type": "stream",
     "text": [
      "processing  690 to 695\n"
     ]
    },
    {
     "name": "stderr",
     "output_type": "stream",
     "text": [
      "Flash attention implementation does not support kwargs: task\n",
      "Flash attention implementation does not support kwargs: task\n"
     ]
    },
    {
     "name": "stdout",
     "output_type": "stream",
     "text": [
      "processing  695 to 700\n"
     ]
    },
    {
     "name": "stderr",
     "output_type": "stream",
     "text": [
      "Flash attention implementation does not support kwargs: task\n",
      "Flash attention implementation does not support kwargs: task\n"
     ]
    },
    {
     "name": "stdout",
     "output_type": "stream",
     "text": [
      "processing  700 to 705\n"
     ]
    },
    {
     "name": "stderr",
     "output_type": "stream",
     "text": [
      "Flash attention implementation does not support kwargs: task\n",
      "Flash attention implementation does not support kwargs: task\n"
     ]
    },
    {
     "name": "stdout",
     "output_type": "stream",
     "text": [
      "processing  705 to 710\n"
     ]
    },
    {
     "name": "stderr",
     "output_type": "stream",
     "text": [
      "Flash attention implementation does not support kwargs: task\n",
      "Flash attention implementation does not support kwargs: task\n"
     ]
    },
    {
     "name": "stdout",
     "output_type": "stream",
     "text": [
      "processing  710 to 715\n"
     ]
    },
    {
     "name": "stderr",
     "output_type": "stream",
     "text": [
      "Flash attention implementation does not support kwargs: task\n",
      "Flash attention implementation does not support kwargs: task\n"
     ]
    },
    {
     "name": "stdout",
     "output_type": "stream",
     "text": [
      "processing  715 to 720\n"
     ]
    },
    {
     "name": "stderr",
     "output_type": "stream",
     "text": [
      "Flash attention implementation does not support kwargs: task\n",
      "Flash attention implementation does not support kwargs: task\n"
     ]
    },
    {
     "name": "stdout",
     "output_type": "stream",
     "text": [
      "processing  720 to 725\n"
     ]
    },
    {
     "name": "stderr",
     "output_type": "stream",
     "text": [
      "Flash attention implementation does not support kwargs: task\n",
      "Flash attention implementation does not support kwargs: task\n"
     ]
    },
    {
     "name": "stdout",
     "output_type": "stream",
     "text": [
      "processing  725 to 730\n"
     ]
    },
    {
     "name": "stderr",
     "output_type": "stream",
     "text": [
      "Flash attention implementation does not support kwargs: task\n",
      "Flash attention implementation does not support kwargs: task\n"
     ]
    },
    {
     "name": "stdout",
     "output_type": "stream",
     "text": [
      "processing  730 to 735\n"
     ]
    },
    {
     "name": "stderr",
     "output_type": "stream",
     "text": [
      "Flash attention implementation does not support kwargs: task\n",
      "Flash attention implementation does not support kwargs: task\n"
     ]
    },
    {
     "name": "stdout",
     "output_type": "stream",
     "text": [
      "processing  735 to 740\n"
     ]
    },
    {
     "name": "stderr",
     "output_type": "stream",
     "text": [
      "Flash attention implementation does not support kwargs: task\n",
      "Flash attention implementation does not support kwargs: task\n"
     ]
    },
    {
     "name": "stdout",
     "output_type": "stream",
     "text": [
      "processing  740 to 745\n"
     ]
    },
    {
     "name": "stderr",
     "output_type": "stream",
     "text": [
      "Flash attention implementation does not support kwargs: task\n",
      "Flash attention implementation does not support kwargs: task\n"
     ]
    },
    {
     "name": "stdout",
     "output_type": "stream",
     "text": [
      "processing  745 to 750\n"
     ]
    },
    {
     "name": "stderr",
     "output_type": "stream",
     "text": [
      "Flash attention implementation does not support kwargs: task\n",
      "Flash attention implementation does not support kwargs: task\n"
     ]
    },
    {
     "name": "stdout",
     "output_type": "stream",
     "text": [
      "processing  750 to 755\n"
     ]
    },
    {
     "name": "stderr",
     "output_type": "stream",
     "text": [
      "Flash attention implementation does not support kwargs: task\n",
      "Flash attention implementation does not support kwargs: task\n"
     ]
    },
    {
     "name": "stdout",
     "output_type": "stream",
     "text": [
      "processing  755 to 760\n"
     ]
    },
    {
     "name": "stderr",
     "output_type": "stream",
     "text": [
      "Flash attention implementation does not support kwargs: task\n",
      "Flash attention implementation does not support kwargs: task\n"
     ]
    },
    {
     "name": "stdout",
     "output_type": "stream",
     "text": [
      "processing  760 to 765\n"
     ]
    },
    {
     "name": "stderr",
     "output_type": "stream",
     "text": [
      "Flash attention implementation does not support kwargs: task\n",
      "Flash attention implementation does not support kwargs: task\n"
     ]
    },
    {
     "name": "stdout",
     "output_type": "stream",
     "text": [
      "processing  765 to 770\n"
     ]
    },
    {
     "name": "stderr",
     "output_type": "stream",
     "text": [
      "Flash attention implementation does not support kwargs: task\n",
      "Flash attention implementation does not support kwargs: task\n"
     ]
    },
    {
     "name": "stdout",
     "output_type": "stream",
     "text": [
      "processing  770 to 775\n"
     ]
    },
    {
     "name": "stderr",
     "output_type": "stream",
     "text": [
      "Flash attention implementation does not support kwargs: task\n",
      "Flash attention implementation does not support kwargs: task\n"
     ]
    },
    {
     "name": "stdout",
     "output_type": "stream",
     "text": [
      "processing  775 to 780\n"
     ]
    },
    {
     "name": "stderr",
     "output_type": "stream",
     "text": [
      "Flash attention implementation does not support kwargs: task\n",
      "Flash attention implementation does not support kwargs: task\n"
     ]
    },
    {
     "name": "stdout",
     "output_type": "stream",
     "text": [
      "processing  780 to 785\n"
     ]
    },
    {
     "name": "stderr",
     "output_type": "stream",
     "text": [
      "Flash attention implementation does not support kwargs: task\n",
      "Flash attention implementation does not support kwargs: task\n"
     ]
    },
    {
     "name": "stdout",
     "output_type": "stream",
     "text": [
      "processing  785 to 790\n"
     ]
    },
    {
     "name": "stderr",
     "output_type": "stream",
     "text": [
      "Flash attention implementation does not support kwargs: task\n",
      "Flash attention implementation does not support kwargs: task\n"
     ]
    },
    {
     "name": "stdout",
     "output_type": "stream",
     "text": [
      "processing  790 to 795\n"
     ]
    },
    {
     "name": "stderr",
     "output_type": "stream",
     "text": [
      "Flash attention implementation does not support kwargs: task\n",
      "Flash attention implementation does not support kwargs: task\n"
     ]
    },
    {
     "name": "stdout",
     "output_type": "stream",
     "text": [
      "processing  795 to 800\n"
     ]
    },
    {
     "name": "stderr",
     "output_type": "stream",
     "text": [
      "Flash attention implementation does not support kwargs: task\n",
      "Flash attention implementation does not support kwargs: task\n"
     ]
    },
    {
     "name": "stdout",
     "output_type": "stream",
     "text": [
      "processing  800 to 805\n"
     ]
    },
    {
     "name": "stderr",
     "output_type": "stream",
     "text": [
      "Flash attention implementation does not support kwargs: task\n",
      "Flash attention implementation does not support kwargs: task\n"
     ]
    },
    {
     "name": "stdout",
     "output_type": "stream",
     "text": [
      "processing  805 to 810\n"
     ]
    },
    {
     "name": "stderr",
     "output_type": "stream",
     "text": [
      "Flash attention implementation does not support kwargs: task\n",
      "Flash attention implementation does not support kwargs: task\n"
     ]
    },
    {
     "name": "stdout",
     "output_type": "stream",
     "text": [
      "processing  810 to 815\n"
     ]
    },
    {
     "name": "stderr",
     "output_type": "stream",
     "text": [
      "Flash attention implementation does not support kwargs: task\n",
      "Flash attention implementation does not support kwargs: task\n"
     ]
    },
    {
     "name": "stdout",
     "output_type": "stream",
     "text": [
      "processing  815 to 820\n"
     ]
    },
    {
     "name": "stderr",
     "output_type": "stream",
     "text": [
      "Flash attention implementation does not support kwargs: task\n",
      "Flash attention implementation does not support kwargs: task\n"
     ]
    },
    {
     "name": "stdout",
     "output_type": "stream",
     "text": [
      "processing  820 to 825\n"
     ]
    },
    {
     "name": "stderr",
     "output_type": "stream",
     "text": [
      "Flash attention implementation does not support kwargs: task\n",
      "Flash attention implementation does not support kwargs: task\n"
     ]
    },
    {
     "name": "stdout",
     "output_type": "stream",
     "text": [
      "processing  825 to 830\n"
     ]
    },
    {
     "name": "stderr",
     "output_type": "stream",
     "text": [
      "Flash attention implementation does not support kwargs: task\n",
      "Flash attention implementation does not support kwargs: task\n"
     ]
    },
    {
     "name": "stdout",
     "output_type": "stream",
     "text": [
      "processing  830 to 835\n"
     ]
    },
    {
     "name": "stderr",
     "output_type": "stream",
     "text": [
      "Flash attention implementation does not support kwargs: task\n",
      "Flash attention implementation does not support kwargs: task\n"
     ]
    },
    {
     "name": "stdout",
     "output_type": "stream",
     "text": [
      "processing  835 to 840\n"
     ]
    },
    {
     "name": "stderr",
     "output_type": "stream",
     "text": [
      "Flash attention implementation does not support kwargs: task\n",
      "Flash attention implementation does not support kwargs: task\n"
     ]
    },
    {
     "name": "stdout",
     "output_type": "stream",
     "text": [
      "processing  840 to 845\n"
     ]
    },
    {
     "name": "stderr",
     "output_type": "stream",
     "text": [
      "Flash attention implementation does not support kwargs: task\n",
      "Flash attention implementation does not support kwargs: task\n"
     ]
    },
    {
     "name": "stdout",
     "output_type": "stream",
     "text": [
      "processing  845 to 850\n"
     ]
    },
    {
     "name": "stderr",
     "output_type": "stream",
     "text": [
      "Flash attention implementation does not support kwargs: task\n",
      "Flash attention implementation does not support kwargs: task\n"
     ]
    },
    {
     "name": "stdout",
     "output_type": "stream",
     "text": [
      "processing  850 to 855\n"
     ]
    },
    {
     "name": "stderr",
     "output_type": "stream",
     "text": [
      "Flash attention implementation does not support kwargs: task\n",
      "Flash attention implementation does not support kwargs: task\n"
     ]
    },
    {
     "name": "stdout",
     "output_type": "stream",
     "text": [
      "processing  855 to 860\n"
     ]
    },
    {
     "name": "stderr",
     "output_type": "stream",
     "text": [
      "Flash attention implementation does not support kwargs: task\n",
      "Flash attention implementation does not support kwargs: task\n"
     ]
    },
    {
     "name": "stdout",
     "output_type": "stream",
     "text": [
      "processing  860 to 865\n"
     ]
    },
    {
     "name": "stderr",
     "output_type": "stream",
     "text": [
      "Flash attention implementation does not support kwargs: task\n",
      "Flash attention implementation does not support kwargs: task\n"
     ]
    },
    {
     "name": "stdout",
     "output_type": "stream",
     "text": [
      "processing  865 to 870\n"
     ]
    },
    {
     "name": "stderr",
     "output_type": "stream",
     "text": [
      "Flash attention implementation does not support kwargs: task\n",
      "Flash attention implementation does not support kwargs: task\n"
     ]
    },
    {
     "name": "stdout",
     "output_type": "stream",
     "text": [
      "processing  870 to 875\n"
     ]
    },
    {
     "name": "stderr",
     "output_type": "stream",
     "text": [
      "Flash attention implementation does not support kwargs: task\n",
      "Flash attention implementation does not support kwargs: task\n"
     ]
    },
    {
     "name": "stdout",
     "output_type": "stream",
     "text": [
      "processing  875 to 880\n"
     ]
    },
    {
     "name": "stderr",
     "output_type": "stream",
     "text": [
      "Flash attention implementation does not support kwargs: task\n",
      "Flash attention implementation does not support kwargs: task\n"
     ]
    },
    {
     "name": "stdout",
     "output_type": "stream",
     "text": [
      "processing  880 to 885\n"
     ]
    },
    {
     "name": "stderr",
     "output_type": "stream",
     "text": [
      "Flash attention implementation does not support kwargs: task\n",
      "Flash attention implementation does not support kwargs: task\n"
     ]
    },
    {
     "name": "stdout",
     "output_type": "stream",
     "text": [
      "processing  885 to 890\n"
     ]
    },
    {
     "name": "stderr",
     "output_type": "stream",
     "text": [
      "Flash attention implementation does not support kwargs: task\n",
      "Flash attention implementation does not support kwargs: task\n"
     ]
    },
    {
     "name": "stdout",
     "output_type": "stream",
     "text": [
      "processing  890 to 895\n"
     ]
    },
    {
     "name": "stderr",
     "output_type": "stream",
     "text": [
      "Flash attention implementation does not support kwargs: task\n",
      "Flash attention implementation does not support kwargs: task\n"
     ]
    },
    {
     "name": "stdout",
     "output_type": "stream",
     "text": [
      "processing  895 to 900\n"
     ]
    },
    {
     "name": "stderr",
     "output_type": "stream",
     "text": [
      "Flash attention implementation does not support kwargs: task\n",
      "Flash attention implementation does not support kwargs: task\n"
     ]
    },
    {
     "name": "stdout",
     "output_type": "stream",
     "text": [
      "processing  900 to 905\n"
     ]
    },
    {
     "name": "stderr",
     "output_type": "stream",
     "text": [
      "Flash attention implementation does not support kwargs: task\n",
      "Flash attention implementation does not support kwargs: task\n"
     ]
    },
    {
     "name": "stdout",
     "output_type": "stream",
     "text": [
      "processing  905 to 910\n"
     ]
    },
    {
     "name": "stderr",
     "output_type": "stream",
     "text": [
      "Flash attention implementation does not support kwargs: task\n",
      "Flash attention implementation does not support kwargs: task\n"
     ]
    },
    {
     "name": "stdout",
     "output_type": "stream",
     "text": [
      "processing  910 to 915\n"
     ]
    },
    {
     "name": "stderr",
     "output_type": "stream",
     "text": [
      "Flash attention implementation does not support kwargs: task\n",
      "Flash attention implementation does not support kwargs: task\n"
     ]
    },
    {
     "name": "stdout",
     "output_type": "stream",
     "text": [
      "processing  915 to 920\n"
     ]
    },
    {
     "name": "stderr",
     "output_type": "stream",
     "text": [
      "Flash attention implementation does not support kwargs: task\n",
      "Flash attention implementation does not support kwargs: task\n"
     ]
    },
    {
     "name": "stdout",
     "output_type": "stream",
     "text": [
      "processing  920 to 925\n"
     ]
    },
    {
     "name": "stderr",
     "output_type": "stream",
     "text": [
      "Flash attention implementation does not support kwargs: task\n",
      "Flash attention implementation does not support kwargs: task\n"
     ]
    },
    {
     "name": "stdout",
     "output_type": "stream",
     "text": [
      "processing  925 to 930\n"
     ]
    },
    {
     "name": "stderr",
     "output_type": "stream",
     "text": [
      "Flash attention implementation does not support kwargs: task\n",
      "Flash attention implementation does not support kwargs: task\n"
     ]
    },
    {
     "name": "stdout",
     "output_type": "stream",
     "text": [
      "processing  930 to 935\n"
     ]
    },
    {
     "name": "stderr",
     "output_type": "stream",
     "text": [
      "Flash attention implementation does not support kwargs: task\n",
      "Flash attention implementation does not support kwargs: task\n"
     ]
    },
    {
     "name": "stdout",
     "output_type": "stream",
     "text": [
      "processing  935 to 940\n"
     ]
    },
    {
     "name": "stderr",
     "output_type": "stream",
     "text": [
      "Flash attention implementation does not support kwargs: task\n",
      "Flash attention implementation does not support kwargs: task\n"
     ]
    },
    {
     "name": "stdout",
     "output_type": "stream",
     "text": [
      "processing  940 to 945\n"
     ]
    },
    {
     "name": "stderr",
     "output_type": "stream",
     "text": [
      "Flash attention implementation does not support kwargs: task\n",
      "Flash attention implementation does not support kwargs: task\n"
     ]
    },
    {
     "name": "stdout",
     "output_type": "stream",
     "text": [
      "processing  945 to 950\n"
     ]
    },
    {
     "name": "stderr",
     "output_type": "stream",
     "text": [
      "Flash attention implementation does not support kwargs: task\n",
      "Flash attention implementation does not support kwargs: task\n"
     ]
    },
    {
     "name": "stdout",
     "output_type": "stream",
     "text": [
      "processing  950 to 955\n"
     ]
    },
    {
     "name": "stderr",
     "output_type": "stream",
     "text": [
      "Flash attention implementation does not support kwargs: task\n",
      "Flash attention implementation does not support kwargs: task\n"
     ]
    },
    {
     "name": "stdout",
     "output_type": "stream",
     "text": [
      "processing  955 to 960\n"
     ]
    },
    {
     "name": "stderr",
     "output_type": "stream",
     "text": [
      "Flash attention implementation does not support kwargs: task\n",
      "Flash attention implementation does not support kwargs: task\n"
     ]
    },
    {
     "name": "stdout",
     "output_type": "stream",
     "text": [
      "processing  960 to 965\n"
     ]
    },
    {
     "name": "stderr",
     "output_type": "stream",
     "text": [
      "Flash attention implementation does not support kwargs: task\n",
      "Flash attention implementation does not support kwargs: task\n"
     ]
    },
    {
     "name": "stdout",
     "output_type": "stream",
     "text": [
      "processing  965 to 970\n"
     ]
    },
    {
     "name": "stderr",
     "output_type": "stream",
     "text": [
      "Flash attention implementation does not support kwargs: task\n",
      "Flash attention implementation does not support kwargs: task\n"
     ]
    },
    {
     "name": "stdout",
     "output_type": "stream",
     "text": [
      "processing  970 to 975\n"
     ]
    },
    {
     "name": "stderr",
     "output_type": "stream",
     "text": [
      "Flash attention implementation does not support kwargs: task\n",
      "Flash attention implementation does not support kwargs: task\n"
     ]
    },
    {
     "name": "stdout",
     "output_type": "stream",
     "text": [
      "processing  975 to 980\n"
     ]
    },
    {
     "name": "stderr",
     "output_type": "stream",
     "text": [
      "Flash attention implementation does not support kwargs: task\n",
      "Flash attention implementation does not support kwargs: task\n"
     ]
    },
    {
     "name": "stdout",
     "output_type": "stream",
     "text": [
      "processing  980 to 985\n"
     ]
    },
    {
     "name": "stderr",
     "output_type": "stream",
     "text": [
      "Flash attention implementation does not support kwargs: task\n",
      "Flash attention implementation does not support kwargs: task\n"
     ]
    },
    {
     "name": "stdout",
     "output_type": "stream",
     "text": [
      "processing  985 to 990\n"
     ]
    },
    {
     "name": "stderr",
     "output_type": "stream",
     "text": [
      "Flash attention implementation does not support kwargs: task\n",
      "Flash attention implementation does not support kwargs: task\n"
     ]
    },
    {
     "name": "stdout",
     "output_type": "stream",
     "text": [
      "processing  990 to 995\n"
     ]
    },
    {
     "name": "stderr",
     "output_type": "stream",
     "text": [
      "Flash attention implementation does not support kwargs: task\n",
      "Flash attention implementation does not support kwargs: task\n"
     ]
    },
    {
     "name": "stdout",
     "output_type": "stream",
     "text": [
      "processing  995 to 1000\n"
     ]
    },
    {
     "name": "stderr",
     "output_type": "stream",
     "text": [
      "Flash attention implementation does not support kwargs: task\n",
      "Flash attention implementation does not support kwargs: task\n"
     ]
    },
    {
     "name": "stdout",
     "output_type": "stream",
     "text": [
      "processing  1000 to 1005\n"
     ]
    },
    {
     "name": "stderr",
     "output_type": "stream",
     "text": [
      "Flash attention implementation does not support kwargs: task\n",
      "Flash attention implementation does not support kwargs: task\n"
     ]
    },
    {
     "name": "stdout",
     "output_type": "stream",
     "text": [
      "processing  1005 to 1010\n"
     ]
    },
    {
     "name": "stderr",
     "output_type": "stream",
     "text": [
      "Flash attention implementation does not support kwargs: task\n",
      "Flash attention implementation does not support kwargs: task\n"
     ]
    },
    {
     "name": "stdout",
     "output_type": "stream",
     "text": [
      "processing  1010 to 1015\n"
     ]
    },
    {
     "name": "stderr",
     "output_type": "stream",
     "text": [
      "Flash attention implementation does not support kwargs: task\n",
      "Flash attention implementation does not support kwargs: task\n"
     ]
    },
    {
     "name": "stdout",
     "output_type": "stream",
     "text": [
      "processing  1015 to 1020\n"
     ]
    },
    {
     "name": "stderr",
     "output_type": "stream",
     "text": [
      "Flash attention implementation does not support kwargs: task\n",
      "Flash attention implementation does not support kwargs: task\n"
     ]
    },
    {
     "name": "stdout",
     "output_type": "stream",
     "text": [
      "processing  1020 to 1025\n"
     ]
    },
    {
     "name": "stderr",
     "output_type": "stream",
     "text": [
      "Flash attention implementation does not support kwargs: task\n",
      "Flash attention implementation does not support kwargs: task\n"
     ]
    },
    {
     "name": "stdout",
     "output_type": "stream",
     "text": [
      "processing  1025 to 1030\n"
     ]
    },
    {
     "name": "stderr",
     "output_type": "stream",
     "text": [
      "Flash attention implementation does not support kwargs: task\n",
      "Flash attention implementation does not support kwargs: task\n"
     ]
    },
    {
     "name": "stdout",
     "output_type": "stream",
     "text": [
      "processing  1030 to 1035\n"
     ]
    },
    {
     "name": "stderr",
     "output_type": "stream",
     "text": [
      "Flash attention implementation does not support kwargs: task\n",
      "Flash attention implementation does not support kwargs: task\n"
     ]
    },
    {
     "name": "stdout",
     "output_type": "stream",
     "text": [
      "processing  1035 to 1040\n"
     ]
    },
    {
     "name": "stderr",
     "output_type": "stream",
     "text": [
      "Flash attention implementation does not support kwargs: task\n",
      "Flash attention implementation does not support kwargs: task\n"
     ]
    },
    {
     "name": "stdout",
     "output_type": "stream",
     "text": [
      "processing  1040 to 1045\n"
     ]
    },
    {
     "name": "stderr",
     "output_type": "stream",
     "text": [
      "Flash attention implementation does not support kwargs: task\n",
      "Flash attention implementation does not support kwargs: task\n"
     ]
    },
    {
     "name": "stdout",
     "output_type": "stream",
     "text": [
      "processing  1045 to 1050\n"
     ]
    },
    {
     "name": "stderr",
     "output_type": "stream",
     "text": [
      "Flash attention implementation does not support kwargs: task\n",
      "Flash attention implementation does not support kwargs: task\n"
     ]
    },
    {
     "name": "stdout",
     "output_type": "stream",
     "text": [
      "processing  1050 to 1055\n"
     ]
    },
    {
     "name": "stderr",
     "output_type": "stream",
     "text": [
      "Flash attention implementation does not support kwargs: task\n",
      "Flash attention implementation does not support kwargs: task\n"
     ]
    },
    {
     "name": "stdout",
     "output_type": "stream",
     "text": [
      "processing  1055 to 1060\n"
     ]
    },
    {
     "name": "stderr",
     "output_type": "stream",
     "text": [
      "Flash attention implementation does not support kwargs: task\n",
      "Flash attention implementation does not support kwargs: task\n"
     ]
    },
    {
     "name": "stdout",
     "output_type": "stream",
     "text": [
      "processing  1060 to 1065\n"
     ]
    },
    {
     "name": "stderr",
     "output_type": "stream",
     "text": [
      "Flash attention implementation does not support kwargs: task\n",
      "Flash attention implementation does not support kwargs: task\n"
     ]
    },
    {
     "name": "stdout",
     "output_type": "stream",
     "text": [
      "processing  1065 to 1070\n"
     ]
    },
    {
     "name": "stderr",
     "output_type": "stream",
     "text": [
      "Flash attention implementation does not support kwargs: task\n",
      "Flash attention implementation does not support kwargs: task\n"
     ]
    },
    {
     "name": "stdout",
     "output_type": "stream",
     "text": [
      "processing  1070 to 1075\n"
     ]
    },
    {
     "name": "stderr",
     "output_type": "stream",
     "text": [
      "Flash attention implementation does not support kwargs: task\n",
      "Flash attention implementation does not support kwargs: task\n"
     ]
    },
    {
     "name": "stdout",
     "output_type": "stream",
     "text": [
      "processing  1075 to 1080\n"
     ]
    },
    {
     "name": "stderr",
     "output_type": "stream",
     "text": [
      "Flash attention implementation does not support kwargs: task\n",
      "Flash attention implementation does not support kwargs: task\n"
     ]
    },
    {
     "name": "stdout",
     "output_type": "stream",
     "text": [
      "processing  1080 to 1085\n"
     ]
    },
    {
     "name": "stderr",
     "output_type": "stream",
     "text": [
      "Flash attention implementation does not support kwargs: task\n",
      "Flash attention implementation does not support kwargs: task\n"
     ]
    },
    {
     "name": "stdout",
     "output_type": "stream",
     "text": [
      "processing  1085 to 1090\n"
     ]
    },
    {
     "name": "stderr",
     "output_type": "stream",
     "text": [
      "Flash attention implementation does not support kwargs: task\n",
      "Flash attention implementation does not support kwargs: task\n"
     ]
    },
    {
     "name": "stdout",
     "output_type": "stream",
     "text": [
      "processing  1090 to 1095\n"
     ]
    },
    {
     "name": "stderr",
     "output_type": "stream",
     "text": [
      "Flash attention implementation does not support kwargs: task\n",
      "Flash attention implementation does not support kwargs: task\n"
     ]
    },
    {
     "name": "stdout",
     "output_type": "stream",
     "text": [
      "processing  1095 to 1100\n"
     ]
    },
    {
     "name": "stderr",
     "output_type": "stream",
     "text": [
      "Flash attention implementation does not support kwargs: task\n",
      "Flash attention implementation does not support kwargs: task\n"
     ]
    },
    {
     "name": "stdout",
     "output_type": "stream",
     "text": [
      "processing  1100 to 1105\n"
     ]
    },
    {
     "name": "stderr",
     "output_type": "stream",
     "text": [
      "Flash attention implementation does not support kwargs: task\n",
      "Flash attention implementation does not support kwargs: task\n"
     ]
    },
    {
     "name": "stdout",
     "output_type": "stream",
     "text": [
      "processing  1105 to 1110\n"
     ]
    },
    {
     "name": "stderr",
     "output_type": "stream",
     "text": [
      "Flash attention implementation does not support kwargs: task\n",
      "Flash attention implementation does not support kwargs: task\n"
     ]
    },
    {
     "name": "stdout",
     "output_type": "stream",
     "text": [
      "processing  1110 to 1115\n"
     ]
    },
    {
     "name": "stderr",
     "output_type": "stream",
     "text": [
      "Flash attention implementation does not support kwargs: task\n",
      "Flash attention implementation does not support kwargs: task\n"
     ]
    },
    {
     "name": "stdout",
     "output_type": "stream",
     "text": [
      "processing  1115 to 1120\n"
     ]
    },
    {
     "name": "stderr",
     "output_type": "stream",
     "text": [
      "Flash attention implementation does not support kwargs: task\n",
      "Flash attention implementation does not support kwargs: task\n"
     ]
    },
    {
     "name": "stdout",
     "output_type": "stream",
     "text": [
      "processing  1120 to 1125\n"
     ]
    },
    {
     "name": "stderr",
     "output_type": "stream",
     "text": [
      "Flash attention implementation does not support kwargs: task\n",
      "Flash attention implementation does not support kwargs: task\n"
     ]
    },
    {
     "name": "stdout",
     "output_type": "stream",
     "text": [
      "processing  1125 to 1130\n"
     ]
    },
    {
     "name": "stderr",
     "output_type": "stream",
     "text": [
      "Flash attention implementation does not support kwargs: task\n",
      "Flash attention implementation does not support kwargs: task\n"
     ]
    },
    {
     "name": "stdout",
     "output_type": "stream",
     "text": [
      "processing  1130 to 1135\n"
     ]
    },
    {
     "name": "stderr",
     "output_type": "stream",
     "text": [
      "Flash attention implementation does not support kwargs: task\n",
      "Flash attention implementation does not support kwargs: task\n"
     ]
    },
    {
     "name": "stdout",
     "output_type": "stream",
     "text": [
      "processing  1135 to 1140\n"
     ]
    },
    {
     "name": "stderr",
     "output_type": "stream",
     "text": [
      "Flash attention implementation does not support kwargs: task\n",
      "Flash attention implementation does not support kwargs: task\n"
     ]
    },
    {
     "name": "stdout",
     "output_type": "stream",
     "text": [
      "processing  1140 to 1145\n"
     ]
    },
    {
     "name": "stderr",
     "output_type": "stream",
     "text": [
      "Flash attention implementation does not support kwargs: task\n",
      "Flash attention implementation does not support kwargs: task\n"
     ]
    },
    {
     "name": "stdout",
     "output_type": "stream",
     "text": [
      "processing  1145 to 1150\n"
     ]
    },
    {
     "name": "stderr",
     "output_type": "stream",
     "text": [
      "Flash attention implementation does not support kwargs: task\n",
      "Flash attention implementation does not support kwargs: task\n"
     ]
    },
    {
     "name": "stdout",
     "output_type": "stream",
     "text": [
      "processing  1150 to 1155\n"
     ]
    },
    {
     "name": "stderr",
     "output_type": "stream",
     "text": [
      "Flash attention implementation does not support kwargs: task\n",
      "Flash attention implementation does not support kwargs: task\n"
     ]
    },
    {
     "name": "stdout",
     "output_type": "stream",
     "text": [
      "processing  1155 to 1160\n"
     ]
    },
    {
     "name": "stderr",
     "output_type": "stream",
     "text": [
      "Flash attention implementation does not support kwargs: task\n",
      "Flash attention implementation does not support kwargs: task\n"
     ]
    },
    {
     "name": "stdout",
     "output_type": "stream",
     "text": [
      "processing  1160 to 1165\n"
     ]
    },
    {
     "name": "stderr",
     "output_type": "stream",
     "text": [
      "Flash attention implementation does not support kwargs: task\n",
      "Flash attention implementation does not support kwargs: task\n"
     ]
    },
    {
     "name": "stdout",
     "output_type": "stream",
     "text": [
      "processing  1165 to 1170\n"
     ]
    },
    {
     "name": "stderr",
     "output_type": "stream",
     "text": [
      "Flash attention implementation does not support kwargs: task\n",
      "Flash attention implementation does not support kwargs: task\n"
     ]
    },
    {
     "name": "stdout",
     "output_type": "stream",
     "text": [
      "processing  1170 to 1175\n"
     ]
    },
    {
     "name": "stderr",
     "output_type": "stream",
     "text": [
      "Flash attention implementation does not support kwargs: task\n",
      "Flash attention implementation does not support kwargs: task\n"
     ]
    },
    {
     "name": "stdout",
     "output_type": "stream",
     "text": [
      "processing  1175 to 1180\n"
     ]
    },
    {
     "name": "stderr",
     "output_type": "stream",
     "text": [
      "Flash attention implementation does not support kwargs: task\n",
      "Flash attention implementation does not support kwargs: task\n"
     ]
    },
    {
     "name": "stdout",
     "output_type": "stream",
     "text": [
      "processing  1180 to 1185\n"
     ]
    },
    {
     "name": "stderr",
     "output_type": "stream",
     "text": [
      "Flash attention implementation does not support kwargs: task\n",
      "Flash attention implementation does not support kwargs: task\n"
     ]
    },
    {
     "name": "stdout",
     "output_type": "stream",
     "text": [
      "processing  1185 to 1190\n"
     ]
    },
    {
     "name": "stderr",
     "output_type": "stream",
     "text": [
      "Flash attention implementation does not support kwargs: task\n",
      "Flash attention implementation does not support kwargs: task\n"
     ]
    },
    {
     "name": "stdout",
     "output_type": "stream",
     "text": [
      "processing  1190 to 1195\n"
     ]
    },
    {
     "name": "stderr",
     "output_type": "stream",
     "text": [
      "Flash attention implementation does not support kwargs: task\n",
      "Flash attention implementation does not support kwargs: task\n"
     ]
    },
    {
     "name": "stdout",
     "output_type": "stream",
     "text": [
      "processing  1195 to 1200\n"
     ]
    },
    {
     "name": "stderr",
     "output_type": "stream",
     "text": [
      "Flash attention implementation does not support kwargs: task\n",
      "Flash attention implementation does not support kwargs: task\n"
     ]
    },
    {
     "name": "stdout",
     "output_type": "stream",
     "text": [
      "processing  1200 to 1205\n"
     ]
    },
    {
     "name": "stderr",
     "output_type": "stream",
     "text": [
      "Flash attention implementation does not support kwargs: task\n",
      "Flash attention implementation does not support kwargs: task\n"
     ]
    },
    {
     "name": "stdout",
     "output_type": "stream",
     "text": [
      "processing  1205 to 1210\n"
     ]
    },
    {
     "name": "stderr",
     "output_type": "stream",
     "text": [
      "Flash attention implementation does not support kwargs: task\n",
      "Flash attention implementation does not support kwargs: task\n"
     ]
    },
    {
     "name": "stdout",
     "output_type": "stream",
     "text": [
      "processing  1210 to 1215\n"
     ]
    },
    {
     "name": "stderr",
     "output_type": "stream",
     "text": [
      "Flash attention implementation does not support kwargs: task\n",
      "Flash attention implementation does not support kwargs: task\n"
     ]
    },
    {
     "name": "stdout",
     "output_type": "stream",
     "text": [
      "processing  1215 to 1220\n"
     ]
    },
    {
     "name": "stderr",
     "output_type": "stream",
     "text": [
      "Flash attention implementation does not support kwargs: task\n",
      "Flash attention implementation does not support kwargs: task\n"
     ]
    },
    {
     "name": "stdout",
     "output_type": "stream",
     "text": [
      "processing  1220 to 1225\n"
     ]
    },
    {
     "name": "stderr",
     "output_type": "stream",
     "text": [
      "Flash attention implementation does not support kwargs: task\n",
      "Flash attention implementation does not support kwargs: task\n"
     ]
    },
    {
     "name": "stdout",
     "output_type": "stream",
     "text": [
      "processing  1225 to 1230\n"
     ]
    },
    {
     "name": "stderr",
     "output_type": "stream",
     "text": [
      "Flash attention implementation does not support kwargs: task\n",
      "Flash attention implementation does not support kwargs: task\n"
     ]
    },
    {
     "name": "stdout",
     "output_type": "stream",
     "text": [
      "processing  1230 to 1235\n"
     ]
    },
    {
     "name": "stderr",
     "output_type": "stream",
     "text": [
      "Flash attention implementation does not support kwargs: task\n",
      "Flash attention implementation does not support kwargs: task\n"
     ]
    },
    {
     "name": "stdout",
     "output_type": "stream",
     "text": [
      "processing  1235 to 1240\n"
     ]
    },
    {
     "name": "stderr",
     "output_type": "stream",
     "text": [
      "Flash attention implementation does not support kwargs: task\n",
      "Flash attention implementation does not support kwargs: task\n"
     ]
    },
    {
     "name": "stdout",
     "output_type": "stream",
     "text": [
      "processing  1240 to 1245\n"
     ]
    },
    {
     "name": "stderr",
     "output_type": "stream",
     "text": [
      "Flash attention implementation does not support kwargs: task\n",
      "Flash attention implementation does not support kwargs: task\n"
     ]
    },
    {
     "name": "stdout",
     "output_type": "stream",
     "text": [
      "processing  1245 to 1250\n"
     ]
    },
    {
     "name": "stderr",
     "output_type": "stream",
     "text": [
      "Flash attention implementation does not support kwargs: task\n",
      "Flash attention implementation does not support kwargs: task\n"
     ]
    },
    {
     "name": "stdout",
     "output_type": "stream",
     "text": [
      "processing  1250 to 1255\n"
     ]
    },
    {
     "name": "stderr",
     "output_type": "stream",
     "text": [
      "Flash attention implementation does not support kwargs: task\n",
      "Flash attention implementation does not support kwargs: task\n"
     ]
    },
    {
     "name": "stdout",
     "output_type": "stream",
     "text": [
      "processing  1255 to 1260\n"
     ]
    },
    {
     "name": "stderr",
     "output_type": "stream",
     "text": [
      "Flash attention implementation does not support kwargs: task\n",
      "Flash attention implementation does not support kwargs: task\n"
     ]
    },
    {
     "name": "stdout",
     "output_type": "stream",
     "text": [
      "processing  1260 to 1265\n"
     ]
    },
    {
     "name": "stderr",
     "output_type": "stream",
     "text": [
      "Flash attention implementation does not support kwargs: task\n",
      "Flash attention implementation does not support kwargs: task\n"
     ]
    },
    {
     "name": "stdout",
     "output_type": "stream",
     "text": [
      "processing  1265 to 1270\n"
     ]
    },
    {
     "name": "stderr",
     "output_type": "stream",
     "text": [
      "Flash attention implementation does not support kwargs: task\n",
      "Flash attention implementation does not support kwargs: task\n"
     ]
    },
    {
     "name": "stdout",
     "output_type": "stream",
     "text": [
      "processing  1270 to 1275\n"
     ]
    },
    {
     "name": "stderr",
     "output_type": "stream",
     "text": [
      "Flash attention implementation does not support kwargs: task\n",
      "Flash attention implementation does not support kwargs: task\n"
     ]
    },
    {
     "name": "stdout",
     "output_type": "stream",
     "text": [
      "processing  1275 to 1280\n"
     ]
    },
    {
     "name": "stderr",
     "output_type": "stream",
     "text": [
      "Flash attention implementation does not support kwargs: task\n",
      "Flash attention implementation does not support kwargs: task\n"
     ]
    },
    {
     "name": "stdout",
     "output_type": "stream",
     "text": [
      "processing  1280 to 1285\n"
     ]
    },
    {
     "name": "stderr",
     "output_type": "stream",
     "text": [
      "Flash attention implementation does not support kwargs: task\n",
      "Flash attention implementation does not support kwargs: task\n"
     ]
    },
    {
     "name": "stdout",
     "output_type": "stream",
     "text": [
      "processing  1285 to 1290\n"
     ]
    },
    {
     "name": "stderr",
     "output_type": "stream",
     "text": [
      "Flash attention implementation does not support kwargs: task\n",
      "Flash attention implementation does not support kwargs: task\n"
     ]
    },
    {
     "name": "stdout",
     "output_type": "stream",
     "text": [
      "processing  1290 to 1295\n"
     ]
    },
    {
     "name": "stderr",
     "output_type": "stream",
     "text": [
      "Flash attention implementation does not support kwargs: task\n",
      "Flash attention implementation does not support kwargs: task\n"
     ]
    },
    {
     "name": "stdout",
     "output_type": "stream",
     "text": [
      "processing  1295 to 1300\n"
     ]
    },
    {
     "name": "stderr",
     "output_type": "stream",
     "text": [
      "Flash attention implementation does not support kwargs: task\n",
      "Flash attention implementation does not support kwargs: task\n"
     ]
    },
    {
     "name": "stdout",
     "output_type": "stream",
     "text": [
      "processing  1300 to 1305\n"
     ]
    },
    {
     "name": "stderr",
     "output_type": "stream",
     "text": [
      "Flash attention implementation does not support kwargs: task\n",
      "Flash attention implementation does not support kwargs: task\n"
     ]
    },
    {
     "name": "stdout",
     "output_type": "stream",
     "text": [
      "processing  1305 to 1310\n"
     ]
    },
    {
     "name": "stderr",
     "output_type": "stream",
     "text": [
      "Flash attention implementation does not support kwargs: task\n",
      "Flash attention implementation does not support kwargs: task\n"
     ]
    },
    {
     "name": "stdout",
     "output_type": "stream",
     "text": [
      "processing  1310 to 1315\n"
     ]
    },
    {
     "name": "stderr",
     "output_type": "stream",
     "text": [
      "Flash attention implementation does not support kwargs: task\n",
      "Flash attention implementation does not support kwargs: task\n"
     ]
    },
    {
     "name": "stdout",
     "output_type": "stream",
     "text": [
      "processing  1315 to 1320\n"
     ]
    },
    {
     "name": "stderr",
     "output_type": "stream",
     "text": [
      "Flash attention implementation does not support kwargs: task\n",
      "Flash attention implementation does not support kwargs: task\n"
     ]
    },
    {
     "name": "stdout",
     "output_type": "stream",
     "text": [
      "processing  1320 to 1325\n"
     ]
    },
    {
     "name": "stderr",
     "output_type": "stream",
     "text": [
      "Flash attention implementation does not support kwargs: task\n",
      "Flash attention implementation does not support kwargs: task\n"
     ]
    },
    {
     "name": "stdout",
     "output_type": "stream",
     "text": [
      "processing  1325 to 1330\n"
     ]
    },
    {
     "name": "stderr",
     "output_type": "stream",
     "text": [
      "Flash attention implementation does not support kwargs: task\n",
      "Flash attention implementation does not support kwargs: task\n"
     ]
    },
    {
     "name": "stdout",
     "output_type": "stream",
     "text": [
      "processing  1330 to 1335\n"
     ]
    },
    {
     "name": "stderr",
     "output_type": "stream",
     "text": [
      "Flash attention implementation does not support kwargs: task\n",
      "Flash attention implementation does not support kwargs: task\n"
     ]
    },
    {
     "name": "stdout",
     "output_type": "stream",
     "text": [
      "processing  1335 to 1340\n"
     ]
    },
    {
     "name": "stderr",
     "output_type": "stream",
     "text": [
      "Flash attention implementation does not support kwargs: task\n",
      "Flash attention implementation does not support kwargs: task\n"
     ]
    },
    {
     "name": "stdout",
     "output_type": "stream",
     "text": [
      "processing  1340 to 1345\n"
     ]
    },
    {
     "name": "stderr",
     "output_type": "stream",
     "text": [
      "Flash attention implementation does not support kwargs: task\n",
      "Flash attention implementation does not support kwargs: task\n"
     ]
    },
    {
     "name": "stdout",
     "output_type": "stream",
     "text": [
      "processing  1345 to 1350\n"
     ]
    },
    {
     "name": "stderr",
     "output_type": "stream",
     "text": [
      "Flash attention implementation does not support kwargs: task\n",
      "Flash attention implementation does not support kwargs: task\n"
     ]
    },
    {
     "name": "stdout",
     "output_type": "stream",
     "text": [
      "processing  1350 to 1355\n"
     ]
    },
    {
     "name": "stderr",
     "output_type": "stream",
     "text": [
      "Flash attention implementation does not support kwargs: task\n",
      "Flash attention implementation does not support kwargs: task\n"
     ]
    },
    {
     "name": "stdout",
     "output_type": "stream",
     "text": [
      "processing  1355 to 1360\n"
     ]
    },
    {
     "name": "stderr",
     "output_type": "stream",
     "text": [
      "Flash attention implementation does not support kwargs: task\n",
      "Flash attention implementation does not support kwargs: task\n"
     ]
    },
    {
     "name": "stdout",
     "output_type": "stream",
     "text": [
      "processing  1360 to 1365\n"
     ]
    },
    {
     "name": "stderr",
     "output_type": "stream",
     "text": [
      "Flash attention implementation does not support kwargs: task\n",
      "Flash attention implementation does not support kwargs: task\n"
     ]
    },
    {
     "name": "stdout",
     "output_type": "stream",
     "text": [
      "processing  1365 to 1370\n"
     ]
    },
    {
     "name": "stderr",
     "output_type": "stream",
     "text": [
      "Flash attention implementation does not support kwargs: task\n",
      "Flash attention implementation does not support kwargs: task\n"
     ]
    },
    {
     "name": "stdout",
     "output_type": "stream",
     "text": [
      "processing  1370 to 1375\n"
     ]
    },
    {
     "name": "stderr",
     "output_type": "stream",
     "text": [
      "Flash attention implementation does not support kwargs: task\n",
      "Flash attention implementation does not support kwargs: task\n"
     ]
    },
    {
     "name": "stdout",
     "output_type": "stream",
     "text": [
      "processing  1375 to 1380\n"
     ]
    },
    {
     "name": "stderr",
     "output_type": "stream",
     "text": [
      "Flash attention implementation does not support kwargs: task\n",
      "Flash attention implementation does not support kwargs: task\n"
     ]
    },
    {
     "name": "stdout",
     "output_type": "stream",
     "text": [
      "processing  1380 to 1385\n"
     ]
    },
    {
     "name": "stderr",
     "output_type": "stream",
     "text": [
      "Flash attention implementation does not support kwargs: task\n",
      "Flash attention implementation does not support kwargs: task\n"
     ]
    },
    {
     "name": "stdout",
     "output_type": "stream",
     "text": [
      "processing  1385 to 1390\n"
     ]
    },
    {
     "name": "stderr",
     "output_type": "stream",
     "text": [
      "Flash attention implementation does not support kwargs: task\n",
      "Flash attention implementation does not support kwargs: task\n"
     ]
    },
    {
     "name": "stdout",
     "output_type": "stream",
     "text": [
      "processing  1390 to 1395\n"
     ]
    },
    {
     "name": "stderr",
     "output_type": "stream",
     "text": [
      "Flash attention implementation does not support kwargs: task\n",
      "Flash attention implementation does not support kwargs: task\n"
     ]
    },
    {
     "name": "stdout",
     "output_type": "stream",
     "text": [
      "processing  1395 to 1400\n"
     ]
    },
    {
     "name": "stderr",
     "output_type": "stream",
     "text": [
      "Flash attention implementation does not support kwargs: task\n",
      "Flash attention implementation does not support kwargs: task\n"
     ]
    },
    {
     "name": "stdout",
     "output_type": "stream",
     "text": [
      "processing  1400 to 1405\n"
     ]
    },
    {
     "name": "stderr",
     "output_type": "stream",
     "text": [
      "Flash attention implementation does not support kwargs: task\n",
      "Flash attention implementation does not support kwargs: task\n"
     ]
    },
    {
     "name": "stdout",
     "output_type": "stream",
     "text": [
      "processing  1405 to 1410\n"
     ]
    },
    {
     "name": "stderr",
     "output_type": "stream",
     "text": [
      "Flash attention implementation does not support kwargs: task\n",
      "Flash attention implementation does not support kwargs: task\n"
     ]
    },
    {
     "name": "stdout",
     "output_type": "stream",
     "text": [
      "processing  1410 to 1415\n"
     ]
    },
    {
     "name": "stderr",
     "output_type": "stream",
     "text": [
      "Flash attention implementation does not support kwargs: task\n",
      "Flash attention implementation does not support kwargs: task\n"
     ]
    },
    {
     "name": "stdout",
     "output_type": "stream",
     "text": [
      "processing  1415 to 1420\n"
     ]
    },
    {
     "name": "stderr",
     "output_type": "stream",
     "text": [
      "Flash attention implementation does not support kwargs: task\n",
      "Flash attention implementation does not support kwargs: task\n"
     ]
    },
    {
     "name": "stdout",
     "output_type": "stream",
     "text": [
      "processing  1420 to 1425\n"
     ]
    },
    {
     "name": "stderr",
     "output_type": "stream",
     "text": [
      "Flash attention implementation does not support kwargs: task\n",
      "Flash attention implementation does not support kwargs: task\n"
     ]
    },
    {
     "name": "stdout",
     "output_type": "stream",
     "text": [
      "processing  1425 to 1430\n"
     ]
    },
    {
     "name": "stderr",
     "output_type": "stream",
     "text": [
      "Flash attention implementation does not support kwargs: task\n",
      "Flash attention implementation does not support kwargs: task\n"
     ]
    },
    {
     "name": "stdout",
     "output_type": "stream",
     "text": [
      "processing  1430 to 1435\n"
     ]
    },
    {
     "name": "stderr",
     "output_type": "stream",
     "text": [
      "Flash attention implementation does not support kwargs: task\n",
      "Flash attention implementation does not support kwargs: task\n"
     ]
    },
    {
     "name": "stdout",
     "output_type": "stream",
     "text": [
      "processing  1435 to 1440\n"
     ]
    },
    {
     "name": "stderr",
     "output_type": "stream",
     "text": [
      "Flash attention implementation does not support kwargs: task\n",
      "Flash attention implementation does not support kwargs: task\n"
     ]
    },
    {
     "name": "stdout",
     "output_type": "stream",
     "text": [
      "processing  1440 to 1445\n"
     ]
    },
    {
     "name": "stderr",
     "output_type": "stream",
     "text": [
      "Flash attention implementation does not support kwargs: task\n",
      "Flash attention implementation does not support kwargs: task\n"
     ]
    },
    {
     "name": "stdout",
     "output_type": "stream",
     "text": [
      "processing  1445 to 1450\n"
     ]
    },
    {
     "name": "stderr",
     "output_type": "stream",
     "text": [
      "Flash attention implementation does not support kwargs: task\n",
      "Flash attention implementation does not support kwargs: task\n"
     ]
    },
    {
     "name": "stdout",
     "output_type": "stream",
     "text": [
      "processing  1450 to 1455\n"
     ]
    },
    {
     "name": "stderr",
     "output_type": "stream",
     "text": [
      "Flash attention implementation does not support kwargs: task\n",
      "Flash attention implementation does not support kwargs: task\n"
     ]
    },
    {
     "name": "stdout",
     "output_type": "stream",
     "text": [
      "processing  1455 to 1460\n"
     ]
    },
    {
     "name": "stderr",
     "output_type": "stream",
     "text": [
      "Flash attention implementation does not support kwargs: task\n",
      "Flash attention implementation does not support kwargs: task\n"
     ]
    },
    {
     "name": "stdout",
     "output_type": "stream",
     "text": [
      "processing  1460 to 1465\n"
     ]
    },
    {
     "name": "stderr",
     "output_type": "stream",
     "text": [
      "Flash attention implementation does not support kwargs: task\n",
      "Flash attention implementation does not support kwargs: task\n"
     ]
    },
    {
     "name": "stdout",
     "output_type": "stream",
     "text": [
      "processing  1465 to 1470\n"
     ]
    },
    {
     "name": "stderr",
     "output_type": "stream",
     "text": [
      "Flash attention implementation does not support kwargs: task\n",
      "Flash attention implementation does not support kwargs: task\n"
     ]
    },
    {
     "name": "stdout",
     "output_type": "stream",
     "text": [
      "processing  1470 to 1475\n"
     ]
    },
    {
     "name": "stderr",
     "output_type": "stream",
     "text": [
      "Flash attention implementation does not support kwargs: task\n",
      "Flash attention implementation does not support kwargs: task\n"
     ]
    },
    {
     "name": "stdout",
     "output_type": "stream",
     "text": [
      "processing  1475 to 1480\n"
     ]
    },
    {
     "name": "stderr",
     "output_type": "stream",
     "text": [
      "Flash attention implementation does not support kwargs: task\n",
      "Flash attention implementation does not support kwargs: task\n"
     ]
    },
    {
     "name": "stdout",
     "output_type": "stream",
     "text": [
      "processing  1480 to 1485\n"
     ]
    },
    {
     "name": "stderr",
     "output_type": "stream",
     "text": [
      "Flash attention implementation does not support kwargs: task\n",
      "Flash attention implementation does not support kwargs: task\n"
     ]
    },
    {
     "name": "stdout",
     "output_type": "stream",
     "text": [
      "processing  1485 to 1490\n"
     ]
    },
    {
     "name": "stderr",
     "output_type": "stream",
     "text": [
      "Flash attention implementation does not support kwargs: task\n",
      "Flash attention implementation does not support kwargs: task\n"
     ]
    },
    {
     "name": "stdout",
     "output_type": "stream",
     "text": [
      "processing  1490 to 1495\n"
     ]
    },
    {
     "name": "stderr",
     "output_type": "stream",
     "text": [
      "Flash attention implementation does not support kwargs: task\n",
      "Flash attention implementation does not support kwargs: task\n"
     ]
    },
    {
     "name": "stdout",
     "output_type": "stream",
     "text": [
      "processing  1495 to 1500\n"
     ]
    },
    {
     "name": "stderr",
     "output_type": "stream",
     "text": [
      "Flash attention implementation does not support kwargs: task\n",
      "Flash attention implementation does not support kwargs: task\n"
     ]
    },
    {
     "name": "stdout",
     "output_type": "stream",
     "text": [
      "processing  1500 to 1505\n"
     ]
    },
    {
     "name": "stderr",
     "output_type": "stream",
     "text": [
      "Flash attention implementation does not support kwargs: task\n",
      "Flash attention implementation does not support kwargs: task\n"
     ]
    },
    {
     "name": "stdout",
     "output_type": "stream",
     "text": [
      "processing  1505 to 1510\n"
     ]
    },
    {
     "name": "stderr",
     "output_type": "stream",
     "text": [
      "Flash attention implementation does not support kwargs: task\n",
      "Flash attention implementation does not support kwargs: task\n"
     ]
    },
    {
     "name": "stdout",
     "output_type": "stream",
     "text": [
      "processing  1510 to 1515\n"
     ]
    },
    {
     "name": "stderr",
     "output_type": "stream",
     "text": [
      "Flash attention implementation does not support kwargs: task\n",
      "Flash attention implementation does not support kwargs: task\n"
     ]
    },
    {
     "name": "stdout",
     "output_type": "stream",
     "text": [
      "processing  1515 to 1520\n"
     ]
    },
    {
     "name": "stderr",
     "output_type": "stream",
     "text": [
      "Flash attention implementation does not support kwargs: task\n",
      "Flash attention implementation does not support kwargs: task\n"
     ]
    },
    {
     "name": "stdout",
     "output_type": "stream",
     "text": [
      "processing  1520 to 1525\n"
     ]
    },
    {
     "name": "stderr",
     "output_type": "stream",
     "text": [
      "Flash attention implementation does not support kwargs: task\n",
      "Flash attention implementation does not support kwargs: task\n"
     ]
    },
    {
     "name": "stdout",
     "output_type": "stream",
     "text": [
      "processing  1525 to 1530\n"
     ]
    },
    {
     "name": "stderr",
     "output_type": "stream",
     "text": [
      "Flash attention implementation does not support kwargs: task\n",
      "Flash attention implementation does not support kwargs: task\n"
     ]
    },
    {
     "name": "stdout",
     "output_type": "stream",
     "text": [
      "processing  1530 to 1535\n"
     ]
    },
    {
     "name": "stderr",
     "output_type": "stream",
     "text": [
      "Flash attention implementation does not support kwargs: task\n",
      "Flash attention implementation does not support kwargs: task\n"
     ]
    },
    {
     "name": "stdout",
     "output_type": "stream",
     "text": [
      "processing  1535 to 1540\n"
     ]
    },
    {
     "name": "stderr",
     "output_type": "stream",
     "text": [
      "Flash attention implementation does not support kwargs: task\n",
      "Flash attention implementation does not support kwargs: task\n"
     ]
    },
    {
     "name": "stdout",
     "output_type": "stream",
     "text": [
      "processing  1540 to 1545\n"
     ]
    },
    {
     "name": "stderr",
     "output_type": "stream",
     "text": [
      "Flash attention implementation does not support kwargs: task\n",
      "Flash attention implementation does not support kwargs: task\n"
     ]
    },
    {
     "name": "stdout",
     "output_type": "stream",
     "text": [
      "processing  1545 to 1550\n"
     ]
    },
    {
     "name": "stderr",
     "output_type": "stream",
     "text": [
      "Flash attention implementation does not support kwargs: task\n",
      "Flash attention implementation does not support kwargs: task\n"
     ]
    },
    {
     "name": "stdout",
     "output_type": "stream",
     "text": [
      "processing  1550 to 1555\n"
     ]
    },
    {
     "name": "stderr",
     "output_type": "stream",
     "text": [
      "Flash attention implementation does not support kwargs: task\n",
      "Flash attention implementation does not support kwargs: task\n"
     ]
    },
    {
     "name": "stdout",
     "output_type": "stream",
     "text": [
      "processing  1555 to 1560\n"
     ]
    },
    {
     "name": "stderr",
     "output_type": "stream",
     "text": [
      "Flash attention implementation does not support kwargs: task\n",
      "Flash attention implementation does not support kwargs: task\n"
     ]
    },
    {
     "name": "stdout",
     "output_type": "stream",
     "text": [
      "processing  1560 to 1565\n"
     ]
    },
    {
     "name": "stderr",
     "output_type": "stream",
     "text": [
      "Flash attention implementation does not support kwargs: task\n",
      "Flash attention implementation does not support kwargs: task\n"
     ]
    },
    {
     "name": "stdout",
     "output_type": "stream",
     "text": [
      "processing  1565 to 1570\n"
     ]
    },
    {
     "name": "stderr",
     "output_type": "stream",
     "text": [
      "Flash attention implementation does not support kwargs: task\n",
      "Flash attention implementation does not support kwargs: task\n"
     ]
    },
    {
     "name": "stdout",
     "output_type": "stream",
     "text": [
      "processing  1570 to 1575\n"
     ]
    },
    {
     "name": "stderr",
     "output_type": "stream",
     "text": [
      "Flash attention implementation does not support kwargs: task\n",
      "Flash attention implementation does not support kwargs: task\n"
     ]
    },
    {
     "name": "stdout",
     "output_type": "stream",
     "text": [
      "processing  1575 to 1580\n"
     ]
    },
    {
     "name": "stderr",
     "output_type": "stream",
     "text": [
      "Flash attention implementation does not support kwargs: task\n",
      "Flash attention implementation does not support kwargs: task\n"
     ]
    },
    {
     "name": "stdout",
     "output_type": "stream",
     "text": [
      "processing  1580 to 1585\n"
     ]
    },
    {
     "name": "stderr",
     "output_type": "stream",
     "text": [
      "Flash attention implementation does not support kwargs: task\n",
      "Flash attention implementation does not support kwargs: task\n"
     ]
    },
    {
     "name": "stdout",
     "output_type": "stream",
     "text": [
      "processing  1585 to 1590\n"
     ]
    },
    {
     "name": "stderr",
     "output_type": "stream",
     "text": [
      "Flash attention implementation does not support kwargs: task\n",
      "Flash attention implementation does not support kwargs: task\n"
     ]
    },
    {
     "name": "stdout",
     "output_type": "stream",
     "text": [
      "processing  1590 to 1595\n"
     ]
    },
    {
     "name": "stderr",
     "output_type": "stream",
     "text": [
      "Flash attention implementation does not support kwargs: task\n",
      "Flash attention implementation does not support kwargs: task\n"
     ]
    },
    {
     "name": "stdout",
     "output_type": "stream",
     "text": [
      "processing  1595 to 1600\n"
     ]
    },
    {
     "name": "stderr",
     "output_type": "stream",
     "text": [
      "Flash attention implementation does not support kwargs: task\n",
      "Flash attention implementation does not support kwargs: task\n"
     ]
    },
    {
     "name": "stdout",
     "output_type": "stream",
     "text": [
      "processing  1600 to 1605\n"
     ]
    },
    {
     "name": "stderr",
     "output_type": "stream",
     "text": [
      "Flash attention implementation does not support kwargs: task\n",
      "Flash attention implementation does not support kwargs: task\n"
     ]
    },
    {
     "name": "stdout",
     "output_type": "stream",
     "text": [
      "processing  1605 to 1610\n"
     ]
    },
    {
     "name": "stderr",
     "output_type": "stream",
     "text": [
      "Flash attention implementation does not support kwargs: task\n",
      "Flash attention implementation does not support kwargs: task\n"
     ]
    },
    {
     "name": "stdout",
     "output_type": "stream",
     "text": [
      "processing  1610 to 1615\n"
     ]
    },
    {
     "name": "stderr",
     "output_type": "stream",
     "text": [
      "Flash attention implementation does not support kwargs: task\n",
      "Flash attention implementation does not support kwargs: task\n"
     ]
    },
    {
     "name": "stdout",
     "output_type": "stream",
     "text": [
      "processing  1615 to 1620\n"
     ]
    },
    {
     "name": "stderr",
     "output_type": "stream",
     "text": [
      "Flash attention implementation does not support kwargs: task\n",
      "Flash attention implementation does not support kwargs: task\n"
     ]
    },
    {
     "name": "stdout",
     "output_type": "stream",
     "text": [
      "processing  1620 to 1625\n"
     ]
    },
    {
     "name": "stderr",
     "output_type": "stream",
     "text": [
      "Flash attention implementation does not support kwargs: task\n",
      "Flash attention implementation does not support kwargs: task\n"
     ]
    },
    {
     "name": "stdout",
     "output_type": "stream",
     "text": [
      "processing  1625 to 1630\n"
     ]
    },
    {
     "name": "stderr",
     "output_type": "stream",
     "text": [
      "Flash attention implementation does not support kwargs: task\n",
      "Flash attention implementation does not support kwargs: task\n"
     ]
    },
    {
     "name": "stdout",
     "output_type": "stream",
     "text": [
      "processing  1630 to 1635\n"
     ]
    },
    {
     "name": "stderr",
     "output_type": "stream",
     "text": [
      "Flash attention implementation does not support kwargs: task\n",
      "Flash attention implementation does not support kwargs: task\n"
     ]
    },
    {
     "name": "stdout",
     "output_type": "stream",
     "text": [
      "processing  1635 to 1640\n"
     ]
    },
    {
     "name": "stderr",
     "output_type": "stream",
     "text": [
      "Flash attention implementation does not support kwargs: task\n",
      "Flash attention implementation does not support kwargs: task\n"
     ]
    },
    {
     "name": "stdout",
     "output_type": "stream",
     "text": [
      "processing  1640 to 1645\n"
     ]
    },
    {
     "name": "stderr",
     "output_type": "stream",
     "text": [
      "Flash attention implementation does not support kwargs: task\n",
      "Flash attention implementation does not support kwargs: task\n"
     ]
    },
    {
     "name": "stdout",
     "output_type": "stream",
     "text": [
      "processing  1645 to 1650\n"
     ]
    },
    {
     "name": "stderr",
     "output_type": "stream",
     "text": [
      "Flash attention implementation does not support kwargs: task\n",
      "Flash attention implementation does not support kwargs: task\n"
     ]
    },
    {
     "name": "stdout",
     "output_type": "stream",
     "text": [
      "processing  1650 to 1655\n"
     ]
    },
    {
     "name": "stderr",
     "output_type": "stream",
     "text": [
      "Flash attention implementation does not support kwargs: task\n",
      "Flash attention implementation does not support kwargs: task\n"
     ]
    },
    {
     "name": "stdout",
     "output_type": "stream",
     "text": [
      "processing  1655 to 1660\n"
     ]
    },
    {
     "name": "stderr",
     "output_type": "stream",
     "text": [
      "Flash attention implementation does not support kwargs: task\n",
      "Flash attention implementation does not support kwargs: task\n"
     ]
    },
    {
     "name": "stdout",
     "output_type": "stream",
     "text": [
      "processing  1660 to 1665\n"
     ]
    },
    {
     "name": "stderr",
     "output_type": "stream",
     "text": [
      "Flash attention implementation does not support kwargs: task\n",
      "Flash attention implementation does not support kwargs: task\n"
     ]
    },
    {
     "name": "stdout",
     "output_type": "stream",
     "text": [
      "processing  1665 to 1670\n"
     ]
    },
    {
     "name": "stderr",
     "output_type": "stream",
     "text": [
      "Flash attention implementation does not support kwargs: task\n",
      "Flash attention implementation does not support kwargs: task\n"
     ]
    },
    {
     "name": "stdout",
     "output_type": "stream",
     "text": [
      "processing  1670 to 1675\n"
     ]
    },
    {
     "name": "stderr",
     "output_type": "stream",
     "text": [
      "Flash attention implementation does not support kwargs: task\n",
      "Flash attention implementation does not support kwargs: task\n"
     ]
    },
    {
     "name": "stdout",
     "output_type": "stream",
     "text": [
      "processing  1675 to 1680\n"
     ]
    },
    {
     "name": "stderr",
     "output_type": "stream",
     "text": [
      "Flash attention implementation does not support kwargs: task\n",
      "Flash attention implementation does not support kwargs: task\n"
     ]
    },
    {
     "name": "stdout",
     "output_type": "stream",
     "text": [
      "processing  1680 to 1685\n"
     ]
    },
    {
     "name": "stderr",
     "output_type": "stream",
     "text": [
      "Flash attention implementation does not support kwargs: task\n",
      "Flash attention implementation does not support kwargs: task\n"
     ]
    },
    {
     "name": "stdout",
     "output_type": "stream",
     "text": [
      "processing  1685 to 1690\n"
     ]
    },
    {
     "name": "stderr",
     "output_type": "stream",
     "text": [
      "Flash attention implementation does not support kwargs: task\n",
      "Flash attention implementation does not support kwargs: task\n"
     ]
    },
    {
     "name": "stdout",
     "output_type": "stream",
     "text": [
      "processing  1690 to 1695\n"
     ]
    },
    {
     "name": "stderr",
     "output_type": "stream",
     "text": [
      "Flash attention implementation does not support kwargs: task\n",
      "Flash attention implementation does not support kwargs: task\n"
     ]
    },
    {
     "name": "stdout",
     "output_type": "stream",
     "text": [
      "processing  1695 to 1700\n"
     ]
    },
    {
     "name": "stderr",
     "output_type": "stream",
     "text": [
      "Flash attention implementation does not support kwargs: task\n",
      "Flash attention implementation does not support kwargs: task\n"
     ]
    },
    {
     "name": "stdout",
     "output_type": "stream",
     "text": [
      "processing  1700 to 1705\n"
     ]
    },
    {
     "name": "stderr",
     "output_type": "stream",
     "text": [
      "Flash attention implementation does not support kwargs: task\n",
      "Flash attention implementation does not support kwargs: task\n"
     ]
    },
    {
     "name": "stdout",
     "output_type": "stream",
     "text": [
      "processing  1705 to 1710\n"
     ]
    },
    {
     "name": "stderr",
     "output_type": "stream",
     "text": [
      "Flash attention implementation does not support kwargs: task\n",
      "Flash attention implementation does not support kwargs: task\n"
     ]
    },
    {
     "name": "stdout",
     "output_type": "stream",
     "text": [
      "processing  1710 to 1715\n"
     ]
    },
    {
     "name": "stderr",
     "output_type": "stream",
     "text": [
      "Flash attention implementation does not support kwargs: task\n",
      "Flash attention implementation does not support kwargs: task\n"
     ]
    },
    {
     "name": "stdout",
     "output_type": "stream",
     "text": [
      "processing  1715 to 1720\n"
     ]
    },
    {
     "name": "stderr",
     "output_type": "stream",
     "text": [
      "Flash attention implementation does not support kwargs: task\n",
      "Flash attention implementation does not support kwargs: task\n"
     ]
    },
    {
     "name": "stdout",
     "output_type": "stream",
     "text": [
      "processing  1720 to 1725\n"
     ]
    },
    {
     "name": "stderr",
     "output_type": "stream",
     "text": [
      "Flash attention implementation does not support kwargs: task\n",
      "Flash attention implementation does not support kwargs: task\n"
     ]
    },
    {
     "name": "stdout",
     "output_type": "stream",
     "text": [
      "processing  1725 to 1730\n"
     ]
    },
    {
     "name": "stderr",
     "output_type": "stream",
     "text": [
      "Flash attention implementation does not support kwargs: task\n",
      "Flash attention implementation does not support kwargs: task\n"
     ]
    },
    {
     "name": "stdout",
     "output_type": "stream",
     "text": [
      "processing  1730 to 1735\n"
     ]
    },
    {
     "name": "stderr",
     "output_type": "stream",
     "text": [
      "Flash attention implementation does not support kwargs: task\n",
      "Flash attention implementation does not support kwargs: task\n"
     ]
    },
    {
     "name": "stdout",
     "output_type": "stream",
     "text": [
      "processing  1735 to 1740\n"
     ]
    },
    {
     "name": "stderr",
     "output_type": "stream",
     "text": [
      "Flash attention implementation does not support kwargs: task\n",
      "Flash attention implementation does not support kwargs: task\n"
     ]
    },
    {
     "name": "stdout",
     "output_type": "stream",
     "text": [
      "processing  1740 to 1745\n"
     ]
    },
    {
     "name": "stderr",
     "output_type": "stream",
     "text": [
      "Flash attention implementation does not support kwargs: task\n",
      "Flash attention implementation does not support kwargs: task\n"
     ]
    },
    {
     "name": "stdout",
     "output_type": "stream",
     "text": [
      "processing  1745 to 1750\n"
     ]
    },
    {
     "name": "stderr",
     "output_type": "stream",
     "text": [
      "Flash attention implementation does not support kwargs: task\n",
      "Flash attention implementation does not support kwargs: task\n"
     ]
    },
    {
     "name": "stdout",
     "output_type": "stream",
     "text": [
      "processing  1750 to 1755\n"
     ]
    },
    {
     "name": "stderr",
     "output_type": "stream",
     "text": [
      "Flash attention implementation does not support kwargs: task\n",
      "Flash attention implementation does not support kwargs: task\n"
     ]
    },
    {
     "name": "stdout",
     "output_type": "stream",
     "text": [
      "processing  1755 to 1760\n"
     ]
    },
    {
     "name": "stderr",
     "output_type": "stream",
     "text": [
      "Flash attention implementation does not support kwargs: task\n",
      "Flash attention implementation does not support kwargs: task\n"
     ]
    },
    {
     "name": "stdout",
     "output_type": "stream",
     "text": [
      "processing  1760 to 1765\n"
     ]
    },
    {
     "name": "stderr",
     "output_type": "stream",
     "text": [
      "Flash attention implementation does not support kwargs: task\n",
      "Flash attention implementation does not support kwargs: task\n"
     ]
    },
    {
     "name": "stdout",
     "output_type": "stream",
     "text": [
      "processing  1765 to 1770\n"
     ]
    },
    {
     "name": "stderr",
     "output_type": "stream",
     "text": [
      "Flash attention implementation does not support kwargs: task\n",
      "Flash attention implementation does not support kwargs: task\n"
     ]
    },
    {
     "name": "stdout",
     "output_type": "stream",
     "text": [
      "processing  1770 to 1775\n"
     ]
    },
    {
     "name": "stderr",
     "output_type": "stream",
     "text": [
      "Flash attention implementation does not support kwargs: task\n",
      "Flash attention implementation does not support kwargs: task\n"
     ]
    },
    {
     "name": "stdout",
     "output_type": "stream",
     "text": [
      "processing  1775 to 1780\n"
     ]
    },
    {
     "name": "stderr",
     "output_type": "stream",
     "text": [
      "Flash attention implementation does not support kwargs: task\n",
      "Flash attention implementation does not support kwargs: task\n"
     ]
    },
    {
     "name": "stdout",
     "output_type": "stream",
     "text": [
      "processing  1780 to 1785\n"
     ]
    },
    {
     "name": "stderr",
     "output_type": "stream",
     "text": [
      "Flash attention implementation does not support kwargs: task\n",
      "Flash attention implementation does not support kwargs: task\n"
     ]
    },
    {
     "name": "stdout",
     "output_type": "stream",
     "text": [
      "processing  1785 to 1790\n"
     ]
    },
    {
     "name": "stderr",
     "output_type": "stream",
     "text": [
      "Flash attention implementation does not support kwargs: task\n",
      "Flash attention implementation does not support kwargs: task\n"
     ]
    },
    {
     "name": "stdout",
     "output_type": "stream",
     "text": [
      "processing  1790 to 1795\n"
     ]
    },
    {
     "name": "stderr",
     "output_type": "stream",
     "text": [
      "Flash attention implementation does not support kwargs: task\n",
      "Flash attention implementation does not support kwargs: task\n"
     ]
    },
    {
     "name": "stdout",
     "output_type": "stream",
     "text": [
      "processing  1795 to 1800\n"
     ]
    },
    {
     "name": "stderr",
     "output_type": "stream",
     "text": [
      "Flash attention implementation does not support kwargs: task\n",
      "Flash attention implementation does not support kwargs: task\n"
     ]
    },
    {
     "name": "stdout",
     "output_type": "stream",
     "text": [
      "processing  1800 to 1805\n"
     ]
    },
    {
     "name": "stderr",
     "output_type": "stream",
     "text": [
      "Flash attention implementation does not support kwargs: task\n",
      "Flash attention implementation does not support kwargs: task\n"
     ]
    },
    {
     "name": "stdout",
     "output_type": "stream",
     "text": [
      "processing  1805 to 1810\n"
     ]
    },
    {
     "name": "stderr",
     "output_type": "stream",
     "text": [
      "Flash attention implementation does not support kwargs: task\n",
      "Flash attention implementation does not support kwargs: task\n"
     ]
    },
    {
     "name": "stdout",
     "output_type": "stream",
     "text": [
      "processing  1810 to 1815\n"
     ]
    },
    {
     "name": "stderr",
     "output_type": "stream",
     "text": [
      "Flash attention implementation does not support kwargs: task\n",
      "Flash attention implementation does not support kwargs: task\n"
     ]
    },
    {
     "name": "stdout",
     "output_type": "stream",
     "text": [
      "processing  1815 to 1820\n"
     ]
    },
    {
     "name": "stderr",
     "output_type": "stream",
     "text": [
      "Flash attention implementation does not support kwargs: task\n",
      "Flash attention implementation does not support kwargs: task\n"
     ]
    },
    {
     "name": "stdout",
     "output_type": "stream",
     "text": [
      "processing  1820 to 1825\n"
     ]
    },
    {
     "name": "stderr",
     "output_type": "stream",
     "text": [
      "Flash attention implementation does not support kwargs: task\n",
      "Flash attention implementation does not support kwargs: task\n"
     ]
    },
    {
     "name": "stdout",
     "output_type": "stream",
     "text": [
      "processing  1825 to 1830\n"
     ]
    },
    {
     "name": "stderr",
     "output_type": "stream",
     "text": [
      "Flash attention implementation does not support kwargs: task\n",
      "Flash attention implementation does not support kwargs: task\n"
     ]
    },
    {
     "name": "stdout",
     "output_type": "stream",
     "text": [
      "processing  1830 to 1835\n"
     ]
    },
    {
     "name": "stderr",
     "output_type": "stream",
     "text": [
      "Flash attention implementation does not support kwargs: task\n",
      "Flash attention implementation does not support kwargs: task\n"
     ]
    },
    {
     "name": "stdout",
     "output_type": "stream",
     "text": [
      "processing  1835 to 1840\n"
     ]
    },
    {
     "name": "stderr",
     "output_type": "stream",
     "text": [
      "Flash attention implementation does not support kwargs: task\n",
      "Flash attention implementation does not support kwargs: task\n"
     ]
    },
    {
     "name": "stdout",
     "output_type": "stream",
     "text": [
      "processing  1840 to 1845\n"
     ]
    },
    {
     "name": "stderr",
     "output_type": "stream",
     "text": [
      "Flash attention implementation does not support kwargs: task\n",
      "Flash attention implementation does not support kwargs: task\n"
     ]
    },
    {
     "name": "stdout",
     "output_type": "stream",
     "text": [
      "processing  1845 to 1850\n"
     ]
    },
    {
     "name": "stderr",
     "output_type": "stream",
     "text": [
      "Flash attention implementation does not support kwargs: task\n",
      "Flash attention implementation does not support kwargs: task\n"
     ]
    },
    {
     "name": "stdout",
     "output_type": "stream",
     "text": [
      "processing  1850 to 1855\n"
     ]
    },
    {
     "name": "stderr",
     "output_type": "stream",
     "text": [
      "Flash attention implementation does not support kwargs: task\n",
      "Flash attention implementation does not support kwargs: task\n"
     ]
    },
    {
     "name": "stdout",
     "output_type": "stream",
     "text": [
      "processing  1855 to 1860\n"
     ]
    },
    {
     "name": "stderr",
     "output_type": "stream",
     "text": [
      "Flash attention implementation does not support kwargs: task\n",
      "Flash attention implementation does not support kwargs: task\n"
     ]
    },
    {
     "name": "stdout",
     "output_type": "stream",
     "text": [
      "processing  1860 to 1865\n"
     ]
    },
    {
     "name": "stderr",
     "output_type": "stream",
     "text": [
      "Flash attention implementation does not support kwargs: task\n",
      "Flash attention implementation does not support kwargs: task\n"
     ]
    },
    {
     "name": "stdout",
     "output_type": "stream",
     "text": [
      "processing  1865 to 1870\n"
     ]
    },
    {
     "name": "stderr",
     "output_type": "stream",
     "text": [
      "Flash attention implementation does not support kwargs: task\n",
      "Flash attention implementation does not support kwargs: task\n"
     ]
    },
    {
     "name": "stdout",
     "output_type": "stream",
     "text": [
      "processing  1870 to 1875\n"
     ]
    },
    {
     "name": "stderr",
     "output_type": "stream",
     "text": [
      "Flash attention implementation does not support kwargs: task\n",
      "Flash attention implementation does not support kwargs: task\n"
     ]
    },
    {
     "name": "stdout",
     "output_type": "stream",
     "text": [
      "processing  1875 to 1880\n"
     ]
    },
    {
     "name": "stderr",
     "output_type": "stream",
     "text": [
      "Flash attention implementation does not support kwargs: task\n",
      "Flash attention implementation does not support kwargs: task\n"
     ]
    },
    {
     "name": "stdout",
     "output_type": "stream",
     "text": [
      "processing  1880 to 1885\n"
     ]
    },
    {
     "name": "stderr",
     "output_type": "stream",
     "text": [
      "Flash attention implementation does not support kwargs: task\n",
      "Flash attention implementation does not support kwargs: task\n"
     ]
    },
    {
     "name": "stdout",
     "output_type": "stream",
     "text": [
      "processing  1885 to 1890\n"
     ]
    },
    {
     "name": "stderr",
     "output_type": "stream",
     "text": [
      "Flash attention implementation does not support kwargs: task\n",
      "Flash attention implementation does not support kwargs: task\n"
     ]
    },
    {
     "name": "stdout",
     "output_type": "stream",
     "text": [
      "processing  1890 to 1895\n"
     ]
    },
    {
     "name": "stderr",
     "output_type": "stream",
     "text": [
      "Flash attention implementation does not support kwargs: task\n",
      "Flash attention implementation does not support kwargs: task\n"
     ]
    },
    {
     "name": "stdout",
     "output_type": "stream",
     "text": [
      "processing  1895 to 1900\n"
     ]
    },
    {
     "name": "stderr",
     "output_type": "stream",
     "text": [
      "Flash attention implementation does not support kwargs: task\n",
      "Flash attention implementation does not support kwargs: task\n"
     ]
    },
    {
     "name": "stdout",
     "output_type": "stream",
     "text": [
      "processing  1900 to 1905\n"
     ]
    },
    {
     "name": "stderr",
     "output_type": "stream",
     "text": [
      "Flash attention implementation does not support kwargs: task\n",
      "Flash attention implementation does not support kwargs: task\n"
     ]
    },
    {
     "name": "stdout",
     "output_type": "stream",
     "text": [
      "processing  1905 to 1910\n"
     ]
    },
    {
     "name": "stderr",
     "output_type": "stream",
     "text": [
      "Flash attention implementation does not support kwargs: task\n",
      "Flash attention implementation does not support kwargs: task\n"
     ]
    },
    {
     "name": "stdout",
     "output_type": "stream",
     "text": [
      "processing  1910 to 1915\n"
     ]
    },
    {
     "name": "stderr",
     "output_type": "stream",
     "text": [
      "Flash attention implementation does not support kwargs: task\n",
      "Flash attention implementation does not support kwargs: task\n"
     ]
    },
    {
     "name": "stdout",
     "output_type": "stream",
     "text": [
      "processing  1915 to 1920\n"
     ]
    },
    {
     "name": "stderr",
     "output_type": "stream",
     "text": [
      "Flash attention implementation does not support kwargs: task\n",
      "Flash attention implementation does not support kwargs: task\n"
     ]
    },
    {
     "name": "stdout",
     "output_type": "stream",
     "text": [
      "processing  1920 to 1925\n"
     ]
    },
    {
     "name": "stderr",
     "output_type": "stream",
     "text": [
      "Flash attention implementation does not support kwargs: task\n",
      "Flash attention implementation does not support kwargs: task\n"
     ]
    },
    {
     "name": "stdout",
     "output_type": "stream",
     "text": [
      "processing  1925 to 1930\n"
     ]
    },
    {
     "name": "stderr",
     "output_type": "stream",
     "text": [
      "Flash attention implementation does not support kwargs: task\n",
      "Flash attention implementation does not support kwargs: task\n"
     ]
    },
    {
     "name": "stdout",
     "output_type": "stream",
     "text": [
      "processing  1930 to 1935\n"
     ]
    },
    {
     "name": "stderr",
     "output_type": "stream",
     "text": [
      "Flash attention implementation does not support kwargs: task\n",
      "Flash attention implementation does not support kwargs: task\n"
     ]
    },
    {
     "name": "stdout",
     "output_type": "stream",
     "text": [
      "processing  1935 to 1940\n"
     ]
    },
    {
     "name": "stderr",
     "output_type": "stream",
     "text": [
      "Flash attention implementation does not support kwargs: task\n",
      "Flash attention implementation does not support kwargs: task\n"
     ]
    },
    {
     "name": "stdout",
     "output_type": "stream",
     "text": [
      "processing  1940 to 1945\n"
     ]
    },
    {
     "name": "stderr",
     "output_type": "stream",
     "text": [
      "Flash attention implementation does not support kwargs: task\n",
      "Flash attention implementation does not support kwargs: task\n"
     ]
    },
    {
     "name": "stdout",
     "output_type": "stream",
     "text": [
      "processing  1945 to 1950\n"
     ]
    },
    {
     "name": "stderr",
     "output_type": "stream",
     "text": [
      "Flash attention implementation does not support kwargs: task\n",
      "Flash attention implementation does not support kwargs: task\n"
     ]
    },
    {
     "name": "stdout",
     "output_type": "stream",
     "text": [
      "processing  1950 to 1955\n"
     ]
    },
    {
     "name": "stderr",
     "output_type": "stream",
     "text": [
      "Flash attention implementation does not support kwargs: task\n",
      "Flash attention implementation does not support kwargs: task\n"
     ]
    },
    {
     "name": "stdout",
     "output_type": "stream",
     "text": [
      "processing  1955 to 1960\n"
     ]
    },
    {
     "name": "stderr",
     "output_type": "stream",
     "text": [
      "Flash attention implementation does not support kwargs: task\n",
      "Flash attention implementation does not support kwargs: task\n"
     ]
    },
    {
     "name": "stdout",
     "output_type": "stream",
     "text": [
      "processing  1960 to 1965\n"
     ]
    },
    {
     "name": "stderr",
     "output_type": "stream",
     "text": [
      "Flash attention implementation does not support kwargs: task\n",
      "Flash attention implementation does not support kwargs: task\n"
     ]
    },
    {
     "name": "stdout",
     "output_type": "stream",
     "text": [
      "processing  1965 to 1970\n"
     ]
    },
    {
     "name": "stderr",
     "output_type": "stream",
     "text": [
      "Flash attention implementation does not support kwargs: task\n",
      "Flash attention implementation does not support kwargs: task\n"
     ]
    },
    {
     "name": "stdout",
     "output_type": "stream",
     "text": [
      "processing  1970 to 1975\n"
     ]
    },
    {
     "name": "stderr",
     "output_type": "stream",
     "text": [
      "Flash attention implementation does not support kwargs: task\n",
      "Flash attention implementation does not support kwargs: task\n"
     ]
    },
    {
     "name": "stdout",
     "output_type": "stream",
     "text": [
      "processing  1975 to 1980\n"
     ]
    },
    {
     "name": "stderr",
     "output_type": "stream",
     "text": [
      "Flash attention implementation does not support kwargs: task\n",
      "Flash attention implementation does not support kwargs: task\n"
     ]
    },
    {
     "name": "stdout",
     "output_type": "stream",
     "text": [
      "processing  1980 to 1985\n"
     ]
    },
    {
     "name": "stderr",
     "output_type": "stream",
     "text": [
      "Flash attention implementation does not support kwargs: task\n",
      "Flash attention implementation does not support kwargs: task\n"
     ]
    },
    {
     "name": "stdout",
     "output_type": "stream",
     "text": [
      "processing  1985 to 1990\n"
     ]
    },
    {
     "name": "stderr",
     "output_type": "stream",
     "text": [
      "Flash attention implementation does not support kwargs: task\n",
      "Flash attention implementation does not support kwargs: task\n"
     ]
    },
    {
     "name": "stdout",
     "output_type": "stream",
     "text": [
      "processing  1990 to 1995\n"
     ]
    },
    {
     "name": "stderr",
     "output_type": "stream",
     "text": [
      "Flash attention implementation does not support kwargs: task\n",
      "Flash attention implementation does not support kwargs: task\n"
     ]
    },
    {
     "name": "stdout",
     "output_type": "stream",
     "text": [
      "processing  1995 to 2000\n"
     ]
    },
    {
     "name": "stderr",
     "output_type": "stream",
     "text": [
      "Flash attention implementation does not support kwargs: task\n",
      "Flash attention implementation does not support kwargs: task\n"
     ]
    },
    {
     "name": "stdout",
     "output_type": "stream",
     "text": [
      "processing  2000 to 2005\n"
     ]
    },
    {
     "name": "stderr",
     "output_type": "stream",
     "text": [
      "Flash attention implementation does not support kwargs: task\n",
      "Flash attention implementation does not support kwargs: task\n"
     ]
    },
    {
     "name": "stdout",
     "output_type": "stream",
     "text": [
      "processing  2005 to 2010\n"
     ]
    },
    {
     "name": "stderr",
     "output_type": "stream",
     "text": [
      "Flash attention implementation does not support kwargs: task\n",
      "Flash attention implementation does not support kwargs: task\n"
     ]
    },
    {
     "name": "stdout",
     "output_type": "stream",
     "text": [
      "processing  2010 to 2015\n"
     ]
    },
    {
     "name": "stderr",
     "output_type": "stream",
     "text": [
      "Flash attention implementation does not support kwargs: task\n",
      "Flash attention implementation does not support kwargs: task\n"
     ]
    },
    {
     "name": "stdout",
     "output_type": "stream",
     "text": [
      "processing  2015 to 2020\n"
     ]
    },
    {
     "name": "stderr",
     "output_type": "stream",
     "text": [
      "Flash attention implementation does not support kwargs: task\n",
      "Flash attention implementation does not support kwargs: task\n"
     ]
    },
    {
     "name": "stdout",
     "output_type": "stream",
     "text": [
      "processing  2020 to 2025\n"
     ]
    },
    {
     "name": "stderr",
     "output_type": "stream",
     "text": [
      "Flash attention implementation does not support kwargs: task\n",
      "Flash attention implementation does not support kwargs: task\n"
     ]
    },
    {
     "name": "stdout",
     "output_type": "stream",
     "text": [
      "processing  2025 to 2030\n"
     ]
    },
    {
     "name": "stderr",
     "output_type": "stream",
     "text": [
      "Flash attention implementation does not support kwargs: task\n",
      "Flash attention implementation does not support kwargs: task\n"
     ]
    },
    {
     "name": "stdout",
     "output_type": "stream",
     "text": [
      "processing  2030 to 2035\n"
     ]
    },
    {
     "name": "stderr",
     "output_type": "stream",
     "text": [
      "Flash attention implementation does not support kwargs: task\n",
      "Flash attention implementation does not support kwargs: task\n"
     ]
    },
    {
     "name": "stdout",
     "output_type": "stream",
     "text": [
      "processing  2035 to 2040\n"
     ]
    },
    {
     "name": "stderr",
     "output_type": "stream",
     "text": [
      "Flash attention implementation does not support kwargs: task\n",
      "Flash attention implementation does not support kwargs: task\n"
     ]
    },
    {
     "name": "stdout",
     "output_type": "stream",
     "text": [
      "processing  2040 to 2045\n"
     ]
    },
    {
     "name": "stderr",
     "output_type": "stream",
     "text": [
      "Flash attention implementation does not support kwargs: task\n",
      "Flash attention implementation does not support kwargs: task\n"
     ]
    },
    {
     "name": "stdout",
     "output_type": "stream",
     "text": [
      "processing  2045 to 2050\n"
     ]
    },
    {
     "name": "stderr",
     "output_type": "stream",
     "text": [
      "Flash attention implementation does not support kwargs: task\n",
      "Flash attention implementation does not support kwargs: task\n"
     ]
    },
    {
     "name": "stdout",
     "output_type": "stream",
     "text": [
      "processing  2050 to 2055\n"
     ]
    },
    {
     "name": "stderr",
     "output_type": "stream",
     "text": [
      "Flash attention implementation does not support kwargs: task\n",
      "Flash attention implementation does not support kwargs: task\n"
     ]
    },
    {
     "name": "stdout",
     "output_type": "stream",
     "text": [
      "processing  2055 to 2060\n"
     ]
    },
    {
     "name": "stderr",
     "output_type": "stream",
     "text": [
      "Flash attention implementation does not support kwargs: task\n",
      "Flash attention implementation does not support kwargs: task\n"
     ]
    },
    {
     "name": "stdout",
     "output_type": "stream",
     "text": [
      "processing  2060 to 2065\n"
     ]
    },
    {
     "name": "stderr",
     "output_type": "stream",
     "text": [
      "Flash attention implementation does not support kwargs: task\n",
      "Flash attention implementation does not support kwargs: task\n"
     ]
    },
    {
     "name": "stdout",
     "output_type": "stream",
     "text": [
      "processing  2065 to 2070\n"
     ]
    },
    {
     "name": "stderr",
     "output_type": "stream",
     "text": [
      "Flash attention implementation does not support kwargs: task\n",
      "Flash attention implementation does not support kwargs: task\n"
     ]
    },
    {
     "name": "stdout",
     "output_type": "stream",
     "text": [
      "processing  2070 to 2075\n"
     ]
    },
    {
     "name": "stderr",
     "output_type": "stream",
     "text": [
      "Flash attention implementation does not support kwargs: task\n",
      "Flash attention implementation does not support kwargs: task\n"
     ]
    },
    {
     "name": "stdout",
     "output_type": "stream",
     "text": [
      "processing  2075 to 2080\n"
     ]
    },
    {
     "name": "stderr",
     "output_type": "stream",
     "text": [
      "Flash attention implementation does not support kwargs: task\n",
      "Flash attention implementation does not support kwargs: task\n"
     ]
    },
    {
     "name": "stdout",
     "output_type": "stream",
     "text": [
      "processing  2080 to 2085\n"
     ]
    },
    {
     "name": "stderr",
     "output_type": "stream",
     "text": [
      "Flash attention implementation does not support kwargs: task\n",
      "Flash attention implementation does not support kwargs: task\n"
     ]
    },
    {
     "name": "stdout",
     "output_type": "stream",
     "text": [
      "processing  2085 to 2090\n"
     ]
    },
    {
     "name": "stderr",
     "output_type": "stream",
     "text": [
      "Flash attention implementation does not support kwargs: task\n",
      "Flash attention implementation does not support kwargs: task\n"
     ]
    },
    {
     "name": "stdout",
     "output_type": "stream",
     "text": [
      "processing  2090 to 2095\n"
     ]
    },
    {
     "name": "stderr",
     "output_type": "stream",
     "text": [
      "Flash attention implementation does not support kwargs: task\n",
      "Flash attention implementation does not support kwargs: task\n"
     ]
    },
    {
     "name": "stdout",
     "output_type": "stream",
     "text": [
      "processing  2095 to 2100\n"
     ]
    },
    {
     "name": "stderr",
     "output_type": "stream",
     "text": [
      "Flash attention implementation does not support kwargs: task\n",
      "Flash attention implementation does not support kwargs: task\n"
     ]
    },
    {
     "name": "stdout",
     "output_type": "stream",
     "text": [
      "processing  2100 to 2105\n"
     ]
    },
    {
     "name": "stderr",
     "output_type": "stream",
     "text": [
      "Flash attention implementation does not support kwargs: task\n",
      "Flash attention implementation does not support kwargs: task\n"
     ]
    },
    {
     "name": "stdout",
     "output_type": "stream",
     "text": [
      "processing  2105 to 2110\n"
     ]
    },
    {
     "name": "stderr",
     "output_type": "stream",
     "text": [
      "Flash attention implementation does not support kwargs: task\n",
      "Flash attention implementation does not support kwargs: task\n"
     ]
    },
    {
     "name": "stdout",
     "output_type": "stream",
     "text": [
      "processing  2110 to 2115\n"
     ]
    },
    {
     "name": "stderr",
     "output_type": "stream",
     "text": [
      "Flash attention implementation does not support kwargs: task\n",
      "Flash attention implementation does not support kwargs: task\n"
     ]
    },
    {
     "name": "stdout",
     "output_type": "stream",
     "text": [
      "processing  2115 to 2120\n"
     ]
    },
    {
     "name": "stderr",
     "output_type": "stream",
     "text": [
      "Flash attention implementation does not support kwargs: task\n",
      "Flash attention implementation does not support kwargs: task\n"
     ]
    },
    {
     "name": "stdout",
     "output_type": "stream",
     "text": [
      "processing  2120 to 2125\n"
     ]
    },
    {
     "name": "stderr",
     "output_type": "stream",
     "text": [
      "Flash attention implementation does not support kwargs: task\n",
      "Flash attention implementation does not support kwargs: task\n"
     ]
    },
    {
     "name": "stdout",
     "output_type": "stream",
     "text": [
      "processing  2125 to 2130\n"
     ]
    },
    {
     "name": "stderr",
     "output_type": "stream",
     "text": [
      "Flash attention implementation does not support kwargs: task\n",
      "Flash attention implementation does not support kwargs: task\n"
     ]
    },
    {
     "name": "stdout",
     "output_type": "stream",
     "text": [
      "processing  2130 to 2135\n"
     ]
    },
    {
     "name": "stderr",
     "output_type": "stream",
     "text": [
      "Flash attention implementation does not support kwargs: task\n",
      "Flash attention implementation does not support kwargs: task\n"
     ]
    },
    {
     "name": "stdout",
     "output_type": "stream",
     "text": [
      "processing  2135 to 2140\n"
     ]
    },
    {
     "name": "stderr",
     "output_type": "stream",
     "text": [
      "Flash attention implementation does not support kwargs: task\n",
      "Flash attention implementation does not support kwargs: task\n"
     ]
    },
    {
     "name": "stdout",
     "output_type": "stream",
     "text": [
      "processing  2140 to 2145\n"
     ]
    },
    {
     "name": "stderr",
     "output_type": "stream",
     "text": [
      "Flash attention implementation does not support kwargs: task\n",
      "Flash attention implementation does not support kwargs: task\n"
     ]
    },
    {
     "name": "stdout",
     "output_type": "stream",
     "text": [
      "processing  2145 to 2150\n"
     ]
    },
    {
     "name": "stderr",
     "output_type": "stream",
     "text": [
      "Flash attention implementation does not support kwargs: task\n",
      "Flash attention implementation does not support kwargs: task\n"
     ]
    },
    {
     "name": "stdout",
     "output_type": "stream",
     "text": [
      "processing  2150 to 2155\n"
     ]
    },
    {
     "name": "stderr",
     "output_type": "stream",
     "text": [
      "Flash attention implementation does not support kwargs: task\n",
      "Flash attention implementation does not support kwargs: task\n"
     ]
    },
    {
     "name": "stdout",
     "output_type": "stream",
     "text": [
      "processing  2155 to 2160\n"
     ]
    },
    {
     "name": "stderr",
     "output_type": "stream",
     "text": [
      "Flash attention implementation does not support kwargs: task\n",
      "Flash attention implementation does not support kwargs: task\n"
     ]
    },
    {
     "name": "stdout",
     "output_type": "stream",
     "text": [
      "processing  2160 to 2165\n"
     ]
    },
    {
     "name": "stderr",
     "output_type": "stream",
     "text": [
      "Flash attention implementation does not support kwargs: task\n",
      "Flash attention implementation does not support kwargs: task\n"
     ]
    },
    {
     "name": "stdout",
     "output_type": "stream",
     "text": [
      "processing  2165 to 2170\n"
     ]
    },
    {
     "name": "stderr",
     "output_type": "stream",
     "text": [
      "Flash attention implementation does not support kwargs: task\n",
      "Flash attention implementation does not support kwargs: task\n"
     ]
    },
    {
     "name": "stdout",
     "output_type": "stream",
     "text": [
      "processing  2170 to 2175\n"
     ]
    },
    {
     "name": "stderr",
     "output_type": "stream",
     "text": [
      "Flash attention implementation does not support kwargs: task\n",
      "Flash attention implementation does not support kwargs: task\n"
     ]
    },
    {
     "name": "stdout",
     "output_type": "stream",
     "text": [
      "processing  2175 to 2180\n"
     ]
    },
    {
     "name": "stderr",
     "output_type": "stream",
     "text": [
      "Flash attention implementation does not support kwargs: task\n",
      "Flash attention implementation does not support kwargs: task\n"
     ]
    },
    {
     "name": "stdout",
     "output_type": "stream",
     "text": [
      "processing  2180 to 2185\n"
     ]
    },
    {
     "name": "stderr",
     "output_type": "stream",
     "text": [
      "Flash attention implementation does not support kwargs: task\n",
      "Flash attention implementation does not support kwargs: task\n"
     ]
    },
    {
     "name": "stdout",
     "output_type": "stream",
     "text": [
      "processing  2185 to 2190\n"
     ]
    },
    {
     "name": "stderr",
     "output_type": "stream",
     "text": [
      "Flash attention implementation does not support kwargs: task\n",
      "Flash attention implementation does not support kwargs: task\n"
     ]
    },
    {
     "name": "stdout",
     "output_type": "stream",
     "text": [
      "processing  2190 to 2195\n"
     ]
    },
    {
     "name": "stderr",
     "output_type": "stream",
     "text": [
      "Flash attention implementation does not support kwargs: task\n",
      "Flash attention implementation does not support kwargs: task\n"
     ]
    },
    {
     "name": "stdout",
     "output_type": "stream",
     "text": [
      "processing  2195 to 2200\n"
     ]
    },
    {
     "name": "stderr",
     "output_type": "stream",
     "text": [
      "Flash attention implementation does not support kwargs: task\n",
      "Flash attention implementation does not support kwargs: task\n"
     ]
    },
    {
     "name": "stdout",
     "output_type": "stream",
     "text": [
      "processing  2200 to 2205\n"
     ]
    },
    {
     "name": "stderr",
     "output_type": "stream",
     "text": [
      "Flash attention implementation does not support kwargs: task\n",
      "Flash attention implementation does not support kwargs: task\n"
     ]
    },
    {
     "name": "stdout",
     "output_type": "stream",
     "text": [
      "processing  2205 to 2210\n"
     ]
    },
    {
     "name": "stderr",
     "output_type": "stream",
     "text": [
      "Flash attention implementation does not support kwargs: task\n",
      "Flash attention implementation does not support kwargs: task\n"
     ]
    },
    {
     "name": "stdout",
     "output_type": "stream",
     "text": [
      "processing  2210 to 2215\n"
     ]
    },
    {
     "name": "stderr",
     "output_type": "stream",
     "text": [
      "Flash attention implementation does not support kwargs: task\n",
      "Flash attention implementation does not support kwargs: task\n"
     ]
    },
    {
     "name": "stdout",
     "output_type": "stream",
     "text": [
      "processing  2215 to 2220\n"
     ]
    },
    {
     "name": "stderr",
     "output_type": "stream",
     "text": [
      "Flash attention implementation does not support kwargs: task\n",
      "Flash attention implementation does not support kwargs: task\n"
     ]
    },
    {
     "name": "stdout",
     "output_type": "stream",
     "text": [
      "processing  2220 to 2225\n"
     ]
    },
    {
     "name": "stderr",
     "output_type": "stream",
     "text": [
      "Flash attention implementation does not support kwargs: task\n",
      "Flash attention implementation does not support kwargs: task\n"
     ]
    },
    {
     "name": "stdout",
     "output_type": "stream",
     "text": [
      "processing  2225 to 2230\n"
     ]
    },
    {
     "name": "stderr",
     "output_type": "stream",
     "text": [
      "Flash attention implementation does not support kwargs: task\n",
      "Flash attention implementation does not support kwargs: task\n"
     ]
    },
    {
     "name": "stdout",
     "output_type": "stream",
     "text": [
      "processing  2230 to 2235\n"
     ]
    },
    {
     "name": "stderr",
     "output_type": "stream",
     "text": [
      "Flash attention implementation does not support kwargs: task\n",
      "Flash attention implementation does not support kwargs: task\n"
     ]
    },
    {
     "name": "stdout",
     "output_type": "stream",
     "text": [
      "processing  2235 to 2240\n"
     ]
    },
    {
     "name": "stderr",
     "output_type": "stream",
     "text": [
      "Flash attention implementation does not support kwargs: task\n",
      "Flash attention implementation does not support kwargs: task\n"
     ]
    },
    {
     "name": "stdout",
     "output_type": "stream",
     "text": [
      "processing  2240 to 2245\n"
     ]
    },
    {
     "name": "stderr",
     "output_type": "stream",
     "text": [
      "Flash attention implementation does not support kwargs: task\n",
      "Flash attention implementation does not support kwargs: task\n"
     ]
    },
    {
     "name": "stdout",
     "output_type": "stream",
     "text": [
      "processing  2245 to 2250\n"
     ]
    },
    {
     "name": "stderr",
     "output_type": "stream",
     "text": [
      "Flash attention implementation does not support kwargs: task\n",
      "Flash attention implementation does not support kwargs: task\n"
     ]
    },
    {
     "name": "stdout",
     "output_type": "stream",
     "text": [
      "processing  2250 to 2255\n"
     ]
    },
    {
     "name": "stderr",
     "output_type": "stream",
     "text": [
      "Flash attention implementation does not support kwargs: task\n",
      "Flash attention implementation does not support kwargs: task\n"
     ]
    },
    {
     "name": "stdout",
     "output_type": "stream",
     "text": [
      "processing  2255 to 2260\n"
     ]
    },
    {
     "name": "stderr",
     "output_type": "stream",
     "text": [
      "Flash attention implementation does not support kwargs: task\n",
      "Flash attention implementation does not support kwargs: task\n"
     ]
    },
    {
     "name": "stdout",
     "output_type": "stream",
     "text": [
      "processing  2260 to 2265\n"
     ]
    },
    {
     "name": "stderr",
     "output_type": "stream",
     "text": [
      "Flash attention implementation does not support kwargs: task\n",
      "Flash attention implementation does not support kwargs: task\n"
     ]
    },
    {
     "name": "stdout",
     "output_type": "stream",
     "text": [
      "processing  2265 to 2270\n"
     ]
    },
    {
     "name": "stderr",
     "output_type": "stream",
     "text": [
      "Flash attention implementation does not support kwargs: task\n",
      "Flash attention implementation does not support kwargs: task\n"
     ]
    },
    {
     "name": "stdout",
     "output_type": "stream",
     "text": [
      "processing  2270 to 2275\n"
     ]
    },
    {
     "name": "stderr",
     "output_type": "stream",
     "text": [
      "Flash attention implementation does not support kwargs: task\n",
      "Flash attention implementation does not support kwargs: task\n"
     ]
    },
    {
     "name": "stdout",
     "output_type": "stream",
     "text": [
      "processing  2275 to 2280\n"
     ]
    },
    {
     "name": "stderr",
     "output_type": "stream",
     "text": [
      "Flash attention implementation does not support kwargs: task\n",
      "Flash attention implementation does not support kwargs: task\n"
     ]
    },
    {
     "name": "stdout",
     "output_type": "stream",
     "text": [
      "processing  2280 to 2285\n"
     ]
    },
    {
     "name": "stderr",
     "output_type": "stream",
     "text": [
      "Flash attention implementation does not support kwargs: task\n",
      "Flash attention implementation does not support kwargs: task\n"
     ]
    },
    {
     "name": "stdout",
     "output_type": "stream",
     "text": [
      "processing  2285 to 2290\n"
     ]
    },
    {
     "name": "stderr",
     "output_type": "stream",
     "text": [
      "Flash attention implementation does not support kwargs: task\n",
      "Flash attention implementation does not support kwargs: task\n"
     ]
    },
    {
     "name": "stdout",
     "output_type": "stream",
     "text": [
      "processing  2290 to 2295\n"
     ]
    },
    {
     "name": "stderr",
     "output_type": "stream",
     "text": [
      "Flash attention implementation does not support kwargs: task\n",
      "Flash attention implementation does not support kwargs: task\n"
     ]
    },
    {
     "name": "stdout",
     "output_type": "stream",
     "text": [
      "processing  2295 to 2300\n"
     ]
    },
    {
     "name": "stderr",
     "output_type": "stream",
     "text": [
      "Flash attention implementation does not support kwargs: task\n",
      "Flash attention implementation does not support kwargs: task\n"
     ]
    },
    {
     "name": "stdout",
     "output_type": "stream",
     "text": [
      "processing  2300 to 2305\n"
     ]
    },
    {
     "name": "stderr",
     "output_type": "stream",
     "text": [
      "Flash attention implementation does not support kwargs: task\n",
      "Flash attention implementation does not support kwargs: task\n"
     ]
    },
    {
     "name": "stdout",
     "output_type": "stream",
     "text": [
      "processing  2305 to 2310\n"
     ]
    },
    {
     "name": "stderr",
     "output_type": "stream",
     "text": [
      "Flash attention implementation does not support kwargs: task\n",
      "Flash attention implementation does not support kwargs: task\n"
     ]
    },
    {
     "name": "stdout",
     "output_type": "stream",
     "text": [
      "processing  2310 to 2315\n"
     ]
    },
    {
     "name": "stderr",
     "output_type": "stream",
     "text": [
      "Flash attention implementation does not support kwargs: task\n",
      "Flash attention implementation does not support kwargs: task\n"
     ]
    },
    {
     "name": "stdout",
     "output_type": "stream",
     "text": [
      "processing  2315 to 2320\n"
     ]
    },
    {
     "name": "stderr",
     "output_type": "stream",
     "text": [
      "Flash attention implementation does not support kwargs: task\n",
      "Flash attention implementation does not support kwargs: task\n"
     ]
    },
    {
     "name": "stdout",
     "output_type": "stream",
     "text": [
      "processing  2320 to 2325\n"
     ]
    },
    {
     "name": "stderr",
     "output_type": "stream",
     "text": [
      "Flash attention implementation does not support kwargs: task\n",
      "Flash attention implementation does not support kwargs: task\n"
     ]
    },
    {
     "name": "stdout",
     "output_type": "stream",
     "text": [
      "processing  2325 to 2330\n"
     ]
    },
    {
     "name": "stderr",
     "output_type": "stream",
     "text": [
      "Flash attention implementation does not support kwargs: task\n",
      "Flash attention implementation does not support kwargs: task\n"
     ]
    },
    {
     "name": "stdout",
     "output_type": "stream",
     "text": [
      "processing  2330 to 2335\n"
     ]
    },
    {
     "name": "stderr",
     "output_type": "stream",
     "text": [
      "Flash attention implementation does not support kwargs: task\n",
      "Flash attention implementation does not support kwargs: task\n"
     ]
    },
    {
     "name": "stdout",
     "output_type": "stream",
     "text": [
      "processing  2335 to 2340\n"
     ]
    },
    {
     "name": "stderr",
     "output_type": "stream",
     "text": [
      "Flash attention implementation does not support kwargs: task\n",
      "Flash attention implementation does not support kwargs: task\n"
     ]
    },
    {
     "name": "stdout",
     "output_type": "stream",
     "text": [
      "processing  2340 to 2345\n"
     ]
    },
    {
     "name": "stderr",
     "output_type": "stream",
     "text": [
      "Flash attention implementation does not support kwargs: task\n",
      "Flash attention implementation does not support kwargs: task\n"
     ]
    },
    {
     "name": "stdout",
     "output_type": "stream",
     "text": [
      "processing  2345 to 2350\n"
     ]
    },
    {
     "name": "stderr",
     "output_type": "stream",
     "text": [
      "Flash attention implementation does not support kwargs: task\n",
      "Flash attention implementation does not support kwargs: task\n"
     ]
    },
    {
     "name": "stdout",
     "output_type": "stream",
     "text": [
      "processing  2350 to 2355\n"
     ]
    },
    {
     "name": "stderr",
     "output_type": "stream",
     "text": [
      "Flash attention implementation does not support kwargs: task\n",
      "Flash attention implementation does not support kwargs: task\n"
     ]
    },
    {
     "name": "stdout",
     "output_type": "stream",
     "text": [
      "processing  2355 to 2360\n"
     ]
    },
    {
     "name": "stderr",
     "output_type": "stream",
     "text": [
      "Flash attention implementation does not support kwargs: task\n",
      "Flash attention implementation does not support kwargs: task\n"
     ]
    },
    {
     "name": "stdout",
     "output_type": "stream",
     "text": [
      "processing  2360 to 2365\n"
     ]
    },
    {
     "name": "stderr",
     "output_type": "stream",
     "text": [
      "Flash attention implementation does not support kwargs: task\n",
      "Flash attention implementation does not support kwargs: task\n"
     ]
    },
    {
     "name": "stdout",
     "output_type": "stream",
     "text": [
      "processing  2365 to 2370\n"
     ]
    },
    {
     "name": "stderr",
     "output_type": "stream",
     "text": [
      "Flash attention implementation does not support kwargs: task\n",
      "Flash attention implementation does not support kwargs: task\n"
     ]
    },
    {
     "name": "stdout",
     "output_type": "stream",
     "text": [
      "processing  2370 to 2375\n"
     ]
    },
    {
     "name": "stderr",
     "output_type": "stream",
     "text": [
      "Flash attention implementation does not support kwargs: task\n",
      "Flash attention implementation does not support kwargs: task\n"
     ]
    },
    {
     "name": "stdout",
     "output_type": "stream",
     "text": [
      "processing  2375 to 2380\n"
     ]
    },
    {
     "name": "stderr",
     "output_type": "stream",
     "text": [
      "Flash attention implementation does not support kwargs: task\n",
      "Flash attention implementation does not support kwargs: task\n"
     ]
    },
    {
     "name": "stdout",
     "output_type": "stream",
     "text": [
      "processing  2380 to 2385\n"
     ]
    },
    {
     "name": "stderr",
     "output_type": "stream",
     "text": [
      "Flash attention implementation does not support kwargs: task\n",
      "Flash attention implementation does not support kwargs: task\n"
     ]
    },
    {
     "name": "stdout",
     "output_type": "stream",
     "text": [
      "processing  2385 to 2390\n"
     ]
    },
    {
     "name": "stderr",
     "output_type": "stream",
     "text": [
      "Flash attention implementation does not support kwargs: task\n",
      "Flash attention implementation does not support kwargs: task\n"
     ]
    },
    {
     "name": "stdout",
     "output_type": "stream",
     "text": [
      "processing  2390 to 2395\n"
     ]
    },
    {
     "name": "stderr",
     "output_type": "stream",
     "text": [
      "Flash attention implementation does not support kwargs: task\n",
      "Flash attention implementation does not support kwargs: task\n"
     ]
    },
    {
     "name": "stdout",
     "output_type": "stream",
     "text": [
      "processing  2395 to 2400\n"
     ]
    },
    {
     "name": "stderr",
     "output_type": "stream",
     "text": [
      "Flash attention implementation does not support kwargs: task\n",
      "Flash attention implementation does not support kwargs: task\n"
     ]
    },
    {
     "name": "stdout",
     "output_type": "stream",
     "text": [
      "processing  2400 to 2405\n"
     ]
    },
    {
     "name": "stderr",
     "output_type": "stream",
     "text": [
      "Flash attention implementation does not support kwargs: task\n",
      "Flash attention implementation does not support kwargs: task\n"
     ]
    },
    {
     "name": "stdout",
     "output_type": "stream",
     "text": [
      "processing  2405 to 2410\n"
     ]
    },
    {
     "name": "stderr",
     "output_type": "stream",
     "text": [
      "Flash attention implementation does not support kwargs: task\n",
      "Flash attention implementation does not support kwargs: task\n"
     ]
    },
    {
     "name": "stdout",
     "output_type": "stream",
     "text": [
      "processing  2410 to 2415\n"
     ]
    },
    {
     "name": "stderr",
     "output_type": "stream",
     "text": [
      "Flash attention implementation does not support kwargs: task\n",
      "Flash attention implementation does not support kwargs: task\n"
     ]
    },
    {
     "name": "stdout",
     "output_type": "stream",
     "text": [
      "processing  2415 to 2420\n"
     ]
    },
    {
     "name": "stderr",
     "output_type": "stream",
     "text": [
      "Flash attention implementation does not support kwargs: task\n",
      "Flash attention implementation does not support kwargs: task\n"
     ]
    },
    {
     "name": "stdout",
     "output_type": "stream",
     "text": [
      "processing  2420 to 2425\n"
     ]
    },
    {
     "name": "stderr",
     "output_type": "stream",
     "text": [
      "Flash attention implementation does not support kwargs: task\n",
      "Flash attention implementation does not support kwargs: task\n"
     ]
    },
    {
     "name": "stdout",
     "output_type": "stream",
     "text": [
      "processing  2425 to 2430\n"
     ]
    },
    {
     "name": "stderr",
     "output_type": "stream",
     "text": [
      "Flash attention implementation does not support kwargs: task\n",
      "Flash attention implementation does not support kwargs: task\n"
     ]
    },
    {
     "name": "stdout",
     "output_type": "stream",
     "text": [
      "processing  2430 to 2435\n"
     ]
    },
    {
     "name": "stderr",
     "output_type": "stream",
     "text": [
      "Flash attention implementation does not support kwargs: task\n",
      "Flash attention implementation does not support kwargs: task\n"
     ]
    },
    {
     "name": "stdout",
     "output_type": "stream",
     "text": [
      "processing  2435 to 2440\n"
     ]
    },
    {
     "name": "stderr",
     "output_type": "stream",
     "text": [
      "Flash attention implementation does not support kwargs: task\n",
      "Flash attention implementation does not support kwargs: task\n"
     ]
    },
    {
     "name": "stdout",
     "output_type": "stream",
     "text": [
      "processing  2440 to 2445\n"
     ]
    },
    {
     "name": "stderr",
     "output_type": "stream",
     "text": [
      "Flash attention implementation does not support kwargs: task\n",
      "Flash attention implementation does not support kwargs: task\n"
     ]
    },
    {
     "name": "stdout",
     "output_type": "stream",
     "text": [
      "processing  2445 to 2450\n"
     ]
    },
    {
     "name": "stderr",
     "output_type": "stream",
     "text": [
      "Flash attention implementation does not support kwargs: task\n",
      "Flash attention implementation does not support kwargs: task\n"
     ]
    },
    {
     "name": "stdout",
     "output_type": "stream",
     "text": [
      "processing  2450 to 2455\n"
     ]
    },
    {
     "name": "stderr",
     "output_type": "stream",
     "text": [
      "Flash attention implementation does not support kwargs: task\n",
      "Flash attention implementation does not support kwargs: task\n"
     ]
    },
    {
     "name": "stdout",
     "output_type": "stream",
     "text": [
      "processing  2455 to 2460\n"
     ]
    },
    {
     "name": "stderr",
     "output_type": "stream",
     "text": [
      "Flash attention implementation does not support kwargs: task\n",
      "Flash attention implementation does not support kwargs: task\n"
     ]
    },
    {
     "name": "stdout",
     "output_type": "stream",
     "text": [
      "processing  2460 to 2465\n"
     ]
    },
    {
     "name": "stderr",
     "output_type": "stream",
     "text": [
      "Flash attention implementation does not support kwargs: task\n",
      "Flash attention implementation does not support kwargs: task\n"
     ]
    },
    {
     "name": "stdout",
     "output_type": "stream",
     "text": [
      "processing  2465 to 2470\n"
     ]
    },
    {
     "name": "stderr",
     "output_type": "stream",
     "text": [
      "Flash attention implementation does not support kwargs: task\n",
      "Flash attention implementation does not support kwargs: task\n"
     ]
    },
    {
     "name": "stdout",
     "output_type": "stream",
     "text": [
      "processing  2470 to 2475\n"
     ]
    },
    {
     "name": "stderr",
     "output_type": "stream",
     "text": [
      "Flash attention implementation does not support kwargs: task\n",
      "Flash attention implementation does not support kwargs: task\n"
     ]
    },
    {
     "name": "stdout",
     "output_type": "stream",
     "text": [
      "processing  2475 to 2480\n"
     ]
    },
    {
     "name": "stderr",
     "output_type": "stream",
     "text": [
      "Flash attention implementation does not support kwargs: task\n",
      "Flash attention implementation does not support kwargs: task\n"
     ]
    },
    {
     "name": "stdout",
     "output_type": "stream",
     "text": [
      "processing  2480 to 2485\n"
     ]
    },
    {
     "name": "stderr",
     "output_type": "stream",
     "text": [
      "Flash attention implementation does not support kwargs: task\n",
      "Flash attention implementation does not support kwargs: task\n"
     ]
    },
    {
     "name": "stdout",
     "output_type": "stream",
     "text": [
      "processing  2485 to 2490\n"
     ]
    },
    {
     "name": "stderr",
     "output_type": "stream",
     "text": [
      "Flash attention implementation does not support kwargs: task\n",
      "Flash attention implementation does not support kwargs: task\n"
     ]
    },
    {
     "name": "stdout",
     "output_type": "stream",
     "text": [
      "processing  2490 to 2495\n"
     ]
    },
    {
     "name": "stderr",
     "output_type": "stream",
     "text": [
      "Flash attention implementation does not support kwargs: task\n",
      "Flash attention implementation does not support kwargs: task\n"
     ]
    },
    {
     "name": "stdout",
     "output_type": "stream",
     "text": [
      "processing  2495 to 2500\n"
     ]
    },
    {
     "name": "stderr",
     "output_type": "stream",
     "text": [
      "Flash attention implementation does not support kwargs: task\n",
      "Flash attention implementation does not support kwargs: task\n"
     ]
    },
    {
     "name": "stdout",
     "output_type": "stream",
     "text": [
      "processing  2500 to 2505\n"
     ]
    },
    {
     "name": "stderr",
     "output_type": "stream",
     "text": [
      "Flash attention implementation does not support kwargs: task\n",
      "Flash attention implementation does not support kwargs: task\n"
     ]
    },
    {
     "name": "stdout",
     "output_type": "stream",
     "text": [
      "processing  2505 to 2510\n"
     ]
    },
    {
     "name": "stderr",
     "output_type": "stream",
     "text": [
      "Flash attention implementation does not support kwargs: task\n",
      "Flash attention implementation does not support kwargs: task\n"
     ]
    },
    {
     "name": "stdout",
     "output_type": "stream",
     "text": [
      "processing  2510 to 2515\n"
     ]
    },
    {
     "name": "stderr",
     "output_type": "stream",
     "text": [
      "Flash attention implementation does not support kwargs: task\n",
      "Flash attention implementation does not support kwargs: task\n"
     ]
    },
    {
     "name": "stdout",
     "output_type": "stream",
     "text": [
      "processing  2515 to 2520\n"
     ]
    },
    {
     "name": "stderr",
     "output_type": "stream",
     "text": [
      "Flash attention implementation does not support kwargs: task\n",
      "Flash attention implementation does not support kwargs: task\n"
     ]
    },
    {
     "name": "stdout",
     "output_type": "stream",
     "text": [
      "processing  2520 to 2525\n"
     ]
    },
    {
     "name": "stderr",
     "output_type": "stream",
     "text": [
      "Flash attention implementation does not support kwargs: task\n",
      "Flash attention implementation does not support kwargs: task\n"
     ]
    },
    {
     "name": "stdout",
     "output_type": "stream",
     "text": [
      "processing  2525 to 2530\n"
     ]
    },
    {
     "name": "stderr",
     "output_type": "stream",
     "text": [
      "Flash attention implementation does not support kwargs: task\n",
      "Flash attention implementation does not support kwargs: task\n"
     ]
    },
    {
     "name": "stdout",
     "output_type": "stream",
     "text": [
      "processing  2530 to 2535\n"
     ]
    },
    {
     "name": "stderr",
     "output_type": "stream",
     "text": [
      "Flash attention implementation does not support kwargs: task\n",
      "Flash attention implementation does not support kwargs: task\n"
     ]
    },
    {
     "name": "stdout",
     "output_type": "stream",
     "text": [
      "processing  2535 to 2540\n"
     ]
    },
    {
     "name": "stderr",
     "output_type": "stream",
     "text": [
      "Flash attention implementation does not support kwargs: task\n",
      "Flash attention implementation does not support kwargs: task\n"
     ]
    },
    {
     "name": "stdout",
     "output_type": "stream",
     "text": [
      "processing  2540 to 2545\n"
     ]
    },
    {
     "name": "stderr",
     "output_type": "stream",
     "text": [
      "Flash attention implementation does not support kwargs: task\n",
      "Flash attention implementation does not support kwargs: task\n"
     ]
    },
    {
     "name": "stdout",
     "output_type": "stream",
     "text": [
      "processing  2545 to 2550\n"
     ]
    },
    {
     "name": "stderr",
     "output_type": "stream",
     "text": [
      "Flash attention implementation does not support kwargs: task\n",
      "Flash attention implementation does not support kwargs: task\n"
     ]
    },
    {
     "name": "stdout",
     "output_type": "stream",
     "text": [
      "processing  2550 to 2555\n"
     ]
    },
    {
     "name": "stderr",
     "output_type": "stream",
     "text": [
      "Flash attention implementation does not support kwargs: task\n",
      "Flash attention implementation does not support kwargs: task\n"
     ]
    },
    {
     "name": "stdout",
     "output_type": "stream",
     "text": [
      "processing  2555 to 2560\n"
     ]
    },
    {
     "name": "stderr",
     "output_type": "stream",
     "text": [
      "Flash attention implementation does not support kwargs: task\n",
      "Flash attention implementation does not support kwargs: task\n"
     ]
    },
    {
     "name": "stdout",
     "output_type": "stream",
     "text": [
      "processing  2560 to 2565\n"
     ]
    },
    {
     "name": "stderr",
     "output_type": "stream",
     "text": [
      "Flash attention implementation does not support kwargs: task\n",
      "Flash attention implementation does not support kwargs: task\n"
     ]
    },
    {
     "name": "stdout",
     "output_type": "stream",
     "text": [
      "processing  2565 to 2570\n"
     ]
    },
    {
     "name": "stderr",
     "output_type": "stream",
     "text": [
      "Flash attention implementation does not support kwargs: task\n",
      "Flash attention implementation does not support kwargs: task\n"
     ]
    },
    {
     "name": "stdout",
     "output_type": "stream",
     "text": [
      "processing  2570 to 2575\n"
     ]
    },
    {
     "name": "stderr",
     "output_type": "stream",
     "text": [
      "Flash attention implementation does not support kwargs: task\n",
      "Flash attention implementation does not support kwargs: task\n"
     ]
    },
    {
     "name": "stdout",
     "output_type": "stream",
     "text": [
      "processing  2575 to 2580\n"
     ]
    },
    {
     "name": "stderr",
     "output_type": "stream",
     "text": [
      "Flash attention implementation does not support kwargs: task\n",
      "Flash attention implementation does not support kwargs: task\n"
     ]
    },
    {
     "name": "stdout",
     "output_type": "stream",
     "text": [
      "processing  2580 to 2585\n"
     ]
    },
    {
     "name": "stderr",
     "output_type": "stream",
     "text": [
      "Flash attention implementation does not support kwargs: task\n",
      "Flash attention implementation does not support kwargs: task\n"
     ]
    },
    {
     "name": "stdout",
     "output_type": "stream",
     "text": [
      "processing  2585 to 2590\n"
     ]
    },
    {
     "name": "stderr",
     "output_type": "stream",
     "text": [
      "Flash attention implementation does not support kwargs: task\n",
      "Flash attention implementation does not support kwargs: task\n"
     ]
    },
    {
     "name": "stdout",
     "output_type": "stream",
     "text": [
      "processing  2590 to 2595\n"
     ]
    },
    {
     "name": "stderr",
     "output_type": "stream",
     "text": [
      "Flash attention implementation does not support kwargs: task\n",
      "Flash attention implementation does not support kwargs: task\n"
     ]
    },
    {
     "name": "stdout",
     "output_type": "stream",
     "text": [
      "processing  2595 to 2600\n"
     ]
    },
    {
     "name": "stderr",
     "output_type": "stream",
     "text": [
      "Flash attention implementation does not support kwargs: task\n",
      "Flash attention implementation does not support kwargs: task\n"
     ]
    },
    {
     "name": "stdout",
     "output_type": "stream",
     "text": [
      "processing  2600 to 2605\n"
     ]
    },
    {
     "name": "stderr",
     "output_type": "stream",
     "text": [
      "Flash attention implementation does not support kwargs: task\n",
      "Flash attention implementation does not support kwargs: task\n"
     ]
    },
    {
     "name": "stdout",
     "output_type": "stream",
     "text": [
      "processing  2605 to 2610\n"
     ]
    },
    {
     "name": "stderr",
     "output_type": "stream",
     "text": [
      "Flash attention implementation does not support kwargs: task\n",
      "Flash attention implementation does not support kwargs: task\n"
     ]
    },
    {
     "name": "stdout",
     "output_type": "stream",
     "text": [
      "processing  2610 to 2615\n"
     ]
    },
    {
     "name": "stderr",
     "output_type": "stream",
     "text": [
      "Flash attention implementation does not support kwargs: task\n",
      "Flash attention implementation does not support kwargs: task\n"
     ]
    },
    {
     "name": "stdout",
     "output_type": "stream",
     "text": [
      "processing  2615 to 2620\n"
     ]
    },
    {
     "name": "stderr",
     "output_type": "stream",
     "text": [
      "Flash attention implementation does not support kwargs: task\n",
      "Flash attention implementation does not support kwargs: task\n"
     ]
    },
    {
     "name": "stdout",
     "output_type": "stream",
     "text": [
      "processing  2620 to 2625\n"
     ]
    },
    {
     "name": "stderr",
     "output_type": "stream",
     "text": [
      "Flash attention implementation does not support kwargs: task\n",
      "Flash attention implementation does not support kwargs: task\n"
     ]
    },
    {
     "name": "stdout",
     "output_type": "stream",
     "text": [
      "processing  2625 to 2630\n"
     ]
    },
    {
     "name": "stderr",
     "output_type": "stream",
     "text": [
      "Flash attention implementation does not support kwargs: task\n",
      "Flash attention implementation does not support kwargs: task\n"
     ]
    },
    {
     "name": "stdout",
     "output_type": "stream",
     "text": [
      "processing  2630 to 2635\n"
     ]
    },
    {
     "name": "stderr",
     "output_type": "stream",
     "text": [
      "Flash attention implementation does not support kwargs: task\n",
      "Flash attention implementation does not support kwargs: task\n"
     ]
    },
    {
     "name": "stdout",
     "output_type": "stream",
     "text": [
      "processing  2635 to 2640\n"
     ]
    },
    {
     "name": "stderr",
     "output_type": "stream",
     "text": [
      "Flash attention implementation does not support kwargs: task\n",
      "Flash attention implementation does not support kwargs: task\n"
     ]
    },
    {
     "name": "stdout",
     "output_type": "stream",
     "text": [
      "processing  2640 to 2645\n"
     ]
    },
    {
     "name": "stderr",
     "output_type": "stream",
     "text": [
      "Flash attention implementation does not support kwargs: task\n",
      "Flash attention implementation does not support kwargs: task\n"
     ]
    },
    {
     "name": "stdout",
     "output_type": "stream",
     "text": [
      "processing  2645 to 2650\n"
     ]
    },
    {
     "name": "stderr",
     "output_type": "stream",
     "text": [
      "Flash attention implementation does not support kwargs: task\n",
      "Flash attention implementation does not support kwargs: task\n"
     ]
    },
    {
     "name": "stdout",
     "output_type": "stream",
     "text": [
      "processing  2650 to 2655\n"
     ]
    },
    {
     "name": "stderr",
     "output_type": "stream",
     "text": [
      "Flash attention implementation does not support kwargs: task\n",
      "Flash attention implementation does not support kwargs: task\n"
     ]
    },
    {
     "name": "stdout",
     "output_type": "stream",
     "text": [
      "processing  2655 to 2660\n"
     ]
    },
    {
     "name": "stderr",
     "output_type": "stream",
     "text": [
      "Flash attention implementation does not support kwargs: task\n",
      "Flash attention implementation does not support kwargs: task\n"
     ]
    },
    {
     "name": "stdout",
     "output_type": "stream",
     "text": [
      "processing  2660 to 2665\n"
     ]
    },
    {
     "name": "stderr",
     "output_type": "stream",
     "text": [
      "Flash attention implementation does not support kwargs: task\n",
      "Flash attention implementation does not support kwargs: task\n"
     ]
    },
    {
     "name": "stdout",
     "output_type": "stream",
     "text": [
      "processing  2665 to 2670\n"
     ]
    },
    {
     "name": "stderr",
     "output_type": "stream",
     "text": [
      "Flash attention implementation does not support kwargs: task\n",
      "Flash attention implementation does not support kwargs: task\n"
     ]
    },
    {
     "name": "stdout",
     "output_type": "stream",
     "text": [
      "processing  2670 to 2675\n"
     ]
    },
    {
     "name": "stderr",
     "output_type": "stream",
     "text": [
      "Flash attention implementation does not support kwargs: task\n",
      "Flash attention implementation does not support kwargs: task\n"
     ]
    },
    {
     "name": "stdout",
     "output_type": "stream",
     "text": [
      "processing  2675 to 2680\n"
     ]
    },
    {
     "name": "stderr",
     "output_type": "stream",
     "text": [
      "Flash attention implementation does not support kwargs: task\n",
      "Flash attention implementation does not support kwargs: task\n"
     ]
    },
    {
     "name": "stdout",
     "output_type": "stream",
     "text": [
      "processing  2680 to 2685\n"
     ]
    },
    {
     "name": "stderr",
     "output_type": "stream",
     "text": [
      "Flash attention implementation does not support kwargs: task\n",
      "Flash attention implementation does not support kwargs: task\n"
     ]
    },
    {
     "name": "stdout",
     "output_type": "stream",
     "text": [
      "processing  2685 to 2690\n"
     ]
    },
    {
     "name": "stderr",
     "output_type": "stream",
     "text": [
      "Flash attention implementation does not support kwargs: task\n",
      "Flash attention implementation does not support kwargs: task\n"
     ]
    },
    {
     "name": "stdout",
     "output_type": "stream",
     "text": [
      "processing  2690 to 2695\n"
     ]
    },
    {
     "name": "stderr",
     "output_type": "stream",
     "text": [
      "Flash attention implementation does not support kwargs: task\n",
      "Flash attention implementation does not support kwargs: task\n"
     ]
    },
    {
     "name": "stdout",
     "output_type": "stream",
     "text": [
      "processing  2695 to 2700\n"
     ]
    },
    {
     "name": "stderr",
     "output_type": "stream",
     "text": [
      "Flash attention implementation does not support kwargs: task\n",
      "Flash attention implementation does not support kwargs: task\n"
     ]
    },
    {
     "name": "stdout",
     "output_type": "stream",
     "text": [
      "processing  2700 to 2705\n"
     ]
    },
    {
     "name": "stderr",
     "output_type": "stream",
     "text": [
      "Flash attention implementation does not support kwargs: task\n",
      "Flash attention implementation does not support kwargs: task\n"
     ]
    },
    {
     "name": "stdout",
     "output_type": "stream",
     "text": [
      "processing  2705 to 2710\n"
     ]
    },
    {
     "name": "stderr",
     "output_type": "stream",
     "text": [
      "Flash attention implementation does not support kwargs: task\n",
      "Flash attention implementation does not support kwargs: task\n"
     ]
    },
    {
     "name": "stdout",
     "output_type": "stream",
     "text": [
      "processing  2710 to 2715\n"
     ]
    },
    {
     "name": "stderr",
     "output_type": "stream",
     "text": [
      "Flash attention implementation does not support kwargs: task\n",
      "Flash attention implementation does not support kwargs: task\n"
     ]
    },
    {
     "name": "stdout",
     "output_type": "stream",
     "text": [
      "processing  2715 to 2720\n"
     ]
    },
    {
     "name": "stderr",
     "output_type": "stream",
     "text": [
      "Flash attention implementation does not support kwargs: task\n",
      "Flash attention implementation does not support kwargs: task\n"
     ]
    },
    {
     "name": "stdout",
     "output_type": "stream",
     "text": [
      "processing  2720 to 2725\n"
     ]
    },
    {
     "name": "stderr",
     "output_type": "stream",
     "text": [
      "Flash attention implementation does not support kwargs: task\n",
      "Flash attention implementation does not support kwargs: task\n"
     ]
    },
    {
     "name": "stdout",
     "output_type": "stream",
     "text": [
      "processing  2725 to 2730\n"
     ]
    },
    {
     "name": "stderr",
     "output_type": "stream",
     "text": [
      "Flash attention implementation does not support kwargs: task\n",
      "Flash attention implementation does not support kwargs: task\n"
     ]
    },
    {
     "name": "stdout",
     "output_type": "stream",
     "text": [
      "processing  2730 to 2735\n"
     ]
    },
    {
     "name": "stderr",
     "output_type": "stream",
     "text": [
      "Flash attention implementation does not support kwargs: task\n",
      "Flash attention implementation does not support kwargs: task\n"
     ]
    },
    {
     "name": "stdout",
     "output_type": "stream",
     "text": [
      "processing  2735 to 2740\n"
     ]
    },
    {
     "name": "stderr",
     "output_type": "stream",
     "text": [
      "Flash attention implementation does not support kwargs: task\n",
      "Flash attention implementation does not support kwargs: task\n"
     ]
    },
    {
     "name": "stdout",
     "output_type": "stream",
     "text": [
      "processing  2740 to 2745\n"
     ]
    },
    {
     "name": "stderr",
     "output_type": "stream",
     "text": [
      "Flash attention implementation does not support kwargs: task\n",
      "Flash attention implementation does not support kwargs: task\n"
     ]
    },
    {
     "name": "stdout",
     "output_type": "stream",
     "text": [
      "processing  2745 to 2750\n"
     ]
    },
    {
     "name": "stderr",
     "output_type": "stream",
     "text": [
      "Flash attention implementation does not support kwargs: task\n",
      "Flash attention implementation does not support kwargs: task\n"
     ]
    },
    {
     "name": "stdout",
     "output_type": "stream",
     "text": [
      "processing  2750 to 2755\n"
     ]
    },
    {
     "name": "stderr",
     "output_type": "stream",
     "text": [
      "Flash attention implementation does not support kwargs: task\n",
      "Flash attention implementation does not support kwargs: task\n"
     ]
    },
    {
     "name": "stdout",
     "output_type": "stream",
     "text": [
      "processing  2755 to 2760\n"
     ]
    },
    {
     "name": "stderr",
     "output_type": "stream",
     "text": [
      "Flash attention implementation does not support kwargs: task\n",
      "Flash attention implementation does not support kwargs: task\n"
     ]
    },
    {
     "name": "stdout",
     "output_type": "stream",
     "text": [
      "processing  2760 to 2765\n"
     ]
    },
    {
     "name": "stderr",
     "output_type": "stream",
     "text": [
      "Flash attention implementation does not support kwargs: task\n",
      "Flash attention implementation does not support kwargs: task\n"
     ]
    },
    {
     "name": "stdout",
     "output_type": "stream",
     "text": [
      "processing  2765 to 2770\n"
     ]
    },
    {
     "name": "stderr",
     "output_type": "stream",
     "text": [
      "Flash attention implementation does not support kwargs: task\n",
      "Flash attention implementation does not support kwargs: task\n"
     ]
    },
    {
     "name": "stdout",
     "output_type": "stream",
     "text": [
      "processing  2770 to 2775\n"
     ]
    },
    {
     "name": "stderr",
     "output_type": "stream",
     "text": [
      "Flash attention implementation does not support kwargs: task\n",
      "Flash attention implementation does not support kwargs: task\n"
     ]
    },
    {
     "name": "stdout",
     "output_type": "stream",
     "text": [
      "processing  2775 to 2780\n"
     ]
    },
    {
     "name": "stderr",
     "output_type": "stream",
     "text": [
      "Flash attention implementation does not support kwargs: task\n",
      "Flash attention implementation does not support kwargs: task\n"
     ]
    },
    {
     "name": "stdout",
     "output_type": "stream",
     "text": [
      "processing  2780 to 2785\n"
     ]
    },
    {
     "name": "stderr",
     "output_type": "stream",
     "text": [
      "Flash attention implementation does not support kwargs: task\n",
      "Flash attention implementation does not support kwargs: task\n"
     ]
    },
    {
     "name": "stdout",
     "output_type": "stream",
     "text": [
      "processing  2785 to 2790\n"
     ]
    },
    {
     "name": "stderr",
     "output_type": "stream",
     "text": [
      "Flash attention implementation does not support kwargs: task\n",
      "Flash attention implementation does not support kwargs: task\n"
     ]
    },
    {
     "name": "stdout",
     "output_type": "stream",
     "text": [
      "processing  2790 to 2795\n"
     ]
    },
    {
     "name": "stderr",
     "output_type": "stream",
     "text": [
      "Flash attention implementation does not support kwargs: task\n",
      "Flash attention implementation does not support kwargs: task\n"
     ]
    },
    {
     "name": "stdout",
     "output_type": "stream",
     "text": [
      "processing  2795 to 2800\n"
     ]
    },
    {
     "name": "stderr",
     "output_type": "stream",
     "text": [
      "Flash attention implementation does not support kwargs: task\n",
      "Flash attention implementation does not support kwargs: task\n"
     ]
    },
    {
     "name": "stdout",
     "output_type": "stream",
     "text": [
      "processing  2800 to 2805\n"
     ]
    },
    {
     "name": "stderr",
     "output_type": "stream",
     "text": [
      "Flash attention implementation does not support kwargs: task\n",
      "Flash attention implementation does not support kwargs: task\n"
     ]
    },
    {
     "name": "stdout",
     "output_type": "stream",
     "text": [
      "processing  2805 to 2810\n"
     ]
    },
    {
     "name": "stderr",
     "output_type": "stream",
     "text": [
      "Flash attention implementation does not support kwargs: task\n",
      "Flash attention implementation does not support kwargs: task\n"
     ]
    },
    {
     "name": "stdout",
     "output_type": "stream",
     "text": [
      "processing  2810 to 2815\n"
     ]
    },
    {
     "name": "stderr",
     "output_type": "stream",
     "text": [
      "Flash attention implementation does not support kwargs: task\n",
      "Flash attention implementation does not support kwargs: task\n"
     ]
    },
    {
     "name": "stdout",
     "output_type": "stream",
     "text": [
      "processing  2815 to 2820\n"
     ]
    },
    {
     "name": "stderr",
     "output_type": "stream",
     "text": [
      "Flash attention implementation does not support kwargs: task\n",
      "Flash attention implementation does not support kwargs: task\n"
     ]
    },
    {
     "name": "stdout",
     "output_type": "stream",
     "text": [
      "processing  2820 to 2825\n"
     ]
    },
    {
     "name": "stderr",
     "output_type": "stream",
     "text": [
      "Flash attention implementation does not support kwargs: task\n",
      "Flash attention implementation does not support kwargs: task\n"
     ]
    },
    {
     "name": "stdout",
     "output_type": "stream",
     "text": [
      "processing  2825 to 2830\n"
     ]
    },
    {
     "name": "stderr",
     "output_type": "stream",
     "text": [
      "Flash attention implementation does not support kwargs: task\n",
      "Flash attention implementation does not support kwargs: task\n"
     ]
    },
    {
     "name": "stdout",
     "output_type": "stream",
     "text": [
      "processing  2830 to 2835\n"
     ]
    },
    {
     "name": "stderr",
     "output_type": "stream",
     "text": [
      "Flash attention implementation does not support kwargs: task\n",
      "Flash attention implementation does not support kwargs: task\n"
     ]
    },
    {
     "name": "stdout",
     "output_type": "stream",
     "text": [
      "processing  2835 to 2840\n"
     ]
    },
    {
     "name": "stderr",
     "output_type": "stream",
     "text": [
      "Flash attention implementation does not support kwargs: task\n",
      "Flash attention implementation does not support kwargs: task\n"
     ]
    },
    {
     "name": "stdout",
     "output_type": "stream",
     "text": [
      "processing  2840 to 2845\n"
     ]
    },
    {
     "name": "stderr",
     "output_type": "stream",
     "text": [
      "Flash attention implementation does not support kwargs: task\n",
      "Flash attention implementation does not support kwargs: task\n"
     ]
    },
    {
     "name": "stdout",
     "output_type": "stream",
     "text": [
      "processing  2845 to 2850\n"
     ]
    },
    {
     "name": "stderr",
     "output_type": "stream",
     "text": [
      "Flash attention implementation does not support kwargs: task\n",
      "Flash attention implementation does not support kwargs: task\n"
     ]
    },
    {
     "name": "stdout",
     "output_type": "stream",
     "text": [
      "processing  2850 to 2855\n"
     ]
    },
    {
     "name": "stderr",
     "output_type": "stream",
     "text": [
      "Flash attention implementation does not support kwargs: task\n",
      "Flash attention implementation does not support kwargs: task\n"
     ]
    },
    {
     "name": "stdout",
     "output_type": "stream",
     "text": [
      "processing  2855 to 2860\n"
     ]
    },
    {
     "name": "stderr",
     "output_type": "stream",
     "text": [
      "Flash attention implementation does not support kwargs: task\n",
      "Flash attention implementation does not support kwargs: task\n"
     ]
    },
    {
     "name": "stdout",
     "output_type": "stream",
     "text": [
      "processing  2860 to 2865\n"
     ]
    },
    {
     "name": "stderr",
     "output_type": "stream",
     "text": [
      "Flash attention implementation does not support kwargs: task\n",
      "Flash attention implementation does not support kwargs: task\n"
     ]
    },
    {
     "name": "stdout",
     "output_type": "stream",
     "text": [
      "processing  2865 to 2870\n"
     ]
    },
    {
     "name": "stderr",
     "output_type": "stream",
     "text": [
      "Flash attention implementation does not support kwargs: task\n",
      "Flash attention implementation does not support kwargs: task\n"
     ]
    },
    {
     "name": "stdout",
     "output_type": "stream",
     "text": [
      "processing  2870 to 2875\n"
     ]
    },
    {
     "name": "stderr",
     "output_type": "stream",
     "text": [
      "Flash attention implementation does not support kwargs: task\n",
      "Flash attention implementation does not support kwargs: task\n"
     ]
    },
    {
     "name": "stdout",
     "output_type": "stream",
     "text": [
      "processing  2875 to 2880\n"
     ]
    },
    {
     "name": "stderr",
     "output_type": "stream",
     "text": [
      "Flash attention implementation does not support kwargs: task\n",
      "Flash attention implementation does not support kwargs: task\n"
     ]
    },
    {
     "name": "stdout",
     "output_type": "stream",
     "text": [
      "processing  2880 to 2885\n"
     ]
    },
    {
     "name": "stderr",
     "output_type": "stream",
     "text": [
      "Flash attention implementation does not support kwargs: task\n",
      "Flash attention implementation does not support kwargs: task\n"
     ]
    },
    {
     "name": "stdout",
     "output_type": "stream",
     "text": [
      "processing  2885 to 2890\n"
     ]
    },
    {
     "name": "stderr",
     "output_type": "stream",
     "text": [
      "Flash attention implementation does not support kwargs: task\n",
      "Flash attention implementation does not support kwargs: task\n"
     ]
    },
    {
     "name": "stdout",
     "output_type": "stream",
     "text": [
      "processing  2890 to 2895\n"
     ]
    },
    {
     "name": "stderr",
     "output_type": "stream",
     "text": [
      "Flash attention implementation does not support kwargs: task\n",
      "Flash attention implementation does not support kwargs: task\n"
     ]
    },
    {
     "name": "stdout",
     "output_type": "stream",
     "text": [
      "processing  2895 to 2900\n"
     ]
    },
    {
     "name": "stderr",
     "output_type": "stream",
     "text": [
      "Flash attention implementation does not support kwargs: task\n",
      "Flash attention implementation does not support kwargs: task\n"
     ]
    },
    {
     "name": "stdout",
     "output_type": "stream",
     "text": [
      "processing  2900 to 2905\n"
     ]
    },
    {
     "name": "stderr",
     "output_type": "stream",
     "text": [
      "Flash attention implementation does not support kwargs: task\n",
      "Flash attention implementation does not support kwargs: task\n"
     ]
    },
    {
     "name": "stdout",
     "output_type": "stream",
     "text": [
      "processing  2905 to 2910\n"
     ]
    },
    {
     "name": "stderr",
     "output_type": "stream",
     "text": [
      "Flash attention implementation does not support kwargs: task\n",
      "Flash attention implementation does not support kwargs: task\n"
     ]
    },
    {
     "name": "stdout",
     "output_type": "stream",
     "text": [
      "processing  2910 to 2915\n"
     ]
    },
    {
     "name": "stderr",
     "output_type": "stream",
     "text": [
      "Flash attention implementation does not support kwargs: task\n",
      "Flash attention implementation does not support kwargs: task\n"
     ]
    },
    {
     "name": "stdout",
     "output_type": "stream",
     "text": [
      "processing  2915 to 2920\n"
     ]
    },
    {
     "name": "stderr",
     "output_type": "stream",
     "text": [
      "Flash attention implementation does not support kwargs: task\n",
      "Flash attention implementation does not support kwargs: task\n"
     ]
    },
    {
     "name": "stdout",
     "output_type": "stream",
     "text": [
      "processing  2920 to 2925\n"
     ]
    },
    {
     "name": "stderr",
     "output_type": "stream",
     "text": [
      "Flash attention implementation does not support kwargs: task\n",
      "Flash attention implementation does not support kwargs: task\n"
     ]
    },
    {
     "name": "stdout",
     "output_type": "stream",
     "text": [
      "processing  2925 to 2930\n"
     ]
    },
    {
     "name": "stderr",
     "output_type": "stream",
     "text": [
      "Flash attention implementation does not support kwargs: task\n",
      "Flash attention implementation does not support kwargs: task\n"
     ]
    },
    {
     "name": "stdout",
     "output_type": "stream",
     "text": [
      "processing  2930 to 2935\n"
     ]
    },
    {
     "name": "stderr",
     "output_type": "stream",
     "text": [
      "Flash attention implementation does not support kwargs: task\n",
      "Flash attention implementation does not support kwargs: task\n"
     ]
    },
    {
     "name": "stdout",
     "output_type": "stream",
     "text": [
      "processing  2935 to 2940\n"
     ]
    },
    {
     "name": "stderr",
     "output_type": "stream",
     "text": [
      "Flash attention implementation does not support kwargs: task\n",
      "Flash attention implementation does not support kwargs: task\n"
     ]
    },
    {
     "name": "stdout",
     "output_type": "stream",
     "text": [
      "processing  2940 to 2945\n"
     ]
    },
    {
     "name": "stderr",
     "output_type": "stream",
     "text": [
      "Flash attention implementation does not support kwargs: task\n",
      "Flash attention implementation does not support kwargs: task\n"
     ]
    },
    {
     "name": "stdout",
     "output_type": "stream",
     "text": [
      "processing  2945 to 2950\n"
     ]
    },
    {
     "name": "stderr",
     "output_type": "stream",
     "text": [
      "Flash attention implementation does not support kwargs: task\n",
      "Flash attention implementation does not support kwargs: task\n"
     ]
    },
    {
     "name": "stdout",
     "output_type": "stream",
     "text": [
      "processing  2950 to 2955\n"
     ]
    },
    {
     "name": "stderr",
     "output_type": "stream",
     "text": [
      "Flash attention implementation does not support kwargs: task\n",
      "Flash attention implementation does not support kwargs: task\n"
     ]
    },
    {
     "name": "stdout",
     "output_type": "stream",
     "text": [
      "processing  2955 to 2960\n"
     ]
    },
    {
     "name": "stderr",
     "output_type": "stream",
     "text": [
      "Flash attention implementation does not support kwargs: task\n",
      "Flash attention implementation does not support kwargs: task\n"
     ]
    },
    {
     "name": "stdout",
     "output_type": "stream",
     "text": [
      "processing  2960 to 2965\n"
     ]
    },
    {
     "name": "stderr",
     "output_type": "stream",
     "text": [
      "Flash attention implementation does not support kwargs: task\n",
      "Flash attention implementation does not support kwargs: task\n"
     ]
    },
    {
     "name": "stdout",
     "output_type": "stream",
     "text": [
      "processing  2965 to 2970\n"
     ]
    },
    {
     "name": "stderr",
     "output_type": "stream",
     "text": [
      "Flash attention implementation does not support kwargs: task\n",
      "Flash attention implementation does not support kwargs: task\n"
     ]
    },
    {
     "name": "stdout",
     "output_type": "stream",
     "text": [
      "processing  2970 to 2975\n"
     ]
    },
    {
     "name": "stderr",
     "output_type": "stream",
     "text": [
      "Flash attention implementation does not support kwargs: task\n",
      "Flash attention implementation does not support kwargs: task\n"
     ]
    },
    {
     "name": "stdout",
     "output_type": "stream",
     "text": [
      "processing  2975 to 2980\n"
     ]
    },
    {
     "name": "stderr",
     "output_type": "stream",
     "text": [
      "Flash attention implementation does not support kwargs: task\n",
      "Flash attention implementation does not support kwargs: task\n"
     ]
    },
    {
     "name": "stdout",
     "output_type": "stream",
     "text": [
      "processing  2980 to 2985\n"
     ]
    },
    {
     "name": "stderr",
     "output_type": "stream",
     "text": [
      "Flash attention implementation does not support kwargs: task\n",
      "Flash attention implementation does not support kwargs: task\n"
     ]
    },
    {
     "name": "stdout",
     "output_type": "stream",
     "text": [
      "processing  2985 to 2990\n"
     ]
    },
    {
     "name": "stderr",
     "output_type": "stream",
     "text": [
      "Flash attention implementation does not support kwargs: task\n",
      "Flash attention implementation does not support kwargs: task\n"
     ]
    },
    {
     "name": "stdout",
     "output_type": "stream",
     "text": [
      "processing  2990 to 2995\n"
     ]
    },
    {
     "name": "stderr",
     "output_type": "stream",
     "text": [
      "Flash attention implementation does not support kwargs: task\n",
      "Flash attention implementation does not support kwargs: task\n"
     ]
    },
    {
     "name": "stdout",
     "output_type": "stream",
     "text": [
      "processing  2995 to 3000\n"
     ]
    },
    {
     "name": "stderr",
     "output_type": "stream",
     "text": [
      "Flash attention implementation does not support kwargs: task\n",
      "Flash attention implementation does not support kwargs: task\n"
     ]
    },
    {
     "name": "stdout",
     "output_type": "stream",
     "text": [
      "processing  3000 to 3005\n"
     ]
    },
    {
     "name": "stderr",
     "output_type": "stream",
     "text": [
      "Flash attention implementation does not support kwargs: task\n",
      "Flash attention implementation does not support kwargs: task\n"
     ]
    },
    {
     "name": "stdout",
     "output_type": "stream",
     "text": [
      "processing  3005 to 3010\n"
     ]
    },
    {
     "name": "stderr",
     "output_type": "stream",
     "text": [
      "Flash attention implementation does not support kwargs: task\n",
      "Flash attention implementation does not support kwargs: task\n"
     ]
    },
    {
     "name": "stdout",
     "output_type": "stream",
     "text": [
      "processing  3010 to 3015\n"
     ]
    },
    {
     "name": "stderr",
     "output_type": "stream",
     "text": [
      "Flash attention implementation does not support kwargs: task\n",
      "Flash attention implementation does not support kwargs: task\n"
     ]
    },
    {
     "name": "stdout",
     "output_type": "stream",
     "text": [
      "processing  3015 to 3020\n"
     ]
    },
    {
     "name": "stderr",
     "output_type": "stream",
     "text": [
      "Flash attention implementation does not support kwargs: task\n",
      "Flash attention implementation does not support kwargs: task\n"
     ]
    },
    {
     "name": "stdout",
     "output_type": "stream",
     "text": [
      "processing  3020 to 3025\n"
     ]
    },
    {
     "name": "stderr",
     "output_type": "stream",
     "text": [
      "Flash attention implementation does not support kwargs: task\n",
      "Flash attention implementation does not support kwargs: task\n"
     ]
    },
    {
     "name": "stdout",
     "output_type": "stream",
     "text": [
      "processing  3025 to 3030\n"
     ]
    },
    {
     "name": "stderr",
     "output_type": "stream",
     "text": [
      "Flash attention implementation does not support kwargs: task\n",
      "Flash attention implementation does not support kwargs: task\n"
     ]
    },
    {
     "name": "stdout",
     "output_type": "stream",
     "text": [
      "processing  3030 to 3035\n"
     ]
    },
    {
     "name": "stderr",
     "output_type": "stream",
     "text": [
      "Flash attention implementation does not support kwargs: task\n",
      "Flash attention implementation does not support kwargs: task\n"
     ]
    },
    {
     "name": "stdout",
     "output_type": "stream",
     "text": [
      "processing  3035 to 3040\n"
     ]
    },
    {
     "name": "stderr",
     "output_type": "stream",
     "text": [
      "Flash attention implementation does not support kwargs: task\n",
      "Flash attention implementation does not support kwargs: task\n"
     ]
    },
    {
     "name": "stdout",
     "output_type": "stream",
     "text": [
      "processing  3040 to 3045\n"
     ]
    },
    {
     "name": "stderr",
     "output_type": "stream",
     "text": [
      "Flash attention implementation does not support kwargs: task\n",
      "Flash attention implementation does not support kwargs: task\n"
     ]
    },
    {
     "name": "stdout",
     "output_type": "stream",
     "text": [
      "processing  3045 to 3050\n"
     ]
    },
    {
     "name": "stderr",
     "output_type": "stream",
     "text": [
      "Flash attention implementation does not support kwargs: task\n",
      "Flash attention implementation does not support kwargs: task\n"
     ]
    },
    {
     "name": "stdout",
     "output_type": "stream",
     "text": [
      "processing  3050 to 3055\n"
     ]
    },
    {
     "name": "stderr",
     "output_type": "stream",
     "text": [
      "Flash attention implementation does not support kwargs: task\n"
     ]
    }
   ],
   "source": [
    "# import warnings\n",
    "# from cryptography.utils import CryptographyDeprecationWarning \n",
    "# warnings.filterwarnings(\"ignore\", category=CryptographyDeprecationWarning)\n",
    "def chunker(seq, size):\n",
    "    return (seq[pos:pos + size] for pos in range(0, len(seq), size))\n",
    "dois = [item['doi'] for item in await fetch_all()]\n",
    "print(dois)\n",
    "chunk_size = 5\n",
    "seq = df_json_filterd[~df_json_filterd['doi'].isna()][5000:10000]\n",
    "seq = seq[~seq['doi'].isin(dois)]\n",
    "for idx, chunk in enumerate(chunker(seq=seq, size=chunk_size)):\n",
    "    print(\"processing \", idx*chunk_size, \"to\", (idx+1)*chunk_size)\n",
    "    add_embedings(chunk, model=model, tokenizer=tokenizer)\n",
    "    add_embedings(chunk, model=model, tokenizer=tokenizer, field_to_embedd=\"title\", embedding_field_name=\"title_embedding\")\n",
    "    await insert_into_papers(chunk)\n"
   ]
  },
  {
   "cell_type": "code",
   "execution_count": null,
   "metadata": {},
   "outputs": [
    {
     "name": "stderr",
     "output_type": "stream",
     "text": [
      "Flash attention implementation does not support kwargs: task\n"
     ]
    },
    {
     "name": "stdout",
     "output_type": "stream",
     "text": [
      "1945\n",
      "processing  0 to 5\n"
     ]
    },
    {
     "name": "stderr",
     "output_type": "stream",
     "text": [
      "Flash attention implementation does not support kwargs: task\n"
     ]
    },
    {
     "name": "stdout",
     "output_type": "stream",
     "text": [
      "processing  5 to 10\n"
     ]
    },
    {
     "name": "stderr",
     "output_type": "stream",
     "text": [
      "Flash attention implementation does not support kwargs: task\n"
     ]
    },
    {
     "name": "stdout",
     "output_type": "stream",
     "text": [
      "processing  10 to 15\n"
     ]
    },
    {
     "name": "stderr",
     "output_type": "stream",
     "text": [
      "Flash attention implementation does not support kwargs: task\n"
     ]
    },
    {
     "name": "stdout",
     "output_type": "stream",
     "text": [
      "processing  15 to 20\n"
     ]
    },
    {
     "name": "stderr",
     "output_type": "stream",
     "text": [
      "Flash attention implementation does not support kwargs: task\n"
     ]
    },
    {
     "name": "stdout",
     "output_type": "stream",
     "text": [
      "processing  20 to 25\n"
     ]
    },
    {
     "name": "stderr",
     "output_type": "stream",
     "text": [
      "Flash attention implementation does not support kwargs: task\n"
     ]
    },
    {
     "name": "stdout",
     "output_type": "stream",
     "text": [
      "processing  25 to 30\n"
     ]
    },
    {
     "name": "stderr",
     "output_type": "stream",
     "text": [
      "Flash attention implementation does not support kwargs: task\n"
     ]
    },
    {
     "name": "stdout",
     "output_type": "stream",
     "text": [
      "processing  30 to 35\n"
     ]
    },
    {
     "name": "stderr",
     "output_type": "stream",
     "text": [
      "Flash attention implementation does not support kwargs: task\n"
     ]
    },
    {
     "name": "stdout",
     "output_type": "stream",
     "text": [
      "processing  35 to 40\n"
     ]
    },
    {
     "name": "stderr",
     "output_type": "stream",
     "text": [
      "Flash attention implementation does not support kwargs: task\n"
     ]
    },
    {
     "name": "stdout",
     "output_type": "stream",
     "text": [
      "processing  40 to 45\n"
     ]
    },
    {
     "name": "stderr",
     "output_type": "stream",
     "text": [
      "Flash attention implementation does not support kwargs: task\n"
     ]
    },
    {
     "name": "stdout",
     "output_type": "stream",
     "text": [
      "processing  45 to 50\n"
     ]
    },
    {
     "name": "stderr",
     "output_type": "stream",
     "text": [
      "Flash attention implementation does not support kwargs: task\n"
     ]
    },
    {
     "name": "stdout",
     "output_type": "stream",
     "text": [
      "processing  50 to 55\n"
     ]
    },
    {
     "name": "stderr",
     "output_type": "stream",
     "text": [
      "Flash attention implementation does not support kwargs: task\n"
     ]
    },
    {
     "name": "stdout",
     "output_type": "stream",
     "text": [
      "processing  55 to 60\n"
     ]
    },
    {
     "name": "stderr",
     "output_type": "stream",
     "text": [
      "Flash attention implementation does not support kwargs: task\n"
     ]
    },
    {
     "name": "stdout",
     "output_type": "stream",
     "text": [
      "processing  60 to 65\n"
     ]
    },
    {
     "name": "stderr",
     "output_type": "stream",
     "text": [
      "Flash attention implementation does not support kwargs: task\n"
     ]
    },
    {
     "name": "stdout",
     "output_type": "stream",
     "text": [
      "processing  65 to 70\n"
     ]
    },
    {
     "name": "stderr",
     "output_type": "stream",
     "text": [
      "Flash attention implementation does not support kwargs: task\n"
     ]
    },
    {
     "name": "stdout",
     "output_type": "stream",
     "text": [
      "processing  70 to 75\n"
     ]
    },
    {
     "name": "stderr",
     "output_type": "stream",
     "text": [
      "Flash attention implementation does not support kwargs: task\n"
     ]
    },
    {
     "name": "stdout",
     "output_type": "stream",
     "text": [
      "processing  75 to 80\n"
     ]
    },
    {
     "name": "stderr",
     "output_type": "stream",
     "text": [
      "Flash attention implementation does not support kwargs: task\n"
     ]
    },
    {
     "name": "stdout",
     "output_type": "stream",
     "text": [
      "processing  80 to 85\n"
     ]
    },
    {
     "name": "stderr",
     "output_type": "stream",
     "text": [
      "Flash attention implementation does not support kwargs: task\n"
     ]
    },
    {
     "name": "stdout",
     "output_type": "stream",
     "text": [
      "processing  85 to 90\n"
     ]
    },
    {
     "name": "stderr",
     "output_type": "stream",
     "text": [
      "Flash attention implementation does not support kwargs: task\n"
     ]
    },
    {
     "name": "stdout",
     "output_type": "stream",
     "text": [
      "processing  90 to 95\n"
     ]
    },
    {
     "name": "stderr",
     "output_type": "stream",
     "text": [
      "Flash attention implementation does not support kwargs: task\n"
     ]
    },
    {
     "name": "stdout",
     "output_type": "stream",
     "text": [
      "processing  95 to 100\n"
     ]
    },
    {
     "name": "stderr",
     "output_type": "stream",
     "text": [
      "Flash attention implementation does not support kwargs: task\n"
     ]
    },
    {
     "name": "stdout",
     "output_type": "stream",
     "text": [
      "processing  100 to 105\n"
     ]
    },
    {
     "name": "stderr",
     "output_type": "stream",
     "text": [
      "Flash attention implementation does not support kwargs: task\n"
     ]
    },
    {
     "name": "stdout",
     "output_type": "stream",
     "text": [
      "processing  105 to 110\n"
     ]
    },
    {
     "name": "stderr",
     "output_type": "stream",
     "text": [
      "Flash attention implementation does not support kwargs: task\n"
     ]
    },
    {
     "name": "stdout",
     "output_type": "stream",
     "text": [
      "processing  110 to 115\n"
     ]
    },
    {
     "name": "stderr",
     "output_type": "stream",
     "text": [
      "Flash attention implementation does not support kwargs: task\n"
     ]
    },
    {
     "name": "stdout",
     "output_type": "stream",
     "text": [
      "processing  115 to 120\n"
     ]
    },
    {
     "name": "stderr",
     "output_type": "stream",
     "text": [
      "Flash attention implementation does not support kwargs: task\n"
     ]
    },
    {
     "name": "stdout",
     "output_type": "stream",
     "text": [
      "processing  120 to 125\n"
     ]
    },
    {
     "name": "stderr",
     "output_type": "stream",
     "text": [
      "Flash attention implementation does not support kwargs: task\n"
     ]
    },
    {
     "name": "stdout",
     "output_type": "stream",
     "text": [
      "processing  125 to 130\n"
     ]
    },
    {
     "name": "stderr",
     "output_type": "stream",
     "text": [
      "Flash attention implementation does not support kwargs: task\n"
     ]
    },
    {
     "name": "stdout",
     "output_type": "stream",
     "text": [
      "processing  130 to 135\n"
     ]
    },
    {
     "name": "stderr",
     "output_type": "stream",
     "text": [
      "Flash attention implementation does not support kwargs: task\n"
     ]
    },
    {
     "name": "stdout",
     "output_type": "stream",
     "text": [
      "processing  135 to 140\n"
     ]
    },
    {
     "name": "stderr",
     "output_type": "stream",
     "text": [
      "Flash attention implementation does not support kwargs: task\n"
     ]
    },
    {
     "name": "stdout",
     "output_type": "stream",
     "text": [
      "processing  140 to 145\n"
     ]
    },
    {
     "name": "stderr",
     "output_type": "stream",
     "text": [
      "Flash attention implementation does not support kwargs: task\n"
     ]
    },
    {
     "name": "stdout",
     "output_type": "stream",
     "text": [
      "processing  145 to 150\n"
     ]
    },
    {
     "name": "stderr",
     "output_type": "stream",
     "text": [
      "Flash attention implementation does not support kwargs: task\n"
     ]
    },
    {
     "name": "stdout",
     "output_type": "stream",
     "text": [
      "processing  150 to 155\n"
     ]
    },
    {
     "name": "stderr",
     "output_type": "stream",
     "text": [
      "Flash attention implementation does not support kwargs: task\n"
     ]
    },
    {
     "name": "stdout",
     "output_type": "stream",
     "text": [
      "processing  155 to 160\n"
     ]
    },
    {
     "name": "stderr",
     "output_type": "stream",
     "text": [
      "Flash attention implementation does not support kwargs: task\n"
     ]
    },
    {
     "name": "stdout",
     "output_type": "stream",
     "text": [
      "processing  160 to 165\n"
     ]
    },
    {
     "name": "stderr",
     "output_type": "stream",
     "text": [
      "Flash attention implementation does not support kwargs: task\n"
     ]
    },
    {
     "name": "stdout",
     "output_type": "stream",
     "text": [
      "processing  165 to 170\n"
     ]
    },
    {
     "name": "stderr",
     "output_type": "stream",
     "text": [
      "Flash attention implementation does not support kwargs: task\n"
     ]
    },
    {
     "name": "stdout",
     "output_type": "stream",
     "text": [
      "processing  170 to 175\n"
     ]
    },
    {
     "name": "stderr",
     "output_type": "stream",
     "text": [
      "Flash attention implementation does not support kwargs: task\n"
     ]
    },
    {
     "name": "stdout",
     "output_type": "stream",
     "text": [
      "processing  175 to 180\n"
     ]
    },
    {
     "name": "stderr",
     "output_type": "stream",
     "text": [
      "Flash attention implementation does not support kwargs: task\n"
     ]
    },
    {
     "name": "stdout",
     "output_type": "stream",
     "text": [
      "processing  180 to 185\n"
     ]
    },
    {
     "name": "stderr",
     "output_type": "stream",
     "text": [
      "Flash attention implementation does not support kwargs: task\n"
     ]
    },
    {
     "name": "stdout",
     "output_type": "stream",
     "text": [
      "processing  185 to 190\n"
     ]
    },
    {
     "name": "stderr",
     "output_type": "stream",
     "text": [
      "Flash attention implementation does not support kwargs: task\n"
     ]
    },
    {
     "name": "stdout",
     "output_type": "stream",
     "text": [
      "processing  190 to 195\n"
     ]
    },
    {
     "name": "stderr",
     "output_type": "stream",
     "text": [
      "Flash attention implementation does not support kwargs: task\n"
     ]
    },
    {
     "name": "stdout",
     "output_type": "stream",
     "text": [
      "processing  195 to 200\n"
     ]
    },
    {
     "name": "stderr",
     "output_type": "stream",
     "text": [
      "Flash attention implementation does not support kwargs: task\n"
     ]
    },
    {
     "name": "stdout",
     "output_type": "stream",
     "text": [
      "processing  200 to 205\n"
     ]
    },
    {
     "name": "stderr",
     "output_type": "stream",
     "text": [
      "Flash attention implementation does not support kwargs: task\n"
     ]
    },
    {
     "name": "stdout",
     "output_type": "stream",
     "text": [
      "processing  205 to 210\n"
     ]
    },
    {
     "name": "stderr",
     "output_type": "stream",
     "text": [
      "Flash attention implementation does not support kwargs: task\n"
     ]
    },
    {
     "name": "stdout",
     "output_type": "stream",
     "text": [
      "processing  210 to 215\n"
     ]
    },
    {
     "name": "stderr",
     "output_type": "stream",
     "text": [
      "Flash attention implementation does not support kwargs: task\n"
     ]
    },
    {
     "name": "stdout",
     "output_type": "stream",
     "text": [
      "processing  215 to 220\n"
     ]
    },
    {
     "name": "stderr",
     "output_type": "stream",
     "text": [
      "Flash attention implementation does not support kwargs: task\n"
     ]
    },
    {
     "name": "stdout",
     "output_type": "stream",
     "text": [
      "processing  220 to 225\n"
     ]
    },
    {
     "name": "stderr",
     "output_type": "stream",
     "text": [
      "Flash attention implementation does not support kwargs: task\n"
     ]
    },
    {
     "name": "stdout",
     "output_type": "stream",
     "text": [
      "processing  225 to 230\n"
     ]
    },
    {
     "name": "stderr",
     "output_type": "stream",
     "text": [
      "Flash attention implementation does not support kwargs: task\n"
     ]
    },
    {
     "name": "stdout",
     "output_type": "stream",
     "text": [
      "processing  230 to 235\n"
     ]
    },
    {
     "name": "stderr",
     "output_type": "stream",
     "text": [
      "Flash attention implementation does not support kwargs: task\n"
     ]
    },
    {
     "name": "stdout",
     "output_type": "stream",
     "text": [
      "processing  235 to 240\n"
     ]
    },
    {
     "name": "stderr",
     "output_type": "stream",
     "text": [
      "Flash attention implementation does not support kwargs: task\n"
     ]
    },
    {
     "name": "stdout",
     "output_type": "stream",
     "text": [
      "processing  240 to 245\n"
     ]
    },
    {
     "name": "stderr",
     "output_type": "stream",
     "text": [
      "Flash attention implementation does not support kwargs: task\n"
     ]
    },
    {
     "name": "stdout",
     "output_type": "stream",
     "text": [
      "processing  245 to 250\n"
     ]
    },
    {
     "name": "stderr",
     "output_type": "stream",
     "text": [
      "Flash attention implementation does not support kwargs: task\n"
     ]
    },
    {
     "name": "stdout",
     "output_type": "stream",
     "text": [
      "processing  250 to 255\n"
     ]
    },
    {
     "name": "stderr",
     "output_type": "stream",
     "text": [
      "Flash attention implementation does not support kwargs: task\n"
     ]
    },
    {
     "name": "stdout",
     "output_type": "stream",
     "text": [
      "processing  255 to 260\n"
     ]
    },
    {
     "name": "stderr",
     "output_type": "stream",
     "text": [
      "Flash attention implementation does not support kwargs: task\n"
     ]
    },
    {
     "name": "stdout",
     "output_type": "stream",
     "text": [
      "processing  260 to 265\n"
     ]
    },
    {
     "name": "stderr",
     "output_type": "stream",
     "text": [
      "Flash attention implementation does not support kwargs: task\n"
     ]
    },
    {
     "name": "stdout",
     "output_type": "stream",
     "text": [
      "processing  265 to 270\n"
     ]
    },
    {
     "name": "stderr",
     "output_type": "stream",
     "text": [
      "Flash attention implementation does not support kwargs: task\n"
     ]
    },
    {
     "name": "stdout",
     "output_type": "stream",
     "text": [
      "processing  270 to 275\n"
     ]
    },
    {
     "name": "stderr",
     "output_type": "stream",
     "text": [
      "Flash attention implementation does not support kwargs: task\n"
     ]
    },
    {
     "name": "stdout",
     "output_type": "stream",
     "text": [
      "processing  275 to 280\n"
     ]
    },
    {
     "name": "stderr",
     "output_type": "stream",
     "text": [
      "Flash attention implementation does not support kwargs: task\n"
     ]
    },
    {
     "name": "stdout",
     "output_type": "stream",
     "text": [
      "processing  280 to 285\n"
     ]
    },
    {
     "name": "stderr",
     "output_type": "stream",
     "text": [
      "Flash attention implementation does not support kwargs: task\n"
     ]
    },
    {
     "name": "stdout",
     "output_type": "stream",
     "text": [
      "processing  285 to 290\n"
     ]
    },
    {
     "name": "stderr",
     "output_type": "stream",
     "text": [
      "Flash attention implementation does not support kwargs: task\n"
     ]
    },
    {
     "name": "stdout",
     "output_type": "stream",
     "text": [
      "processing  290 to 295\n"
     ]
    },
    {
     "name": "stderr",
     "output_type": "stream",
     "text": [
      "Flash attention implementation does not support kwargs: task\n"
     ]
    },
    {
     "name": "stdout",
     "output_type": "stream",
     "text": [
      "processing  295 to 300\n"
     ]
    },
    {
     "name": "stderr",
     "output_type": "stream",
     "text": [
      "Flash attention implementation does not support kwargs: task\n"
     ]
    },
    {
     "name": "stdout",
     "output_type": "stream",
     "text": [
      "processing  300 to 305\n"
     ]
    },
    {
     "name": "stderr",
     "output_type": "stream",
     "text": [
      "Flash attention implementation does not support kwargs: task\n"
     ]
    },
    {
     "name": "stdout",
     "output_type": "stream",
     "text": [
      "processing  305 to 310\n"
     ]
    },
    {
     "name": "stderr",
     "output_type": "stream",
     "text": [
      "Flash attention implementation does not support kwargs: task\n"
     ]
    },
    {
     "name": "stdout",
     "output_type": "stream",
     "text": [
      "processing  310 to 315\n"
     ]
    },
    {
     "name": "stderr",
     "output_type": "stream",
     "text": [
      "Flash attention implementation does not support kwargs: task\n"
     ]
    },
    {
     "name": "stdout",
     "output_type": "stream",
     "text": [
      "processing  315 to 320\n"
     ]
    },
    {
     "name": "stderr",
     "output_type": "stream",
     "text": [
      "Flash attention implementation does not support kwargs: task\n"
     ]
    },
    {
     "name": "stdout",
     "output_type": "stream",
     "text": [
      "processing  320 to 325\n"
     ]
    },
    {
     "name": "stderr",
     "output_type": "stream",
     "text": [
      "Flash attention implementation does not support kwargs: task\n"
     ]
    },
    {
     "name": "stdout",
     "output_type": "stream",
     "text": [
      "processing  325 to 330\n"
     ]
    },
    {
     "name": "stderr",
     "output_type": "stream",
     "text": [
      "Flash attention implementation does not support kwargs: task\n"
     ]
    },
    {
     "name": "stdout",
     "output_type": "stream",
     "text": [
      "processing  330 to 335\n"
     ]
    },
    {
     "name": "stderr",
     "output_type": "stream",
     "text": [
      "Flash attention implementation does not support kwargs: task\n"
     ]
    },
    {
     "name": "stdout",
     "output_type": "stream",
     "text": [
      "processing  335 to 340\n"
     ]
    },
    {
     "name": "stderr",
     "output_type": "stream",
     "text": [
      "Flash attention implementation does not support kwargs: task\n"
     ]
    },
    {
     "name": "stdout",
     "output_type": "stream",
     "text": [
      "processing  340 to 345\n"
     ]
    },
    {
     "name": "stderr",
     "output_type": "stream",
     "text": [
      "Flash attention implementation does not support kwargs: task\n"
     ]
    },
    {
     "name": "stdout",
     "output_type": "stream",
     "text": [
      "processing  345 to 350\n"
     ]
    },
    {
     "name": "stderr",
     "output_type": "stream",
     "text": [
      "Flash attention implementation does not support kwargs: task\n"
     ]
    },
    {
     "name": "stdout",
     "output_type": "stream",
     "text": [
      "processing  350 to 355\n"
     ]
    },
    {
     "name": "stderr",
     "output_type": "stream",
     "text": [
      "Flash attention implementation does not support kwargs: task\n"
     ]
    },
    {
     "name": "stdout",
     "output_type": "stream",
     "text": [
      "processing  355 to 360\n"
     ]
    },
    {
     "name": "stderr",
     "output_type": "stream",
     "text": [
      "Flash attention implementation does not support kwargs: task\n"
     ]
    },
    {
     "name": "stdout",
     "output_type": "stream",
     "text": [
      "processing  360 to 365\n"
     ]
    },
    {
     "name": "stderr",
     "output_type": "stream",
     "text": [
      "Flash attention implementation does not support kwargs: task\n"
     ]
    },
    {
     "name": "stdout",
     "output_type": "stream",
     "text": [
      "processing  365 to 370\n"
     ]
    },
    {
     "name": "stderr",
     "output_type": "stream",
     "text": [
      "Flash attention implementation does not support kwargs: task\n"
     ]
    },
    {
     "name": "stdout",
     "output_type": "stream",
     "text": [
      "processing  370 to 375\n"
     ]
    },
    {
     "name": "stderr",
     "output_type": "stream",
     "text": [
      "Flash attention implementation does not support kwargs: task\n"
     ]
    },
    {
     "name": "stdout",
     "output_type": "stream",
     "text": [
      "processing  375 to 380\n"
     ]
    },
    {
     "name": "stderr",
     "output_type": "stream",
     "text": [
      "Flash attention implementation does not support kwargs: task\n"
     ]
    },
    {
     "name": "stdout",
     "output_type": "stream",
     "text": [
      "processing  380 to 385\n"
     ]
    },
    {
     "name": "stderr",
     "output_type": "stream",
     "text": [
      "Flash attention implementation does not support kwargs: task\n"
     ]
    },
    {
     "name": "stdout",
     "output_type": "stream",
     "text": [
      "processing  385 to 390\n"
     ]
    },
    {
     "name": "stderr",
     "output_type": "stream",
     "text": [
      "Flash attention implementation does not support kwargs: task\n"
     ]
    },
    {
     "name": "stdout",
     "output_type": "stream",
     "text": [
      "processing  390 to 395\n"
     ]
    },
    {
     "name": "stderr",
     "output_type": "stream",
     "text": [
      "Flash attention implementation does not support kwargs: task\n"
     ]
    },
    {
     "name": "stdout",
     "output_type": "stream",
     "text": [
      "processing  395 to 400\n"
     ]
    },
    {
     "name": "stderr",
     "output_type": "stream",
     "text": [
      "Flash attention implementation does not support kwargs: task\n"
     ]
    },
    {
     "name": "stdout",
     "output_type": "stream",
     "text": [
      "processing  400 to 405\n"
     ]
    },
    {
     "name": "stderr",
     "output_type": "stream",
     "text": [
      "Flash attention implementation does not support kwargs: task\n"
     ]
    },
    {
     "name": "stdout",
     "output_type": "stream",
     "text": [
      "processing  405 to 410\n"
     ]
    },
    {
     "name": "stderr",
     "output_type": "stream",
     "text": [
      "Flash attention implementation does not support kwargs: task\n"
     ]
    },
    {
     "name": "stdout",
     "output_type": "stream",
     "text": [
      "processing  410 to 415\n"
     ]
    },
    {
     "name": "stderr",
     "output_type": "stream",
     "text": [
      "Flash attention implementation does not support kwargs: task\n"
     ]
    },
    {
     "name": "stdout",
     "output_type": "stream",
     "text": [
      "processing  415 to 420\n"
     ]
    },
    {
     "name": "stderr",
     "output_type": "stream",
     "text": [
      "Flash attention implementation does not support kwargs: task\n"
     ]
    },
    {
     "name": "stdout",
     "output_type": "stream",
     "text": [
      "processing  420 to 425\n"
     ]
    },
    {
     "name": "stderr",
     "output_type": "stream",
     "text": [
      "Flash attention implementation does not support kwargs: task\n"
     ]
    },
    {
     "name": "stdout",
     "output_type": "stream",
     "text": [
      "processing  425 to 430\n"
     ]
    },
    {
     "name": "stderr",
     "output_type": "stream",
     "text": [
      "Flash attention implementation does not support kwargs: task\n"
     ]
    },
    {
     "name": "stdout",
     "output_type": "stream",
     "text": [
      "processing  430 to 435\n"
     ]
    },
    {
     "name": "stderr",
     "output_type": "stream",
     "text": [
      "Flash attention implementation does not support kwargs: task\n"
     ]
    },
    {
     "name": "stdout",
     "output_type": "stream",
     "text": [
      "processing  435 to 440\n"
     ]
    },
    {
     "name": "stderr",
     "output_type": "stream",
     "text": [
      "Flash attention implementation does not support kwargs: task\n"
     ]
    },
    {
     "name": "stdout",
     "output_type": "stream",
     "text": [
      "processing  440 to 445\n"
     ]
    },
    {
     "name": "stderr",
     "output_type": "stream",
     "text": [
      "Flash attention implementation does not support kwargs: task\n"
     ]
    },
    {
     "name": "stdout",
     "output_type": "stream",
     "text": [
      "processing  445 to 450\n"
     ]
    },
    {
     "name": "stderr",
     "output_type": "stream",
     "text": [
      "Flash attention implementation does not support kwargs: task\n"
     ]
    },
    {
     "name": "stdout",
     "output_type": "stream",
     "text": [
      "processing  450 to 455\n"
     ]
    },
    {
     "name": "stderr",
     "output_type": "stream",
     "text": [
      "Flash attention implementation does not support kwargs: task\n"
     ]
    },
    {
     "name": "stdout",
     "output_type": "stream",
     "text": [
      "processing  455 to 460\n"
     ]
    },
    {
     "name": "stderr",
     "output_type": "stream",
     "text": [
      "Flash attention implementation does not support kwargs: task\n"
     ]
    },
    {
     "name": "stdout",
     "output_type": "stream",
     "text": [
      "processing  460 to 465\n"
     ]
    },
    {
     "name": "stderr",
     "output_type": "stream",
     "text": [
      "Flash attention implementation does not support kwargs: task\n"
     ]
    },
    {
     "name": "stdout",
     "output_type": "stream",
     "text": [
      "processing  465 to 470\n"
     ]
    },
    {
     "name": "stderr",
     "output_type": "stream",
     "text": [
      "Flash attention implementation does not support kwargs: task\n"
     ]
    },
    {
     "name": "stdout",
     "output_type": "stream",
     "text": [
      "processing  470 to 475\n"
     ]
    },
    {
     "name": "stderr",
     "output_type": "stream",
     "text": [
      "Flash attention implementation does not support kwargs: task\n"
     ]
    },
    {
     "name": "stdout",
     "output_type": "stream",
     "text": [
      "processing  475 to 480\n"
     ]
    },
    {
     "name": "stderr",
     "output_type": "stream",
     "text": [
      "Flash attention implementation does not support kwargs: task\n"
     ]
    },
    {
     "name": "stdout",
     "output_type": "stream",
     "text": [
      "processing  480 to 485\n"
     ]
    },
    {
     "name": "stderr",
     "output_type": "stream",
     "text": [
      "Flash attention implementation does not support kwargs: task\n"
     ]
    },
    {
     "name": "stdout",
     "output_type": "stream",
     "text": [
      "processing  485 to 490\n"
     ]
    },
    {
     "name": "stderr",
     "output_type": "stream",
     "text": [
      "Flash attention implementation does not support kwargs: task\n"
     ]
    },
    {
     "name": "stdout",
     "output_type": "stream",
     "text": [
      "processing  490 to 495\n"
     ]
    },
    {
     "name": "stderr",
     "output_type": "stream",
     "text": [
      "Flash attention implementation does not support kwargs: task\n"
     ]
    },
    {
     "name": "stdout",
     "output_type": "stream",
     "text": [
      "processing  495 to 500\n"
     ]
    },
    {
     "name": "stderr",
     "output_type": "stream",
     "text": [
      "Flash attention implementation does not support kwargs: task\n"
     ]
    },
    {
     "name": "stdout",
     "output_type": "stream",
     "text": [
      "processing  500 to 505\n"
     ]
    },
    {
     "name": "stderr",
     "output_type": "stream",
     "text": [
      "Flash attention implementation does not support kwargs: task\n"
     ]
    },
    {
     "name": "stdout",
     "output_type": "stream",
     "text": [
      "processing  505 to 510\n"
     ]
    },
    {
     "name": "stderr",
     "output_type": "stream",
     "text": [
      "Flash attention implementation does not support kwargs: task\n"
     ]
    },
    {
     "name": "stdout",
     "output_type": "stream",
     "text": [
      "processing  510 to 515\n"
     ]
    },
    {
     "name": "stderr",
     "output_type": "stream",
     "text": [
      "Flash attention implementation does not support kwargs: task\n"
     ]
    },
    {
     "name": "stdout",
     "output_type": "stream",
     "text": [
      "processing  515 to 520\n"
     ]
    },
    {
     "name": "stderr",
     "output_type": "stream",
     "text": [
      "Flash attention implementation does not support kwargs: task\n"
     ]
    },
    {
     "name": "stdout",
     "output_type": "stream",
     "text": [
      "processing  520 to 525\n"
     ]
    },
    {
     "name": "stderr",
     "output_type": "stream",
     "text": [
      "Flash attention implementation does not support kwargs: task\n"
     ]
    },
    {
     "name": "stdout",
     "output_type": "stream",
     "text": [
      "processing  525 to 530\n"
     ]
    },
    {
     "name": "stderr",
     "output_type": "stream",
     "text": [
      "Flash attention implementation does not support kwargs: task\n"
     ]
    },
    {
     "name": "stdout",
     "output_type": "stream",
     "text": [
      "processing  530 to 535\n"
     ]
    },
    {
     "name": "stderr",
     "output_type": "stream",
     "text": [
      "Flash attention implementation does not support kwargs: task\n"
     ]
    },
    {
     "name": "stdout",
     "output_type": "stream",
     "text": [
      "processing  535 to 540\n"
     ]
    },
    {
     "name": "stderr",
     "output_type": "stream",
     "text": [
      "Flash attention implementation does not support kwargs: task\n"
     ]
    },
    {
     "name": "stdout",
     "output_type": "stream",
     "text": [
      "processing  540 to 545\n"
     ]
    },
    {
     "name": "stderr",
     "output_type": "stream",
     "text": [
      "Flash attention implementation does not support kwargs: task\n"
     ]
    },
    {
     "name": "stdout",
     "output_type": "stream",
     "text": [
      "processing  545 to 550\n"
     ]
    },
    {
     "name": "stderr",
     "output_type": "stream",
     "text": [
      "Flash attention implementation does not support kwargs: task\n"
     ]
    },
    {
     "name": "stdout",
     "output_type": "stream",
     "text": [
      "processing  550 to 555\n"
     ]
    },
    {
     "name": "stderr",
     "output_type": "stream",
     "text": [
      "Flash attention implementation does not support kwargs: task\n"
     ]
    },
    {
     "name": "stdout",
     "output_type": "stream",
     "text": [
      "processing  555 to 560\n"
     ]
    },
    {
     "name": "stderr",
     "output_type": "stream",
     "text": [
      "Flash attention implementation does not support kwargs: task\n"
     ]
    },
    {
     "name": "stdout",
     "output_type": "stream",
     "text": [
      "processing  560 to 565\n"
     ]
    },
    {
     "name": "stderr",
     "output_type": "stream",
     "text": [
      "Flash attention implementation does not support kwargs: task\n"
     ]
    },
    {
     "name": "stdout",
     "output_type": "stream",
     "text": [
      "processing  565 to 570\n"
     ]
    },
    {
     "name": "stderr",
     "output_type": "stream",
     "text": [
      "Flash attention implementation does not support kwargs: task\n"
     ]
    },
    {
     "name": "stdout",
     "output_type": "stream",
     "text": [
      "processing  570 to 575\n"
     ]
    },
    {
     "name": "stderr",
     "output_type": "stream",
     "text": [
      "Flash attention implementation does not support kwargs: task\n"
     ]
    },
    {
     "name": "stdout",
     "output_type": "stream",
     "text": [
      "processing  575 to 580\n"
     ]
    },
    {
     "name": "stderr",
     "output_type": "stream",
     "text": [
      "Flash attention implementation does not support kwargs: task\n"
     ]
    },
    {
     "name": "stdout",
     "output_type": "stream",
     "text": [
      "processing  580 to 585\n"
     ]
    },
    {
     "name": "stderr",
     "output_type": "stream",
     "text": [
      "Flash attention implementation does not support kwargs: task\n"
     ]
    },
    {
     "name": "stdout",
     "output_type": "stream",
     "text": [
      "processing  585 to 590\n"
     ]
    },
    {
     "name": "stderr",
     "output_type": "stream",
     "text": [
      "Flash attention implementation does not support kwargs: task\n"
     ]
    },
    {
     "name": "stdout",
     "output_type": "stream",
     "text": [
      "processing  590 to 595\n"
     ]
    },
    {
     "name": "stderr",
     "output_type": "stream",
     "text": [
      "Flash attention implementation does not support kwargs: task\n"
     ]
    },
    {
     "name": "stdout",
     "output_type": "stream",
     "text": [
      "processing  595 to 600\n"
     ]
    },
    {
     "name": "stderr",
     "output_type": "stream",
     "text": [
      "Flash attention implementation does not support kwargs: task\n"
     ]
    },
    {
     "name": "stdout",
     "output_type": "stream",
     "text": [
      "processing  600 to 605\n"
     ]
    },
    {
     "name": "stderr",
     "output_type": "stream",
     "text": [
      "Flash attention implementation does not support kwargs: task\n"
     ]
    },
    {
     "name": "stdout",
     "output_type": "stream",
     "text": [
      "processing  605 to 610\n"
     ]
    },
    {
     "name": "stderr",
     "output_type": "stream",
     "text": [
      "Flash attention implementation does not support kwargs: task\n"
     ]
    },
    {
     "name": "stdout",
     "output_type": "stream",
     "text": [
      "processing  610 to 615\n"
     ]
    },
    {
     "name": "stderr",
     "output_type": "stream",
     "text": [
      "Flash attention implementation does not support kwargs: task\n"
     ]
    },
    {
     "name": "stdout",
     "output_type": "stream",
     "text": [
      "processing  615 to 620\n"
     ]
    },
    {
     "name": "stderr",
     "output_type": "stream",
     "text": [
      "Flash attention implementation does not support kwargs: task\n"
     ]
    },
    {
     "name": "stdout",
     "output_type": "stream",
     "text": [
      "processing  620 to 625\n"
     ]
    },
    {
     "name": "stderr",
     "output_type": "stream",
     "text": [
      "Flash attention implementation does not support kwargs: task\n"
     ]
    },
    {
     "name": "stdout",
     "output_type": "stream",
     "text": [
      "processing  625 to 630\n"
     ]
    },
    {
     "name": "stderr",
     "output_type": "stream",
     "text": [
      "Flash attention implementation does not support kwargs: task\n"
     ]
    },
    {
     "name": "stdout",
     "output_type": "stream",
     "text": [
      "processing  630 to 635\n"
     ]
    },
    {
     "name": "stderr",
     "output_type": "stream",
     "text": [
      "Flash attention implementation does not support kwargs: task\n"
     ]
    },
    {
     "name": "stdout",
     "output_type": "stream",
     "text": [
      "processing  635 to 640\n"
     ]
    },
    {
     "name": "stderr",
     "output_type": "stream",
     "text": [
      "Flash attention implementation does not support kwargs: task\n"
     ]
    },
    {
     "name": "stdout",
     "output_type": "stream",
     "text": [
      "processing  640 to 645\n"
     ]
    },
    {
     "name": "stderr",
     "output_type": "stream",
     "text": [
      "Flash attention implementation does not support kwargs: task\n"
     ]
    },
    {
     "name": "stdout",
     "output_type": "stream",
     "text": [
      "processing  645 to 650\n"
     ]
    },
    {
     "name": "stderr",
     "output_type": "stream",
     "text": [
      "Flash attention implementation does not support kwargs: task\n"
     ]
    },
    {
     "name": "stdout",
     "output_type": "stream",
     "text": [
      "processing  650 to 655\n"
     ]
    },
    {
     "name": "stderr",
     "output_type": "stream",
     "text": [
      "Flash attention implementation does not support kwargs: task\n"
     ]
    },
    {
     "name": "stdout",
     "output_type": "stream",
     "text": [
      "processing  655 to 660\n"
     ]
    },
    {
     "name": "stderr",
     "output_type": "stream",
     "text": [
      "Flash attention implementation does not support kwargs: task\n"
     ]
    },
    {
     "name": "stdout",
     "output_type": "stream",
     "text": [
      "processing  660 to 665\n"
     ]
    },
    {
     "name": "stderr",
     "output_type": "stream",
     "text": [
      "Flash attention implementation does not support kwargs: task\n"
     ]
    },
    {
     "name": "stdout",
     "output_type": "stream",
     "text": [
      "processing  665 to 670\n"
     ]
    },
    {
     "name": "stderr",
     "output_type": "stream",
     "text": [
      "Flash attention implementation does not support kwargs: task\n"
     ]
    },
    {
     "name": "stdout",
     "output_type": "stream",
     "text": [
      "processing  670 to 675\n"
     ]
    },
    {
     "name": "stderr",
     "output_type": "stream",
     "text": [
      "Flash attention implementation does not support kwargs: task\n"
     ]
    },
    {
     "name": "stdout",
     "output_type": "stream",
     "text": [
      "processing  675 to 680\n"
     ]
    },
    {
     "name": "stderr",
     "output_type": "stream",
     "text": [
      "Flash attention implementation does not support kwargs: task\n"
     ]
    },
    {
     "name": "stdout",
     "output_type": "stream",
     "text": [
      "processing  680 to 685\n"
     ]
    },
    {
     "name": "stderr",
     "output_type": "stream",
     "text": [
      "Flash attention implementation does not support kwargs: task\n"
     ]
    },
    {
     "name": "stdout",
     "output_type": "stream",
     "text": [
      "processing  685 to 690\n"
     ]
    },
    {
     "name": "stderr",
     "output_type": "stream",
     "text": [
      "Flash attention implementation does not support kwargs: task\n"
     ]
    },
    {
     "name": "stdout",
     "output_type": "stream",
     "text": [
      "processing  690 to 695\n"
     ]
    },
    {
     "name": "stderr",
     "output_type": "stream",
     "text": [
      "Flash attention implementation does not support kwargs: task\n"
     ]
    },
    {
     "name": "stdout",
     "output_type": "stream",
     "text": [
      "processing  695 to 700\n"
     ]
    },
    {
     "name": "stderr",
     "output_type": "stream",
     "text": [
      "Flash attention implementation does not support kwargs: task\n"
     ]
    },
    {
     "name": "stdout",
     "output_type": "stream",
     "text": [
      "processing  700 to 705\n"
     ]
    },
    {
     "name": "stderr",
     "output_type": "stream",
     "text": [
      "Flash attention implementation does not support kwargs: task\n"
     ]
    },
    {
     "name": "stdout",
     "output_type": "stream",
     "text": [
      "processing  705 to 710\n"
     ]
    },
    {
     "name": "stderr",
     "output_type": "stream",
     "text": [
      "Flash attention implementation does not support kwargs: task\n"
     ]
    },
    {
     "name": "stdout",
     "output_type": "stream",
     "text": [
      "processing  710 to 715\n"
     ]
    },
    {
     "name": "stderr",
     "output_type": "stream",
     "text": [
      "Flash attention implementation does not support kwargs: task\n"
     ]
    },
    {
     "name": "stdout",
     "output_type": "stream",
     "text": [
      "processing  715 to 720\n"
     ]
    },
    {
     "name": "stderr",
     "output_type": "stream",
     "text": [
      "Flash attention implementation does not support kwargs: task\n"
     ]
    },
    {
     "name": "stdout",
     "output_type": "stream",
     "text": [
      "processing  720 to 725\n"
     ]
    },
    {
     "name": "stderr",
     "output_type": "stream",
     "text": [
      "Flash attention implementation does not support kwargs: task\n"
     ]
    },
    {
     "name": "stdout",
     "output_type": "stream",
     "text": [
      "processing  725 to 730\n"
     ]
    },
    {
     "name": "stderr",
     "output_type": "stream",
     "text": [
      "Flash attention implementation does not support kwargs: task\n"
     ]
    },
    {
     "name": "stdout",
     "output_type": "stream",
     "text": [
      "processing  730 to 735\n"
     ]
    },
    {
     "name": "stderr",
     "output_type": "stream",
     "text": [
      "Flash attention implementation does not support kwargs: task\n"
     ]
    },
    {
     "name": "stdout",
     "output_type": "stream",
     "text": [
      "processing  735 to 740\n"
     ]
    },
    {
     "name": "stderr",
     "output_type": "stream",
     "text": [
      "Flash attention implementation does not support kwargs: task\n"
     ]
    },
    {
     "name": "stdout",
     "output_type": "stream",
     "text": [
      "processing  740 to 745\n"
     ]
    },
    {
     "name": "stderr",
     "output_type": "stream",
     "text": [
      "Flash attention implementation does not support kwargs: task\n"
     ]
    },
    {
     "name": "stdout",
     "output_type": "stream",
     "text": [
      "processing  745 to 750\n"
     ]
    },
    {
     "name": "stderr",
     "output_type": "stream",
     "text": [
      "Flash attention implementation does not support kwargs: task\n"
     ]
    },
    {
     "name": "stdout",
     "output_type": "stream",
     "text": [
      "processing  750 to 755\n"
     ]
    },
    {
     "name": "stderr",
     "output_type": "stream",
     "text": [
      "Flash attention implementation does not support kwargs: task\n"
     ]
    },
    {
     "name": "stdout",
     "output_type": "stream",
     "text": [
      "processing  755 to 760\n"
     ]
    },
    {
     "name": "stderr",
     "output_type": "stream",
     "text": [
      "Flash attention implementation does not support kwargs: task\n"
     ]
    },
    {
     "name": "stdout",
     "output_type": "stream",
     "text": [
      "processing  760 to 765\n"
     ]
    },
    {
     "name": "stderr",
     "output_type": "stream",
     "text": [
      "Flash attention implementation does not support kwargs: task\n"
     ]
    },
    {
     "name": "stdout",
     "output_type": "stream",
     "text": [
      "processing  765 to 770\n"
     ]
    }
   ],
   "source": [
    "\n",
    "def chunker(seq, size):\n",
    "    return (seq[pos:pos + size] for pos in range(0, len(seq), size))\n",
    "dois = [item['doi'] for item in await fetch_all() if item['id'] == None]\n",
    "print(len(dois))\n",
    "chunk_size = 5\n",
    "seq = df_json_filterd[~df_json_filterd['doi'].isna()][5000:10000]\n",
    "seq = seq[seq['doi'].isin(dois)]\n",
    "for idx, chunk in enumerate(chunker(seq=seq, size=chunk_size)):\n",
    "    print(\"processing \", idx*chunk_size, \"to\", (idx+1)*chunk_size)\n",
    "    add_embedings(chunk, model=model, tokenizer=tokenizer, field_to_embedd=\"title\", embedding_field_name=\"title_embedding\")\n",
    "    await update_papers(chunk)"
   ]
  },
  {
   "cell_type": "code",
   "execution_count": 145,
   "metadata": {},
   "outputs": [
    {
     "data": {
      "text/html": [
       "<div>\n",
       "<style scoped>\n",
       "    .dataframe tbody tr th:only-of-type {\n",
       "        vertical-align: middle;\n",
       "    }\n",
       "\n",
       "    .dataframe tbody tr th {\n",
       "        vertical-align: top;\n",
       "    }\n",
       "\n",
       "    .dataframe thead th {\n",
       "        text-align: right;\n",
       "    }\n",
       "</style>\n",
       "<table border=\"1\" class=\"dataframe\">\n",
       "  <thead>\n",
       "    <tr style=\"text-align: right;\">\n",
       "      <th></th>\n",
       "      <th>doi</th>\n",
       "      <th>title</th>\n",
       "      <th>abstract</th>\n",
       "      <th>id</th>\n",
       "      <th>content</th>\n",
       "      <th>citation_text</th>\n",
       "    </tr>\n",
       "  </thead>\n",
       "  <tbody>\n",
       "    <tr>\n",
       "      <th>0</th>\n",
       "      <td>10.1109/ITW.2007.4313111</td>\n",
       "      <td>Learning from compressed observations</td>\n",
       "      <td>The problem of statistical learning is to co...</td>\n",
       "      <td>0704.0671</td>\n",
       "      <td>None</td>\n",
       "      <td>None</td>\n",
       "    </tr>\n",
       "    <tr>\n",
       "      <th>1</th>\n",
       "      <td>10.1109/TSP.2008.920143</td>\n",
       "      <td>Sensor Networks with Random Links: Topology De...</td>\n",
       "      <td>In a sensor network, in practice, the commun...</td>\n",
       "      <td>0704.0954</td>\n",
       "      <td>None</td>\n",
       "      <td>None</td>\n",
       "    </tr>\n",
       "    <tr>\n",
       "      <th>2</th>\n",
       "      <td>10.1143/JPSJ.76.114001</td>\n",
       "      <td>Statistical Mechanics of Nonlinear On-line Lea...</td>\n",
       "      <td>We analyze the generalization performance of...</td>\n",
       "      <td>0705.2318</td>\n",
       "      <td>None</td>\n",
       "      <td>None</td>\n",
       "    </tr>\n",
       "    <tr>\n",
       "      <th>3</th>\n",
       "      <td>10.1109/ICTAI.2007.99</td>\n",
       "      <td>A Novel Model of Working Set Selection for SMO...</td>\n",
       "      <td>In the process of training Support Vector Ma...</td>\n",
       "      <td>0706.0585</td>\n",
       "      <td>None</td>\n",
       "      <td>None</td>\n",
       "    </tr>\n",
       "    <tr>\n",
       "      <th>4</th>\n",
       "      <td>10.1371/journal.pcbi.0030252</td>\n",
       "      <td>Getting started in probabilistic graphical models</td>\n",
       "      <td>Probabilistic graphical models (PGMs) have b...</td>\n",
       "      <td>0706.2040</td>\n",
       "      <td>None</td>\n",
       "      <td>None</td>\n",
       "    </tr>\n",
       "    <tr>\n",
       "      <th>...</th>\n",
       "      <td>...</td>\n",
       "      <td>...</td>\n",
       "      <td>...</td>\n",
       "      <td>...</td>\n",
       "      <td>...</td>\n",
       "      <td>...</td>\n",
       "    </tr>\n",
       "    <tr>\n",
       "      <th>24983</th>\n",
       "      <td>10.1016/j.amc.2004.09.003</td>\n",
       "      <td>A Model for Prejudiced Learning in Noisy Envir...</td>\n",
       "      <td>Based on the heuristics that maintaining pre...</td>\n",
       "      <td>nlin/0306055</td>\n",
       "      <td>None</td>\n",
       "      <td>None</td>\n",
       "    </tr>\n",
       "    <tr>\n",
       "      <th>24984</th>\n",
       "      <td>10.1016/j.physd.2005.06.031</td>\n",
       "      <td>Stability and Diversity in Collective Adaptation</td>\n",
       "      <td>We derive a class of macroscopic differentia...</td>\n",
       "      <td>nlin/0408039</td>\n",
       "      <td>None</td>\n",
       "      <td>None</td>\n",
       "    </tr>\n",
       "    <tr>\n",
       "      <th>24985</th>\n",
       "      <td>10.1007/978-3-540-73133-7_1</td>\n",
       "      <td>Structural Inference of Hierarchies in Networks</td>\n",
       "      <td>One property of networks that has received c...</td>\n",
       "      <td>physics/0610051</td>\n",
       "      <td>None</td>\n",
       "      <td>None</td>\n",
       "    </tr>\n",
       "    <tr>\n",
       "      <th>24986</th>\n",
       "      <td>10.1073/pnas.0406011101</td>\n",
       "      <td>Parametric Inference for Biological Sequence A...</td>\n",
       "      <td>One of the major successes in computational ...</td>\n",
       "      <td>q-bio/0401033</td>\n",
       "      <td>None</td>\n",
       "      <td>None</td>\n",
       "    </tr>\n",
       "    <tr>\n",
       "      <th>24987</th>\n",
       "      <td>10.1007/s11128-005-0001-2</td>\n",
       "      <td>Improved Bounds on Quantum Learning Algorithms</td>\n",
       "      <td>In this article we give several new results ...</td>\n",
       "      <td>quant-ph/0411140</td>\n",
       "      <td>None</td>\n",
       "      <td>None</td>\n",
       "    </tr>\n",
       "  </tbody>\n",
       "</table>\n",
       "<p>24943 rows × 6 columns</p>\n",
       "</div>"
      ],
      "text/plain": [
       "                                doi  \\\n",
       "0          10.1109/ITW.2007.4313111   \n",
       "1           10.1109/TSP.2008.920143   \n",
       "2            10.1143/JPSJ.76.114001   \n",
       "3             10.1109/ICTAI.2007.99   \n",
       "4      10.1371/journal.pcbi.0030252   \n",
       "...                             ...   \n",
       "24983     10.1016/j.amc.2004.09.003   \n",
       "24984   10.1016/j.physd.2005.06.031   \n",
       "24985   10.1007/978-3-540-73133-7_1   \n",
       "24986       10.1073/pnas.0406011101   \n",
       "24987     10.1007/s11128-005-0001-2   \n",
       "\n",
       "                                                   title  \\\n",
       "0                  Learning from compressed observations   \n",
       "1      Sensor Networks with Random Links: Topology De...   \n",
       "2      Statistical Mechanics of Nonlinear On-line Lea...   \n",
       "3      A Novel Model of Working Set Selection for SMO...   \n",
       "4      Getting started in probabilistic graphical models   \n",
       "...                                                  ...   \n",
       "24983  A Model for Prejudiced Learning in Noisy Envir...   \n",
       "24984   Stability and Diversity in Collective Adaptation   \n",
       "24985    Structural Inference of Hierarchies in Networks   \n",
       "24986  Parametric Inference for Biological Sequence A...   \n",
       "24987     Improved Bounds on Quantum Learning Algorithms   \n",
       "\n",
       "                                                abstract                id  \\\n",
       "0        The problem of statistical learning is to co...         0704.0671   \n",
       "1        In a sensor network, in practice, the commun...         0704.0954   \n",
       "2        We analyze the generalization performance of...         0705.2318   \n",
       "3        In the process of training Support Vector Ma...         0706.0585   \n",
       "4        Probabilistic graphical models (PGMs) have b...         0706.2040   \n",
       "...                                                  ...               ...   \n",
       "24983    Based on the heuristics that maintaining pre...      nlin/0306055   \n",
       "24984    We derive a class of macroscopic differentia...      nlin/0408039   \n",
       "24985    One property of networks that has received c...   physics/0610051   \n",
       "24986    One of the major successes in computational ...     q-bio/0401033   \n",
       "24987    In this article we give several new results ...  quant-ph/0411140   \n",
       "\n",
       "      content citation_text  \n",
       "0        None          None  \n",
       "1        None          None  \n",
       "2        None          None  \n",
       "3        None          None  \n",
       "4        None          None  \n",
       "...       ...           ...  \n",
       "24983    None          None  \n",
       "24984    None          None  \n",
       "24985    None          None  \n",
       "24986    None          None  \n",
       "24987    None          None  \n",
       "\n",
       "[24943 rows x 6 columns]"
      ]
     },
     "execution_count": 145,
     "metadata": {},
     "output_type": "execute_result"
    }
   ],
   "source": [
    "df_json_filterd\n"
   ]
  },
  {
   "cell_type": "code",
   "execution_count": null,
   "metadata": {},
   "outputs": [],
   "source": []
  }
 ],
 "metadata": {
  "kernelspec": {
   "display_name": "venv",
   "language": "python",
   "name": "python3"
  },
  "language_info": {
   "codemirror_mode": {
    "name": "ipython",
    "version": 3
   },
   "file_extension": ".py",
   "mimetype": "text/x-python",
   "name": "python",
   "nbconvert_exporter": "python",
   "pygments_lexer": "ipython3",
   "version": "3.11.9"
  }
 },
 "nbformat": 4,
 "nbformat_minor": 2
}
